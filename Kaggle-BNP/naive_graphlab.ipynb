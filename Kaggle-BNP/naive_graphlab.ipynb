{
 "cells": [
  {
   "cell_type": "markdown",
   "metadata": {},
   "source": [
    "# [BNP Paribas Cardif Claims Management](https://www.kaggle.com/c/bnp-paribas-cardif-claims-management)\n",
    "\n",
    "## Data file was not in the repository\n",
    "Download the data from the competition page, and save it into **my_data_path**"
   ]
  },
  {
   "cell_type": "code",
   "execution_count": 1,
   "metadata": {
    "collapsed": true
   },
   "outputs": [],
   "source": [
    "MY_DATA_PATH = 'C:/data/Kaggle-BNP/'"
   ]
  },
  {
   "cell_type": "code",
   "execution_count": 2,
   "metadata": {
    "collapsed": true
   },
   "outputs": [],
   "source": [
    "import graphlab"
   ]
  },
  {
   "cell_type": "code",
   "execution_count": 3,
   "metadata": {
    "collapsed": false
   },
   "outputs": [
    {
     "name": "stdout",
     "output_type": "stream",
     "text": [
      "This non-commercial license of GraphLab Create is assigned to jekyll4168@icloud.com and will expire on October 30, 2016. For commercial licensing options, visit https://dato.com/buy/.\n"
     ]
    },
    {
     "name": "stderr",
     "output_type": "stream",
     "text": [
      "2016-04-11 16:40:25,687 [INFO] graphlab.cython.cy_server, 176: GraphLab Create v1.8.5 started. Logging: C:\\Users\\JIANCH~1\\AppData\\Local\\Temp\\graphlab_server_1460385624.log.0\n"
     ]
    },
    {
     "data": {
      "text/html": [
       "<pre>Finished parsing file C:\\data\\Kaggle-BNP\\train.csv</pre>"
      ],
      "text/plain": [
       "Finished parsing file C:\\data\\Kaggle-BNP\\train.csv"
      ]
     },
     "metadata": {},
     "output_type": "display_data"
    },
    {
     "data": {
      "text/html": [
       "<pre>Parsing completed. Parsed 100 lines in 0.855422 secs.</pre>"
      ],
      "text/plain": [
       "Parsing completed. Parsed 100 lines in 0.855422 secs."
      ]
     },
     "metadata": {},
     "output_type": "display_data"
    },
    {
     "name": "stdout",
     "output_type": "stream",
     "text": [
      "------------------------------------------------------\n",
      "Inferred types from first line of file as \n",
      "column_type_hints=[long,long,float,float,str,float,float,float,float,float,float,float,float,float,float,float,float,float,float,float,float,float,float,str,float,str,float,float,float,float,float,str,str,float,float,float,float,float,float,long,float,float,float,float,float,float,float,float,str,float,float,float,float,str,float,float,float,str,float,float,float,float,float,long,float,float,float,str,float,float,float,float,str,long,float,str,str,float,float,float,str,float,float,float,float,float,float,float,float,float,float,float,str,float,float,float,float,float,float,float,float,float,float,float,float,float,float,float,str,float,float,str,float,str,str,float,float,float,float,float,float,float,float,float,float,float,str,float,float,float,long,float,float]\n",
      "If parsing fails due to incorrect types, you can correct\n",
      "the inferred type list above and pass it to read_csv in\n",
      "the column_type_hints argument\n",
      "------------------------------------------------------\n"
     ]
    },
    {
     "data": {
      "text/html": [
       "<pre>Read 51634 lines. Lines per second: 41338.7</pre>"
      ],
      "text/plain": [
       "Read 51634 lines. Lines per second: 41338.7"
      ]
     },
     "metadata": {},
     "output_type": "display_data"
    },
    {
     "data": {
      "text/html": [
       "<pre>Finished parsing file C:\\data\\Kaggle-BNP\\train.csv</pre>"
      ],
      "text/plain": [
       "Finished parsing file C:\\data\\Kaggle-BNP\\train.csv"
      ]
     },
     "metadata": {},
     "output_type": "display_data"
    },
    {
     "data": {
      "text/html": [
       "<pre>Parsing completed. Parsed 114321 lines in 1.73448 secs.</pre>"
      ],
      "text/plain": [
       "Parsing completed. Parsed 114321 lines in 1.73448 secs."
      ]
     },
     "metadata": {},
     "output_type": "display_data"
    }
   ],
   "source": [
    "raw_train = graphlab.SFrame(MY_DATA_PATH+ 'train.csv')"
   ]
  },
  {
   "cell_type": "code",
   "execution_count": 4,
   "metadata": {
    "collapsed": false
   },
   "outputs": [
    {
     "data": {
      "text/plain": [
       "<bound method SFrame.column_names of Columns:\n",
       "\tID\tint\n",
       "\ttarget\tint\n",
       "\tv1\tfloat\n",
       "\tv2\tfloat\n",
       "\tv3\tstr\n",
       "\tv4\tfloat\n",
       "\tv5\tfloat\n",
       "\tv6\tfloat\n",
       "\tv7\tfloat\n",
       "\tv8\tfloat\n",
       "\tv9\tfloat\n",
       "\tv10\tfloat\n",
       "\tv11\tfloat\n",
       "\tv12\tfloat\n",
       "\tv13\tfloat\n",
       "\tv14\tfloat\n",
       "\tv15\tfloat\n",
       "\tv16\tfloat\n",
       "\tv17\tfloat\n",
       "\tv18\tfloat\n",
       "\tv19\tfloat\n",
       "\tv20\tfloat\n",
       "\tv21\tfloat\n",
       "\tv22\tstr\n",
       "\tv23\tfloat\n",
       "\tv24\tstr\n",
       "\tv25\tfloat\n",
       "\tv26\tfloat\n",
       "\tv27\tfloat\n",
       "\tv28\tfloat\n",
       "\tv29\tfloat\n",
       "\tv30\tstr\n",
       "\tv31\tstr\n",
       "\tv32\tfloat\n",
       "\tv33\tfloat\n",
       "\tv34\tfloat\n",
       "\tv35\tfloat\n",
       "\tv36\tfloat\n",
       "\tv37\tfloat\n",
       "\tv38\tint\n",
       "\tv39\tfloat\n",
       "\tv40\tfloat\n",
       "\tv41\tfloat\n",
       "\tv42\tfloat\n",
       "\tv43\tfloat\n",
       "\tv44\tfloat\n",
       "\tv45\tfloat\n",
       "\tv46\tfloat\n",
       "\tv47\tstr\n",
       "\tv48\tfloat\n",
       "\tv49\tfloat\n",
       "\tv50\tfloat\n",
       "\tv51\tfloat\n",
       "\tv52\tstr\n",
       "\tv53\tfloat\n",
       "\tv54\tfloat\n",
       "\tv55\tfloat\n",
       "\tv56\tstr\n",
       "\tv57\tfloat\n",
       "\tv58\tfloat\n",
       "\tv59\tfloat\n",
       "\tv60\tfloat\n",
       "\tv61\tfloat\n",
       "\tv62\tint\n",
       "\tv63\tfloat\n",
       "\tv64\tfloat\n",
       "\tv65\tfloat\n",
       "\tv66\tstr\n",
       "\tv67\tfloat\n",
       "\tv68\tfloat\n",
       "\tv69\tfloat\n",
       "\tv70\tfloat\n",
       "\tv71\tstr\n",
       "\tv72\tint\n",
       "\tv73\tfloat\n",
       "\tv74\tstr\n",
       "\tv75\tstr\n",
       "\tv76\tfloat\n",
       "\tv77\tfloat\n",
       "\tv78\tfloat\n",
       "\tv79\tstr\n",
       "\tv80\tfloat\n",
       "\tv81\tfloat\n",
       "\tv82\tfloat\n",
       "\tv83\tfloat\n",
       "\tv84\tfloat\n",
       "\tv85\tfloat\n",
       "\tv86\tfloat\n",
       "\tv87\tfloat\n",
       "\tv88\tfloat\n",
       "\tv89\tfloat\n",
       "\tv90\tfloat\n",
       "\tv91\tstr\n",
       "\tv92\tfloat\n",
       "\tv93\tfloat\n",
       "\tv94\tfloat\n",
       "\tv95\tfloat\n",
       "\tv96\tfloat\n",
       "\tv97\tfloat\n",
       "\tv98\tfloat\n",
       "\tv99\tfloat\n",
       "\tv100\tfloat\n",
       "\tv101\tfloat\n",
       "\tv102\tfloat\n",
       "\tv103\tfloat\n",
       "\tv104\tfloat\n",
       "\tv105\tfloat\n",
       "\tv106\tfloat\n",
       "\tv107\tstr\n",
       "\tv108\tfloat\n",
       "\tv109\tfloat\n",
       "\tv110\tstr\n",
       "\tv111\tfloat\n",
       "\tv112\tstr\n",
       "\tv113\tstr\n",
       "\tv114\tfloat\n",
       "\tv115\tfloat\n",
       "\tv116\tfloat\n",
       "\tv117\tfloat\n",
       "\tv118\tfloat\n",
       "\tv119\tfloat\n",
       "\tv120\tfloat\n",
       "\tv121\tfloat\n",
       "\tv122\tfloat\n",
       "\tv123\tfloat\n",
       "\tv124\tfloat\n",
       "\tv125\tstr\n",
       "\tv126\tfloat\n",
       "\tv127\tfloat\n",
       "\tv128\tfloat\n",
       "\tv129\tint\n",
       "\tv130\tfloat\n",
       "\tv131\tfloat\n",
       "\n",
       "Rows: 10\n",
       "\n",
       "Data:\n",
       "+----+--------+----------------+---------------+----+---------------+\n",
       "| ID | target |       v1       |       v2      | v3 |       v4      |\n",
       "+----+--------+----------------+---------------+----+---------------+\n",
       "| 3  |   1    | 1.33573941541  | 8.72747443554 | C  |  3.9210257481 |\n",
       "| 4  |   1    |      None      |      None     | C  |      None     |\n",
       "| 5  |   1    | 0.943876910249 | 5.31007920093 | C  | 4.41096869049 |\n",
       "| 6  |   1    | 0.797414556191 | 8.30475713591 | C  | 4.22592985639 |\n",
       "| 8  |   1    |      None      |      None     | C  |      None     |\n",
       "| 9  |   0    |      None      |      None     | C  |      None     |\n",
       "| 12 |   0    | 0.899805657905 | 7.31299494722 | C  | 3.49414846822 |\n",
       "| 21 |   1    |      None      |      None     | C  |      None     |\n",
       "| 22 |   0    | 2.07865125956  | 8.46261880883 |    | 3.73902977371 |\n",
       "| 23 |   1    | 1.14480237605  |  5.8806060887 | C  | 3.24446880767 |\n",
       "+----+--------+----------------+---------------+----+---------------+\n",
       "+---------------+---------------+---------------+-----------------+\n",
       "|       v5      |       v6      |       v7      |        v8       |\n",
       "+---------------+---------------+---------------+-----------------+\n",
       "| 7.91526571423 | 2.59927780824 | 3.17689497363 |  0.012941465862 |\n",
       "| 9.19126518062 |      None     |      None     |  2.30163049167  |\n",
       "| 5.32615938231 | 3.97959189371 | 3.92857110919 | 0.0196451311527 |\n",
       "| 11.6274384197 | 2.09770043999 | 1.98754875148 |  0.171946704524 |\n",
       "|      None     |      None     |      None     |       None      |\n",
       "| 8.85679096154 |      None     |      None     |  0.359993128846 |\n",
       "| 9.94619971703 | 1.92606996638 | 1.77042746203 | 0.0662514981243 |\n",
       "|      None     |      None     |      None     |       None      |\n",
       "| 5.26563585054 |  1.5730334727 | 2.30337099049 | 0.0158692120181 |\n",
       "| 9.53838366676 | 2.50000056822 | 1.55940533805 |  0.41260995477  |\n",
       "+---------------+---------------+---------------+-----------------+\n",
       "+---------------+----------------+---------------+---------------+---------------+\n",
       "|       v9      |      v10       |      v11      |      v12      |      v13      |\n",
       "+---------------+----------------+---------------+---------------+---------------+\n",
       "| 9.99999947099 | 0.503281467753 | 16.4341080862 | 6.08571076128 | 2.86682950383 |\n",
       "|      None     | 1.31290991714  |      None     | 6.50764677834 |      None     |\n",
       "| 12.6666671203 | 0.765863972354 | 14.7560976181 | 6.38467003054 | 2.50558923501 |\n",
       "| 8.96551632111 |  6.5426694717  | 16.3474825682 | 9.64665283318 | 3.90330196103 |\n",
       "|      None     | 1.05032835954  |      None     | 6.32008733304 |      None     |\n",
       "|      None     | 1.05032784251  |      None     | 6.21607696606 |      None     |\n",
       "| 5.01128698221 | 2.34135611559  | 16.2745100416 | 7.71117448561 |  5.915587527  |\n",
       "|      None     | 1.83807424973  |      None     | 6.42448208598 |      None     |\n",
       "| 11.1111105679 |  4.4638940222  | 16.0509553754 | 8.71504708332 | 2.34805335684 |\n",
       "| 9.97752875289 | 2.36323761362  | 16.0914009596 | 7.41785322063 | 4.17694945826 |\n",
       "+---------------+----------------+---------------+---------------+---------------+\n",
       "+---------------+---------------+---------------+---------------+----------------+-----+\n",
       "|      v14      |      v15      |      v16      |      v17      |      v18       | ... |\n",
       "+---------------+---------------+---------------+---------------+----------------+-----+\n",
       "| 11.6363868896 | 1.35501321371 | 8.57142854392 | 3.67035019539 | 0.106720429743 | ... |\n",
       "| 11.6363858116 |      None     |      None     |      None     |      None      | ... |\n",
       "| 9.60354169034 | 1.98412659356 | 5.88235254063 | 3.17084681657 | 0.244541009292 | ... |\n",
       "| 14.0947229615 | 1.94504357631 | 5.51724207287 | 3.61078899247 | 1.22411385948  | ... |\n",
       "| 10.9910978265 |      None     |      None     |      None     |      None      | ... |\n",
       "| 11.9162554811 |      None     |      None     |      None     |      None      | ... |\n",
       "|  12.148604293 |  1.9683027447 | 6.60194081192 | 2.87397388814 | 0.484132516245 | ... |\n",
       "| 12.7939446719 |      None     |      None     |      None     |      None      | ... |\n",
       "| 12.6034033973 | 1.58046054997 |  6.6666671354 | 3.05213223351 | 0.139939232797 | ... |\n",
       "| 13.7900458588 | 2.31955841852 | 5.90000027797 | 2.76865180984 | 0.81277747443  | ... |\n",
       "+---------------+---------------+---------------+---------------+----------------+-----+\n",
       "[10 rows x 133 columns]\n",
       ">"
      ]
     },
     "execution_count": 4,
     "metadata": {},
     "output_type": "execute_result"
    }
   ],
   "source": [
    "raw_train.head().column_names"
   ]
  },
  {
   "cell_type": "code",
   "execution_count": 4,
   "metadata": {
    "collapsed": false
   },
   "outputs": [
    {
     "name": "stdout",
     "output_type": "stream",
     "text": [
      "PROGRESS: Creating a validation set from 5 percent of training data. This may take a while.\n",
      "          You can set ``validation_set=None`` to disable validation tracking.\n",
      "\n"
     ]
    },
    {
     "data": {
      "text/html": [
       "<pre>Random forest classifier:</pre>"
      ],
      "text/plain": [
       "Random forest classifier:"
      ]
     },
     "metadata": {},
     "output_type": "display_data"
    },
    {
     "data": {
      "text/html": [
       "<pre>--------------------------------------------------------</pre>"
      ],
      "text/plain": [
       "--------------------------------------------------------"
      ]
     },
     "metadata": {},
     "output_type": "display_data"
    },
    {
     "data": {
      "text/html": [
       "<pre>Number of examples          : 108684</pre>"
      ],
      "text/plain": [
       "Number of examples          : 108684"
      ]
     },
     "metadata": {},
     "output_type": "display_data"
    },
    {
     "data": {
      "text/html": [
       "<pre>Number of classes           : 2</pre>"
      ],
      "text/plain": [
       "Number of classes           : 2"
      ]
     },
     "metadata": {},
     "output_type": "display_data"
    },
    {
     "data": {
      "text/html": [
       "<pre>Number of feature columns   : 131</pre>"
      ],
      "text/plain": [
       "Number of feature columns   : 131"
      ]
     },
     "metadata": {},
     "output_type": "display_data"
    },
    {
     "data": {
      "text/html": [
       "<pre>Number of unpacked features : 131</pre>"
      ],
      "text/plain": [
       "Number of unpacked features : 131"
      ]
     },
     "metadata": {},
     "output_type": "display_data"
    },
    {
     "data": {
      "text/html": [
       "<pre>+-----------+--------------+-------------------+-------------------+---------------------+---------------------+</pre>"
      ],
      "text/plain": [
       "+-----------+--------------+-------------------+-------------------+---------------------+---------------------+"
      ]
     },
     "metadata": {},
     "output_type": "display_data"
    },
    {
     "data": {
      "text/html": [
       "<pre>| Iteration | Elapsed Time | Training-accuracy | Training-log_loss | Validation-accuracy | Validation-log_loss |</pre>"
      ],
      "text/plain": [
       "| Iteration | Elapsed Time | Training-accuracy | Training-log_loss | Validation-accuracy | Validation-log_loss |"
      ]
     },
     "metadata": {},
     "output_type": "display_data"
    },
    {
     "data": {
      "text/html": [
       "<pre>+-----------+--------------+-------------------+-------------------+---------------------+---------------------+</pre>"
      ],
      "text/plain": [
       "+-----------+--------------+-------------------+-------------------+---------------------+---------------------+"
      ]
     },
     "metadata": {},
     "output_type": "display_data"
    },
    {
     "data": {
      "text/html": [
       "<pre>| 1         | 1.711796     | 0.814858          | 0.446018          | 0.761753            | 0.513650            |</pre>"
      ],
      "text/plain": [
       "| 1         | 1.711796     | 0.814858          | 0.446018          | 0.761753            | 0.513650            |"
      ]
     },
     "metadata": {},
     "output_type": "display_data"
    },
    {
     "data": {
      "text/html": [
       "<pre>| 2         | 3.613929     | 0.823313          | 0.432752          | 0.769026            | 0.496264            |</pre>"
      ],
      "text/plain": [
       "| 2         | 3.613929     | 0.823313          | 0.432752          | 0.769026            | 0.496264            |"
      ]
     },
     "metadata": {},
     "output_type": "display_data"
    },
    {
     "data": {
      "text/html": [
       "<pre>| 3         | 5.527015     | 0.827426          | 0.427419          | 0.774525            | 0.491418            |</pre>"
      ],
      "text/plain": [
       "| 3         | 5.527015     | 0.827426          | 0.427419          | 0.774525            | 0.491418            |"
      ]
     },
     "metadata": {},
     "output_type": "display_data"
    },
    {
     "data": {
      "text/html": [
       "<pre>| 4         | 7.579474     | 0.828521          | 0.424361          | 0.779493            | 0.486794            |</pre>"
      ],
      "text/plain": [
       "| 4         | 7.579474     | 0.828521          | 0.424361          | 0.779493            | 0.486794            |"
      ]
     },
     "metadata": {},
     "output_type": "display_data"
    },
    {
     "data": {
      "text/html": [
       "<pre>| 5         | 9.734203     | 0.828981          | 0.423699          | 0.780912            | 0.484993            |</pre>"
      ],
      "text/plain": [
       "| 5         | 9.734203     | 0.828981          | 0.423699          | 0.780912            | 0.484993            |"
      ]
     },
     "metadata": {},
     "output_type": "display_data"
    },
    {
     "data": {
      "text/html": [
       "<pre>| 6         | 11.914792    | 0.830564          | 0.422438          | 0.780912            | 0.483564            |</pre>"
      ],
      "text/plain": [
       "| 6         | 11.914792    | 0.830564          | 0.422438          | 0.780912            | 0.483564            |"
      ]
     },
     "metadata": {},
     "output_type": "display_data"
    },
    {
     "data": {
      "text/html": [
       "<pre>| 7         | 13.273349    | 0.830168          | 0.422327          | 0.779315            | 0.483025            |</pre>"
      ],
      "text/plain": [
       "| 7         | 13.273349    | 0.830168          | 0.422327          | 0.779315            | 0.483025            |"
      ]
     },
     "metadata": {},
     "output_type": "display_data"
    },
    {
     "data": {
      "text/html": [
       "<pre>| 8         | 14.904527    | 0.830297          | 0.421831          | 0.781267            | 0.483164            |</pre>"
      ],
      "text/plain": [
       "| 8         | 14.904527    | 0.830297          | 0.421831          | 0.781267            | 0.483164            |"
      ]
     },
     "metadata": {},
     "output_type": "display_data"
    },
    {
     "data": {
      "text/html": [
       "<pre>| 9         | 17.169551    | 0.829800          | 0.422116          | 0.783041            | 0.482051            |</pre>"
      ],
      "text/plain": [
       "| 9         | 17.169551    | 0.829800          | 0.422116          | 0.783041            | 0.482051            |"
      ]
     },
     "metadata": {},
     "output_type": "display_data"
    },
    {
     "data": {
      "text/html": [
       "<pre>| 10        | 19.368917    | 0.829607          | 0.421759          | 0.783041            | 0.482101            |</pre>"
      ],
      "text/plain": [
       "| 10        | 19.368917    | 0.829607          | 0.421759          | 0.783041            | 0.482101            |"
      ]
     },
     "metadata": {},
     "output_type": "display_data"
    },
    {
     "data": {
      "text/html": [
       "<pre>| 11        | 20.794294    | 0.829441          | 0.422054          | 0.783041            | 0.481554            |</pre>"
      ],
      "text/plain": [
       "| 11        | 20.794294    | 0.829441          | 0.422054          | 0.783041            | 0.481554            |"
      ]
     },
     "metadata": {},
     "output_type": "display_data"
    },
    {
     "data": {
      "text/html": [
       "<pre>| 12        | 22.198028    | 0.829874          | 0.421461          | 0.782508            | 0.481073            |</pre>"
      ],
      "text/plain": [
       "| 12        | 22.198028    | 0.829874          | 0.421461          | 0.782508            | 0.481073            |"
      ]
     },
     "metadata": {},
     "output_type": "display_data"
    },
    {
     "data": {
      "text/html": [
       "<pre>| 13        | 23.848573    | 0.830003          | 0.421050          | 0.783573            | 0.481247            |</pre>"
      ],
      "text/plain": [
       "| 13        | 23.848573    | 0.830003          | 0.421050          | 0.783573            | 0.481247            |"
      ]
     },
     "metadata": {},
     "output_type": "display_data"
    },
    {
     "data": {
      "text/html": [
       "<pre>| 14        | 25.353987    | 0.830168          | 0.420956          | 0.786411            | 0.480696            |</pre>"
      ],
      "text/plain": [
       "| 14        | 25.353987    | 0.830168          | 0.420956          | 0.786411            | 0.480696            |"
      ]
     },
     "metadata": {},
     "output_type": "display_data"
    },
    {
     "data": {
      "text/html": [
       "<pre>| 15        | 26.819315    | 0.829837          | 0.420791          | 0.787121            | 0.480166            |</pre>"
      ],
      "text/plain": [
       "| 15        | 26.819315    | 0.829837          | 0.420791          | 0.787121            | 0.480166            |"
      ]
     },
     "metadata": {},
     "output_type": "display_data"
    },
    {
     "data": {
      "text/html": [
       "<pre>| 16        | 28.165502    | 0.829855          | 0.420862          | 0.786766            | 0.480005            |</pre>"
      ],
      "text/plain": [
       "| 16        | 28.165502    | 0.829855          | 0.420862          | 0.786766            | 0.480005            |"
      ]
     },
     "metadata": {},
     "output_type": "display_data"
    },
    {
     "data": {
      "text/html": [
       "<pre>| 17        | 30.479310    | 0.829589          | 0.420812          | 0.787121            | 0.479982            |</pre>"
      ],
      "text/plain": [
       "| 17        | 30.479310    | 0.829589          | 0.420812          | 0.787121            | 0.479982            |"
      ]
     },
     "metadata": {},
     "output_type": "display_data"
    },
    {
     "data": {
      "text/html": [
       "<pre>| 18        | 31.836820    | 0.829561          | 0.421179          | 0.788717            | 0.479918            |</pre>"
      ],
      "text/plain": [
       "| 18        | 31.836820    | 0.829561          | 0.421179          | 0.788717            | 0.479918            |"
      ]
     },
     "metadata": {},
     "output_type": "display_data"
    },
    {
     "data": {
      "text/html": [
       "<pre>| 19        | 33.505767    | 0.829681          | 0.420830          | 0.786766            | 0.479821            |</pre>"
      ],
      "text/plain": [
       "| 19        | 33.505767    | 0.829681          | 0.420830          | 0.786766            | 0.479821            |"
      ]
     },
     "metadata": {},
     "output_type": "display_data"
    },
    {
     "data": {
      "text/html": [
       "<pre>| 20        | 35.489760    | 0.830306          | 0.420559          | 0.787653            | 0.480065            |</pre>"
      ],
      "text/plain": [
       "| 20        | 35.489760    | 0.830306          | 0.420559          | 0.787653            | 0.480065            |"
      ]
     },
     "metadata": {},
     "output_type": "display_data"
    },
    {
     "data": {
      "text/html": [
       "<pre>| 21        | 37.570981    | 0.830012          | 0.420766          | 0.787121            | 0.479881            |</pre>"
      ],
      "text/plain": [
       "| 21        | 37.570981    | 0.830012          | 0.420766          | 0.787121            | 0.479881            |"
      ]
     },
     "metadata": {},
     "output_type": "display_data"
    },
    {
     "data": {
      "text/html": [
       "<pre>| 22        | 40.154455    | 0.830279          | 0.420554          | 0.787653            | 0.479947            |</pre>"
      ],
      "text/plain": [
       "| 22        | 40.154455    | 0.830279          | 0.420554          | 0.787653            | 0.479947            |"
      ]
     },
     "metadata": {},
     "output_type": "display_data"
    },
    {
     "data": {
      "text/html": [
       "<pre>| 23        | 41.638516    | 0.829598          | 0.421396          | 0.788008            | 0.479667            |</pre>"
      ],
      "text/plain": [
       "| 23        | 41.638516    | 0.829598          | 0.421396          | 0.788008            | 0.479667            |"
      ]
     },
     "metadata": {},
     "output_type": "display_data"
    },
    {
     "data": {
      "text/html": [
       "<pre>| 24        | 43.560359    | 0.829671          | 0.420955          | 0.788363            | 0.479523            |</pre>"
      ],
      "text/plain": [
       "| 24        | 43.560359    | 0.829671          | 0.420955          | 0.788363            | 0.479523            |"
      ]
     },
     "metadata": {},
     "output_type": "display_data"
    },
    {
     "data": {
      "text/html": [
       "<pre>| 25        | 45.046880    | 0.830288          | 0.420864          | 0.788895            | 0.479813            |</pre>"
      ],
      "text/plain": [
       "| 25        | 45.046880    | 0.830288          | 0.420864          | 0.788895            | 0.479813            |"
      ]
     },
     "metadata": {},
     "output_type": "display_data"
    },
    {
     "data": {
      "text/html": [
       "<pre>| 26        | 46.541305    | 0.829855          | 0.421067          | 0.788363            | 0.479810            |</pre>"
      ],
      "text/plain": [
       "| 26        | 46.541305    | 0.829855          | 0.421067          | 0.788363            | 0.479810            |"
      ]
     },
     "metadata": {},
     "output_type": "display_data"
    },
    {
     "data": {
      "text/html": [
       "<pre>| 27        | 48.047929    | 0.829920          | 0.421073          | 0.788185            | 0.479859            |</pre>"
      ],
      "text/plain": [
       "| 27        | 48.047929    | 0.829920          | 0.421073          | 0.788185            | 0.479859            |"
      ]
     },
     "metadata": {},
     "output_type": "display_data"
    },
    {
     "data": {
      "text/html": [
       "<pre>| 28        | 49.552861    | 0.829368          | 0.421544          | 0.788008            | 0.479862            |</pre>"
      ],
      "text/plain": [
       "| 28        | 49.552861    | 0.829368          | 0.421544          | 0.788008            | 0.479862            |"
      ]
     },
     "metadata": {},
     "output_type": "display_data"
    },
    {
     "data": {
      "text/html": [
       "<pre>| 29        | 51.762000    | 0.829414          | 0.421469          | 0.787476            | 0.479805            |</pre>"
      ],
      "text/plain": [
       "| 29        | 51.762000    | 0.829414          | 0.421469          | 0.787476            | 0.479805            |"
      ]
     },
     "metadata": {},
     "output_type": "display_data"
    },
    {
     "data": {
      "text/html": [
       "<pre>| 30        | 53.520401    | 0.829846          | 0.421283          | 0.786589            | 0.479702            |</pre>"
      ],
      "text/plain": [
       "| 30        | 53.520401    | 0.829846          | 0.421283          | 0.786589            | 0.479702            |"
      ]
     },
     "metadata": {},
     "output_type": "display_data"
    },
    {
     "data": {
      "text/html": [
       "<pre>| 31        | 55.358248    | 0.829727          | 0.421249          | 0.786589            | 0.479623            |</pre>"
      ],
      "text/plain": [
       "| 31        | 55.358248    | 0.829727          | 0.421249          | 0.786589            | 0.479623            |"
      ]
     },
     "metadata": {},
     "output_type": "display_data"
    },
    {
     "data": {
      "text/html": [
       "<pre>| 32        | 57.635543    | 0.829349          | 0.421576          | 0.786589            | 0.479674            |</pre>"
      ],
      "text/plain": [
       "| 32        | 57.635543    | 0.829349          | 0.421576          | 0.786589            | 0.479674            |"
      ]
     },
     "metadata": {},
     "output_type": "display_data"
    },
    {
     "data": {
      "text/html": [
       "<pre>| 33        | 59.415227    | 0.829359          | 0.421664          | 0.787121            | 0.479601            |</pre>"
      ],
      "text/plain": [
       "| 33        | 59.415227    | 0.829359          | 0.421664          | 0.787121            | 0.479601            |"
      ]
     },
     "metadata": {},
     "output_type": "display_data"
    },
    {
     "data": {
      "text/html": [
       "<pre>| 34        | 61.372936    | 0.829027          | 0.421740          | 0.787298            | 0.479483            |</pre>"
      ],
      "text/plain": [
       "| 34        | 61.372936    | 0.829027          | 0.421740          | 0.787298            | 0.479483            |"
      ]
     },
     "metadata": {},
     "output_type": "display_data"
    },
    {
     "data": {
      "text/html": [
       "<pre>| 35        | 62.975307    | 0.829009          | 0.421833          | 0.786943            | 0.479394            |</pre>"
      ],
      "text/plain": [
       "| 35        | 62.975307    | 0.829009          | 0.421833          | 0.786943            | 0.479394            |"
      ]
     },
     "metadata": {},
     "output_type": "display_data"
    },
    {
     "data": {
      "text/html": [
       "<pre>| 36        | 64.501310    | 0.828981          | 0.421657          | 0.787830            | 0.479229            |</pre>"
      ],
      "text/plain": [
       "| 36        | 64.501310    | 0.828981          | 0.421657          | 0.787830            | 0.479229            |"
      ]
     },
     "metadata": {},
     "output_type": "display_data"
    },
    {
     "data": {
      "text/html": [
       "<pre>| 37        | 66.212741    | 0.828595          | 0.422166          | 0.786943            | 0.479250            |</pre>"
      ],
      "text/plain": [
       "| 37        | 66.212741    | 0.828595          | 0.422166          | 0.786943            | 0.479250            |"
      ]
     },
     "metadata": {},
     "output_type": "display_data"
    },
    {
     "data": {
      "text/html": [
       "<pre>| 38        | 68.211766    | 0.829036          | 0.421932          | 0.787298            | 0.479416            |</pre>"
      ],
      "text/plain": [
       "| 38        | 68.211766    | 0.829036          | 0.421932          | 0.787298            | 0.479416            |"
      ]
     },
     "metadata": {},
     "output_type": "display_data"
    },
    {
     "data": {
      "text/html": [
       "<pre>| 39        | 69.731291    | 0.829184          | 0.421829          | 0.788008            | 0.479339            |</pre>"
      ],
      "text/plain": [
       "| 39        | 69.731291    | 0.829184          | 0.421829          | 0.788008            | 0.479339            |"
      ]
     },
     "metadata": {},
     "output_type": "display_data"
    },
    {
     "data": {
      "text/html": [
       "<pre>| 40        | 71.465363    | 0.829119          | 0.421669          | 0.788540            | 0.479363            |</pre>"
      ],
      "text/plain": [
       "| 40        | 71.465363    | 0.829119          | 0.421669          | 0.788540            | 0.479363            |"
      ]
     },
     "metadata": {},
     "output_type": "display_data"
    },
    {
     "data": {
      "text/html": [
       "<pre>| 41        | 73.124093    | 0.829036          | 0.421699          | 0.787476            | 0.479293            |</pre>"
      ],
      "text/plain": [
       "| 41        | 73.124093    | 0.829036          | 0.421699          | 0.787476            | 0.479293            |"
      ]
     },
     "metadata": {},
     "output_type": "display_data"
    },
    {
     "data": {
      "text/html": [
       "<pre>| 42        | 74.880468    | 0.829202          | 0.421737          | 0.787830            | 0.479293            |</pre>"
      ],
      "text/plain": [
       "| 42        | 74.880468    | 0.829202          | 0.421737          | 0.787830            | 0.479293            |"
      ]
     },
     "metadata": {},
     "output_type": "display_data"
    },
    {
     "data": {
      "text/html": [
       "<pre>| 43        | 76.847893    | 0.829220          | 0.421585          | 0.787298            | 0.479303            |</pre>"
      ],
      "text/plain": [
       "| 43        | 76.847893    | 0.829220          | 0.421585          | 0.787298            | 0.479303            |"
      ]
     },
     "metadata": {},
     "output_type": "display_data"
    },
    {
     "data": {
      "text/html": [
       "<pre>| 44        | 78.473525    | 0.829036          | 0.421869          | 0.787476            | 0.479338            |</pre>"
      ],
      "text/plain": [
       "| 44        | 78.473525    | 0.829036          | 0.421869          | 0.787476            | 0.479338            |"
      ]
     },
     "metadata": {},
     "output_type": "display_data"
    },
    {
     "data": {
      "text/html": [
       "<pre>| 45        | 80.187408    | 0.828926          | 0.421930          | 0.787298            | 0.479285            |</pre>"
      ],
      "text/plain": [
       "| 45        | 80.187408    | 0.828926          | 0.421930          | 0.787298            | 0.479285            |"
      ]
     },
     "metadata": {},
     "output_type": "display_data"
    },
    {
     "data": {
      "text/html": [
       "<pre>| 46        | 82.234853    | 0.828678          | 0.422214          | 0.787476            | 0.479297            |</pre>"
      ],
      "text/plain": [
       "| 46        | 82.234853    | 0.828678          | 0.422214          | 0.787476            | 0.479297            |"
      ]
     },
     "metadata": {},
     "output_type": "display_data"
    },
    {
     "data": {
      "text/html": [
       "<pre>| 47        | 84.057669    | 0.828779          | 0.422143          | 0.788363            | 0.479303            |</pre>"
      ],
      "text/plain": [
       "| 47        | 84.057669    | 0.828779          | 0.422143          | 0.788363            | 0.479303            |"
      ]
     },
     "metadata": {},
     "output_type": "display_data"
    },
    {
     "data": {
      "text/html": [
       "<pre>| 48        | 85.580948    | 0.828944          | 0.422003          | 0.787121            | 0.479389            |</pre>"
      ],
      "text/plain": [
       "| 48        | 85.580948    | 0.828944          | 0.422003          | 0.787121            | 0.479389            |"
      ]
     },
     "metadata": {},
     "output_type": "display_data"
    },
    {
     "data": {
      "text/html": [
       "<pre>| 49        | 87.219993    | 0.828926          | 0.421889          | 0.787653            | 0.479336            |</pre>"
      ],
      "text/plain": [
       "| 49        | 87.219993    | 0.828926          | 0.421889          | 0.787653            | 0.479336            |"
      ]
     },
     "metadata": {},
     "output_type": "display_data"
    },
    {
     "data": {
      "text/html": [
       "<pre>| 50        | 88.928747    | 0.829193          | 0.421826          | 0.787476            | 0.479331            |</pre>"
      ],
      "text/plain": [
       "| 50        | 88.928747    | 0.829193          | 0.421826          | 0.787476            | 0.479331            |"
      ]
     },
     "metadata": {},
     "output_type": "display_data"
    },
    {
     "data": {
      "text/html": [
       "<pre>| 51        | 90.490924    | 0.829432          | 0.421741          | 0.788008            | 0.479333            |</pre>"
      ],
      "text/plain": [
       "| 51        | 90.490924    | 0.829432          | 0.421741          | 0.788008            | 0.479333            |"
      ]
     },
     "metadata": {},
     "output_type": "display_data"
    },
    {
     "data": {
      "text/html": [
       "<pre>| 52        | 92.375184    | 0.829257          | 0.421670          | 0.788185            | 0.479236            |</pre>"
      ],
      "text/plain": [
       "| 52        | 92.375184    | 0.829257          | 0.421670          | 0.788185            | 0.479236            |"
      ]
     },
     "metadata": {},
     "output_type": "display_data"
    },
    {
     "data": {
      "text/html": [
       "<pre>| 53        | 94.255738    | 0.829303          | 0.421692          | 0.788185            | 0.479107            |</pre>"
      ],
      "text/plain": [
       "| 53        | 94.255738    | 0.829303          | 0.421692          | 0.788185            | 0.479107            |"
      ]
     },
     "metadata": {},
     "output_type": "display_data"
    },
    {
     "data": {
      "text/html": [
       "<pre>| 54        | 95.937802    | 0.829589          | 0.421573          | 0.787121            | 0.479138            |</pre>"
      ],
      "text/plain": [
       "| 54        | 95.937802    | 0.829589          | 0.421573          | 0.787121            | 0.479138            |"
      ]
     },
     "metadata": {},
     "output_type": "display_data"
    },
    {
     "data": {
      "text/html": [
       "<pre>| 55        | 97.436906    | 0.829469          | 0.421508          | 0.787121            | 0.479154            |</pre>"
      ],
      "text/plain": [
       "| 55        | 97.436906    | 0.829469          | 0.421508          | 0.787121            | 0.479154            |"
      ]
     },
     "metadata": {},
     "output_type": "display_data"
    },
    {
     "data": {
      "text/html": [
       "<pre>| 56        | 99.026028    | 0.829524          | 0.421475          | 0.787121            | 0.479185            |</pre>"
      ],
      "text/plain": [
       "| 56        | 99.026028    | 0.829524          | 0.421475          | 0.787121            | 0.479185            |"
      ]
     },
     "metadata": {},
     "output_type": "display_data"
    },
    {
     "data": {
      "text/html": [
       "<pre>| 57        | 100.820201   | 0.829349          | 0.421398          | 0.786411            | 0.479222            |</pre>"
      ],
      "text/plain": [
       "| 57        | 100.820201   | 0.829349          | 0.421398          | 0.786411            | 0.479222            |"
      ]
     },
     "metadata": {},
     "output_type": "display_data"
    },
    {
     "data": {
      "text/html": [
       "<pre>| 58        | 102.486407   | 0.829340          | 0.421282          | 0.786589            | 0.479121            |</pre>"
      ],
      "text/plain": [
       "| 58        | 102.486407   | 0.829340          | 0.421282          | 0.786589            | 0.479121            |"
      ]
     },
     "metadata": {},
     "output_type": "display_data"
    },
    {
     "data": {
      "text/html": [
       "<pre>| 59        | 103.958017   | 0.829635          | 0.421234          | 0.786589            | 0.479055            |</pre>"
      ],
      "text/plain": [
       "| 59        | 103.958017   | 0.829635          | 0.421234          | 0.786589            | 0.479055            |"
      ]
     },
     "metadata": {},
     "output_type": "display_data"
    },
    {
     "data": {
      "text/html": [
       "<pre>| 60        | 105.587834   | 0.829616          | 0.421203          | 0.787121            | 0.479026            |</pre>"
      ],
      "text/plain": [
       "| 60        | 105.587834   | 0.829616          | 0.421203          | 0.787121            | 0.479026            |"
      ]
     },
     "metadata": {},
     "output_type": "display_data"
    },
    {
     "data": {
      "text/html": [
       "<pre>| 61        | 107.213160   | 0.829294          | 0.421212          | 0.786943            | 0.478972            |</pre>"
      ],
      "text/plain": [
       "| 61        | 107.213160   | 0.829294          | 0.421212          | 0.786943            | 0.478972            |"
      ]
     },
     "metadata": {},
     "output_type": "display_data"
    },
    {
     "data": {
      "text/html": [
       "<pre>| 62        | 108.674191   | 0.829423          | 0.421191          | 0.786589            | 0.479042            |</pre>"
      ],
      "text/plain": [
       "| 62        | 108.674191   | 0.829423          | 0.421191          | 0.786589            | 0.479042            |"
      ]
     },
     "metadata": {},
     "output_type": "display_data"
    },
    {
     "data": {
      "text/html": [
       "<pre>| 63        | 110.389027   | 0.829313          | 0.421088          | 0.786234            | 0.479043            |</pre>"
      ],
      "text/plain": [
       "| 63        | 110.389027   | 0.829313          | 0.421088          | 0.786234            | 0.479043            |"
      ]
     },
     "metadata": {},
     "output_type": "display_data"
    },
    {
     "data": {
      "text/html": [
       "<pre>| 64        | 111.887105   | 0.829285          | 0.421148          | 0.786943            | 0.479029            |</pre>"
      ],
      "text/plain": [
       "| 64        | 111.887105   | 0.829285          | 0.421148          | 0.786943            | 0.479029            |"
      ]
     },
     "metadata": {},
     "output_type": "display_data"
    },
    {
     "data": {
      "text/html": [
       "<pre>| 65        | 113.607331   | 0.829405          | 0.421137          | 0.786766            | 0.479060            |</pre>"
      ],
      "text/plain": [
       "| 65        | 113.607331   | 0.829405          | 0.421137          | 0.786766            | 0.479060            |"
      ]
     },
     "metadata": {},
     "output_type": "display_data"
    },
    {
     "data": {
      "text/html": [
       "<pre>| 66        | 115.110197   | 0.829589          | 0.421074          | 0.787298            | 0.479096            |</pre>"
      ],
      "text/plain": [
       "| 66        | 115.110197   | 0.829589          | 0.421074          | 0.787298            | 0.479096            |"
      ]
     },
     "metadata": {},
     "output_type": "display_data"
    },
    {
     "data": {
      "text/html": [
       "<pre>| 67        | 116.617505   | 0.829487          | 0.421007          | 0.786943            | 0.479089            |</pre>"
      ],
      "text/plain": [
       "| 67        | 116.617505   | 0.829487          | 0.421007          | 0.786943            | 0.479089            |"
      ]
     },
     "metadata": {},
     "output_type": "display_data"
    },
    {
     "data": {
      "text/html": [
       "<pre>| 68        | 118.169182   | 0.829386          | 0.421065          | 0.786943            | 0.479117            |</pre>"
      ],
      "text/plain": [
       "| 68        | 118.169182   | 0.829386          | 0.421065          | 0.786943            | 0.479117            |"
      ]
     },
     "metadata": {},
     "output_type": "display_data"
    },
    {
     "data": {
      "text/html": [
       "<pre>| 69        | 119.988876   | 0.829368          | 0.421028          | 0.787298            | 0.479076            |</pre>"
      ],
      "text/plain": [
       "| 69        | 119.988876   | 0.829368          | 0.421028          | 0.787298            | 0.479076            |"
      ]
     },
     "metadata": {},
     "output_type": "display_data"
    },
    {
     "data": {
      "text/html": [
       "<pre>| 70        | 121.886063   | 0.829487          | 0.420960          | 0.787476            | 0.479073            |</pre>"
      ],
      "text/plain": [
       "| 70        | 121.886063   | 0.829487          | 0.420960          | 0.787476            | 0.479073            |"
      ]
     },
     "metadata": {},
     "output_type": "display_data"
    },
    {
     "data": {
      "text/html": [
       "<pre>| 71        | 123.893848   | 0.829432          | 0.420946          | 0.787298            | 0.479070            |</pre>"
      ],
      "text/plain": [
       "| 71        | 123.893848   | 0.829432          | 0.420946          | 0.787298            | 0.479070            |"
      ]
     },
     "metadata": {},
     "output_type": "display_data"
    },
    {
     "data": {
      "text/html": [
       "<pre>| 72        | 125.659346   | 0.829552          | 0.420849          | 0.787121            | 0.479021            |</pre>"
      ],
      "text/plain": [
       "| 72        | 125.659346   | 0.829552          | 0.420849          | 0.787121            | 0.479021            |"
      ]
     },
     "metadata": {},
     "output_type": "display_data"
    },
    {
     "data": {
      "text/html": [
       "<pre>| 73        | 127.614098   | 0.829690          | 0.420754          | 0.786411            | 0.479031            |</pre>"
      ],
      "text/plain": [
       "| 73        | 127.614098   | 0.829690          | 0.420754          | 0.786411            | 0.479031            |"
      ]
     },
     "metadata": {},
     "output_type": "display_data"
    },
    {
     "data": {
      "text/html": [
       "<pre>| 74        | 129.176785   | 0.829708          | 0.420726          | 0.786943            | 0.479013            |</pre>"
      ],
      "text/plain": [
       "| 74        | 129.176785   | 0.829708          | 0.420726          | 0.786943            | 0.479013            |"
      ]
     },
     "metadata": {},
     "output_type": "display_data"
    },
    {
     "data": {
      "text/html": [
       "<pre>| 75        | 131.002462   | 0.829653          | 0.420685          | 0.787298            | 0.478930            |</pre>"
      ],
      "text/plain": [
       "| 75        | 131.002462   | 0.829653          | 0.420685          | 0.787298            | 0.478930            |"
      ]
     },
     "metadata": {},
     "output_type": "display_data"
    },
    {
     "data": {
      "text/html": [
       "<pre>| 76        | 132.628901   | 0.829671          | 0.420647          | 0.787653            | 0.478931            |</pre>"
      ],
      "text/plain": [
       "| 76        | 132.628901   | 0.829671          | 0.420647          | 0.787653            | 0.478931            |"
      ]
     },
     "metadata": {},
     "output_type": "display_data"
    },
    {
     "data": {
      "text/html": [
       "<pre>| 77        | 134.197087   | 0.829635          | 0.420631          | 0.787653            | 0.478867            |</pre>"
      ],
      "text/plain": [
       "| 77        | 134.197087   | 0.829635          | 0.420631          | 0.787653            | 0.478867            |"
      ]
     },
     "metadata": {},
     "output_type": "display_data"
    },
    {
     "data": {
      "text/html": [
       "<pre>| 78        | 135.855014   | 0.829662          | 0.420615          | 0.787830            | 0.478857            |</pre>"
      ],
      "text/plain": [
       "| 78        | 135.855014   | 0.829662          | 0.420615          | 0.787830            | 0.478857            |"
      ]
     },
     "metadata": {},
     "output_type": "display_data"
    },
    {
     "data": {
      "text/html": [
       "<pre>| 79        | 137.653710   | 0.829819          | 0.420548          | 0.787653            | 0.478777            |</pre>"
      ],
      "text/plain": [
       "| 79        | 137.653710   | 0.829819          | 0.420548          | 0.787653            | 0.478777            |"
      ]
     },
     "metadata": {},
     "output_type": "display_data"
    },
    {
     "data": {
      "text/html": [
       "<pre>| 80        | 139.229093   | 0.829846          | 0.420521          | 0.787830            | 0.478783            |</pre>"
      ],
      "text/plain": [
       "| 80        | 139.229093   | 0.829846          | 0.420521          | 0.787830            | 0.478783            |"
      ]
     },
     "metadata": {},
     "output_type": "display_data"
    },
    {
     "data": {
      "text/html": [
       "<pre>| 81        | 140.621825   | 0.830058          | 0.420541          | 0.787476            | 0.478734            |</pre>"
      ],
      "text/plain": [
       "| 81        | 140.621825   | 0.830058          | 0.420541          | 0.787476            | 0.478734            |"
      ]
     },
     "metadata": {},
     "output_type": "display_data"
    },
    {
     "data": {
      "text/html": [
       "<pre>| 82        | 142.052776   | 0.830085          | 0.420472          | 0.787653            | 0.478676            |</pre>"
      ],
      "text/plain": [
       "| 82        | 142.052776   | 0.830085          | 0.420472          | 0.787653            | 0.478676            |"
      ]
     },
     "metadata": {},
     "output_type": "display_data"
    },
    {
     "data": {
      "text/html": [
       "<pre>| 83        | 143.718064   | 0.829947          | 0.420466          | 0.787653            | 0.478637            |</pre>"
      ],
      "text/plain": [
       "| 83        | 143.718064   | 0.829947          | 0.420466          | 0.787653            | 0.478637            |"
      ]
     },
     "metadata": {},
     "output_type": "display_data"
    },
    {
     "data": {
      "text/html": [
       "<pre>| 84        | 145.264078   | 0.829828          | 0.420705          | 0.787830            | 0.478605            |</pre>"
      ],
      "text/plain": [
       "| 84        | 145.264078   | 0.829828          | 0.420705          | 0.787830            | 0.478605            |"
      ]
     },
     "metadata": {},
     "output_type": "display_data"
    },
    {
     "data": {
      "text/html": [
       "<pre>| 85        | 146.796925   | 0.829754          | 0.420705          | 0.787653            | 0.478555            |</pre>"
      ],
      "text/plain": [
       "| 85        | 146.796925   | 0.829754          | 0.420705          | 0.787653            | 0.478555            |"
      ]
     },
     "metadata": {},
     "output_type": "display_data"
    },
    {
     "data": {
      "text/html": [
       "<pre>| 86        | 148.546395   | 0.829736          | 0.420643          | 0.787830            | 0.478572            |</pre>"
      ],
      "text/plain": [
       "| 86        | 148.546395   | 0.829736          | 0.420643          | 0.787830            | 0.478572            |"
      ]
     },
     "metadata": {},
     "output_type": "display_data"
    },
    {
     "data": {
      "text/html": [
       "<pre>| 87        | 150.056437   | 0.829773          | 0.420609          | 0.788008            | 0.478563            |</pre>"
      ],
      "text/plain": [
       "| 87        | 150.056437   | 0.829773          | 0.420609          | 0.788008            | 0.478563            |"
      ]
     },
     "metadata": {},
     "output_type": "display_data"
    },
    {
     "data": {
      "text/html": [
       "<pre>| 88        | 151.594264   | 0.829414          | 0.420877          | 0.787653            | 0.478534            |</pre>"
      ],
      "text/plain": [
       "| 88        | 151.594264   | 0.829414          | 0.420877          | 0.787653            | 0.478534            |"
      ]
     },
     "metadata": {},
     "output_type": "display_data"
    },
    {
     "data": {
      "text/html": [
       "<pre>| 89        | 153.038908   | 0.829662          | 0.420857          | 0.787298            | 0.478539            |</pre>"
      ],
      "text/plain": [
       "| 89        | 153.038908   | 0.829662          | 0.420857          | 0.787298            | 0.478539            |"
      ]
     },
     "metadata": {},
     "output_type": "display_data"
    },
    {
     "data": {
      "text/html": [
       "<pre>| 90        | 154.625086   | 0.829690          | 0.420849          | 0.787121            | 0.478542            |</pre>"
      ],
      "text/plain": [
       "| 90        | 154.625086   | 0.829690          | 0.420849          | 0.787121            | 0.478542            |"
      ]
     },
     "metadata": {},
     "output_type": "display_data"
    },
    {
     "data": {
      "text/html": [
       "<pre>| 91        | 156.119501   | 0.829671          | 0.420907          | 0.786766            | 0.478562            |</pre>"
      ],
      "text/plain": [
       "| 91        | 156.119501   | 0.829671          | 0.420907          | 0.786766            | 0.478562            |"
      ]
     },
     "metadata": {},
     "output_type": "display_data"
    },
    {
     "data": {
      "text/html": [
       "<pre>| 92        | 157.656925   | 0.829828          | 0.420883          | 0.786766            | 0.478521            |</pre>"
      ],
      "text/plain": [
       "| 92        | 157.656925   | 0.829828          | 0.420883          | 0.786766            | 0.478521            |"
      ]
     },
     "metadata": {},
     "output_type": "display_data"
    },
    {
     "data": {
      "text/html": [
       "<pre>| 93        | 159.139039   | 0.829800          | 0.420854          | 0.786943            | 0.478571            |</pre>"
      ],
      "text/plain": [
       "| 93        | 159.139039   | 0.829800          | 0.420854          | 0.786943            | 0.478571            |"
      ]
     },
     "metadata": {},
     "output_type": "display_data"
    },
    {
     "data": {
      "text/html": [
       "<pre>| 94        | 160.793990   | 0.829745          | 0.420857          | 0.786766            | 0.478576            |</pre>"
      ],
      "text/plain": [
       "| 94        | 160.793990   | 0.829745          | 0.420857          | 0.786766            | 0.478576            |"
      ]
     },
     "metadata": {},
     "output_type": "display_data"
    },
    {
     "data": {
      "text/html": [
       "<pre>| 95        | 162.523166   | 0.829883          | 0.420766          | 0.787298            | 0.478538            |</pre>"
      ],
      "text/plain": [
       "| 95        | 162.523166   | 0.829883          | 0.420766          | 0.787298            | 0.478538            |"
      ]
     },
     "metadata": {},
     "output_type": "display_data"
    },
    {
     "data": {
      "text/html": [
       "<pre>| 96        | 164.156298   | 0.829865          | 0.420732          | 0.786943            | 0.478521            |</pre>"
      ],
      "text/plain": [
       "| 96        | 164.156298   | 0.829865          | 0.420732          | 0.786943            | 0.478521            |"
      ]
     },
     "metadata": {},
     "output_type": "display_data"
    },
    {
     "data": {
      "text/html": [
       "<pre>| 97        | 165.682173   | 0.829984          | 0.420647          | 0.787121            | 0.478534            |</pre>"
      ],
      "text/plain": [
       "| 97        | 165.682173   | 0.829984          | 0.420647          | 0.787121            | 0.478534            |"
      ]
     },
     "metadata": {},
     "output_type": "display_data"
    },
    {
     "data": {
      "text/html": [
       "<pre>| 98        | 167.305498   | 0.829975          | 0.420617          | 0.786411            | 0.478502            |</pre>"
      ],
      "text/plain": [
       "| 98        | 167.305498   | 0.829975          | 0.420617          | 0.786411            | 0.478502            |"
      ]
     },
     "metadata": {},
     "output_type": "display_data"
    },
    {
     "data": {
      "text/html": [
       "<pre>| 99        | 168.771856   | 0.830104          | 0.420593          | 0.786411            | 0.478468            |</pre>"
      ],
      "text/plain": [
       "| 99        | 168.771856   | 0.830104          | 0.420593          | 0.786411            | 0.478468            |"
      ]
     },
     "metadata": {},
     "output_type": "display_data"
    },
    {
     "data": {
      "text/html": [
       "<pre>| 100       | 170.564616   | 0.830150          | 0.420519          | 0.786234            | 0.478408            |</pre>"
      ],
      "text/plain": [
       "| 100       | 170.564616   | 0.830150          | 0.420519          | 0.786234            | 0.478408            |"
      ]
     },
     "metadata": {},
     "output_type": "display_data"
    },
    {
     "data": {
      "text/html": [
       "<pre>| 101       | 172.287109   | 0.830131          | 0.420496          | 0.786411            | 0.478417            |</pre>"
      ],
      "text/plain": [
       "| 101       | 172.287109   | 0.830131          | 0.420496          | 0.786411            | 0.478417            |"
      ]
     },
     "metadata": {},
     "output_type": "display_data"
    },
    {
     "data": {
      "text/html": [
       "<pre>| 102       | 173.908025   | 0.830187          | 0.420490          | 0.787121            | 0.478369            |</pre>"
      ],
      "text/plain": [
       "| 102       | 173.908025   | 0.830187          | 0.420490          | 0.787121            | 0.478369            |"
      ]
     },
     "metadata": {},
     "output_type": "display_data"
    },
    {
     "data": {
      "text/html": [
       "<pre>| 103       | 175.290911   | 0.830085          | 0.420474          | 0.787476            | 0.478348            |</pre>"
      ],
      "text/plain": [
       "| 103       | 175.290911   | 0.830085          | 0.420474          | 0.787476            | 0.478348            |"
      ]
     },
     "metadata": {},
     "output_type": "display_data"
    },
    {
     "data": {
      "text/html": [
       "<pre>| 104       | 176.657049   | 0.830012          | 0.420536          | 0.787653            | 0.478380            |</pre>"
      ],
      "text/plain": [
       "| 104       | 176.657049   | 0.830012          | 0.420536          | 0.787653            | 0.478380            |"
      ]
     },
     "metadata": {},
     "output_type": "display_data"
    },
    {
     "data": {
      "text/html": [
       "<pre>| 105       | 178.356081   | 0.830141          | 0.420501          | 0.787298            | 0.478349            |</pre>"
      ],
      "text/plain": [
       "| 105       | 178.356081   | 0.830141          | 0.420501          | 0.787298            | 0.478349            |"
      ]
     },
     "metadata": {},
     "output_type": "display_data"
    },
    {
     "data": {
      "text/html": [
       "<pre>| 106       | 179.954073   | 0.830049          | 0.420494          | 0.787121            | 0.478369            |</pre>"
      ],
      "text/plain": [
       "| 106       | 179.954073   | 0.830049          | 0.420494          | 0.787121            | 0.478369            |"
      ]
     },
     "metadata": {},
     "output_type": "display_data"
    },
    {
     "data": {
      "text/html": [
       "<pre>| 107       | 181.424846   | 0.829920          | 0.420692          | 0.786943            | 0.478373            |</pre>"
      ],
      "text/plain": [
       "| 107       | 181.424846   | 0.829920          | 0.420692          | 0.786943            | 0.478373            |"
      ]
     },
     "metadata": {},
     "output_type": "display_data"
    },
    {
     "data": {
      "text/html": [
       "<pre>| 108       | 182.961217   | 0.829957          | 0.420641          | 0.786766            | 0.478396            |</pre>"
      ],
      "text/plain": [
       "| 108       | 182.961217   | 0.829957          | 0.420641          | 0.786766            | 0.478396            |"
      ]
     },
     "metadata": {},
     "output_type": "display_data"
    },
    {
     "data": {
      "text/html": [
       "<pre>| 109       | 184.469125   | 0.829819          | 0.420648          | 0.786589            | 0.478381            |</pre>"
      ],
      "text/plain": [
       "| 109       | 184.469125   | 0.829819          | 0.420648          | 0.786589            | 0.478381            |"
      ]
     },
     "metadata": {},
     "output_type": "display_data"
    },
    {
     "data": {
      "text/html": [
       "<pre>| 110       | 185.939392   | 0.830021          | 0.420578          | 0.787121            | 0.478354            |</pre>"
      ],
      "text/plain": [
       "| 110       | 185.939392   | 0.830021          | 0.420578          | 0.787121            | 0.478354            |"
      ]
     },
     "metadata": {},
     "output_type": "display_data"
    },
    {
     "data": {
      "text/html": [
       "<pre>| 111       | 187.579461   | 0.830095          | 0.420555          | 0.786766            | 0.478357            |</pre>"
      ],
      "text/plain": [
       "| 111       | 187.579461   | 0.830095          | 0.420555          | 0.786766            | 0.478357            |"
      ]
     },
     "metadata": {},
     "output_type": "display_data"
    },
    {
     "data": {
      "text/html": [
       "<pre>| 112       | 189.268660   | 0.829993          | 0.420613          | 0.787298            | 0.478368            |</pre>"
      ],
      "text/plain": [
       "| 112       | 189.268660   | 0.829993          | 0.420613          | 0.787298            | 0.478368            |"
      ]
     },
     "metadata": {},
     "output_type": "display_data"
    },
    {
     "data": {
      "text/html": [
       "<pre>| 113       | 190.957875   | 0.830131          | 0.420576          | 0.786234            | 0.478373            |</pre>"
      ],
      "text/plain": [
       "| 113       | 190.957875   | 0.830131          | 0.420576          | 0.786234            | 0.478373            |"
      ]
     },
     "metadata": {},
     "output_type": "display_data"
    },
    {
     "data": {
      "text/html": [
       "<pre>| 114       | 192.612583   | 0.830150          | 0.420540          | 0.786943            | 0.478351            |</pre>"
      ],
      "text/plain": [
       "| 114       | 192.612583   | 0.830150          | 0.420540          | 0.786943            | 0.478351            |"
      ]
     },
     "metadata": {},
     "output_type": "display_data"
    },
    {
     "data": {
      "text/html": [
       "<pre>| 115       | 194.159831   | 0.830085          | 0.420559          | 0.787830            | 0.478374            |</pre>"
      ],
      "text/plain": [
       "| 115       | 194.159831   | 0.830085          | 0.420559          | 0.787830            | 0.478374            |"
      ]
     },
     "metadata": {},
     "output_type": "display_data"
    },
    {
     "data": {
      "text/html": [
       "<pre>| 116       | 195.619921   | 0.830003          | 0.420721          | 0.787476            | 0.478368            |</pre>"
      ],
      "text/plain": [
       "| 116       | 195.619921   | 0.830003          | 0.420721          | 0.787476            | 0.478368            |"
      ]
     },
     "metadata": {},
     "output_type": "display_data"
    },
    {
     "data": {
      "text/html": [
       "<pre>| 117       | 197.060760   | 0.829920          | 0.420692          | 0.787298            | 0.478332            |</pre>"
      ],
      "text/plain": [
       "| 117       | 197.060760   | 0.829920          | 0.420692          | 0.787298            | 0.478332            |"
      ]
     },
     "metadata": {},
     "output_type": "display_data"
    },
    {
     "data": {
      "text/html": [
       "<pre>| 118       | 198.729400   | 0.829911          | 0.420684          | 0.787476            | 0.478301            |</pre>"
      ],
      "text/plain": [
       "| 118       | 198.729400   | 0.829911          | 0.420684          | 0.787476            | 0.478301            |"
      ]
     },
     "metadata": {},
     "output_type": "display_data"
    },
    {
     "data": {
      "text/html": [
       "<pre>| 119       | 200.333517   | 0.829892          | 0.420675          | 0.787476            | 0.478289            |</pre>"
      ],
      "text/plain": [
       "| 119       | 200.333517   | 0.829892          | 0.420675          | 0.787476            | 0.478289            |"
      ]
     },
     "metadata": {},
     "output_type": "display_data"
    },
    {
     "data": {
      "text/html": [
       "<pre>| 120       | 202.012452   | 0.830030          | 0.420642          | 0.788008            | 0.478304            |</pre>"
      ],
      "text/plain": [
       "| 120       | 202.012452   | 0.830030          | 0.420642          | 0.788008            | 0.478304            |"
      ]
     },
     "metadata": {},
     "output_type": "display_data"
    },
    {
     "data": {
      "text/html": [
       "<pre>| 121       | 203.383196   | 0.829800          | 0.420823          | 0.788008            | 0.478318            |</pre>"
      ],
      "text/plain": [
       "| 121       | 203.383196   | 0.829800          | 0.420823          | 0.788008            | 0.478318            |"
      ]
     },
     "metadata": {},
     "output_type": "display_data"
    },
    {
     "data": {
      "text/html": [
       "<pre>| 122       | 204.985185   | 0.829754          | 0.420769          | 0.788008            | 0.478302            |</pre>"
      ],
      "text/plain": [
       "| 122       | 204.985185   | 0.829754          | 0.420769          | 0.788008            | 0.478302            |"
      ]
     },
     "metadata": {},
     "output_type": "display_data"
    },
    {
     "data": {
      "text/html": [
       "<pre>| 123       | 206.492083   | 0.830076          | 0.420739          | 0.787830            | 0.478286            |</pre>"
      ],
      "text/plain": [
       "| 123       | 206.492083   | 0.830076          | 0.420739          | 0.787830            | 0.478286            |"
      ]
     },
     "metadata": {},
     "output_type": "display_data"
    },
    {
     "data": {
      "text/html": [
       "<pre>| 124       | 208.055160   | 0.830021          | 0.420771          | 0.787653            | 0.478315            |</pre>"
      ],
      "text/plain": [
       "| 124       | 208.055160   | 0.830021          | 0.420771          | 0.787653            | 0.478315            |"
      ]
     },
     "metadata": {},
     "output_type": "display_data"
    },
    {
     "data": {
      "text/html": [
       "<pre>| 125       | 209.782268   | 0.829920          | 0.420781          | 0.787298            | 0.478276            |</pre>"
      ],
      "text/plain": [
       "| 125       | 209.782268   | 0.829920          | 0.420781          | 0.787298            | 0.478276            |"
      ]
     },
     "metadata": {},
     "output_type": "display_data"
    },
    {
     "data": {
      "text/html": [
       "<pre>| 126       | 211.395719   | 0.829975          | 0.420739          | 0.787830            | 0.478296            |</pre>"
      ],
      "text/plain": [
       "| 126       | 211.395719   | 0.829975          | 0.420739          | 0.787830            | 0.478296            |"
      ]
     },
     "metadata": {},
     "output_type": "display_data"
    },
    {
     "data": {
      "text/html": [
       "<pre>| 127       | 213.074116   | 0.829855          | 0.420709          | 0.787476            | 0.478267            |</pre>"
      ],
      "text/plain": [
       "| 127       | 213.074116   | 0.829855          | 0.420709          | 0.787476            | 0.478267            |"
      ]
     },
     "metadata": {},
     "output_type": "display_data"
    },
    {
     "data": {
      "text/html": [
       "<pre>| 128       | 214.662353   | 0.829966          | 0.420658          | 0.788185            | 0.478288            |</pre>"
      ],
      "text/plain": [
       "| 128       | 214.662353   | 0.829966          | 0.420658          | 0.788185            | 0.478288            |"
      ]
     },
     "metadata": {},
     "output_type": "display_data"
    },
    {
     "data": {
      "text/html": [
       "<pre>| 129       | 216.188231   | 0.829929          | 0.420675          | 0.788008            | 0.478294            |</pre>"
      ],
      "text/plain": [
       "| 129       | 216.188231   | 0.829929          | 0.420675          | 0.788008            | 0.478294            |"
      ]
     },
     "metadata": {},
     "output_type": "display_data"
    },
    {
     "data": {
      "text/html": [
       "<pre>| 130       | 217.765295   | 0.830003          | 0.420655          | 0.788008            | 0.478291            |</pre>"
      ],
      "text/plain": [
       "| 130       | 217.765295   | 0.830003          | 0.420655          | 0.788008            | 0.478291            |"
      ]
     },
     "metadata": {},
     "output_type": "display_data"
    },
    {
     "data": {
      "text/html": [
       "<pre>| 131       | 219.301914   | 0.829892          | 0.420653          | 0.787298            | 0.478286            |</pre>"
      ],
      "text/plain": [
       "| 131       | 219.301914   | 0.829892          | 0.420653          | 0.787298            | 0.478286            |"
      ]
     },
     "metadata": {},
     "output_type": "display_data"
    },
    {
     "data": {
      "text/html": [
       "<pre>| 132       | 220.923259   | 0.830049          | 0.420629          | 0.787476            | 0.478289            |</pre>"
      ],
      "text/plain": [
       "| 132       | 220.923259   | 0.830049          | 0.420629          | 0.787476            | 0.478289            |"
      ]
     },
     "metadata": {},
     "output_type": "display_data"
    },
    {
     "data": {
      "text/html": [
       "<pre>| 133       | 222.574505   | 0.829920          | 0.420561          | 0.787476            | 0.478289            |</pre>"
      ],
      "text/plain": [
       "| 133       | 222.574505   | 0.829920          | 0.420561          | 0.787476            | 0.478289            |"
      ]
     },
     "metadata": {},
     "output_type": "display_data"
    },
    {
     "data": {
      "text/html": [
       "<pre>| 134       | 224.077649   | 0.830085          | 0.420492          | 0.787830            | 0.478262            |</pre>"
      ],
      "text/plain": [
       "| 134       | 224.077649   | 0.830085          | 0.420492          | 0.787830            | 0.478262            |"
      ]
     },
     "metadata": {},
     "output_type": "display_data"
    },
    {
     "data": {
      "text/html": [
       "<pre>| 135       | 225.674731   | 0.830251          | 0.420473          | 0.787476            | 0.478260            |</pre>"
      ],
      "text/plain": [
       "| 135       | 225.674731   | 0.830251          | 0.420473          | 0.787476            | 0.478260            |"
      ]
     },
     "metadata": {},
     "output_type": "display_data"
    },
    {
     "data": {
      "text/html": [
       "<pre>| 136       | 227.122468   | 0.830251          | 0.420466          | 0.787476            | 0.478198            |</pre>"
      ],
      "text/plain": [
       "| 136       | 227.122468   | 0.830251          | 0.420466          | 0.787476            | 0.478198            |"
      ]
     },
     "metadata": {},
     "output_type": "display_data"
    },
    {
     "data": {
      "text/html": [
       "<pre>| 137       | 228.635722   | 0.830269          | 0.420438          | 0.787653            | 0.478174            |</pre>"
      ],
      "text/plain": [
       "| 137       | 228.635722   | 0.830269          | 0.420438          | 0.787653            | 0.478174            |"
      ]
     },
     "metadata": {},
     "output_type": "display_data"
    },
    {
     "data": {
      "text/html": [
       "<pre>| 138       | 230.201819   | 0.830269          | 0.420403          | 0.788185            | 0.478164            |</pre>"
      ],
      "text/plain": [
       "| 138       | 230.201819   | 0.830269          | 0.420403          | 0.788185            | 0.478164            |"
      ]
     },
     "metadata": {},
     "output_type": "display_data"
    },
    {
     "data": {
      "text/html": [
       "<pre>| 139       | 231.649415   | 0.830297          | 0.420418          | 0.788540            | 0.478188            |</pre>"
      ],
      "text/plain": [
       "| 139       | 231.649415   | 0.830297          | 0.420418          | 0.788540            | 0.478188            |"
      ]
     },
     "metadata": {},
     "output_type": "display_data"
    },
    {
     "data": {
      "text/html": [
       "<pre>| 140       | 233.024828   | 0.830177          | 0.420483          | 0.788008            | 0.478253            |</pre>"
      ],
      "text/plain": [
       "| 140       | 233.024828   | 0.830177          | 0.420483          | 0.788008            | 0.478253            |"
      ]
     },
     "metadata": {},
     "output_type": "display_data"
    },
    {
     "data": {
      "text/html": [
       "<pre>| 141       | 234.596681   | 0.830168          | 0.420452          | 0.788008            | 0.478258            |</pre>"
      ],
      "text/plain": [
       "| 141       | 234.596681   | 0.830168          | 0.420452          | 0.788008            | 0.478258            |"
      ]
     },
     "metadata": {},
     "output_type": "display_data"
    },
    {
     "data": {
      "text/html": [
       "<pre>| 142       | 236.077317   | 0.830251          | 0.420415          | 0.787653            | 0.478276            |</pre>"
      ],
      "text/plain": [
       "| 142       | 236.077317   | 0.830251          | 0.420415          | 0.787653            | 0.478276            |"
      ]
     },
     "metadata": {},
     "output_type": "display_data"
    },
    {
     "data": {
      "text/html": [
       "<pre>| 143       | 237.538117   | 0.830288          | 0.420434          | 0.787298            | 0.478320            |</pre>"
      ],
      "text/plain": [
       "| 143       | 237.538117   | 0.830288          | 0.420434          | 0.787298            | 0.478320            |"
      ]
     },
     "metadata": {},
     "output_type": "display_data"
    },
    {
     "data": {
      "text/html": [
       "<pre>| 144       | 239.111578   | 0.830315          | 0.420435          | 0.787830            | 0.478323            |</pre>"
      ],
      "text/plain": [
       "| 144       | 239.111578   | 0.830315          | 0.420435          | 0.787830            | 0.478323            |"
      ]
     },
     "metadata": {},
     "output_type": "display_data"
    },
    {
     "data": {
      "text/html": [
       "<pre>| 145       | 240.686069   | 0.830352          | 0.420479          | 0.787298            | 0.478346            |</pre>"
      ],
      "text/plain": [
       "| 145       | 240.686069   | 0.830352          | 0.420479          | 0.787298            | 0.478346            |"
      ]
     },
     "metadata": {},
     "output_type": "display_data"
    },
    {
     "data": {
      "text/html": [
       "<pre>| 146       | 242.114404   | 0.830214          | 0.420573          | 0.787121            | 0.478351            |</pre>"
      ],
      "text/plain": [
       "| 146       | 242.114404   | 0.830214          | 0.420573          | 0.787121            | 0.478351            |"
      ]
     },
     "metadata": {},
     "output_type": "display_data"
    },
    {
     "data": {
      "text/html": [
       "<pre>| 147       | 243.775805   | 0.830131          | 0.420572          | 0.786943            | 0.478349            |</pre>"
      ],
      "text/plain": [
       "| 147       | 243.775805   | 0.830131          | 0.420572          | 0.786943            | 0.478349            |"
      ]
     },
     "metadata": {},
     "output_type": "display_data"
    },
    {
     "data": {
      "text/html": [
       "<pre>| 148       | 245.230160   | 0.830039          | 0.420555          | 0.787121            | 0.478369            |</pre>"
      ],
      "text/plain": [
       "| 148       | 245.230160   | 0.830039          | 0.420555          | 0.787121            | 0.478369            |"
      ]
     },
     "metadata": {},
     "output_type": "display_data"
    },
    {
     "data": {
      "text/html": [
       "<pre>| 149       | 246.957016   | 0.830177          | 0.420505          | 0.787653            | 0.478390            |</pre>"
      ],
      "text/plain": [
       "| 149       | 246.957016   | 0.830177          | 0.420505          | 0.787653            | 0.478390            |"
      ]
     },
     "metadata": {},
     "output_type": "display_data"
    },
    {
     "data": {
      "text/html": [
       "<pre>| 150       | 248.654084   | 0.830242          | 0.420436          | 0.787476            | 0.478368            |</pre>"
      ],
      "text/plain": [
       "| 150       | 248.654084   | 0.830242          | 0.420436          | 0.787476            | 0.478368            |"
      ]
     },
     "metadata": {},
     "output_type": "display_data"
    },
    {
     "data": {
      "text/html": [
       "<pre>| 151       | 250.473789   | 0.830315          | 0.420431          | 0.787830            | 0.478408            |</pre>"
      ],
      "text/plain": [
       "| 151       | 250.473789   | 0.830315          | 0.420431          | 0.787830            | 0.478408            |"
      ]
     },
     "metadata": {},
     "output_type": "display_data"
    },
    {
     "data": {
      "text/html": [
       "<pre>| 152       | 252.218558   | 0.830352          | 0.420408          | 0.787298            | 0.478435            |</pre>"
      ],
      "text/plain": [
       "| 152       | 252.218558   | 0.830352          | 0.420408          | 0.787298            | 0.478435            |"
      ]
     },
     "metadata": {},
     "output_type": "display_data"
    },
    {
     "data": {
      "text/html": [
       "<pre>| 153       | 253.856026   | 0.830361          | 0.420416          | 0.786943            | 0.478435            |</pre>"
      ],
      "text/plain": [
       "| 153       | 253.856026   | 0.830361          | 0.420416          | 0.786943            | 0.478435            |"
      ]
     },
     "metadata": {},
     "output_type": "display_data"
    },
    {
     "data": {
      "text/html": [
       "<pre>| 154       | 255.476403   | 0.830334          | 0.420422          | 0.786766            | 0.478453            |</pre>"
      ],
      "text/plain": [
       "| 154       | 255.476403   | 0.830334          | 0.420422          | 0.786766            | 0.478453            |"
      ]
     },
     "metadata": {},
     "output_type": "display_data"
    },
    {
     "data": {
      "text/html": [
       "<pre>| 155       | 257.100507   | 0.830435          | 0.420399          | 0.787121            | 0.478420            |</pre>"
      ],
      "text/plain": [
       "| 155       | 257.100507   | 0.830435          | 0.420399          | 0.787121            | 0.478420            |"
      ]
     },
     "metadata": {},
     "output_type": "display_data"
    },
    {
     "data": {
      "text/html": [
       "<pre>| 156       | 258.750049   | 0.830463          | 0.420396          | 0.787121            | 0.478411            |</pre>"
      ],
      "text/plain": [
       "| 156       | 258.750049   | 0.830463          | 0.420396          | 0.787121            | 0.478411            |"
      ]
     },
     "metadata": {},
     "output_type": "display_data"
    },
    {
     "data": {
      "text/html": [
       "<pre>| 157       | 260.412067   | 0.830361          | 0.420420          | 0.787653            | 0.478427            |</pre>"
      ],
      "text/plain": [
       "| 157       | 260.412067   | 0.830361          | 0.420420          | 0.787653            | 0.478427            |"
      ]
     },
     "metadata": {},
     "output_type": "display_data"
    },
    {
     "data": {
      "text/html": [
       "<pre>| 158       | 261.856809   | 0.830205          | 0.420492          | 0.787476            | 0.478416            |</pre>"
      ],
      "text/plain": [
       "| 158       | 261.856809   | 0.830205          | 0.420492          | 0.787476            | 0.478416            |"
      ]
     },
     "metadata": {},
     "output_type": "display_data"
    },
    {
     "data": {
      "text/html": [
       "<pre>| 159       | 263.487159   | 0.830205          | 0.420488          | 0.787476            | 0.478399            |</pre>"
      ],
      "text/plain": [
       "| 159       | 263.487159   | 0.830205          | 0.420488          | 0.787476            | 0.478399            |"
      ]
     },
     "metadata": {},
     "output_type": "display_data"
    },
    {
     "data": {
      "text/html": [
       "<pre>| 160       | 265.092798   | 0.830196          | 0.420490          | 0.788008            | 0.478408            |</pre>"
      ],
      "text/plain": [
       "| 160       | 265.092798   | 0.830196          | 0.420490          | 0.788008            | 0.478408            |"
      ]
     },
     "metadata": {},
     "output_type": "display_data"
    },
    {
     "data": {
      "text/html": [
       "<pre>| 161       | 266.691825   | 0.830288          | 0.420471          | 0.787653            | 0.478408            |</pre>"
      ],
      "text/plain": [
       "| 161       | 266.691825   | 0.830288          | 0.420471          | 0.787653            | 0.478408            |"
      ]
     },
     "metadata": {},
     "output_type": "display_data"
    },
    {
     "data": {
      "text/html": [
       "<pre>| 162       | 268.498245   | 0.830306          | 0.420441          | 0.787830            | 0.478363            |</pre>"
      ],
      "text/plain": [
       "| 162       | 268.498245   | 0.830306          | 0.420441          | 0.787830            | 0.478363            |"
      ]
     },
     "metadata": {},
     "output_type": "display_data"
    },
    {
     "data": {
      "text/html": [
       "<pre>| 163       | 269.907415   | 0.830389          | 0.420419          | 0.787476            | 0.478379            |</pre>"
      ],
      "text/plain": [
       "| 163       | 269.907415   | 0.830389          | 0.420419          | 0.787476            | 0.478379            |"
      ]
     },
     "metadata": {},
     "output_type": "display_data"
    },
    {
     "data": {
      "text/html": [
       "<pre>| 164       | 271.483298   | 0.830407          | 0.420398          | 0.787476            | 0.478338            |</pre>"
      ],
      "text/plain": [
       "| 164       | 271.483298   | 0.830407          | 0.420398          | 0.787476            | 0.478338            |"
      ]
     },
     "metadata": {},
     "output_type": "display_data"
    },
    {
     "data": {
      "text/html": [
       "<pre>| 165       | 273.249524   | 0.830389          | 0.420394          | 0.787653            | 0.478363            |</pre>"
      ],
      "text/plain": [
       "| 165       | 273.249524   | 0.830389          | 0.420394          | 0.787653            | 0.478363            |"
      ]
     },
     "metadata": {},
     "output_type": "display_data"
    },
    {
     "data": {
      "text/html": [
       "<pre>| 166       | 275.132459   | 0.830343          | 0.420350          | 0.787653            | 0.478347            |</pre>"
      ],
      "text/plain": [
       "| 166       | 275.132459   | 0.830343          | 0.420350          | 0.787653            | 0.478347            |"
      ]
     },
     "metadata": {},
     "output_type": "display_data"
    },
    {
     "data": {
      "text/html": [
       "<pre>| 167       | 276.594390   | 0.830435          | 0.420342          | 0.787653            | 0.478352            |</pre>"
      ],
      "text/plain": [
       "| 167       | 276.594390   | 0.830435          | 0.420342          | 0.787653            | 0.478352            |"
      ]
     },
     "metadata": {},
     "output_type": "display_data"
    },
    {
     "data": {
      "text/html": [
       "<pre>| 168       | 278.047295   | 0.830407          | 0.420321          | 0.787830            | 0.478324            |</pre>"
      ],
      "text/plain": [
       "| 168       | 278.047295   | 0.830407          | 0.420321          | 0.787830            | 0.478324            |"
      ]
     },
     "metadata": {},
     "output_type": "display_data"
    },
    {
     "data": {
      "text/html": [
       "<pre>| 169       | 279.707341   | 0.830380          | 0.420307          | 0.787476            | 0.478311            |</pre>"
      ],
      "text/plain": [
       "| 169       | 279.707341   | 0.830380          | 0.420307          | 0.787476            | 0.478311            |"
      ]
     },
     "metadata": {},
     "output_type": "display_data"
    },
    {
     "data": {
      "text/html": [
       "<pre>| 170       | 281.362003   | 0.830407          | 0.420284          | 0.787298            | 0.478315            |</pre>"
      ],
      "text/plain": [
       "| 170       | 281.362003   | 0.830407          | 0.420284          | 0.787298            | 0.478315            |"
      ]
     },
     "metadata": {},
     "output_type": "display_data"
    },
    {
     "data": {
      "text/html": [
       "<pre>| 171       | 282.982816   | 0.830564          | 0.420239          | 0.787476            | 0.478312            |</pre>"
      ],
      "text/plain": [
       "| 171       | 282.982816   | 0.830564          | 0.420239          | 0.787476            | 0.478312            |"
      ]
     },
     "metadata": {},
     "output_type": "display_data"
    },
    {
     "data": {
      "text/html": [
       "<pre>| 172       | 284.339856   | 0.830444          | 0.420337          | 0.787298            | 0.478349            |</pre>"
      ],
      "text/plain": [
       "| 172       | 284.339856   | 0.830444          | 0.420337          | 0.787298            | 0.478349            |"
      ]
     },
     "metadata": {},
     "output_type": "display_data"
    },
    {
     "data": {
      "text/html": [
       "<pre>| 173       | 285.909012   | 0.830417          | 0.420319          | 0.787476            | 0.478366            |</pre>"
      ],
      "text/plain": [
       "| 173       | 285.909012   | 0.830417          | 0.420319          | 0.787476            | 0.478366            |"
      ]
     },
     "metadata": {},
     "output_type": "display_data"
    },
    {
     "data": {
      "text/html": [
       "<pre>| 174       | 287.383677   | 0.830472          | 0.420301          | 0.787830            | 0.478388            |</pre>"
      ],
      "text/plain": [
       "| 174       | 287.383677   | 0.830472          | 0.420301          | 0.787830            | 0.478388            |"
      ]
     },
     "metadata": {},
     "output_type": "display_data"
    },
    {
     "data": {
      "text/html": [
       "<pre>| 175       | 289.016054   | 0.830564          | 0.420273          | 0.787830            | 0.478412            |</pre>"
      ],
      "text/plain": [
       "| 175       | 289.016054   | 0.830564          | 0.420273          | 0.787830            | 0.478412            |"
      ]
     },
     "metadata": {},
     "output_type": "display_data"
    },
    {
     "data": {
      "text/html": [
       "<pre>| 176       | 291.921929   | 0.830591          | 0.420274          | 0.787476            | 0.478431            |</pre>"
      ],
      "text/plain": [
       "| 176       | 291.921929   | 0.830591          | 0.420274          | 0.787476            | 0.478431            |"
      ]
     },
     "metadata": {},
     "output_type": "display_data"
    },
    {
     "data": {
      "text/html": [
       "<pre>| 177       | 293.358355   | 0.830555          | 0.420294          | 0.787653            | 0.478446            |</pre>"
      ],
      "text/plain": [
       "| 177       | 293.358355   | 0.830555          | 0.420294          | 0.787653            | 0.478446            |"
      ]
     },
     "metadata": {},
     "output_type": "display_data"
    },
    {
     "data": {
      "text/html": [
       "<pre>| 178       | 294.864504   | 0.830527          | 0.420298          | 0.788008            | 0.478415            |</pre>"
      ],
      "text/plain": [
       "| 178       | 294.864504   | 0.830527          | 0.420298          | 0.788008            | 0.478415            |"
      ]
     },
     "metadata": {},
     "output_type": "display_data"
    },
    {
     "data": {
      "text/html": [
       "<pre>| 179       | 296.536151   | 0.830582          | 0.420270          | 0.787298            | 0.478414            |</pre>"
      ],
      "text/plain": [
       "| 179       | 296.536151   | 0.830582          | 0.420270          | 0.787298            | 0.478414            |"
      ]
     },
     "metadata": {},
     "output_type": "display_data"
    },
    {
     "data": {
      "text/html": [
       "<pre>| 180       | 298.599641   | 0.830591          | 0.420245          | 0.787830            | 0.478394            |</pre>"
      ],
      "text/plain": [
       "| 180       | 298.599641   | 0.830591          | 0.420245          | 0.787830            | 0.478394            |"
      ]
     },
     "metadata": {},
     "output_type": "display_data"
    },
    {
     "data": {
      "text/html": [
       "<pre>| 181       | 301.742050   | 0.830518          | 0.420235          | 0.787476            | 0.478400            |</pre>"
      ],
      "text/plain": [
       "| 181       | 301.742050   | 0.830518          | 0.420235          | 0.787476            | 0.478400            |"
      ]
     },
     "metadata": {},
     "output_type": "display_data"
    },
    {
     "data": {
      "text/html": [
       "<pre>| 182       | 304.237759   | 0.830453          | 0.420238          | 0.787121            | 0.478403            |</pre>"
      ],
      "text/plain": [
       "| 182       | 304.237759   | 0.830453          | 0.420238          | 0.787121            | 0.478403            |"
      ]
     },
     "metadata": {},
     "output_type": "display_data"
    },
    {
     "data": {
      "text/html": [
       "<pre>| 183       | 306.382087   | 0.830407          | 0.420215          | 0.786943            | 0.478423            |</pre>"
      ],
      "text/plain": [
       "| 183       | 306.382087   | 0.830407          | 0.420215          | 0.786943            | 0.478423            |"
      ]
     },
     "metadata": {},
     "output_type": "display_data"
    },
    {
     "data": {
      "text/html": [
       "<pre>| 184       | 308.381944   | 0.830371          | 0.420231          | 0.787476            | 0.478425            |</pre>"
      ],
      "text/plain": [
       "| 184       | 308.381944   | 0.830371          | 0.420231          | 0.787476            | 0.478425            |"
      ]
     },
     "metadata": {},
     "output_type": "display_data"
    },
    {
     "data": {
      "text/html": [
       "<pre>| 185       | 310.271731   | 0.830306          | 0.420243          | 0.788185            | 0.478408            |</pre>"
      ],
      "text/plain": [
       "| 185       | 310.271731   | 0.830306          | 0.420243          | 0.788185            | 0.478408            |"
      ]
     },
     "metadata": {},
     "output_type": "display_data"
    },
    {
     "data": {
      "text/html": [
       "<pre>| 186       | 312.288699   | 0.830325          | 0.420243          | 0.788185            | 0.478404            |</pre>"
      ],
      "text/plain": [
       "| 186       | 312.288699   | 0.830325          | 0.420243          | 0.788185            | 0.478404            |"
      ]
     },
     "metadata": {},
     "output_type": "display_data"
    },
    {
     "data": {
      "text/html": [
       "<pre>| 187       | 314.003469   | 0.830288          | 0.420215          | 0.788185            | 0.478367            |</pre>"
      ],
      "text/plain": [
       "| 187       | 314.003469   | 0.830288          | 0.420215          | 0.788185            | 0.478367            |"
      ]
     },
     "metadata": {},
     "output_type": "display_data"
    },
    {
     "data": {
      "text/html": [
       "<pre>| 188       | 315.640653   | 0.830279          | 0.420199          | 0.788008            | 0.478374            |</pre>"
      ],
      "text/plain": [
       "| 188       | 315.640653   | 0.830279          | 0.420199          | 0.788008            | 0.478374            |"
      ]
     },
     "metadata": {},
     "output_type": "display_data"
    },
    {
     "data": {
      "text/html": [
       "<pre>| 189       | 317.610958   | 0.830269          | 0.420168          | 0.787830            | 0.478360            |</pre>"
      ],
      "text/plain": [
       "| 189       | 317.610958   | 0.830269          | 0.420168          | 0.787830            | 0.478360            |"
      ]
     },
     "metadata": {},
     "output_type": "display_data"
    },
    {
     "data": {
      "text/html": [
       "<pre>| 190       | 319.242342   | 0.830325          | 0.420181          | 0.788185            | 0.478343            |</pre>"
      ],
      "text/plain": [
       "| 190       | 319.242342   | 0.830325          | 0.420181          | 0.788185            | 0.478343            |"
      ]
     },
     "metadata": {},
     "output_type": "display_data"
    },
    {
     "data": {
      "text/html": [
       "<pre>| 191       | 320.977739   | 0.830407          | 0.420162          | 0.787830            | 0.478338            |</pre>"
      ],
      "text/plain": [
       "| 191       | 320.977739   | 0.830407          | 0.420162          | 0.787830            | 0.478338            |"
      ]
     },
     "metadata": {},
     "output_type": "display_data"
    },
    {
     "data": {
      "text/html": [
       "<pre>| 192       | 322.467161   | 0.830398          | 0.420173          | 0.788008            | 0.478343            |</pre>"
      ],
      "text/plain": [
       "| 192       | 322.467161   | 0.830398          | 0.420173          | 0.788008            | 0.478343            |"
      ]
     },
     "metadata": {},
     "output_type": "display_data"
    },
    {
     "data": {
      "text/html": [
       "<pre>| 193       | 324.136670   | 0.830361          | 0.420229          | 0.788363            | 0.478347            |</pre>"
      ],
      "text/plain": [
       "| 193       | 324.136670   | 0.830361          | 0.420229          | 0.788363            | 0.478347            |"
      ]
     },
     "metadata": {},
     "output_type": "display_data"
    },
    {
     "data": {
      "text/html": [
       "<pre>| 194       | 325.784225   | 0.830380          | 0.420219          | 0.788540            | 0.478348            |</pre>"
      ],
      "text/plain": [
       "| 194       | 325.784225   | 0.830380          | 0.420219          | 0.788540            | 0.478348            |"
      ]
     },
     "metadata": {},
     "output_type": "display_data"
    },
    {
     "data": {
      "text/html": [
       "<pre>| 195       | 327.246839   | 0.830334          | 0.420219          | 0.788717            | 0.478327            |</pre>"
      ],
      "text/plain": [
       "| 195       | 327.246839   | 0.830334          | 0.420219          | 0.788717            | 0.478327            |"
      ]
     },
     "metadata": {},
     "output_type": "display_data"
    },
    {
     "data": {
      "text/html": [
       "<pre>| 196       | 328.702666   | 0.830334          | 0.420237          | 0.788185            | 0.478322            |</pre>"
      ],
      "text/plain": [
       "| 196       | 328.702666   | 0.830334          | 0.420237          | 0.788185            | 0.478322            |"
      ]
     },
     "metadata": {},
     "output_type": "display_data"
    },
    {
     "data": {
      "text/html": [
       "<pre>| 197       | 330.162150   | 0.830352          | 0.420249          | 0.788540            | 0.478311            |</pre>"
      ],
      "text/plain": [
       "| 197       | 330.162150   | 0.830352          | 0.420249          | 0.788540            | 0.478311            |"
      ]
     },
     "metadata": {},
     "output_type": "display_data"
    },
    {
     "data": {
      "text/html": [
       "<pre>| 198       | 331.688132   | 0.830371          | 0.420226          | 0.788363            | 0.478339            |</pre>"
      ],
      "text/plain": [
       "| 198       | 331.688132   | 0.830371          | 0.420226          | 0.788363            | 0.478339            |"
      ]
     },
     "metadata": {},
     "output_type": "display_data"
    },
    {
     "data": {
      "text/html": [
       "<pre>| 199       | 333.413057   | 0.830325          | 0.420186          | 0.788185            | 0.478320            |</pre>"
      ],
      "text/plain": [
       "| 199       | 333.413057   | 0.830325          | 0.420186          | 0.788185            | 0.478320            |"
      ]
     },
     "metadata": {},
     "output_type": "display_data"
    },
    {
     "data": {
      "text/html": [
       "<pre>| 200       | 335.515670   | 0.830242          | 0.420201          | 0.788185            | 0.478322            |</pre>"
      ],
      "text/plain": [
       "| 200       | 335.515670   | 0.830242          | 0.420201          | 0.788185            | 0.478322            |"
      ]
     },
     "metadata": {},
     "output_type": "display_data"
    },
    {
     "data": {
      "text/html": [
       "<pre>| 201       | 337.729106   | 0.830177          | 0.420271          | 0.788008            | 0.478358            |</pre>"
      ],
      "text/plain": [
       "| 201       | 337.729106   | 0.830177          | 0.420271          | 0.788008            | 0.478358            |"
      ]
     },
     "metadata": {},
     "output_type": "display_data"
    },
    {
     "data": {
      "text/html": [
       "<pre>| 202       | 339.370259   | 0.830242          | 0.420235          | 0.788008            | 0.478335            |</pre>"
      ],
      "text/plain": [
       "| 202       | 339.370259   | 0.830242          | 0.420235          | 0.788008            | 0.478335            |"
      ]
     },
     "metadata": {},
     "output_type": "display_data"
    },
    {
     "data": {
      "text/html": [
       "<pre>| 203       | 340.983848   | 0.830214          | 0.420199          | 0.787830            | 0.478341            |</pre>"
      ],
      "text/plain": [
       "| 203       | 340.983848   | 0.830214          | 0.420199          | 0.787830            | 0.478341            |"
      ]
     },
     "metadata": {},
     "output_type": "display_data"
    },
    {
     "data": {
      "text/html": [
       "<pre>| 204       | 342.617906   | 0.830288          | 0.420205          | 0.787830            | 0.478330            |</pre>"
      ],
      "text/plain": [
       "| 204       | 342.617906   | 0.830288          | 0.420205          | 0.787830            | 0.478330            |"
      ]
     },
     "metadata": {},
     "output_type": "display_data"
    },
    {
     "data": {
      "text/html": [
       "<pre>| 205       | 344.223430   | 0.830352          | 0.420174          | 0.788363            | 0.478317            |</pre>"
      ],
      "text/plain": [
       "| 205       | 344.223430   | 0.830352          | 0.420174          | 0.788363            | 0.478317            |"
      ]
     },
     "metadata": {},
     "output_type": "display_data"
    },
    {
     "data": {
      "text/html": [
       "<pre>| 206       | 345.838374   | 0.830214          | 0.420144          | 0.788363            | 0.478332            |</pre>"
      ],
      "text/plain": [
       "| 206       | 345.838374   | 0.830214          | 0.420144          | 0.788363            | 0.478332            |"
      ]
     },
     "metadata": {},
     "output_type": "display_data"
    },
    {
     "data": {
      "text/html": [
       "<pre>| 207       | 347.239537   | 0.830269          | 0.420140          | 0.788363            | 0.478327            |</pre>"
      ],
      "text/plain": [
       "| 207       | 347.239537   | 0.830269          | 0.420140          | 0.788363            | 0.478327            |"
      ]
     },
     "metadata": {},
     "output_type": "display_data"
    },
    {
     "data": {
      "text/html": [
       "<pre>| 208       | 348.981420   | 0.830343          | 0.420134          | 0.788895            | 0.478309            |</pre>"
      ],
      "text/plain": [
       "| 208       | 348.981420   | 0.830343          | 0.420134          | 0.788895            | 0.478309            |"
      ]
     },
     "metadata": {},
     "output_type": "display_data"
    },
    {
     "data": {
      "text/html": [
       "<pre>| 209       | 350.569189   | 0.830334          | 0.420120          | 0.788540            | 0.478289            |</pre>"
      ],
      "text/plain": [
       "| 209       | 350.569189   | 0.830334          | 0.420120          | 0.788540            | 0.478289            |"
      ]
     },
     "metadata": {},
     "output_type": "display_data"
    },
    {
     "data": {
      "text/html": [
       "<pre>| 210       | 352.152484   | 0.830334          | 0.420121          | 0.788895            | 0.478289            |</pre>"
      ],
      "text/plain": [
       "| 210       | 352.152484   | 0.830334          | 0.420121          | 0.788895            | 0.478289            |"
      ]
     },
     "metadata": {},
     "output_type": "display_data"
    },
    {
     "data": {
      "text/html": [
       "<pre>| 211       | 353.572248   | 0.830297          | 0.420106          | 0.789250            | 0.478282            |</pre>"
      ],
      "text/plain": [
       "| 211       | 353.572248   | 0.830297          | 0.420106          | 0.789250            | 0.478282            |"
      ]
     },
     "metadata": {},
     "output_type": "display_data"
    },
    {
     "data": {
      "text/html": [
       "<pre>| 212       | 354.954969   | 0.830196          | 0.420131          | 0.788895            | 0.478257            |</pre>"
      ],
      "text/plain": [
       "| 212       | 354.954969   | 0.830196          | 0.420131          | 0.788895            | 0.478257            |"
      ]
     },
     "metadata": {},
     "output_type": "display_data"
    },
    {
     "data": {
      "text/html": [
       "<pre>| 213       | 356.450250   | 0.830306          | 0.420127          | 0.789072            | 0.478268            |</pre>"
      ],
      "text/plain": [
       "| 213       | 356.450250   | 0.830306          | 0.420127          | 0.789072            | 0.478268            |"
      ]
     },
     "metadata": {},
     "output_type": "display_data"
    },
    {
     "data": {
      "text/html": [
       "<pre>| 214       | 357.895917   | 0.830288          | 0.420131          | 0.789250            | 0.478287            |</pre>"
      ],
      "text/plain": [
       "| 214       | 357.895917   | 0.830288          | 0.420131          | 0.789250            | 0.478287            |"
      ]
     },
     "metadata": {},
     "output_type": "display_data"
    },
    {
     "data": {
      "text/html": [
       "<pre>| 215       | 359.556780   | 0.830233          | 0.420104          | 0.788717            | 0.478318            |</pre>"
      ],
      "text/plain": [
       "| 215       | 359.556780   | 0.830233          | 0.420104          | 0.788717            | 0.478318            |"
      ]
     },
     "metadata": {},
     "output_type": "display_data"
    },
    {
     "data": {
      "text/html": [
       "<pre>| 216       | 361.411523   | 0.830205          | 0.420095          | 0.788717            | 0.478317            |</pre>"
      ],
      "text/plain": [
       "| 216       | 361.411523   | 0.830205          | 0.420095          | 0.788717            | 0.478317            |"
      ]
     },
     "metadata": {},
     "output_type": "display_data"
    },
    {
     "data": {
      "text/html": [
       "<pre>| 217       | 363.417859   | 0.830361          | 0.420074          | 0.788895            | 0.478309            |</pre>"
      ],
      "text/plain": [
       "| 217       | 363.417859   | 0.830361          | 0.420074          | 0.788895            | 0.478309            |"
      ]
     },
     "metadata": {},
     "output_type": "display_data"
    },
    {
     "data": {
      "text/html": [
       "<pre>| 218       | 365.922166   | 0.830251          | 0.420065          | 0.788540            | 0.478303            |</pre>"
      ],
      "text/plain": [
       "| 218       | 365.922166   | 0.830251          | 0.420065          | 0.788540            | 0.478303            |"
      ]
     },
     "metadata": {},
     "output_type": "display_data"
    },
    {
     "data": {
      "text/html": [
       "<pre>| 219       | 367.452166   | 0.830205          | 0.420072          | 0.788363            | 0.478291            |</pre>"
      ],
      "text/plain": [
       "| 219       | 367.452166   | 0.830205          | 0.420072          | 0.788363            | 0.478291            |"
      ]
     },
     "metadata": {},
     "output_type": "display_data"
    },
    {
     "data": {
      "text/html": [
       "<pre>| 220       | 369.272509   | 0.830223          | 0.420049          | 0.788540            | 0.478297            |</pre>"
      ],
      "text/plain": [
       "| 220       | 369.272509   | 0.830223          | 0.420049          | 0.788540            | 0.478297            |"
      ]
     },
     "metadata": {},
     "output_type": "display_data"
    },
    {
     "data": {
      "text/html": [
       "<pre>| 221       | 370.771172   | 0.830196          | 0.420061          | 0.788540            | 0.478315            |</pre>"
      ],
      "text/plain": [
       "| 221       | 370.771172   | 0.830196          | 0.420061          | 0.788540            | 0.478315            |"
      ]
     },
     "metadata": {},
     "output_type": "display_data"
    },
    {
     "data": {
      "text/html": [
       "<pre>| 222       | 372.433034   | 0.830150          | 0.420064          | 0.788717            | 0.478303            |</pre>"
      ],
      "text/plain": [
       "| 222       | 372.433034   | 0.830150          | 0.420064          | 0.788717            | 0.478303            |"
      ]
     },
     "metadata": {},
     "output_type": "display_data"
    },
    {
     "data": {
      "text/html": [
       "<pre>| 223       | 374.087786   | 0.830122          | 0.420082          | 0.788540            | 0.478297            |</pre>"
      ],
      "text/plain": [
       "| 223       | 374.087786   | 0.830122          | 0.420082          | 0.788540            | 0.478297            |"
      ]
     },
     "metadata": {},
     "output_type": "display_data"
    },
    {
     "data": {
      "text/html": [
       "<pre>| 224       | 376.053312   | 0.830141          | 0.420052          | 0.788185            | 0.478294            |</pre>"
      ],
      "text/plain": [
       "| 224       | 376.053312   | 0.830141          | 0.420052          | 0.788185            | 0.478294            |"
      ]
     },
     "metadata": {},
     "output_type": "display_data"
    },
    {
     "data": {
      "text/html": [
       "<pre>| 225       | 377.792279   | 0.830168          | 0.420037          | 0.788185            | 0.478315            |</pre>"
      ],
      "text/plain": [
       "| 225       | 377.792279   | 0.830168          | 0.420037          | 0.788185            | 0.478315            |"
      ]
     },
     "metadata": {},
     "output_type": "display_data"
    },
    {
     "data": {
      "text/html": [
       "<pre>| 226       | 379.742002   | 0.830260          | 0.420003          | 0.788540            | 0.478289            |</pre>"
      ],
      "text/plain": [
       "| 226       | 379.742002   | 0.830260          | 0.420003          | 0.788540            | 0.478289            |"
      ]
     },
     "metadata": {},
     "output_type": "display_data"
    },
    {
     "data": {
      "text/html": [
       "<pre>| 227       | 381.679010   | 0.830177          | 0.419995          | 0.788717            | 0.478308            |</pre>"
      ],
      "text/plain": [
       "| 227       | 381.679010   | 0.830177          | 0.419995          | 0.788717            | 0.478308            |"
      ]
     },
     "metadata": {},
     "output_type": "display_data"
    },
    {
     "data": {
      "text/html": [
       "<pre>| 228       | 383.661198   | 0.830196          | 0.420007          | 0.788717            | 0.478303            |</pre>"
      ],
      "text/plain": [
       "| 228       | 383.661198   | 0.830196          | 0.420007          | 0.788717            | 0.478303            |"
      ]
     },
     "metadata": {},
     "output_type": "display_data"
    },
    {
     "data": {
      "text/html": [
       "<pre>| 229       | 385.510270   | 0.830177          | 0.419984          | 0.788717            | 0.478274            |</pre>"
      ],
      "text/plain": [
       "| 229       | 385.510270   | 0.830177          | 0.419984          | 0.788717            | 0.478274            |"
      ]
     },
     "metadata": {},
     "output_type": "display_data"
    },
    {
     "data": {
      "text/html": [
       "<pre>| 230       | 387.407139   | 0.830233          | 0.419972          | 0.788540            | 0.478277            |</pre>"
      ],
      "text/plain": [
       "| 230       | 387.407139   | 0.830233          | 0.419972          | 0.788540            | 0.478277            |"
      ]
     },
     "metadata": {},
     "output_type": "display_data"
    },
    {
     "data": {
      "text/html": [
       "<pre>| 231       | 389.806520   | 0.830168          | 0.419958          | 0.788717            | 0.478264            |</pre>"
      ],
      "text/plain": [
       "| 231       | 389.806520   | 0.830168          | 0.419958          | 0.788717            | 0.478264            |"
      ]
     },
     "metadata": {},
     "output_type": "display_data"
    },
    {
     "data": {
      "text/html": [
       "<pre>| 232       | 392.141627   | 0.830214          | 0.419961          | 0.788717            | 0.478277            |</pre>"
      ],
      "text/plain": [
       "| 232       | 392.141627   | 0.830214          | 0.419961          | 0.788717            | 0.478277            |"
      ]
     },
     "metadata": {},
     "output_type": "display_data"
    },
    {
     "data": {
      "text/html": [
       "<pre>| 233       | 394.063060   | 0.830269          | 0.419936          | 0.788363            | 0.478286            |</pre>"
      ],
      "text/plain": [
       "| 233       | 394.063060   | 0.830269          | 0.419936          | 0.788363            | 0.478286            |"
      ]
     },
     "metadata": {},
     "output_type": "display_data"
    },
    {
     "data": {
      "text/html": [
       "<pre>| 234       | 395.950098   | 0.830205          | 0.419918          | 0.788540            | 0.478283            |</pre>"
      ],
      "text/plain": [
       "| 234       | 395.950098   | 0.830205          | 0.419918          | 0.788540            | 0.478283            |"
      ]
     },
     "metadata": {},
     "output_type": "display_data"
    },
    {
     "data": {
      "text/html": [
       "<pre>| 235       | 397.819447   | 0.830343          | 0.419923          | 0.788717            | 0.478285            |</pre>"
      ],
      "text/plain": [
       "| 235       | 397.819447   | 0.830343          | 0.419923          | 0.788717            | 0.478285            |"
      ]
     },
     "metadata": {},
     "output_type": "display_data"
    },
    {
     "data": {
      "text/html": [
       "<pre>| 236       | 399.302390   | 0.830269          | 0.419933          | 0.788895            | 0.478273            |</pre>"
      ],
      "text/plain": [
       "| 236       | 399.302390   | 0.830269          | 0.419933          | 0.788895            | 0.478273            |"
      ]
     },
     "metadata": {},
     "output_type": "display_data"
    },
    {
     "data": {
      "text/html": [
       "<pre>| 237       | 400.925175   | 0.830242          | 0.419943          | 0.788895            | 0.478294            |</pre>"
      ],
      "text/plain": [
       "| 237       | 400.925175   | 0.830242          | 0.419943          | 0.788895            | 0.478294            |"
      ]
     },
     "metadata": {},
     "output_type": "display_data"
    },
    {
     "data": {
      "text/html": [
       "<pre>| 238       | 402.541232   | 0.830196          | 0.419930          | 0.788363            | 0.478310            |</pre>"
      ],
      "text/plain": [
       "| 238       | 402.541232   | 0.830196          | 0.419930          | 0.788363            | 0.478310            |"
      ]
     },
     "metadata": {},
     "output_type": "display_data"
    },
    {
     "data": {
      "text/html": [
       "<pre>| 239       | 403.995692   | 0.830325          | 0.419909          | 0.788363            | 0.478293            |</pre>"
      ],
      "text/plain": [
       "| 239       | 403.995692   | 0.830325          | 0.419909          | 0.788363            | 0.478293            |"
      ]
     },
     "metadata": {},
     "output_type": "display_data"
    },
    {
     "data": {
      "text/html": [
       "<pre>| 240       | 405.530980   | 0.830260          | 0.419877          | 0.788363            | 0.478306            |</pre>"
      ],
      "text/plain": [
       "| 240       | 405.530980   | 0.830260          | 0.419877          | 0.788363            | 0.478306            |"
      ]
     },
     "metadata": {},
     "output_type": "display_data"
    },
    {
     "data": {
      "text/html": [
       "<pre>| 241       | 407.084372   | 0.830297          | 0.419893          | 0.788540            | 0.478299            |</pre>"
      ],
      "text/plain": [
       "| 241       | 407.084372   | 0.830297          | 0.419893          | 0.788540            | 0.478299            |"
      ]
     },
     "metadata": {},
     "output_type": "display_data"
    },
    {
     "data": {
      "text/html": [
       "<pre>| 242       | 408.496282   | 0.830297          | 0.419911          | 0.788540            | 0.478303            |</pre>"
      ],
      "text/plain": [
       "| 242       | 408.496282   | 0.830297          | 0.419911          | 0.788540            | 0.478303            |"
      ]
     },
     "metadata": {},
     "output_type": "display_data"
    },
    {
     "data": {
      "text/html": [
       "<pre>| 243       | 409.967485   | 0.830315          | 0.419890          | 0.788540            | 0.478311            |</pre>"
      ],
      "text/plain": [
       "| 243       | 409.967485   | 0.830315          | 0.419890          | 0.788540            | 0.478311            |"
      ]
     },
     "metadata": {},
     "output_type": "display_data"
    },
    {
     "data": {
      "text/html": [
       "<pre>| 244       | 411.366133   | 0.830315          | 0.419893          | 0.788895            | 0.478301            |</pre>"
      ],
      "text/plain": [
       "| 244       | 411.366133   | 0.830315          | 0.419893          | 0.788895            | 0.478301            |"
      ]
     },
     "metadata": {},
     "output_type": "display_data"
    },
    {
     "data": {
      "text/html": [
       "<pre>| 245       | 412.794464   | 0.830361          | 0.419900          | 0.788717            | 0.478283            |</pre>"
      ],
      "text/plain": [
       "| 245       | 412.794464   | 0.830361          | 0.419900          | 0.788717            | 0.478283            |"
      ]
     },
     "metadata": {},
     "output_type": "display_data"
    },
    {
     "data": {
      "text/html": [
       "<pre>| 246       | 414.242966   | 0.830334          | 0.419878          | 0.788717            | 0.478260            |</pre>"
      ],
      "text/plain": [
       "| 246       | 414.242966   | 0.830334          | 0.419878          | 0.788717            | 0.478260            |"
      ]
     },
     "metadata": {},
     "output_type": "display_data"
    },
    {
     "data": {
      "text/html": [
       "<pre>| 247       | 415.668926   | 0.830325          | 0.419849          | 0.788363            | 0.478255            |</pre>"
      ],
      "text/plain": [
       "| 247       | 415.668926   | 0.830325          | 0.419849          | 0.788363            | 0.478255            |"
      ]
     },
     "metadata": {},
     "output_type": "display_data"
    },
    {
     "data": {
      "text/html": [
       "<pre>| 248       | 417.185163   | 0.830297          | 0.419831          | 0.788540            | 0.478262            |</pre>"
      ],
      "text/plain": [
       "| 248       | 417.185163   | 0.830297          | 0.419831          | 0.788540            | 0.478262            |"
      ]
     },
     "metadata": {},
     "output_type": "display_data"
    },
    {
     "data": {
      "text/html": [
       "<pre>| 249       | 418.549422   | 0.830334          | 0.419840          | 0.788717            | 0.478251            |</pre>"
      ],
      "text/plain": [
       "| 249       | 418.549422   | 0.830334          | 0.419840          | 0.788717            | 0.478251            |"
      ]
     },
     "metadata": {},
     "output_type": "display_data"
    },
    {
     "data": {
      "text/html": [
       "<pre>| 250       | 420.035364   | 0.830435          | 0.419825          | 0.788895            | 0.478257            |</pre>"
      ],
      "text/plain": [
       "| 250       | 420.035364   | 0.830435          | 0.419825          | 0.788895            | 0.478257            |"
      ]
     },
     "metadata": {},
     "output_type": "display_data"
    },
    {
     "data": {
      "text/html": [
       "<pre>| 251       | 421.732982   | 0.830481          | 0.419815          | 0.788895            | 0.478249            |</pre>"
      ],
      "text/plain": [
       "| 251       | 421.732982   | 0.830481          | 0.419815          | 0.788895            | 0.478249            |"
      ]
     },
     "metadata": {},
     "output_type": "display_data"
    },
    {
     "data": {
      "text/html": [
       "<pre>| 252       | 423.427811   | 0.830499          | 0.419809          | 0.788717            | 0.478248            |</pre>"
      ],
      "text/plain": [
       "| 252       | 423.427811   | 0.830499          | 0.419809          | 0.788717            | 0.478248            |"
      ]
     },
     "metadata": {},
     "output_type": "display_data"
    },
    {
     "data": {
      "text/html": [
       "<pre>| 253       | 425.253108   | 0.830490          | 0.419810          | 0.788540            | 0.478264            |</pre>"
      ],
      "text/plain": [
       "| 253       | 425.253108   | 0.830490          | 0.419810          | 0.788540            | 0.478264            |"
      ]
     },
     "metadata": {},
     "output_type": "display_data"
    },
    {
     "data": {
      "text/html": [
       "<pre>| 254       | 426.720049   | 0.830499          | 0.419801          | 0.788717            | 0.478264            |</pre>"
      ],
      "text/plain": [
       "| 254       | 426.720049   | 0.830499          | 0.419801          | 0.788717            | 0.478264            |"
      ]
     },
     "metadata": {},
     "output_type": "display_data"
    },
    {
     "data": {
      "text/html": [
       "<pre>| 255       | 428.244336   | 0.830407          | 0.419788          | 0.789072            | 0.478250            |</pre>"
      ],
      "text/plain": [
       "| 255       | 428.244336   | 0.830407          | 0.419788          | 0.789072            | 0.478250            |"
      ]
     },
     "metadata": {},
     "output_type": "display_data"
    },
    {
     "data": {
      "text/html": [
       "<pre>| 256       | 429.808302   | 0.830343          | 0.419790          | 0.789072            | 0.478267            |</pre>"
      ],
      "text/plain": [
       "| 256       | 429.808302   | 0.830343          | 0.419790          | 0.789072            | 0.478267            |"
      ]
     },
     "metadata": {},
     "output_type": "display_data"
    },
    {
     "data": {
      "text/html": [
       "<pre>| 257       | 431.406428   | 0.830417          | 0.419776          | 0.788717            | 0.478259            |</pre>"
      ],
      "text/plain": [
       "| 257       | 431.406428   | 0.830417          | 0.419776          | 0.788717            | 0.478259            |"
      ]
     },
     "metadata": {},
     "output_type": "display_data"
    },
    {
     "data": {
      "text/html": [
       "<pre>| 258       | 432.989446   | 0.830417          | 0.419758          | 0.788717            | 0.478238            |</pre>"
      ],
      "text/plain": [
       "| 258       | 432.989446   | 0.830417          | 0.419758          | 0.788717            | 0.478238            |"
      ]
     },
     "metadata": {},
     "output_type": "display_data"
    },
    {
     "data": {
      "text/html": [
       "<pre>| 259       | 434.282278   | 0.830398          | 0.419789          | 0.788717            | 0.478238            |</pre>"
      ],
      "text/plain": [
       "| 259       | 434.282278   | 0.830398          | 0.419789          | 0.788717            | 0.478238            |"
      ]
     },
     "metadata": {},
     "output_type": "display_data"
    },
    {
     "data": {
      "text/html": [
       "<pre>| 260       | 435.672125   | 0.830472          | 0.419797          | 0.788185            | 0.478238            |</pre>"
      ],
      "text/plain": [
       "| 260       | 435.672125   | 0.830472          | 0.419797          | 0.788185            | 0.478238            |"
      ]
     },
     "metadata": {},
     "output_type": "display_data"
    },
    {
     "data": {
      "text/html": [
       "<pre>| 261       | 437.129755   | 0.830288          | 0.419881          | 0.788717            | 0.478230            |</pre>"
      ],
      "text/plain": [
       "| 261       | 437.129755   | 0.830288          | 0.419881          | 0.788717            | 0.478230            |"
      ]
     },
     "metadata": {},
     "output_type": "display_data"
    },
    {
     "data": {
      "text/html": [
       "<pre>| 262       | 438.741533   | 0.830269          | 0.419874          | 0.788363            | 0.478246            |</pre>"
      ],
      "text/plain": [
       "| 262       | 438.741533   | 0.830269          | 0.419874          | 0.788363            | 0.478246            |"
      ]
     },
     "metadata": {},
     "output_type": "display_data"
    },
    {
     "data": {
      "text/html": [
       "<pre>| 263       | 440.200680   | 0.830242          | 0.419879          | 0.788363            | 0.478235            |</pre>"
      ],
      "text/plain": [
       "| 263       | 440.200680   | 0.830242          | 0.419879          | 0.788363            | 0.478235            |"
      ]
     },
     "metadata": {},
     "output_type": "display_data"
    },
    {
     "data": {
      "text/html": [
       "<pre>| 264       | 441.611086   | 0.830315          | 0.419873          | 0.788540            | 0.478222            |</pre>"
      ],
      "text/plain": [
       "| 264       | 441.611086   | 0.830315          | 0.419873          | 0.788540            | 0.478222            |"
      ]
     },
     "metadata": {},
     "output_type": "display_data"
    },
    {
     "data": {
      "text/html": [
       "<pre>| 265       | 443.037026   | 0.830334          | 0.419872          | 0.788540            | 0.478226            |</pre>"
      ],
      "text/plain": [
       "| 265       | 443.037026   | 0.830334          | 0.419872          | 0.788540            | 0.478226            |"
      ]
     },
     "metadata": {},
     "output_type": "display_data"
    },
    {
     "data": {
      "text/html": [
       "<pre>| 266       | 444.729593   | 0.830223          | 0.419853          | 0.788717            | 0.478233            |</pre>"
      ],
      "text/plain": [
       "| 266       | 444.729593   | 0.830223          | 0.419853          | 0.788717            | 0.478233            |"
      ]
     },
     "metadata": {},
     "output_type": "display_data"
    },
    {
     "data": {
      "text/html": [
       "<pre>| 267       | 446.283903   | 0.830315          | 0.419846          | 0.788895            | 0.478212            |</pre>"
      ],
      "text/plain": [
       "| 267       | 446.283903   | 0.830315          | 0.419846          | 0.788895            | 0.478212            |"
      ]
     },
     "metadata": {},
     "output_type": "display_data"
    },
    {
     "data": {
      "text/html": [
       "<pre>| 268       | 447.756401   | 0.830297          | 0.419853          | 0.788717            | 0.478227            |</pre>"
      ],
      "text/plain": [
       "| 268       | 447.756401   | 0.830297          | 0.419853          | 0.788717            | 0.478227            |"
      ]
     },
     "metadata": {},
     "output_type": "display_data"
    },
    {
     "data": {
      "text/html": [
       "<pre>| 269       | 449.183812   | 0.830223          | 0.419862          | 0.789072            | 0.478217            |</pre>"
      ],
      "text/plain": [
       "| 269       | 449.183812   | 0.830223          | 0.419862          | 0.789072            | 0.478217            |"
      ]
     },
     "metadata": {},
     "output_type": "display_data"
    },
    {
     "data": {
      "text/html": [
       "<pre>| 270       | 450.885861   | 0.830306          | 0.419846          | 0.788895            | 0.478211            |</pre>"
      ],
      "text/plain": [
       "| 270       | 450.885861   | 0.830306          | 0.419846          | 0.788895            | 0.478211            |"
      ]
     },
     "metadata": {},
     "output_type": "display_data"
    },
    {
     "data": {
      "text/html": [
       "<pre>| 271       | 452.670978   | 0.830288          | 0.419831          | 0.788717            | 0.478213            |</pre>"
      ],
      "text/plain": [
       "| 271       | 452.670978   | 0.830288          | 0.419831          | 0.788717            | 0.478213            |"
      ]
     },
     "metadata": {},
     "output_type": "display_data"
    },
    {
     "data": {
      "text/html": [
       "<pre>| 272       | 454.461118   | 0.830288          | 0.419816          | 0.788717            | 0.478222            |</pre>"
      ],
      "text/plain": [
       "| 272       | 454.461118   | 0.830288          | 0.419816          | 0.788717            | 0.478222            |"
      ]
     },
     "metadata": {},
     "output_type": "display_data"
    },
    {
     "data": {
      "text/html": [
       "<pre>| 273       | 456.256311   | 0.830233          | 0.419840          | 0.788895            | 0.478225            |</pre>"
      ],
      "text/plain": [
       "| 273       | 456.256311   | 0.830233          | 0.419840          | 0.788895            | 0.478225            |"
      ]
     },
     "metadata": {},
     "output_type": "display_data"
    },
    {
     "data": {
      "text/html": [
       "<pre>| 274       | 458.260857   | 0.830196          | 0.419820          | 0.788540            | 0.478220            |</pre>"
      ],
      "text/plain": [
       "| 274       | 458.260857   | 0.830196          | 0.419820          | 0.788540            | 0.478220            |"
      ]
     },
     "metadata": {},
     "output_type": "display_data"
    },
    {
     "data": {
      "text/html": [
       "<pre>| 275       | 459.816784   | 0.830288          | 0.419818          | 0.788363            | 0.478216            |</pre>"
      ],
      "text/plain": [
       "| 275       | 459.816784   | 0.830288          | 0.419818          | 0.788363            | 0.478216            |"
      ]
     },
     "metadata": {},
     "output_type": "display_data"
    },
    {
     "data": {
      "text/html": [
       "<pre>| 276       | 461.290964   | 0.830085          | 0.419895          | 0.788717            | 0.478196            |</pre>"
      ],
      "text/plain": [
       "| 276       | 461.290964   | 0.830085          | 0.419895          | 0.788717            | 0.478196            |"
      ]
     },
     "metadata": {},
     "output_type": "display_data"
    },
    {
     "data": {
      "text/html": [
       "<pre>| 277       | 462.685033   | 0.830076          | 0.419905          | 0.788363            | 0.478210            |</pre>"
      ],
      "text/plain": [
       "| 277       | 462.685033   | 0.830076          | 0.419905          | 0.788363            | 0.478210            |"
      ]
     },
     "metadata": {},
     "output_type": "display_data"
    },
    {
     "data": {
      "text/html": [
       "<pre>| 278       | 464.113109   | 0.830205          | 0.419892          | 0.788185            | 0.478223            |</pre>"
      ],
      "text/plain": [
       "| 278       | 464.113109   | 0.830205          | 0.419892          | 0.788185            | 0.478223            |"
      ]
     },
     "metadata": {},
     "output_type": "display_data"
    },
    {
     "data": {
      "text/html": [
       "<pre>| 279       | 465.682676   | 0.830168          | 0.419884          | 0.788540            | 0.478229            |</pre>"
      ],
      "text/plain": [
       "| 279       | 465.682676   | 0.830168          | 0.419884          | 0.788540            | 0.478229            |"
      ]
     },
     "metadata": {},
     "output_type": "display_data"
    },
    {
     "data": {
      "text/html": [
       "<pre>| 280       | 467.175990   | 0.830223          | 0.419877          | 0.788540            | 0.478226            |</pre>"
      ],
      "text/plain": [
       "| 280       | 467.175990   | 0.830223          | 0.419877          | 0.788540            | 0.478226            |"
      ]
     },
     "metadata": {},
     "output_type": "display_data"
    },
    {
     "data": {
      "text/html": [
       "<pre>| 281       | 468.778557   | 0.830279          | 0.419877          | 0.788717            | 0.478238            |</pre>"
      ],
      "text/plain": [
       "| 281       | 468.778557   | 0.830279          | 0.419877          | 0.788717            | 0.478238            |"
      ]
     },
     "metadata": {},
     "output_type": "display_data"
    },
    {
     "data": {
      "text/html": [
       "<pre>| 282       | 470.300335   | 0.830260          | 0.419872          | 0.788363            | 0.478246            |</pre>"
      ],
      "text/plain": [
       "| 282       | 470.300335   | 0.830260          | 0.419872          | 0.788363            | 0.478246            |"
      ]
     },
     "metadata": {},
     "output_type": "display_data"
    },
    {
     "data": {
      "text/html": [
       "<pre>| 283       | 471.829420   | 0.830343          | 0.419878          | 0.788185            | 0.478240            |</pre>"
      ],
      "text/plain": [
       "| 283       | 471.829420   | 0.830343          | 0.419878          | 0.788185            | 0.478240            |"
      ]
     },
     "metadata": {},
     "output_type": "display_data"
    },
    {
     "data": {
      "text/html": [
       "<pre>| 284       | 473.258726   | 0.830279          | 0.419862          | 0.788363            | 0.478230            |</pre>"
      ],
      "text/plain": [
       "| 284       | 473.258726   | 0.830279          | 0.419862          | 0.788363            | 0.478230            |"
      ]
     },
     "metadata": {},
     "output_type": "display_data"
    },
    {
     "data": {
      "text/html": [
       "<pre>| 285       | 474.815490   | 0.830334          | 0.419848          | 0.788540            | 0.478224            |</pre>"
      ],
      "text/plain": [
       "| 285       | 474.815490   | 0.830334          | 0.419848          | 0.788540            | 0.478224            |"
      ]
     },
     "metadata": {},
     "output_type": "display_data"
    },
    {
     "data": {
      "text/html": [
       "<pre>| 286       | 476.290845   | 0.830279          | 0.419874          | 0.788540            | 0.478227            |</pre>"
      ],
      "text/plain": [
       "| 286       | 476.290845   | 0.830279          | 0.419874          | 0.788540            | 0.478227            |"
      ]
     },
     "metadata": {},
     "output_type": "display_data"
    },
    {
     "data": {
      "text/html": [
       "<pre>| 287       | 477.740640   | 0.830187          | 0.419965          | 0.788717            | 0.478208            |</pre>"
      ],
      "text/plain": [
       "| 287       | 477.740640   | 0.830187          | 0.419965          | 0.788717            | 0.478208            |"
      ]
     },
     "metadata": {},
     "output_type": "display_data"
    },
    {
     "data": {
      "text/html": [
       "<pre>| 288       | 479.202571   | 0.830168          | 0.419952          | 0.788540            | 0.478207            |</pre>"
      ],
      "text/plain": [
       "| 288       | 479.202571   | 0.830168          | 0.419952          | 0.788540            | 0.478207            |"
      ]
     },
     "metadata": {},
     "output_type": "display_data"
    },
    {
     "data": {
      "text/html": [
       "<pre>| 289       | 480.730535   | 0.830205          | 0.419946          | 0.788363            | 0.478217            |</pre>"
      ],
      "text/plain": [
       "| 289       | 480.730535   | 0.830205          | 0.419946          | 0.788363            | 0.478217            |"
      ]
     },
     "metadata": {},
     "output_type": "display_data"
    },
    {
     "data": {
      "text/html": [
       "<pre>| 290       | 482.486258   | 0.830205          | 0.419939          | 0.788540            | 0.478220            |</pre>"
      ],
      "text/plain": [
       "| 290       | 482.486258   | 0.830205          | 0.419939          | 0.788540            | 0.478220            |"
      ]
     },
     "metadata": {},
     "output_type": "display_data"
    },
    {
     "data": {
      "text/html": [
       "<pre>| 291       | 484.231639   | 0.830113          | 0.419937          | 0.788717            | 0.478221            |</pre>"
      ],
      "text/plain": [
       "| 291       | 484.231639   | 0.830113          | 0.419937          | 0.788717            | 0.478221            |"
      ]
     },
     "metadata": {},
     "output_type": "display_data"
    },
    {
     "data": {
      "text/html": [
       "<pre>| 292       | 486.019409   | 0.830168          | 0.419932          | 0.788185            | 0.478224            |</pre>"
      ],
      "text/plain": [
       "| 292       | 486.019409   | 0.830168          | 0.419932          | 0.788185            | 0.478224            |"
      ]
     },
     "metadata": {},
     "output_type": "display_data"
    },
    {
     "data": {
      "text/html": [
       "<pre>| 293       | 487.710510   | 0.830205          | 0.419928          | 0.788008            | 0.478232            |</pre>"
      ],
      "text/plain": [
       "| 293       | 487.710510   | 0.830205          | 0.419928          | 0.788008            | 0.478232            |"
      ]
     },
     "metadata": {},
     "output_type": "display_data"
    },
    {
     "data": {
      "text/html": [
       "<pre>| 294       | 489.443047   | 0.830150          | 0.419938          | 0.788363            | 0.478231            |</pre>"
      ],
      "text/plain": [
       "| 294       | 489.443047   | 0.830150          | 0.419938          | 0.788363            | 0.478231            |"
      ]
     },
     "metadata": {},
     "output_type": "display_data"
    },
    {
     "data": {
      "text/html": [
       "<pre>| 295       | 491.191411   | 0.830242          | 0.419905          | 0.788185            | 0.478231            |</pre>"
      ],
      "text/plain": [
       "| 295       | 491.191411   | 0.830242          | 0.419905          | 0.788185            | 0.478231            |"
      ]
     },
     "metadata": {},
     "output_type": "display_data"
    },
    {
     "data": {
      "text/html": [
       "<pre>| 296       | 492.888664   | 0.830260          | 0.419899          | 0.788008            | 0.478244            |</pre>"
      ],
      "text/plain": [
       "| 296       | 492.888664   | 0.830260          | 0.419899          | 0.788008            | 0.478244            |"
      ]
     },
     "metadata": {},
     "output_type": "display_data"
    },
    {
     "data": {
      "text/html": [
       "<pre>| 297       | 494.630489   | 0.830214          | 0.419896          | 0.788008            | 0.478254            |</pre>"
      ],
      "text/plain": [
       "| 297       | 494.630489   | 0.830214          | 0.419896          | 0.788008            | 0.478254            |"
      ]
     },
     "metadata": {},
     "output_type": "display_data"
    },
    {
     "data": {
      "text/html": [
       "<pre>| 298       | 496.335145   | 0.830223          | 0.419898          | 0.787830            | 0.478269            |</pre>"
      ],
      "text/plain": [
       "| 298       | 496.335145   | 0.830223          | 0.419898          | 0.787830            | 0.478269            |"
      ]
     },
     "metadata": {},
     "output_type": "display_data"
    },
    {
     "data": {
      "text/html": [
       "<pre>| 299       | 498.531485   | 0.830214          | 0.419884          | 0.787830            | 0.478271            |</pre>"
      ],
      "text/plain": [
       "| 299       | 498.531485   | 0.830214          | 0.419884          | 0.787830            | 0.478271            |"
      ]
     },
     "metadata": {},
     "output_type": "display_data"
    },
    {
     "data": {
      "text/html": [
       "<pre>| 300       | 500.725416   | 0.830325          | 0.419859          | 0.788008            | 0.478259            |</pre>"
      ],
      "text/plain": [
       "| 300       | 500.725416   | 0.830325          | 0.419859          | 0.788008            | 0.478259            |"
      ]
     },
     "metadata": {},
     "output_type": "display_data"
    },
    {
     "data": {
      "text/html": [
       "<pre>+-----------+--------------+-------------------+-------------------+---------------------+---------------------+</pre>"
      ],
      "text/plain": [
       "+-----------+--------------+-------------------+-------------------+---------------------+---------------------+"
      ]
     },
     "metadata": {},
     "output_type": "display_data"
    },
    {
     "ename": "KeyboardInterrupt",
     "evalue": "",
     "output_type": "error",
     "traceback": [
      "\u001b[1;31m---------------------------------------------------------------------------\u001b[0m",
      "\u001b[1;31mKeyboardInterrupt\u001b[0m                         Traceback (most recent call last)",
      "\u001b[1;32m<ipython-input-4-1afe98ae2949>\u001b[0m in \u001b[0;36m<module>\u001b[1;34m()\u001b[0m\n\u001b[1;32m----> 1\u001b[1;33m \u001b[0mnaive_model\u001b[0m \u001b[1;33m=\u001b[0m \u001b[0mgraphlab\u001b[0m\u001b[1;33m.\u001b[0m\u001b[0mrandom_forest_classifier\u001b[0m\u001b[1;33m.\u001b[0m\u001b[0mcreate\u001b[0m\u001b[1;33m(\u001b[0m\u001b[0mraw_train\u001b[0m\u001b[1;33m,\u001b[0m \u001b[0mtarget\u001b[0m \u001b[1;33m=\u001b[0m \u001b[1;34m'target'\u001b[0m\u001b[1;33m,\u001b[0m \u001b[0mfeatures\u001b[0m \u001b[1;33m=\u001b[0m \u001b[1;33m[\u001b[0m\u001b[1;34m'v'\u001b[0m\u001b[1;33m+\u001b[0m\u001b[0mstr\u001b[0m\u001b[1;33m(\u001b[0m\u001b[0mi\u001b[0m\u001b[1;33m)\u001b[0m \u001b[1;32mfor\u001b[0m \u001b[0mi\u001b[0m \u001b[1;32min\u001b[0m \u001b[0mrange\u001b[0m\u001b[1;33m(\u001b[0m\u001b[1;36m1\u001b[0m\u001b[1;33m,\u001b[0m\u001b[1;36m132\u001b[0m\u001b[1;33m,\u001b[0m\u001b[1;36m1\u001b[0m\u001b[1;33m)\u001b[0m\u001b[1;33m]\u001b[0m\u001b[1;33m,\u001b[0m \u001b[0mnum_trees\u001b[0m \u001b[1;33m=\u001b[0m \u001b[1;36m300\u001b[0m\u001b[1;33m,\u001b[0m \u001b[0mmax_depth\u001b[0m \u001b[1;33m=\u001b[0m \u001b[1;36m13\u001b[0m\u001b[1;33m,\u001b[0m \u001b[1;33m)\u001b[0m\u001b[1;33m\u001b[0m\u001b[0m\n\u001b[0m",
      "\u001b[1;32mC:\\Anaconda2\\lib\\site-packages\\graphlab\\toolkits\\classifier\\random_forest_classifier.pyc\u001b[0m in \u001b[0;36mcreate\u001b[1;34m(dataset, target, features, num_trees, validation_set, verbose, class_weights, random_seed, metric, **kwargs)\u001b[0m\n\u001b[0;32m    636\u001b[0m                         \u001b[0mverbose\u001b[0m \u001b[1;33m=\u001b[0m \u001b[0mverbose\u001b[0m\u001b[1;33m,\u001b[0m\u001b[1;33m\u001b[0m\u001b[0m\n\u001b[0;32m    637\u001b[0m                         \u001b[0mmetric\u001b[0m \u001b[1;33m=\u001b[0m \u001b[0mmetric\u001b[0m\u001b[1;33m,\u001b[0m\u001b[1;33m\u001b[0m\u001b[0m\n\u001b[1;32m--> 638\u001b[1;33m                         **kwargs)\n\u001b[0m\u001b[0;32m    639\u001b[0m     \u001b[1;32mreturn\u001b[0m \u001b[0mRandomForestClassifier\u001b[0m\u001b[1;33m(\u001b[0m\u001b[0mmodel\u001b[0m\u001b[1;33m.\u001b[0m\u001b[0m__proxy__\u001b[0m\u001b[1;33m)\u001b[0m\u001b[1;33m\u001b[0m\u001b[0m\n",
      "\u001b[1;32mC:\\Anaconda2\\lib\\site-packages\\graphlab\\toolkits\\_supervised_learning.pyc\u001b[0m in \u001b[0;36mcreate\u001b[1;34m(dataset, target, model_name, features, validation_set, verbose, distributed, **kwargs)\u001b[0m\n\u001b[0;32m    451\u001b[0m     \u001b[1;32melse\u001b[0m\u001b[1;33m:\u001b[0m\u001b[1;33m\u001b[0m\u001b[0m\n\u001b[0;32m    452\u001b[0m         ret = _graphlab.toolkits._main.run(\"supervised_learning_train\",\n\u001b[1;32m--> 453\u001b[1;33m                                            options, verbose)\n\u001b[0m\u001b[0;32m    454\u001b[0m         \u001b[0mmodel\u001b[0m \u001b[1;33m=\u001b[0m \u001b[0mSupervisedLearningModel\u001b[0m\u001b[1;33m(\u001b[0m\u001b[0mret\u001b[0m\u001b[1;33m[\u001b[0m\u001b[1;34m'model'\u001b[0m\u001b[1;33m]\u001b[0m\u001b[1;33m,\u001b[0m \u001b[0mmodel_name\u001b[0m\u001b[1;33m)\u001b[0m\u001b[1;33m\u001b[0m\u001b[0m\n\u001b[0;32m    455\u001b[0m \u001b[1;33m\u001b[0m\u001b[0m\n",
      "\u001b[1;32mC:\\Anaconda2\\lib\\site-packages\\graphlab\\toolkits\\_main.pyc\u001b[0m in \u001b[0;36mrun\u001b[1;34m(toolkit_name, options, verbose, show_progress)\u001b[0m\n\u001b[0;32m     58\u001b[0m     \u001b[1;32mtry\u001b[0m\u001b[1;33m:\u001b[0m\u001b[1;33m\u001b[0m\u001b[0m\n\u001b[0;32m     59\u001b[0m         \u001b[0mstart_time\u001b[0m \u001b[1;33m=\u001b[0m \u001b[0mtime\u001b[0m\u001b[1;33m.\u001b[0m\u001b[0mtime\u001b[0m\u001b[1;33m(\u001b[0m\u001b[1;33m)\u001b[0m\u001b[1;33m\u001b[0m\u001b[0m\n\u001b[1;32m---> 60\u001b[1;33m         \u001b[1;33m(\u001b[0m\u001b[0msuccess\u001b[0m\u001b[1;33m,\u001b[0m \u001b[0mmessage\u001b[0m\u001b[1;33m,\u001b[0m \u001b[0mparams\u001b[0m\u001b[1;33m)\u001b[0m \u001b[1;33m=\u001b[0m \u001b[0munity\u001b[0m\u001b[1;33m.\u001b[0m\u001b[0mrun_toolkit\u001b[0m\u001b[1;33m(\u001b[0m\u001b[0mtoolkit_name\u001b[0m\u001b[1;33m,\u001b[0m \u001b[0moptions\u001b[0m\u001b[1;33m)\u001b[0m\u001b[1;33m\u001b[0m\u001b[0m\n\u001b[0m\u001b[0;32m     61\u001b[0m         \u001b[0mend_time\u001b[0m \u001b[1;33m=\u001b[0m \u001b[0mtime\u001b[0m\u001b[1;33m.\u001b[0m\u001b[0mtime\u001b[0m\u001b[1;33m(\u001b[0m\u001b[1;33m)\u001b[0m\u001b[1;33m\u001b[0m\u001b[0m\n\u001b[0;32m     62\u001b[0m     \u001b[1;32mexcept\u001b[0m\u001b[1;33m:\u001b[0m\u001b[1;33m\u001b[0m\u001b[0m\n",
      "\u001b[1;31mKeyboardInterrupt\u001b[0m: "
     ]
    }
   ],
   "source": [
    "naive_model = graphlab.random_forest_classifier.create(raw_train, target = 'target', features = ['v'+str(i) for i in range(1,132,1)], num_trees = 300, max_depth = 13, )"
   ]
  },
  {
   "cell_type": "code",
   "execution_count": null,
   "metadata": {
    "collapsed": false
   },
   "outputs": [],
   "source": [
    "['v'+str(i) for i in range(1,132,1)]"
   ]
  },
  {
   "cell_type": "code",
   "execution_count": null,
   "metadata": {
    "collapsed": false
   },
   "outputs": [],
   "source": [
    "naive_model"
   ]
  },
  {
   "cell_type": "code",
   "execution_count": 22,
   "metadata": {
    "collapsed": false
   },
   "outputs": [
    {
     "data": {
      "text/html": [
       "<pre>Finished parsing file C:\\Users\\jiancheng\\Documents\\GitHub\\Kaggle\\Kaggle-BNP\\data\\test.csv</pre>"
      ],
      "text/plain": [
       "Finished parsing file C:\\Users\\jiancheng\\Documents\\GitHub\\Kaggle\\Kaggle-BNP\\data\\test.csv"
      ]
     },
     "metadata": {},
     "output_type": "display_data"
    },
    {
     "data": {
      "text/html": [
       "<pre>Parsing completed. Parsed 100 lines in 0.866591 secs.</pre>"
      ],
      "text/plain": [
       "Parsing completed. Parsed 100 lines in 0.866591 secs."
      ]
     },
     "metadata": {},
     "output_type": "display_data"
    },
    {
     "data": {
      "text/html": [
       "<pre>Read 51491 lines. Lines per second: 41920</pre>"
      ],
      "text/plain": [
       "Read 51491 lines. Lines per second: 41920"
      ]
     },
     "metadata": {},
     "output_type": "display_data"
    },
    {
     "data": {
      "text/html": [
       "<pre>Finished parsing file C:\\Users\\jiancheng\\Documents\\GitHub\\Kaggle\\Kaggle-BNP\\data\\test.csv</pre>"
      ],
      "text/plain": [
       "Finished parsing file C:\\Users\\jiancheng\\Documents\\GitHub\\Kaggle\\Kaggle-BNP\\data\\test.csv"
      ]
     },
     "metadata": {},
     "output_type": "display_data"
    },
    {
     "data": {
      "text/html": [
       "<pre>Parsing completed. Parsed 114393 lines in 1.86663 secs.</pre>"
      ],
      "text/plain": [
       "Parsing completed. Parsed 114393 lines in 1.86663 secs."
      ]
     },
     "metadata": {},
     "output_type": "display_data"
    },
    {
     "name": "stdout",
     "output_type": "stream",
     "text": [
      "------------------------------------------------------\n",
      "Inferred types from first line of file as \n",
      "column_type_hints=[long,float,float,str,float,float,float,float,float,float,float,float,float,float,float,float,float,float,float,float,float,float,str,float,str,float,float,float,float,float,str,str,float,float,float,float,float,float,long,float,float,float,float,float,float,float,float,str,float,float,float,float,str,float,float,float,str,float,float,float,float,float,long,float,float,float,str,float,float,float,float,str,long,float,str,str,float,float,float,str,float,float,float,float,float,float,float,float,float,float,float,str,float,float,float,float,float,float,float,float,float,float,float,float,float,float,float,str,float,float,str,float,str,str,float,float,float,float,float,float,float,float,float,float,float,str,float,float,float,long,float,float]\n",
      "If parsing fails due to incorrect types, you can correct\n",
      "the inferred type list above and pass it to read_csv in\n",
      "the column_type_hints argument\n",
      "------------------------------------------------------\n"
     ]
    }
   ],
   "source": [
    "raw_test = graphlab.SFrame('data/test.csv')"
   ]
  },
  {
   "cell_type": "code",
   "execution_count": 27,
   "metadata": {
    "collapsed": false
   },
   "outputs": [
    {
     "data": {
      "text/plain": [
       "dtype: float\n",
       "Rows: 114393\n",
       "[0.29791244864463806, 0.7733604907989502, 0.8206952810287476, 0.6387163996696472, 0.7543373107910156, 0.6039406061172485, 0.8483729958534241, 0.537229597568512, 0.8146824836730957, 0.8118854761123657, 0.7612506151199341, 0.7779567241668701, 0.790758490562439, 0.831632673740387, 0.8026108145713806, 0.7780269980430603, 0.7528315782546997, 0.8504445552825928, 0.8569571375846863, 0.5536834001541138, 0.30425742268562317, 0.6975488662719727, 0.7162526845932007, 0.7303944230079651, 0.837506890296936, 0.5198372006416321, 0.5199689865112305, 0.7923122048377991, 0.6932735443115234, 0.7942531704902649, 0.854884147644043, 0.7933463454246521, 0.8282217979431152, 0.6670357584953308, 0.8407918214797974, 0.8009821176528931, 0.6628533601760864, 0.8228302597999573, 0.7429182529449463, 0.6415655612945557, 0.843218982219696, 0.8273302316665649, 0.8265918493270874, 0.6934857964515686, 0.7935357689857483, 0.7887284159660339, 0.6642169952392578, 0.7392783164978027, 0.4060666561126709, 0.5571157336235046, 0.5902372002601624, 0.8627246022224426, 0.6280104517936707, 0.8148805499076843, 0.44319894909858704, 0.7592262625694275, 0.5714737176895142, 0.8039359450340271, 0.670769989490509, 0.7941531538963318, 0.6850785613059998, 0.3194620907306671, 0.7450147271156311, 0.8593061566352844, 0.6657170057296753, 0.6982332468032837, 0.8394755721092224, 0.6757411956787109, 0.7043654918670654, 0.8172309994697571, 0.6510077118873596, 0.725903332233429, 0.8382896184921265, 0.7774013876914978, 0.8342766761779785, 0.2226909101009369, 0.18022586405277252, 0.8648416996002197, 0.849949061870575, 0.8363044857978821, 0.630317747592926, 0.8667928576469421, 0.6740397810935974, 0.8479681611061096, 0.5347723364830017, 0.8397610783576965, 0.7443540096282959, 0.6699199080467224, 0.6578783392906189, 0.7321223616600037, 0.8473477363586426, 0.7657067179679871, 0.6640684008598328, 0.48205265402793884, 0.812878429889679, 0.7546185851097107, 0.7903969287872314, 0.7036083340644836, 0.606702446937561, 0.7906904816627502, ... ]"
      ]
     },
     "execution_count": 27,
     "metadata": {},
     "output_type": "execute_result"
    }
   ],
   "source": [
    "naive_model.predict(raw_test, output_type='probability')"
   ]
  },
  {
   "cell_type": "code",
   "execution_count": 28,
   "metadata": {
    "collapsed": true
   },
   "outputs": [],
   "source": [
    "submit = graphlab.SFrame()"
   ]
  },
  {
   "cell_type": "code",
   "execution_count": 30,
   "metadata": {
    "collapsed": false
   },
   "outputs": [],
   "source": [
    "submit['ID'] = raw_test['ID']"
   ]
  },
  {
   "cell_type": "code",
   "execution_count": 31,
   "metadata": {
    "collapsed": true
   },
   "outputs": [],
   "source": [
    "submit['PredictedProb'] = naive_model.predict(raw_test, output_type='probability')"
   ]
  },
  {
   "cell_type": "code",
   "execution_count": 39,
   "metadata": {
    "collapsed": false
   },
   "outputs": [],
   "source": [
    "submit.export_csv('naive_rf.csv')"
   ]
  },
  {
   "cell_type": "markdown",
   "metadata": {},
   "source": [
    "# naive_rf: 0.48340"
   ]
  },
  {
   "cell_type": "code",
   "execution_count": 38,
   "metadata": {
    "collapsed": false
   },
   "outputs": [
    {
     "data": {
      "text/html": [
       "<pre>Boosted trees classifier:</pre>"
      ],
      "text/plain": [
       "Boosted trees classifier:"
      ]
     },
     "metadata": {},
     "output_type": "display_data"
    },
    {
     "data": {
      "text/html": [
       "<pre>--------------------------------------------------------</pre>"
      ],
      "text/plain": [
       "--------------------------------------------------------"
      ]
     },
     "metadata": {},
     "output_type": "display_data"
    },
    {
     "data": {
      "text/html": [
       "<pre>Number of examples          : 108570</pre>"
      ],
      "text/plain": [
       "Number of examples          : 108570"
      ]
     },
     "metadata": {},
     "output_type": "display_data"
    },
    {
     "data": {
      "text/html": [
       "<pre>Number of classes           : 2</pre>"
      ],
      "text/plain": [
       "Number of classes           : 2"
      ]
     },
     "metadata": {},
     "output_type": "display_data"
    },
    {
     "data": {
      "text/html": [
       "<pre>Number of feature columns   : 131</pre>"
      ],
      "text/plain": [
       "Number of feature columns   : 131"
      ]
     },
     "metadata": {},
     "output_type": "display_data"
    },
    {
     "data": {
      "text/html": [
       "<pre>Number of unpacked features : 131</pre>"
      ],
      "text/plain": [
       "Number of unpacked features : 131"
      ]
     },
     "metadata": {},
     "output_type": "display_data"
    },
    {
     "data": {
      "text/html": [
       "<pre>+-----------+--------------+-------------------+-------------------+---------------------+---------------------+</pre>"
      ],
      "text/plain": [
       "+-----------+--------------+-------------------+-------------------+---------------------+---------------------+"
      ]
     },
     "metadata": {},
     "output_type": "display_data"
    },
    {
     "data": {
      "text/html": [
       "<pre>| Iteration | Elapsed Time | Training-accuracy | Training-log_loss | Validation-accuracy | Validation-log_loss |</pre>"
      ],
      "text/plain": [
       "| Iteration | Elapsed Time | Training-accuracy | Training-log_loss | Validation-accuracy | Validation-log_loss |"
      ]
     },
     "metadata": {},
     "output_type": "display_data"
    },
    {
     "data": {
      "text/html": [
       "<pre>+-----------+--------------+-------------------+-------------------+---------------------+---------------------+</pre>"
      ],
      "text/plain": [
       "+-----------+--------------+-------------------+-------------------+---------------------+---------------------+"
      ]
     },
     "metadata": {},
     "output_type": "display_data"
    },
    {
     "data": {
      "text/html": [
       "<pre>| 1         | 0.845493     | 0.780602          | 0.596026          | 0.787689            | 0.594456            |</pre>"
      ],
      "text/plain": [
       "| 1         | 0.845493     | 0.780602          | 0.596026          | 0.787689            | 0.594456            |"
      ]
     },
     "metadata": {},
     "output_type": "display_data"
    },
    {
     "data": {
      "text/html": [
       "<pre>| 2         | 1.631526     | 0.780639          | 0.544284          | 0.788558            | 0.541913            |</pre>"
      ],
      "text/plain": [
       "| 2         | 1.631526     | 0.780639          | 0.544284          | 0.788558            | 0.541913            |"
      ]
     },
     "metadata": {},
     "output_type": "display_data"
    },
    {
     "data": {
      "text/html": [
       "<pre>| 3         | 2.487247     | 0.781477          | 0.513806          | 0.788558            | 0.511780            |</pre>"
      ],
      "text/plain": [
       "| 3         | 2.487247     | 0.781477          | 0.513806          | 0.788558            | 0.511780            |"
      ]
     },
     "metadata": {},
     "output_type": "display_data"
    },
    {
     "data": {
      "text/html": [
       "<pre>| 4         | 3.507705     | 0.781523          | 0.495735          | 0.788037            | 0.493706            |</pre>"
      ],
      "text/plain": [
       "| 4         | 3.507705     | 0.781523          | 0.495735          | 0.788037            | 0.493706            |"
      ]
     },
     "metadata": {},
     "output_type": "display_data"
    },
    {
     "data": {
      "text/html": [
       "<pre>| 5         | 4.904893     | 0.781873          | 0.484381          | 0.788385            | 0.482763            |</pre>"
      ],
      "text/plain": [
       "| 5         | 4.904893     | 0.781873          | 0.484381          | 0.788385            | 0.482763            |"
      ]
     },
     "metadata": {},
     "output_type": "display_data"
    },
    {
     "data": {
      "text/html": [
       "<pre>| 6         | 6.043450     | 0.782094          | 0.476999          | 0.788037            | 0.475936            |</pre>"
      ],
      "text/plain": [
       "| 6         | 6.043450     | 0.782094          | 0.476999          | 0.788037            | 0.475936            |"
      ]
     },
     "metadata": {},
     "output_type": "display_data"
    },
    {
     "data": {
      "text/html": [
       "<pre>| 7         | 6.981276     | 0.782573          | 0.471881          | 0.787515            | 0.471457            |</pre>"
      ],
      "text/plain": [
       "| 7         | 6.981276     | 0.782573          | 0.471881          | 0.787515            | 0.471457            |"
      ]
     },
     "metadata": {},
     "output_type": "display_data"
    },
    {
     "data": {
      "text/html": [
       "<pre>| 8         | 7.855982     | 0.782463          | 0.468156          | 0.787341            | 0.468814            |</pre>"
      ],
      "text/plain": [
       "| 8         | 7.855982     | 0.782463          | 0.468156          | 0.787341            | 0.468814            |"
      ]
     },
     "metadata": {},
     "output_type": "display_data"
    },
    {
     "data": {
      "text/html": [
       "<pre>| 9         | 8.731622     | 0.783052          | 0.465364          | 0.787167            | 0.466579            |</pre>"
      ],
      "text/plain": [
       "| 9         | 8.731622     | 0.783052          | 0.465364          | 0.787167            | 0.466579            |"
      ]
     },
     "metadata": {},
     "output_type": "display_data"
    },
    {
     "data": {
      "text/html": [
       "<pre>| 10        | 9.458161     | 0.783292          | 0.463261          | 0.787689            | 0.465684            |</pre>"
      ],
      "text/plain": [
       "| 10        | 9.458161     | 0.783292          | 0.463261          | 0.787689            | 0.465684            |"
      ]
     },
     "metadata": {},
     "output_type": "display_data"
    },
    {
     "data": {
      "text/html": [
       "<pre>| 11        | 10.173951    | 0.784222          | 0.461145          | 0.787863            | 0.464219            |</pre>"
      ],
      "text/plain": [
       "| 11        | 10.173951    | 0.784222          | 0.461145          | 0.787863            | 0.464219            |"
      ]
     },
     "metadata": {},
     "output_type": "display_data"
    },
    {
     "data": {
      "text/html": [
       "<pre>| 12        | 10.968870    | 0.784360          | 0.459595          | 0.788732            | 0.463579            |</pre>"
      ],
      "text/plain": [
       "| 12        | 10.968870    | 0.784360          | 0.459595          | 0.788732            | 0.463579            |"
      ]
     },
     "metadata": {},
     "output_type": "display_data"
    },
    {
     "data": {
      "text/html": [
       "<pre>| 13        | 11.926641    | 0.785346          | 0.458007          | 0.788385            | 0.462469            |</pre>"
      ],
      "text/plain": [
       "| 13        | 11.926641    | 0.785346          | 0.458007          | 0.788385            | 0.462469            |"
      ]
     },
     "metadata": {},
     "output_type": "display_data"
    },
    {
     "data": {
      "text/html": [
       "<pre>| 14        | 12.672659    | 0.785567          | 0.456572          | 0.788558            | 0.462315            |</pre>"
      ],
      "text/plain": [
       "| 14        | 12.672659    | 0.785567          | 0.456572          | 0.788558            | 0.462315            |"
      ]
     },
     "metadata": {},
     "output_type": "display_data"
    },
    {
     "data": {
      "text/html": [
       "<pre>| 15        | 13.410119    | 0.786295          | 0.455113          | 0.788732            | 0.462127            |</pre>"
      ],
      "text/plain": [
       "| 15        | 13.410119    | 0.786295          | 0.455113          | 0.788732            | 0.462127            |"
      ]
     },
     "metadata": {},
     "output_type": "display_data"
    },
    {
     "data": {
      "text/html": [
       "<pre>| 16        | 14.137993    | 0.786691          | 0.454032          | 0.789776            | 0.461635            |</pre>"
      ],
      "text/plain": [
       "| 16        | 14.137993    | 0.786691          | 0.454032          | 0.789776            | 0.461635            |"
      ]
     },
     "metadata": {},
     "output_type": "display_data"
    },
    {
     "data": {
      "text/html": [
       "<pre>| 17        | 14.887109    | 0.787271          | 0.452730          | 0.790123            | 0.461610            |</pre>"
      ],
      "text/plain": [
       "| 17        | 14.887109    | 0.787271          | 0.452730          | 0.790123            | 0.461610            |"
      ]
     },
     "metadata": {},
     "output_type": "display_data"
    },
    {
     "data": {
      "text/html": [
       "<pre>| 18        | 15.600177    | 0.787768          | 0.451931          | 0.789602            | 0.461706            |</pre>"
      ],
      "text/plain": [
       "| 18        | 15.600177    | 0.787768          | 0.451931          | 0.789602            | 0.461706            |"
      ]
     },
     "metadata": {},
     "output_type": "display_data"
    },
    {
     "data": {
      "text/html": [
       "<pre>| 19        | 16.256032    | 0.788330          | 0.451360          | 0.789602            | 0.461770            |</pre>"
      ],
      "text/plain": [
       "| 19        | 16.256032    | 0.788330          | 0.451360          | 0.789602            | 0.461770            |"
      ]
     },
     "metadata": {},
     "output_type": "display_data"
    },
    {
     "data": {
      "text/html": [
       "<pre>| 20        | 16.945542    | 0.788920          | 0.449982          | 0.788732            | 0.461639            |</pre>"
      ],
      "text/plain": [
       "| 20        | 16.945542    | 0.788920          | 0.449982          | 0.788732            | 0.461639            |"
      ]
     },
     "metadata": {},
     "output_type": "display_data"
    },
    {
     "data": {
      "text/html": [
       "<pre>| 21        | 17.611472    | 0.789150          | 0.449563          | 0.789428            | 0.461522            |</pre>"
      ],
      "text/plain": [
       "| 21        | 17.611472    | 0.789150          | 0.449563          | 0.789428            | 0.461522            |"
      ]
     },
     "metadata": {},
     "output_type": "display_data"
    },
    {
     "data": {
      "text/html": [
       "<pre>| 22        | 18.325845    | 0.789785          | 0.448481          | 0.789776            | 0.461284            |</pre>"
      ],
      "text/plain": [
       "| 22        | 18.325845    | 0.789785          | 0.448481          | 0.789776            | 0.461284            |"
      ]
     },
     "metadata": {},
     "output_type": "display_data"
    },
    {
     "data": {
      "text/html": [
       "<pre>| 23        | 18.972984    | 0.790246          | 0.447554          | 0.789428            | 0.461361            |</pre>"
      ],
      "text/plain": [
       "| 23        | 18.972984    | 0.790246          | 0.447554          | 0.789428            | 0.461361            |"
      ]
     },
     "metadata": {},
     "output_type": "display_data"
    },
    {
     "data": {
      "text/html": [
       "<pre>| 24        | 19.644937    | 0.790541          | 0.446865          | 0.789254            | 0.461216            |</pre>"
      ],
      "text/plain": [
       "| 24        | 19.644937    | 0.790541          | 0.446865          | 0.789254            | 0.461216            |"
      ]
     },
     "metadata": {},
     "output_type": "display_data"
    },
    {
     "data": {
      "text/html": [
       "<pre>| 25        | 20.327589    | 0.791112          | 0.445574          | 0.788558            | 0.460974            |</pre>"
      ],
      "text/plain": [
       "| 25        | 20.327589    | 0.791112          | 0.445574          | 0.788558            | 0.460974            |"
      ]
     },
     "metadata": {},
     "output_type": "display_data"
    },
    {
     "data": {
      "text/html": [
       "<pre>| 26        | 20.995384    | 0.791554          | 0.445175          | 0.788906            | 0.460633            |</pre>"
      ],
      "text/plain": [
       "| 26        | 20.995384    | 0.791554          | 0.445175          | 0.788906            | 0.460633            |"
      ]
     },
     "metadata": {},
     "output_type": "display_data"
    },
    {
     "data": {
      "text/html": [
       "<pre>| 27        | 21.735773    | 0.791655          | 0.444230          | 0.788211            | 0.460282            |</pre>"
      ],
      "text/plain": [
       "| 27        | 21.735773    | 0.791655          | 0.444230          | 0.788211            | 0.460282            |"
      ]
     },
     "metadata": {},
     "output_type": "display_data"
    },
    {
     "data": {
      "text/html": [
       "<pre>| 28        | 22.442395    | 0.791932          | 0.444000          | 0.788037            | 0.460432            |</pre>"
      ],
      "text/plain": [
       "| 28        | 22.442395    | 0.791932          | 0.444000          | 0.788037            | 0.460432            |"
      ]
     },
     "metadata": {},
     "output_type": "display_data"
    },
    {
     "data": {
      "text/html": [
       "<pre>| 29        | 23.079647    | 0.792162          | 0.443534          | 0.787689            | 0.460591            |</pre>"
      ],
      "text/plain": [
       "| 29        | 23.079647    | 0.792162          | 0.443534          | 0.787689            | 0.460591            |"
      ]
     },
     "metadata": {},
     "output_type": "display_data"
    },
    {
     "data": {
      "text/html": [
       "<pre>| 30        | 23.785545    | 0.792300          | 0.442996          | 0.787341            | 0.460415            |</pre>"
      ],
      "text/plain": [
       "| 30        | 23.785545    | 0.792300          | 0.442996          | 0.787341            | 0.460415            |"
      ]
     },
     "metadata": {},
     "output_type": "display_data"
    },
    {
     "data": {
      "text/html": [
       "<pre>| 31        | 24.729055    | 0.792512          | 0.442404          | 0.786646            | 0.460203            |</pre>"
      ],
      "text/plain": [
       "| 31        | 24.729055    | 0.792512          | 0.442404          | 0.786646            | 0.460203            |"
      ]
     },
     "metadata": {},
     "output_type": "display_data"
    },
    {
     "data": {
      "text/html": [
       "<pre>| 32        | 25.539188    | 0.792668          | 0.441943          | 0.786472            | 0.460270            |</pre>"
      ],
      "text/plain": [
       "| 32        | 25.539188    | 0.792668          | 0.441943          | 0.786472            | 0.460270            |"
      ]
     },
     "metadata": {},
     "output_type": "display_data"
    },
    {
     "data": {
      "text/html": [
       "<pre>| 33        | 26.237602    | 0.792650          | 0.441555          | 0.785776            | 0.460328            |</pre>"
      ],
      "text/plain": [
       "| 33        | 26.237602    | 0.792650          | 0.441555          | 0.785776            | 0.460328            |"
      ]
     },
     "metadata": {},
     "output_type": "display_data"
    },
    {
     "data": {
      "text/html": [
       "<pre>| 34        | 27.037869    | 0.792991          | 0.441001          | 0.785255            | 0.460375            |</pre>"
      ],
      "text/plain": [
       "| 34        | 27.037869    | 0.792991          | 0.441001          | 0.785255            | 0.460375            |"
      ]
     },
     "metadata": {},
     "output_type": "display_data"
    },
    {
     "data": {
      "text/html": [
       "<pre>| 35        | 27.853048    | 0.793267          | 0.440543          | 0.785255            | 0.460398            |</pre>"
      ],
      "text/plain": [
       "| 35        | 27.853048    | 0.793267          | 0.440543          | 0.785255            | 0.460398            |"
      ]
     },
     "metadata": {},
     "output_type": "display_data"
    },
    {
     "data": {
      "text/html": [
       "<pre>| 36        | 28.718930    | 0.793709          | 0.439785          | 0.785776            | 0.460513            |</pre>"
      ],
      "text/plain": [
       "| 36        | 28.718930    | 0.793709          | 0.439785          | 0.785776            | 0.460513            |"
      ]
     },
     "metadata": {},
     "output_type": "display_data"
    },
    {
     "data": {
      "text/html": [
       "<pre>| 37        | 29.502441    | 0.793746          | 0.439666          | 0.785776            | 0.460575            |</pre>"
      ],
      "text/plain": [
       "| 37        | 29.502441    | 0.793746          | 0.439666          | 0.785776            | 0.460575            |"
      ]
     },
     "metadata": {},
     "output_type": "display_data"
    },
    {
     "data": {
      "text/html": [
       "<pre>| 38        | 30.932835    | 0.793764          | 0.439411          | 0.785776            | 0.460468            |</pre>"
      ],
      "text/plain": [
       "| 38        | 30.932835    | 0.793764          | 0.439411          | 0.785776            | 0.460468            |"
      ]
     },
     "metadata": {},
     "output_type": "display_data"
    },
    {
     "data": {
      "text/html": [
       "<pre>| 39        | 31.677619    | 0.793829          | 0.439178          | 0.785255            | 0.460625            |</pre>"
      ],
      "text/plain": [
       "| 39        | 31.677619    | 0.793829          | 0.439178          | 0.785255            | 0.460625            |"
      ]
     },
     "metadata": {},
     "output_type": "display_data"
    },
    {
     "data": {
      "text/html": [
       "<pre>| 40        | 32.474136    | 0.794050          | 0.438844          | 0.785950            | 0.460736            |</pre>"
      ],
      "text/plain": [
       "| 40        | 32.474136    | 0.794050          | 0.438844          | 0.785950            | 0.460736            |"
      ]
     },
     "metadata": {},
     "output_type": "display_data"
    },
    {
     "data": {
      "text/html": [
       "<pre>| 41        | 33.115666    | 0.794105          | 0.438741          | 0.785950            | 0.460733            |</pre>"
      ],
      "text/plain": [
       "| 41        | 33.115666    | 0.794105          | 0.438741          | 0.785950            | 0.460733            |"
      ]
     },
     "metadata": {},
     "output_type": "display_data"
    },
    {
     "data": {
      "text/html": [
       "<pre>| 42        | 33.888467    | 0.794529          | 0.438020          | 0.785950            | 0.460530            |</pre>"
      ],
      "text/plain": [
       "| 42        | 33.888467    | 0.794529          | 0.438020          | 0.785950            | 0.460530            |"
      ]
     },
     "metadata": {},
     "output_type": "display_data"
    },
    {
     "data": {
      "text/html": [
       "<pre>| 43        | 34.784604    | 0.795293          | 0.436954          | 0.785603            | 0.460241            |</pre>"
      ],
      "text/plain": [
       "| 43        | 34.784604    | 0.795293          | 0.436954          | 0.785603            | 0.460241            |"
      ]
     },
     "metadata": {},
     "output_type": "display_data"
    },
    {
     "data": {
      "text/html": [
       "<pre>| 44        | 35.591315    | 0.795993          | 0.435668          | 0.787167            | 0.460175            |</pre>"
      ],
      "text/plain": [
       "| 44        | 35.591315    | 0.795993          | 0.435668          | 0.787167            | 0.460175            |"
      ]
     },
     "metadata": {},
     "output_type": "display_data"
    },
    {
     "data": {
      "text/html": [
       "<pre>| 45        | 36.689127    | 0.796620          | 0.434551          | 0.787341            | 0.460036            |</pre>"
      ],
      "text/plain": [
       "| 45        | 36.689127    | 0.796620          | 0.434551          | 0.787341            | 0.460036            |"
      ]
     },
     "metadata": {},
     "output_type": "display_data"
    },
    {
     "data": {
      "text/html": [
       "<pre>| 46        | 37.586789    | 0.797679          | 0.433143          | 0.786994            | 0.460011            |</pre>"
      ],
      "text/plain": [
       "| 46        | 37.586789    | 0.797679          | 0.433143          | 0.786994            | 0.460011            |"
      ]
     },
     "metadata": {},
     "output_type": "display_data"
    },
    {
     "data": {
      "text/html": [
       "<pre>| 47        | 38.627956    | 0.798010          | 0.432704          | 0.787515            | 0.459737            |</pre>"
      ],
      "text/plain": [
       "| 47        | 38.627956    | 0.798010          | 0.432704          | 0.787515            | 0.459737            |"
      ]
     },
     "metadata": {},
     "output_type": "display_data"
    },
    {
     "data": {
      "text/html": [
       "<pre>| 48        | 39.422250    | 0.798536          | 0.432094          | 0.787167            | 0.460197            |</pre>"
      ],
      "text/plain": [
       "| 48        | 39.422250    | 0.798536          | 0.432094          | 0.787167            | 0.460197            |"
      ]
     },
     "metadata": {},
     "output_type": "display_data"
    },
    {
     "data": {
      "text/html": [
       "<pre>| 49        | 40.273301    | 0.798839          | 0.431668          | 0.787515            | 0.460167            |</pre>"
      ],
      "text/plain": [
       "| 49        | 40.273301    | 0.798839          | 0.431668          | 0.787515            | 0.460167            |"
      ]
     },
     "metadata": {},
     "output_type": "display_data"
    },
    {
     "data": {
      "text/html": [
       "<pre>| 50        | 40.980292    | 0.798941          | 0.431468          | 0.787515            | 0.460134            |</pre>"
      ],
      "text/plain": [
       "| 50        | 40.980292    | 0.798941          | 0.431468          | 0.787515            | 0.460134            |"
      ]
     },
     "metadata": {},
     "output_type": "display_data"
    },
    {
     "data": {
      "text/html": [
       "<pre>| 51        | 41.654816    | 0.799171          | 0.431215          | 0.787515            | 0.460129            |</pre>"
      ],
      "text/plain": [
       "| 51        | 41.654816    | 0.799171          | 0.431215          | 0.787515            | 0.460129            |"
      ]
     },
     "metadata": {},
     "output_type": "display_data"
    },
    {
     "data": {
      "text/html": [
       "<pre>| 52        | 42.363860    | 0.799392          | 0.430811          | 0.787689            | 0.460185            |</pre>"
      ],
      "text/plain": [
       "| 52        | 42.363860    | 0.799392          | 0.430811          | 0.787689            | 0.460185            |"
      ]
     },
     "metadata": {},
     "output_type": "display_data"
    },
    {
     "data": {
      "text/html": [
       "<pre>| 53        | 43.064980    | 0.799963          | 0.430191          | 0.787863            | 0.460098            |</pre>"
      ],
      "text/plain": [
       "| 53        | 43.064980    | 0.799963          | 0.430191          | 0.787863            | 0.460098            |"
      ]
     },
     "metadata": {},
     "output_type": "display_data"
    },
    {
     "data": {
      "text/html": [
       "<pre>| 54        | 43.752962    | 0.800064          | 0.429997          | 0.787863            | 0.460045            |</pre>"
      ],
      "text/plain": [
       "| 54        | 43.752962    | 0.800064          | 0.429997          | 0.787863            | 0.460045            |"
      ]
     },
     "metadata": {},
     "output_type": "display_data"
    },
    {
     "data": {
      "text/html": [
       "<pre>| 55        | 44.418192    | 0.800064          | 0.429922          | 0.787863            | 0.460044            |</pre>"
      ],
      "text/plain": [
       "| 55        | 44.418192    | 0.800064          | 0.429922          | 0.787863            | 0.460044            |"
      ]
     },
     "metadata": {},
     "output_type": "display_data"
    },
    {
     "data": {
      "text/html": [
       "<pre>| 56        | 45.073519    | 0.800009          | 0.429771          | 0.787863            | 0.460084            |</pre>"
      ],
      "text/plain": [
       "| 56        | 45.073519    | 0.800009          | 0.429771          | 0.787863            | 0.460084            |"
      ]
     },
     "metadata": {},
     "output_type": "display_data"
    },
    {
     "data": {
      "text/html": [
       "<pre>| 57        | 46.213813    | 0.800046          | 0.429690          | 0.788037            | 0.460070            |</pre>"
      ],
      "text/plain": [
       "| 57        | 46.213813    | 0.800046          | 0.429690          | 0.788037            | 0.460070            |"
      ]
     },
     "metadata": {},
     "output_type": "display_data"
    },
    {
     "data": {
      "text/html": [
       "<pre>| 58        | 46.918078    | 0.800543          | 0.429110          | 0.787689            | 0.459836            |</pre>"
      ],
      "text/plain": [
       "| 58        | 46.918078    | 0.800543          | 0.429110          | 0.787689            | 0.459836            |"
      ]
     },
     "metadata": {},
     "output_type": "display_data"
    },
    {
     "data": {
      "text/html": [
       "<pre>| 59        | 47.835625    | 0.801142          | 0.428111          | 0.787689            | 0.460206            |</pre>"
      ],
      "text/plain": [
       "| 59        | 47.835625    | 0.801142          | 0.428111          | 0.787689            | 0.460206            |"
      ]
     },
     "metadata": {},
     "output_type": "display_data"
    },
    {
     "data": {
      "text/html": [
       "<pre>| 60        | 48.709727    | 0.801538          | 0.427496          | 0.787515            | 0.460038            |</pre>"
      ],
      "text/plain": [
       "| 60        | 48.709727    | 0.801538          | 0.427496          | 0.787515            | 0.460038            |"
      ]
     },
     "metadata": {},
     "output_type": "display_data"
    },
    {
     "data": {
      "text/html": [
       "<pre>| 61        | 49.347681    | 0.802072          | 0.426647          | 0.788385            | 0.459683            |</pre>"
      ],
      "text/plain": [
       "| 61        | 49.347681    | 0.802072          | 0.426647          | 0.788385            | 0.459683            |"
      ]
     },
     "metadata": {},
     "output_type": "display_data"
    },
    {
     "data": {
      "text/html": [
       "<pre>| 62        | 49.997303    | 0.802220          | 0.426164          | 0.788732            | 0.459544            |</pre>"
      ],
      "text/plain": [
       "| 62        | 49.997303    | 0.802220          | 0.426164          | 0.788732            | 0.459544            |"
      ]
     },
     "metadata": {},
     "output_type": "display_data"
    },
    {
     "data": {
      "text/html": [
       "<pre>| 63        | 50.616884    | 0.802266          | 0.426015          | 0.788732            | 0.459534            |</pre>"
      ],
      "text/plain": [
       "| 63        | 50.616884    | 0.802266          | 0.426015          | 0.788732            | 0.459534            |"
      ]
     },
     "metadata": {},
     "output_type": "display_data"
    },
    {
     "data": {
      "text/html": [
       "<pre>| 64        | 52.015765    | 0.802561          | 0.425563          | 0.788558            | 0.459739            |</pre>"
      ],
      "text/plain": [
       "| 64        | 52.015765    | 0.802561          | 0.425563          | 0.788558            | 0.459739            |"
      ]
     },
     "metadata": {},
     "output_type": "display_data"
    },
    {
     "data": {
      "text/html": [
       "<pre>| 65        | 52.935368    | 0.802653          | 0.425437          | 0.788211            | 0.459841            |</pre>"
      ],
      "text/plain": [
       "| 65        | 52.935368    | 0.802653          | 0.425437          | 0.788211            | 0.459841            |"
      ]
     },
     "metadata": {},
     "output_type": "display_data"
    },
    {
     "data": {
      "text/html": [
       "<pre>| 66        | 54.180709    | 0.802763          | 0.425319          | 0.788211            | 0.459763            |</pre>"
      ],
      "text/plain": [
       "| 66        | 54.180709    | 0.802763          | 0.425319          | 0.788211            | 0.459763            |"
      ]
     },
     "metadata": {},
     "output_type": "display_data"
    },
    {
     "data": {
      "text/html": [
       "<pre>| 67        | 55.318914    | 0.802938          | 0.425038          | 0.788037            | 0.459749            |</pre>"
      ],
      "text/plain": [
       "| 67        | 55.318914    | 0.802938          | 0.425038          | 0.788037            | 0.459749            |"
      ]
     },
     "metadata": {},
     "output_type": "display_data"
    },
    {
     "data": {
      "text/html": [
       "<pre>| 68        | 56.409211    | 0.803030          | 0.424807          | 0.788037            | 0.459754            |</pre>"
      ],
      "text/plain": [
       "| 68        | 56.409211    | 0.803030          | 0.424807          | 0.788037            | 0.459754            |"
      ]
     },
     "metadata": {},
     "output_type": "display_data"
    },
    {
     "data": {
      "text/html": [
       "<pre>| 69        | 57.001252    | 0.803021          | 0.424666          | 0.787863            | 0.459768            |</pre>"
      ],
      "text/plain": [
       "| 69        | 57.001252    | 0.803021          | 0.424666          | 0.787863            | 0.459768            |"
      ]
     },
     "metadata": {},
     "output_type": "display_data"
    },
    {
     "data": {
      "text/html": [
       "<pre>| 70        | 58.122233    | 0.803021          | 0.424574          | 0.788037            | 0.459815            |</pre>"
      ],
      "text/plain": [
       "| 70        | 58.122233    | 0.803021          | 0.424574          | 0.788037            | 0.459815            |"
      ]
     },
     "metadata": {},
     "output_type": "display_data"
    },
    {
     "data": {
      "text/html": [
       "<pre>| 71        | 59.218804    | 0.803067          | 0.424435          | 0.787863            | 0.459844            |</pre>"
      ],
      "text/plain": [
       "| 71        | 59.218804    | 0.803067          | 0.424435          | 0.787863            | 0.459844            |"
      ]
     },
     "metadata": {},
     "output_type": "display_data"
    },
    {
     "data": {
      "text/html": [
       "<pre>| 72        | 59.990704    | 0.803095          | 0.424360          | 0.787863            | 0.459767            |</pre>"
      ],
      "text/plain": [
       "| 72        | 59.990704    | 0.803095          | 0.424360          | 0.787863            | 0.459767            |"
      ]
     },
     "metadata": {},
     "output_type": "display_data"
    },
    {
     "data": {
      "text/html": [
       "<pre>| 73        | 60.720105    | 0.803316          | 0.424193          | 0.787863            | 0.459836            |</pre>"
      ],
      "text/plain": [
       "| 73        | 60.720105    | 0.803316          | 0.424193          | 0.787863            | 0.459836            |"
      ]
     },
     "metadata": {},
     "output_type": "display_data"
    },
    {
     "data": {
      "text/html": [
       "<pre>| 74        | 61.509831    | 0.803353          | 0.424040          | 0.787689            | 0.459732            |</pre>"
      ],
      "text/plain": [
       "| 74        | 61.509831    | 0.803353          | 0.424040          | 0.787689            | 0.459732            |"
      ]
     },
     "metadata": {},
     "output_type": "display_data"
    },
    {
     "data": {
      "text/html": [
       "<pre>| 75        | 62.677394    | 0.803371          | 0.423906          | 0.787689            | 0.459680            |</pre>"
      ],
      "text/plain": [
       "| 75        | 62.677394    | 0.803371          | 0.423906          | 0.787689            | 0.459680            |"
      ]
     },
     "metadata": {},
     "output_type": "display_data"
    },
    {
     "data": {
      "text/html": [
       "<pre>| 76        | 63.438363    | 0.803684          | 0.423305          | 0.787341            | 0.459761            |</pre>"
      ],
      "text/plain": [
       "| 76        | 63.438363    | 0.803684          | 0.423305          | 0.787341            | 0.459761            |"
      ]
     },
     "metadata": {},
     "output_type": "display_data"
    },
    {
     "data": {
      "text/html": [
       "<pre>| 77        | 64.192096    | 0.803961          | 0.422776          | 0.787863            | 0.459712            |</pre>"
      ],
      "text/plain": [
       "| 77        | 64.192096    | 0.803961          | 0.422776          | 0.787863            | 0.459712            |"
      ]
     },
     "metadata": {},
     "output_type": "display_data"
    },
    {
     "data": {
      "text/html": [
       "<pre>| 78        | 65.403456    | 0.804624          | 0.421878          | 0.788037            | 0.459574            |</pre>"
      ],
      "text/plain": [
       "| 78        | 65.403456    | 0.804624          | 0.421878          | 0.788037            | 0.459574            |"
      ]
     },
     "metadata": {},
     "output_type": "display_data"
    },
    {
     "data": {
      "text/html": [
       "<pre>| 79        | 66.404525    | 0.805093          | 0.421083          | 0.788385            | 0.459627            |</pre>"
      ],
      "text/plain": [
       "| 79        | 66.404525    | 0.805093          | 0.421083          | 0.788385            | 0.459627            |"
      ]
     },
     "metadata": {},
     "output_type": "display_data"
    },
    {
     "data": {
      "text/html": [
       "<pre>| 80        | 67.539364    | 0.805370          | 0.420519          | 0.787863            | 0.459729            |</pre>"
      ],
      "text/plain": [
       "| 80        | 67.539364    | 0.805370          | 0.420519          | 0.787863            | 0.459729            |"
      ]
     },
     "metadata": {},
     "output_type": "display_data"
    },
    {
     "data": {
      "text/html": [
       "<pre>| 81        | 68.247767    | 0.805812          | 0.419921          | 0.787863            | 0.459814            |</pre>"
      ],
      "text/plain": [
       "| 81        | 68.247767    | 0.805812          | 0.419921          | 0.787863            | 0.459814            |"
      ]
     },
     "metadata": {},
     "output_type": "display_data"
    },
    {
     "data": {
      "text/html": [
       "<pre>| 82        | 69.052331    | 0.805913          | 0.419786          | 0.787689            | 0.459858            |</pre>"
      ],
      "text/plain": [
       "| 82        | 69.052331    | 0.805913          | 0.419786          | 0.787689            | 0.459858            |"
      ]
     },
     "metadata": {},
     "output_type": "display_data"
    },
    {
     "data": {
      "text/html": [
       "<pre>| 83        | 69.717335    | 0.805969          | 0.419728          | 0.787689            | 0.459858            |</pre>"
      ],
      "text/plain": [
       "| 83        | 69.717335    | 0.805969          | 0.419728          | 0.787689            | 0.459858            |"
      ]
     },
     "metadata": {},
     "output_type": "display_data"
    },
    {
     "data": {
      "text/html": [
       "<pre>| 84        | 70.416402    | 0.806245          | 0.419329          | 0.787689            | 0.459983            |</pre>"
      ],
      "text/plain": [
       "| 84        | 70.416402    | 0.806245          | 0.419329          | 0.787689            | 0.459983            |"
      ]
     },
     "metadata": {},
     "output_type": "display_data"
    },
    {
     "data": {
      "text/html": [
       "<pre>| 85        | 71.052994    | 0.806291          | 0.419243          | 0.787863            | 0.459986            |</pre>"
      ],
      "text/plain": [
       "| 85        | 71.052994    | 0.806291          | 0.419243          | 0.787863            | 0.459986            |"
      ]
     },
     "metadata": {},
     "output_type": "display_data"
    },
    {
     "data": {
      "text/html": [
       "<pre>| 86        | 71.660590    | 0.806466          | 0.418871          | 0.787515            | 0.459998            |</pre>"
      ],
      "text/plain": [
       "| 86        | 71.660590    | 0.806466          | 0.418871          | 0.787515            | 0.459998            |"
      ]
     },
     "metadata": {},
     "output_type": "display_data"
    },
    {
     "data": {
      "text/html": [
       "<pre>| 87        | 72.832708    | 0.806678          | 0.418273          | 0.787515            | 0.459964            |</pre>"
      ],
      "text/plain": [
       "| 87        | 72.832708    | 0.806678          | 0.418273          | 0.787515            | 0.459964            |"
      ]
     },
     "metadata": {},
     "output_type": "display_data"
    },
    {
     "data": {
      "text/html": [
       "<pre>| 88        | 73.503850    | 0.806696          | 0.418160          | 0.787689            | 0.459914            |</pre>"
      ],
      "text/plain": [
       "| 88        | 73.503850    | 0.806696          | 0.418160          | 0.787689            | 0.459914            |"
      ]
     },
     "metadata": {},
     "output_type": "display_data"
    },
    {
     "data": {
      "text/html": [
       "<pre>+-----------+--------------+-------------------+-------------------+---------------------+---------------------+</pre>"
      ],
      "text/plain": [
       "+-----------+--------------+-------------------+-------------------+---------------------+---------------------+"
      ]
     },
     "metadata": {},
     "output_type": "display_data"
    },
    {
     "name": "stdout",
     "output_type": "stream",
     "text": [
      "PROGRESS: Creating a validation set from 5 percent of training data. This may take a while.\n",
      "          You can set ``validation_set=None`` to disable validation tracking.\n",
      "\n"
     ]
    }
   ],
   "source": [
    "naive_gbm = graphlab.boosted_trees_classifier.create(raw_train, target = 'target', features = ['v'+str(i) for i in range(1,132,1)], max_iterations = 88, )"
   ]
  },
  {
   "cell_type": "code",
   "execution_count": 40,
   "metadata": {
    "collapsed": false,
    "scrolled": true
   },
   "outputs": [
    {
     "data": {
      "text/plain": [
       "Class                         : BoostedTreesClassifier\n",
       "\n",
       "Schema\n",
       "------\n",
       "Number of examples            : 108570\n",
       "Number of feature columns     : 131\n",
       "Number of unpacked features   : 131\n",
       "Number of classes             : 2\n",
       "\n",
       "Settings\n",
       "--------\n",
       "Number of trees               : 88\n",
       "Max tree depth                : 6\n",
       "Training time (sec)           : 73.5038\n",
       "Training accuracy             : 0.8067\n",
       "Validation accuracy           : 0.7877\n",
       "Training log_loss             : 0.4182\n",
       "Validation log_loss           : 0.4599"
      ]
     },
     "execution_count": 40,
     "metadata": {},
     "output_type": "execute_result"
    }
   ],
   "source": [
    "naive_gbm"
   ]
  },
  {
   "cell_type": "code",
   "execution_count": 41,
   "metadata": {
    "collapsed": true
   },
   "outputs": [],
   "source": [
    "submit = graphlab.SFrame()"
   ]
  },
  {
   "cell_type": "code",
   "execution_count": 42,
   "metadata": {
    "collapsed": false
   },
   "outputs": [],
   "source": [
    "submit['ID'] = raw_test['ID']"
   ]
  },
  {
   "cell_type": "code",
   "execution_count": 43,
   "metadata": {
    "collapsed": true
   },
   "outputs": [],
   "source": [
    "submit['PredictedProb'] = naive_gbm.predict(raw_test, output_type='probability')"
   ]
  },
  {
   "cell_type": "code",
   "execution_count": 44,
   "metadata": {
    "collapsed": false
   },
   "outputs": [],
   "source": [
    "submit.export_csv('naive_gbm.csv')"
   ]
  },
  {
   "cell_type": "markdown",
   "metadata": {},
   "source": [
    "# naive_gbm - better: 0.46711"
   ]
  },
  {
   "cell_type": "code",
   "execution_count": null,
   "metadata": {
    "collapsed": true
   },
   "outputs": [],
   "source": []
  }
 ],
 "metadata": {
  "kernelspec": {
   "display_name": "Python 2",
   "language": "python",
   "name": "python2"
  },
  "language_info": {
   "codemirror_mode": {
    "name": "ipython",
    "version": 2
   },
   "file_extension": ".py",
   "mimetype": "text/x-python",
   "name": "python",
   "nbconvert_exporter": "python",
   "pygments_lexer": "ipython2",
   "version": "2.7.11"
  }
 },
 "nbformat": 4,
 "nbformat_minor": 0
}
