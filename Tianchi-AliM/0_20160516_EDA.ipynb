{
 "cells": [
  {
   "cell_type": "code",
   "execution_count": 1,
   "metadata": {
    "collapsed": true
   },
   "outputs": [],
   "source": [
    "import pandas as pd"
   ]
  },
  {
   "cell_type": "code",
   "execution_count": 2,
   "metadata": {
    "collapsed": true
   },
   "outputs": [],
   "source": [
    "DATA_PATH = './data/'"
   ]
  },
  {
   "cell_type": "code",
   "execution_count": 8,
   "metadata": {
    "collapsed": false
   },
   "outputs": [],
   "source": [
    "user = pd.read_csv(DATA_PATH+'mars_tianchi_user_actions.csv')\n",
    "song = pd.read_csv(DATA_PATH+'mars_tianchi_songs.csv')"
   ]
  },
  {
   "cell_type": "code",
   "execution_count": 5,
   "metadata": {
    "collapsed": false
   },
   "outputs": [
    {
     "data": {
      "text/html": [
       "<div>\n",
       "<table border=\"1\" class=\"dataframe\">\n",
       "  <thead>\n",
       "    <tr style=\"text-align: right;\">\n",
       "      <th></th>\n",
       "      <th>user_id</th>\n",
       "      <th>song_id</th>\n",
       "      <th>gmt_create</th>\n",
       "      <th>action_type</th>\n",
       "      <th>Ds</th>\n",
       "    </tr>\n",
       "  </thead>\n",
       "  <tbody>\n",
       "    <tr>\n",
       "      <th>0</th>\n",
       "      <td>7063b3d0c075a4d276c5f06f4327cf4a</td>\n",
       "      <td>effb071415be51f11e845884e67c0f8c</td>\n",
       "      <td>1426406400</td>\n",
       "      <td>1</td>\n",
       "      <td>20150315</td>\n",
       "    </tr>\n",
       "    <tr>\n",
       "      <th>1</th>\n",
       "      <td>0db66c0dd3993fd3504bb98c3beb15b3</td>\n",
       "      <td>f87ff481d85d2f95335ab602f38a7655</td>\n",
       "      <td>1426417200</td>\n",
       "      <td>1</td>\n",
       "      <td>20150315</td>\n",
       "    </tr>\n",
       "    <tr>\n",
       "      <th>2</th>\n",
       "      <td>f8c065dc140ec74c6e44144164e618e3</td>\n",
       "      <td>8a27d9a6c59628c991c154e8d93f412e</td>\n",
       "      <td>1426406400</td>\n",
       "      <td>2</td>\n",
       "      <td>20150315</td>\n",
       "    </tr>\n",
       "    <tr>\n",
       "      <th>3</th>\n",
       "      <td>2c6082cf0d68e244f2a10325e8d1b85b</td>\n",
       "      <td>ecea5fe33e6817d09c395f2910479728</td>\n",
       "      <td>1426417200</td>\n",
       "      <td>1</td>\n",
       "      <td>20150315</td>\n",
       "    </tr>\n",
       "    <tr>\n",
       "      <th>4</th>\n",
       "      <td>2c6082cf0d68e244f2a10325e8d1b85b</td>\n",
       "      <td>31a3d0420d89c9b121bb55dbdbbeda6b</td>\n",
       "      <td>1426417200</td>\n",
       "      <td>1</td>\n",
       "      <td>20150315</td>\n",
       "    </tr>\n",
       "  </tbody>\n",
       "</table>\n",
       "</div>"
      ],
      "text/plain": [
       "                            user_id                           song_id  \\\n",
       "0  7063b3d0c075a4d276c5f06f4327cf4a  effb071415be51f11e845884e67c0f8c   \n",
       "1  0db66c0dd3993fd3504bb98c3beb15b3  f87ff481d85d2f95335ab602f38a7655   \n",
       "2  f8c065dc140ec74c6e44144164e618e3  8a27d9a6c59628c991c154e8d93f412e   \n",
       "3  2c6082cf0d68e244f2a10325e8d1b85b  ecea5fe33e6817d09c395f2910479728   \n",
       "4  2c6082cf0d68e244f2a10325e8d1b85b  31a3d0420d89c9b121bb55dbdbbeda6b   \n",
       "\n",
       "   gmt_create  action_type        Ds  \n",
       "0  1426406400            1  20150315  \n",
       "1  1426417200            1  20150315  \n",
       "2  1426406400            2  20150315  \n",
       "3  1426417200            1  20150315  \n",
       "4  1426417200            1  20150315  "
      ]
     },
     "execution_count": 5,
     "metadata": {},
     "output_type": "execute_result"
    }
   ],
   "source": [
    "user.head()"
   ]
  },
  {
   "cell_type": "code",
   "execution_count": 6,
   "metadata": {
    "collapsed": false
   },
   "outputs": [
    {
     "name": "stdout",
     "output_type": "stream",
     "text": [
      "<class 'pandas.core.frame.DataFrame'>\n",
      "RangeIndex: 5652232 entries, 0 to 5652231\n",
      "Data columns (total 5 columns):\n",
      "user_id        object\n",
      "song_id        object\n",
      "gmt_create     int64\n",
      "action_type    int64\n",
      "Ds             int64\n",
      "dtypes: int64(3), object(2)\n",
      "memory usage: 215.6+ MB\n"
     ]
    }
   ],
   "source": [
    "user.info()"
   ]
  },
  {
   "cell_type": "code",
   "execution_count": 7,
   "metadata": {
    "collapsed": false
   },
   "outputs": [
    {
     "data": {
      "text/plain": [
       "349946"
      ]
     },
     "execution_count": 7,
     "metadata": {},
     "output_type": "execute_result"
    }
   ],
   "source": [
    "len(user.user_id.unique())"
   ]
  },
  {
   "cell_type": "code",
   "execution_count": 9,
   "metadata": {
    "collapsed": false
   },
   "outputs": [
    {
     "data": {
      "text/plain": [
       "10278"
      ]
     },
     "execution_count": 9,
     "metadata": {},
     "output_type": "execute_result"
    }
   ],
   "source": [
    "len(user.song_id.unique())"
   ]
  },
  {
   "cell_type": "code",
   "execution_count": 10,
   "metadata": {
    "collapsed": false
   },
   "outputs": [
    {
     "name": "stdout",
     "output_type": "stream",
     "text": [
      "<class 'pandas.core.frame.DataFrame'>\n",
      "RangeIndex: 10842 entries, 0 to 10841\n",
      "Data columns (total 12 columns):\n",
      "song_id            10842 non-null object\n",
      "artist_id          10842 non-null object\n",
      "publish_time       10842 non-null int64\n",
      "song_init_plays    10842 non-null int64\n",
      "Language           10842 non-null int64\n",
      "Gender             10842 non-null int64\n",
      "Unnamed: 6         0 non-null float64\n",
      "Unnamed: 7         0 non-null float64\n",
      "Unnamed: 8         0 non-null float64\n",
      "Unnamed: 9         0 non-null float64\n",
      "Unnamed: 10        0 non-null float64\n",
      "Unnamed: 11        0 non-null float64\n",
      "dtypes: float64(6), int64(4), object(2)\n",
      "memory usage: 1016.5+ KB\n"
     ]
    }
   ],
   "source": [
    "song.info()"
   ]
  },
  {
   "cell_type": "code",
   "execution_count": 13,
   "metadata": {
    "collapsed": false
   },
   "outputs": [
    {
     "data": {
      "text/plain": [
       "9"
      ]
     },
     "execution_count": 13,
     "metadata": {},
     "output_type": "execute_result"
    }
   ],
   "source": [
    "len(song.Language.unique())"
   ]
  },
  {
   "cell_type": "code",
   "execution_count": 14,
   "metadata": {
    "collapsed": false
   },
   "outputs": [
    {
     "data": {
      "text/plain": [
       "array([  2,   4, 100,  11,   1,   0,  14,   3,  12], dtype=int64)"
      ]
     },
     "execution_count": 14,
     "metadata": {},
     "output_type": "execute_result"
    }
   ],
   "source": [
    "song.Language.unique()"
   ]
  },
  {
   "cell_type": "code",
   "execution_count": 15,
   "metadata": {
    "collapsed": false
   },
   "outputs": [
    {
     "data": {
      "text/plain": [
       "10842"
      ]
     },
     "execution_count": 15,
     "metadata": {},
     "output_type": "execute_result"
    }
   ],
   "source": [
    "len(song.song_id.unique())"
   ]
  },
  {
   "cell_type": "code",
   "execution_count": 16,
   "metadata": {
    "collapsed": false
   },
   "outputs": [
    {
     "data": {
      "text/plain": [
       "50"
      ]
     },
     "execution_count": 16,
     "metadata": {},
     "output_type": "execute_result"
    }
   ],
   "source": [
    "len(song.artist_id.unique())"
   ]
  },
  {
   "cell_type": "code",
   "execution_count": 17,
   "metadata": {
    "collapsed": false
   },
   "outputs": [
    {
     "data": {
      "text/html": [
       "<div>\n",
       "<table border=\"1\" class=\"dataframe\">\n",
       "  <thead>\n",
       "    <tr style=\"text-align: right;\">\n",
       "      <th></th>\n",
       "      <th>song_id</th>\n",
       "      <th>artist_id</th>\n",
       "      <th>publish_time</th>\n",
       "      <th>song_init_plays</th>\n",
       "      <th>Language</th>\n",
       "      <th>Gender</th>\n",
       "      <th>Unnamed: 6</th>\n",
       "      <th>Unnamed: 7</th>\n",
       "      <th>Unnamed: 8</th>\n",
       "      <th>Unnamed: 9</th>\n",
       "      <th>Unnamed: 10</th>\n",
       "      <th>Unnamed: 11</th>\n",
       "    </tr>\n",
       "  </thead>\n",
       "  <tbody>\n",
       "    <tr>\n",
       "      <th>0</th>\n",
       "      <td>af0e153c72bf63e21bb42702ef0d7726</td>\n",
       "      <td>0c80008b0a28d356026f4b1097041689</td>\n",
       "      <td>20120512</td>\n",
       "      <td>11360</td>\n",
       "      <td>2</td>\n",
       "      <td>1</td>\n",
       "      <td>NaN</td>\n",
       "      <td>NaN</td>\n",
       "      <td>NaN</td>\n",
       "      <td>NaN</td>\n",
       "      <td>NaN</td>\n",
       "      <td>NaN</td>\n",
       "    </tr>\n",
       "    <tr>\n",
       "      <th>1</th>\n",
       "      <td>0919b5ed4ce2649f61bcc6c21fadab12</td>\n",
       "      <td>0c80008b0a28d356026f4b1097041689</td>\n",
       "      <td>20121224</td>\n",
       "      <td>2018</td>\n",
       "      <td>2</td>\n",
       "      <td>1</td>\n",
       "      <td>NaN</td>\n",
       "      <td>NaN</td>\n",
       "      <td>NaN</td>\n",
       "      <td>NaN</td>\n",
       "      <td>NaN</td>\n",
       "      <td>NaN</td>\n",
       "    </tr>\n",
       "    <tr>\n",
       "      <th>2</th>\n",
       "      <td>8a0777df37bf6a0f3384d63a47d4d21b</td>\n",
       "      <td>0c80008b0a28d356026f4b1097041689</td>\n",
       "      <td>20111206</td>\n",
       "      <td>4825</td>\n",
       "      <td>2</td>\n",
       "      <td>1</td>\n",
       "      <td>NaN</td>\n",
       "      <td>NaN</td>\n",
       "      <td>NaN</td>\n",
       "      <td>NaN</td>\n",
       "      <td>NaN</td>\n",
       "      <td>NaN</td>\n",
       "    </tr>\n",
       "    <tr>\n",
       "      <th>3</th>\n",
       "      <td>b61bc45712ee40c3f4a37dd4d063ad52</td>\n",
       "      <td>0c80008b0a28d356026f4b1097041689</td>\n",
       "      <td>20130522</td>\n",
       "      <td>5502</td>\n",
       "      <td>2</td>\n",
       "      <td>1</td>\n",
       "      <td>NaN</td>\n",
       "      <td>NaN</td>\n",
       "      <td>NaN</td>\n",
       "      <td>NaN</td>\n",
       "      <td>NaN</td>\n",
       "      <td>NaN</td>\n",
       "    </tr>\n",
       "    <tr>\n",
       "      <th>4</th>\n",
       "      <td>a2fbe29da3a760d7467b8a7b3247a9c8</td>\n",
       "      <td>0c80008b0a28d356026f4b1097041689</td>\n",
       "      <td>20130522</td>\n",
       "      <td>2990</td>\n",
       "      <td>2</td>\n",
       "      <td>1</td>\n",
       "      <td>NaN</td>\n",
       "      <td>NaN</td>\n",
       "      <td>NaN</td>\n",
       "      <td>NaN</td>\n",
       "      <td>NaN</td>\n",
       "      <td>NaN</td>\n",
       "    </tr>\n",
       "  </tbody>\n",
       "</table>\n",
       "</div>"
      ],
      "text/plain": [
       "                            song_id                         artist_id  \\\n",
       "0  af0e153c72bf63e21bb42702ef0d7726  0c80008b0a28d356026f4b1097041689   \n",
       "1  0919b5ed4ce2649f61bcc6c21fadab12  0c80008b0a28d356026f4b1097041689   \n",
       "2  8a0777df37bf6a0f3384d63a47d4d21b  0c80008b0a28d356026f4b1097041689   \n",
       "3  b61bc45712ee40c3f4a37dd4d063ad52  0c80008b0a28d356026f4b1097041689   \n",
       "4  a2fbe29da3a760d7467b8a7b3247a9c8  0c80008b0a28d356026f4b1097041689   \n",
       "\n",
       "   publish_time  song_init_plays  Language  Gender  Unnamed: 6  Unnamed: 7  \\\n",
       "0      20120512            11360         2       1         NaN         NaN   \n",
       "1      20121224             2018         2       1         NaN         NaN   \n",
       "2      20111206             4825         2       1         NaN         NaN   \n",
       "3      20130522             5502         2       1         NaN         NaN   \n",
       "4      20130522             2990         2       1         NaN         NaN   \n",
       "\n",
       "   Unnamed: 8  Unnamed: 9  Unnamed: 10  Unnamed: 11  \n",
       "0         NaN         NaN          NaN          NaN  \n",
       "1         NaN         NaN          NaN          NaN  \n",
       "2         NaN         NaN          NaN          NaN  \n",
       "3         NaN         NaN          NaN          NaN  \n",
       "4         NaN         NaN          NaN          NaN  "
      ]
     },
     "execution_count": 17,
     "metadata": {},
     "output_type": "execute_result"
    }
   ],
   "source": [
    "song.head()"
   ]
  },
  {
   "cell_type": "code",
   "execution_count": 18,
   "metadata": {
    "collapsed": false
   },
   "outputs": [
    {
     "data": {
      "text/plain": [
       "array([1, 2, 3], dtype=int64)"
      ]
     },
     "execution_count": 18,
     "metadata": {},
     "output_type": "execute_result"
    }
   ],
   "source": [
    "song.Gender.unique()"
   ]
  },
  {
   "cell_type": "code",
   "execution_count": 19,
   "metadata": {
    "collapsed": false
   },
   "outputs": [
    {
     "data": {
      "text/plain": [
       "song_id                0\n",
       "artist_id              0\n",
       "publish_time           0\n",
       "song_init_plays        0\n",
       "Language               0\n",
       "Gender                 0\n",
       "Unnamed: 6         10842\n",
       "Unnamed: 7         10842\n",
       "Unnamed: 8         10842\n",
       "Unnamed: 9         10842\n",
       "Unnamed: 10        10842\n",
       "Unnamed: 11        10842\n",
       "dtype: int64"
      ]
     },
     "execution_count": 19,
     "metadata": {},
     "output_type": "execute_result"
    }
   ],
   "source": [
    "song.isnull().sum()"
   ]
  },
  {
   "cell_type": "code",
   "execution_count": 20,
   "metadata": {
    "collapsed": false
   },
   "outputs": [
    {
     "data": {
      "text/plain": [
       "user_id        0\n",
       "song_id        0\n",
       "gmt_create     0\n",
       "action_type    0\n",
       "Ds             0\n",
       "dtype: int64"
      ]
     },
     "execution_count": 20,
     "metadata": {},
     "output_type": "execute_result"
    }
   ],
   "source": [
    "user.isnull().sum()"
   ]
  },
  {
   "cell_type": "code",
   "execution_count": 21,
   "metadata": {
    "collapsed": true
   },
   "outputs": [],
   "source": [
    "import time\n",
    " \n",
    "def timestamp_datetime(value):\n",
    "    format = '%Y-%m-%d %H:%M:%S'\n",
    "    # value为传入的值为时间戳(整形)，如：1332888820\n",
    "    value = time.localtime(value)\n",
    "    ## 经过localtime转换后变成\n",
    "    ## time.struct_time(tm_year=2012, tm_mon=3, tm_mday=28, tm_hour=6, tm_min=53, tm_sec=40, tm_wday=2, tm_yday=88, tm_isdst=0)\n",
    "    # 最后再经过strftime函数转换为正常日期格式。\n",
    "    dt = time.strftime(format, value)\n",
    "    return dt"
   ]
  },
  {
   "cell_type": "code",
   "execution_count": 25,
   "metadata": {
    "collapsed": false
   },
   "outputs": [
    {
     "data": {
      "text/plain": [
       "'2015-03-15 09:00:00'"
      ]
     },
     "execution_count": 25,
     "metadata": {},
     "output_type": "execute_result"
    }
   ],
   "source": [
    "timestamp_datetime(1426406400)"
   ]
  },
  {
   "cell_type": "code",
   "execution_count": 28,
   "metadata": {
    "collapsed": false
   },
   "outputs": [],
   "source": [
    "from dateutil.parser import parse as dateutil_parser"
   ]
  },
  {
   "cell_type": "code",
   "execution_count": 30,
   "metadata": {
    "collapsed": false
   },
   "outputs": [
    {
     "data": {
      "text/plain": [
       "datetime.datetime(2015, 3, 15, 9, 0)"
      ]
     },
     "execution_count": 30,
     "metadata": {},
     "output_type": "execute_result"
    }
   ],
   "source": [
    "dateutil_parser('2015-03-15 09:00:00')"
   ]
  },
  {
   "cell_type": "code",
   "execution_count": 34,
   "metadata": {
    "collapsed": false
   },
   "outputs": [
    {
     "data": {
      "text/plain": [
       "Gender\n",
       "1     71522408\n",
       "2    109305479\n",
       "3     80251376\n",
       "Name: song_init_plays, dtype: int64"
      ]
     },
     "execution_count": 34,
     "metadata": {},
     "output_type": "execute_result"
    }
   ],
   "source": [
    "song.groupby('Gender').song_init_plays.sum()"
   ]
  },
  {
   "cell_type": "code",
   "execution_count": 42,
   "metadata": {
    "collapsed": false
   },
   "outputs": [
    {
     "data": {
      "text/plain": [
       "artist_id\n",
       "2b7fedeea967becd9408b896de8ff903       50952\n",
       "bf21d16799b240d6e445fa30472bd50b      277123\n",
       "c5eac1d455675dfbc99f6c70f7b3971f      654328\n",
       "ffd47cf9cb66d226575336f0fa42ae25      816349\n",
       "b6a175a48743caed6d035444c069ab64      837148\n",
       "1339f978614ff19cd48f07e5420556d4      937359\n",
       "25739ad1c56a511fcac86018ac4e49bb      941978\n",
       "4ee3f9c90101073c99d5440b41f07daa      965521\n",
       "61dfd882204789d7d0f70fee2b901cef     1002187\n",
       "445a257964b9689f115a69e8cc5dcb75     1084279\n",
       "8f29cbc2a555034643d66f9e83dd7a7a     1090761\n",
       "e6e2fff03cc32ee9777de2c2ed5bac30     1162329\n",
       "f5a5373f30de984e9142a206f94a2f46     1338848\n",
       "34bc4bc49a725f2686a5cf9c89985798     1443291\n",
       "e087f8842fe66efa5ccee42ff791e0ca     1512881\n",
       "03c6699ea836decbc5c8fc2dbae7bd3b     1513899\n",
       "28e32be6ba67e0c6fdfdff80ce07dfd4     1577952\n",
       "82fda1f850a9fe22e41b5c8dadaff4ac     1682749\n",
       "0c80008b0a28d356026f4b1097041689     1914314\n",
       "33fd0a2cfcfd24e114707bba71ca1de9     2075641\n",
       "53dd7de874e0999634c28cdd94d21257     2322276\n",
       "f6e0f05fde7637afb8f8bc6bda74ca24     2322902\n",
       "9f69ffd8852196e02cfa19b5cd9bc432     2956761\n",
       "c026b84e8f23a7741d9b670e3d8973f0     3182348\n",
       "1731019fbaa825714d5f8e61ad1bb7ff     3276077\n",
       "9e58afbf3fea116b0050bf56bfb4442e     3513127\n",
       "97de6333157f35467dff271d7afb0a23     3789217\n",
       "6a493121e53d83f9e119b02942d7c8fe     3857279\n",
       "2ec1450a1389d4e3fc2a9a76c9378bb3     4302751\n",
       "025943df23acf5d3863b35fa6e0d79ec     4377444\n",
       "b7522cc91cf57ada15de2298bfd6a3ee     4656663\n",
       "3964ee41d4e2ade1957a9135afe1b8dc     4710602\n",
       "ca6db6d4f02b7b946c57fc389e67dd7e     4927662\n",
       "6bb4c3bbdb6f5a96d643320c6b6005f5     5229245\n",
       "be0c7a23c2aa9afb45163995b9ec938c     5983870\n",
       "ac43c6ce2f9df4adfbb05edd97cecbcc     6004771\n",
       "5e2ef5473cbbdb335f6d51dc57845437     6162234\n",
       "4f3f68292e50f39cd8142733512c07d6     6350632\n",
       "40bbb0da5570702dd6ff3af5e9e3aea6     7080195\n",
       "d773376e46311393cd89994bf9a93043     7506064\n",
       "7e0db58c13d033dafe5f5e1e70ff7eb4     7779942\n",
       "3e395c6b799d3d8cb7cd501b4503b536     9400175\n",
       "099cd99056bf92e5f0e384465890a804    10478699\n",
       "023406156015ef87f99521f3b343f71f    11438670\n",
       "6f462b173b2d6d20a2c9fb1ec0fd2dda    11676943\n",
       "8da51d03b8b8717431e8b902856fb45e    11973265\n",
       "8fb3cef29f2c266af4c9ecef3b780e97    17401502\n",
       "4b8eb68442432c242e9242be040bacf9    19263656\n",
       "2e14d32266ee6b4678595f8f50c369ac    20708487\n",
       "c5f0170f87a2fbb17bf65dc858c745e2    25565915\n",
       "Name: song_init_plays, dtype: int64"
      ]
     },
     "execution_count": 42,
     "metadata": {},
     "output_type": "execute_result"
    }
   ],
   "source": [
    "song.groupby('artist_id').song_init_plays.sum().sort_values()"
   ]
  },
  {
   "cell_type": "code",
   "execution_count": 44,
   "metadata": {
    "collapsed": false
   },
   "outputs": [
    {
     "data": {
      "text/plain": [
       "array([1], dtype=int64)"
      ]
     },
     "execution_count": 44,
     "metadata": {},
     "output_type": "execute_result"
    }
   ],
   "source": [
    "song.groupby('song_id').artist_id.count().unique()"
   ]
  },
  {
   "cell_type": "code",
   "execution_count": 47,
   "metadata": {
    "collapsed": false
   },
   "outputs": [
    {
     "data": {
      "text/plain": [
       "266"
      ]
     },
     "execution_count": 47,
     "metadata": {},
     "output_type": "execute_result"
    }
   ],
   "source": [
    "tmp = song.groupby('song_id').song_init_plays.sum().sort_values()\n",
    "(tmp==0).sum()"
   ]
  },
  {
   "cell_type": "code",
   "execution_count": 48,
   "metadata": {
    "collapsed": false
   },
   "outputs": [
    {
     "data": {
      "text/plain": [
       "564"
      ]
     },
     "execution_count": 48,
     "metadata": {},
     "output_type": "execute_result"
    }
   ],
   "source": [
    "10842 - 10278"
   ]
  },
  {
   "cell_type": "code",
   "execution_count": null,
   "metadata": {
    "collapsed": true
   },
   "outputs": [],
   "source": []
  }
 ],
 "metadata": {
  "kernelspec": {
   "display_name": "Python 2",
   "language": "python",
   "name": "python2"
  },
  "language_info": {
   "codemirror_mode": {
    "name": "ipython",
    "version": 2
   },
   "file_extension": ".py",
   "mimetype": "text/x-python",
   "name": "python",
   "nbconvert_exporter": "python",
   "pygments_lexer": "ipython2",
   "version": "2.7.11"
  }
 },
 "nbformat": 4,
 "nbformat_minor": 0
}
