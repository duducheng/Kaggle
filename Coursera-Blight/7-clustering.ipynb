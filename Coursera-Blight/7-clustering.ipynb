{
 "cells": [
  {
   "cell_type": "code",
   "execution_count": 1,
   "metadata": {
    "collapsed": true
   },
   "outputs": [],
   "source": [
    "# Basic\n",
    "from datetime import datetime, timedelta\n",
    "import time\n",
    "\n",
    "# Data Analysis Specific\n",
    "import numpy as np\n",
    "import pandas as pd\n",
    "import matplotlib.pyplot as plt\n",
    "import seaborn as sns\n",
    "from dateutil.parser import parse as date_parser\n",
    "from geopy.geocoders import Nominatim\n",
    "\n",
    "# Marchine Learning Specific\n",
    "from sklearn.kernel_ridge import KernelRidge\n",
    "from sklearn.ensemble import RandomForestRegressor, GradientBoostingRegressor\n",
    "from sklearn.svm import SVR\n",
    "from sklearn.neighbors import KNeighborsRegressor\n",
    "from sklearn.grid_search import GridSearchCV, RandomizedSearchCV\n",
    "\n",
    "# IPython magic\n",
    "%matplotlib inline\n",
    "%load_ext autoreload\n",
    "%autoreload 2"
   ]
  },
  {
   "cell_type": "code",
   "execution_count": null,
   "metadata": {
    "collapsed": false
   },
   "outputs": [],
   "source": []
  },
  {
   "cell_type": "code",
   "execution_count": 2,
   "metadata": {
    "collapsed": false
   },
   "outputs": [
    {
     "name": "stdout",
     "output_type": "stream",
     "text": [
      "200 400 0.5\n"
     ]
    }
   ],
   "source": [
    "DATA_PATH = './data/'\n",
    "DETROIT_LAT = (42.252, 42.452)\n",
    "DETROIT_LNG = (-83.295, -82.895)\n",
    "SIZE_RATIO = 1000\n",
    "DETROIT_WIDTH = 200\n",
    "DETROIT_HEIGHT = 400\n",
    "print DETROIT_WIDTH, DETROIT_HEIGHT, float(DETROIT_WIDTH)/DETROIT_HEIGHT"
   ]
  },
  {
   "cell_type": "markdown",
   "metadata": {},
   "source": [
    "## The naive (grid) building method can not get good result, partially due to the naive method didn't consider the space relationship. \n",
    "\n",
    "## The grid method can be used if using convolutional neural network (just an assumption). For time limit, I didn't explore this idea. I might make this trial later.\n",
    "\n",
    "## Now, it may be a good idea to use clustering (in fact this is the first idea I got), on the space only, to capture the space relationships.\n",
    "\n",
    "## There are many clustering algos, I will first try kmeans, for simpleness."
   ]
  },
  {
   "cell_type": "code",
   "execution_count": 3,
   "metadata": {
    "collapsed": false
   },
   "outputs": [],
   "source": [
    "clean_permit = pd.read_csv('clean/permit.csv',index_col=0)\n",
    "clean_violation = pd.read_csv('clean/violation.csv',index_col=0)\n",
    "clean_crime = pd.read_csv('clean/crime.csv',index_col=0)\n",
    "clean_311 = pd.read_csv('clean/311.csv',index_col=0)"
   ]
  },
  {
   "cell_type": "code",
   "execution_count": 4,
   "metadata": {
    "collapsed": false
   },
   "outputs": [
    {
     "data": {
      "text/plain": [
       "0"
      ]
     },
     "execution_count": 4,
     "metadata": {},
     "output_type": "execute_result"
    }
   ],
   "source": [
    "clean_crime.date.isnull().sum()"
   ]
  },
  {
   "cell_type": "code",
   "execution_count": 5,
   "metadata": {
    "collapsed": false
   },
   "outputs": [
    {
     "data": {
      "text/plain": [
       "3"
      ]
     },
     "execution_count": 5,
     "metadata": {},
     "output_type": "execute_result"
    }
   ],
   "source": [
    "clean_permit.date.isnull().sum()"
   ]
  },
  {
   "cell_type": "code",
   "execution_count": 6,
   "metadata": {
    "collapsed": false
   },
   "outputs": [
    {
     "data": {
      "text/html": [
       "<div>\n",
       "<table border=\"1\" class=\"dataframe\">\n",
       "  <thead>\n",
       "    <tr style=\"text-align: right;\">\n",
       "      <th></th>\n",
       "      <th>lat</th>\n",
       "      <th>lng</th>\n",
       "      <th>date</th>\n",
       "      <th>addr</th>\n",
       "      <th>turst</th>\n",
       "    </tr>\n",
       "  </thead>\n",
       "  <tbody>\n",
       "    <tr>\n",
       "      <th>671</th>\n",
       "      <td>NaN</td>\n",
       "      <td>NaN</td>\n",
       "      <td>2015/7/30</td>\n",
       "      <td>8045  BRACE</td>\n",
       "      <td>False</td>\n",
       "    </tr>\n",
       "    <tr>\n",
       "      <th>672</th>\n",
       "      <td>NaN</td>\n",
       "      <td>NaN</td>\n",
       "      <td>2015/7/30</td>\n",
       "      <td>8909  FAUST</td>\n",
       "      <td>False</td>\n",
       "    </tr>\n",
       "    <tr>\n",
       "      <th>676</th>\n",
       "      <td>NaN</td>\n",
       "      <td>NaN</td>\n",
       "      <td>2015/7/30</td>\n",
       "      <td>7290  CLAYBURN</td>\n",
       "      <td>False</td>\n",
       "    </tr>\n",
       "    <tr>\n",
       "      <th>678</th>\n",
       "      <td>NaN</td>\n",
       "      <td>NaN</td>\n",
       "      <td>2015/7/30</td>\n",
       "      <td>6894  EVERGREEN</td>\n",
       "      <td>False</td>\n",
       "    </tr>\n",
       "    <tr>\n",
       "      <th>680</th>\n",
       "      <td>NaN</td>\n",
       "      <td>NaN</td>\n",
       "      <td>2015/7/30</td>\n",
       "      <td>8649  ARTESIAN</td>\n",
       "      <td>False</td>\n",
       "    </tr>\n",
       "    <tr>\n",
       "      <th>681</th>\n",
       "      <td>NaN</td>\n",
       "      <td>NaN</td>\n",
       "      <td>2015/7/30</td>\n",
       "      <td>8221  ASHTON</td>\n",
       "      <td>False</td>\n",
       "    </tr>\n",
       "    <tr>\n",
       "      <th>683</th>\n",
       "      <td>NaN</td>\n",
       "      <td>NaN</td>\n",
       "      <td>2015/7/30</td>\n",
       "      <td>9601  AUBURN</td>\n",
       "      <td>False</td>\n",
       "    </tr>\n",
       "    <tr>\n",
       "      <th>684</th>\n",
       "      <td>NaN</td>\n",
       "      <td>NaN</td>\n",
       "      <td>2015/7/30</td>\n",
       "      <td>12099  AUBURN</td>\n",
       "      <td>False</td>\n",
       "    </tr>\n",
       "    <tr>\n",
       "      <th>685</th>\n",
       "      <td>NaN</td>\n",
       "      <td>NaN</td>\n",
       "      <td>2015/7/30</td>\n",
       "      <td>7340  BRACE</td>\n",
       "      <td>False</td>\n",
       "    </tr>\n",
       "    <tr>\n",
       "      <th>687</th>\n",
       "      <td>NaN</td>\n",
       "      <td>NaN</td>\n",
       "      <td>2015/7/30</td>\n",
       "      <td>7458  CLAYBURN</td>\n",
       "      <td>False</td>\n",
       "    </tr>\n",
       "    <tr>\n",
       "      <th>688</th>\n",
       "      <td>NaN</td>\n",
       "      <td>NaN</td>\n",
       "      <td>2015/7/30</td>\n",
       "      <td>14391  DOLPHIN</td>\n",
       "      <td>False</td>\n",
       "    </tr>\n",
       "    <tr>\n",
       "      <th>689</th>\n",
       "      <td>NaN</td>\n",
       "      <td>NaN</td>\n",
       "      <td>2015/7/30</td>\n",
       "      <td>14542  DOLPHIN</td>\n",
       "      <td>False</td>\n",
       "    </tr>\n",
       "    <tr>\n",
       "      <th>690</th>\n",
       "      <td>NaN</td>\n",
       "      <td>NaN</td>\n",
       "      <td>2015/7/30</td>\n",
       "      <td>6310  EVERGREEN</td>\n",
       "      <td>False</td>\n",
       "    </tr>\n",
       "    <tr>\n",
       "      <th>691</th>\n",
       "      <td>NaN</td>\n",
       "      <td>NaN</td>\n",
       "      <td>2015/7/30</td>\n",
       "      <td>7703  FAUST</td>\n",
       "      <td>False</td>\n",
       "    </tr>\n",
       "    <tr>\n",
       "      <th>692</th>\n",
       "      <td>NaN</td>\n",
       "      <td>NaN</td>\n",
       "      <td>2015/7/30</td>\n",
       "      <td>8681  FAUST</td>\n",
       "      <td>False</td>\n",
       "    </tr>\n",
       "    <tr>\n",
       "      <th>693</th>\n",
       "      <td>NaN</td>\n",
       "      <td>NaN</td>\n",
       "      <td>2015/7/30</td>\n",
       "      <td>7232  MINOCK</td>\n",
       "      <td>False</td>\n",
       "    </tr>\n",
       "    <tr>\n",
       "      <th>700</th>\n",
       "      <td>NaN</td>\n",
       "      <td>NaN</td>\n",
       "      <td>2015/7/30</td>\n",
       "      <td>7369  BRACE</td>\n",
       "      <td>False</td>\n",
       "    </tr>\n",
       "    <tr>\n",
       "      <th>701</th>\n",
       "      <td>NaN</td>\n",
       "      <td>NaN</td>\n",
       "      <td>2015/7/30</td>\n",
       "      <td>8107  BRACE</td>\n",
       "      <td>False</td>\n",
       "    </tr>\n",
       "    <tr>\n",
       "      <th>702</th>\n",
       "      <td>NaN</td>\n",
       "      <td>NaN</td>\n",
       "      <td>2015/7/30</td>\n",
       "      <td>8909  GREENVIEW</td>\n",
       "      <td>False</td>\n",
       "    </tr>\n",
       "    <tr>\n",
       "      <th>703</th>\n",
       "      <td>NaN</td>\n",
       "      <td>NaN</td>\n",
       "      <td>2015/7/30</td>\n",
       "      <td>8281  HEYDEN</td>\n",
       "      <td>False</td>\n",
       "    </tr>\n",
       "    <tr>\n",
       "      <th>704</th>\n",
       "      <td>NaN</td>\n",
       "      <td>NaN</td>\n",
       "      <td>2015/7/30</td>\n",
       "      <td>15100  DACOSTA</td>\n",
       "      <td>False</td>\n",
       "    </tr>\n",
       "    <tr>\n",
       "      <th>708</th>\n",
       "      <td>NaN</td>\n",
       "      <td>NaN</td>\n",
       "      <td>2015/7/30</td>\n",
       "      <td>8516  AUBURN</td>\n",
       "      <td>False</td>\n",
       "    </tr>\n",
       "    <tr>\n",
       "      <th>709</th>\n",
       "      <td>NaN</td>\n",
       "      <td>NaN</td>\n",
       "      <td>2015/7/30</td>\n",
       "      <td>8634  AUBURN</td>\n",
       "      <td>False</td>\n",
       "    </tr>\n",
       "    <tr>\n",
       "      <th>710</th>\n",
       "      <td>NaN</td>\n",
       "      <td>NaN</td>\n",
       "      <td>2015/7/30</td>\n",
       "      <td>8114  BRACE</td>\n",
       "      <td>False</td>\n",
       "    </tr>\n",
       "    <tr>\n",
       "      <th>712</th>\n",
       "      <td>NaN</td>\n",
       "      <td>NaN</td>\n",
       "      <td>2015/7/30</td>\n",
       "      <td>14007  DOLPHIN</td>\n",
       "      <td>False</td>\n",
       "    </tr>\n",
       "    <tr>\n",
       "      <th>713</th>\n",
       "      <td>NaN</td>\n",
       "      <td>NaN</td>\n",
       "      <td>2015/7/30</td>\n",
       "      <td>8611  MINOCK</td>\n",
       "      <td>False</td>\n",
       "    </tr>\n",
       "    <tr>\n",
       "      <th>720</th>\n",
       "      <td>NaN</td>\n",
       "      <td>NaN</td>\n",
       "      <td>2015/7/30</td>\n",
       "      <td>6333  EVERGREEN</td>\n",
       "      <td>False</td>\n",
       "    </tr>\n",
       "    <tr>\n",
       "      <th>726</th>\n",
       "      <td>NaN</td>\n",
       "      <td>NaN</td>\n",
       "      <td>2015/7/30</td>\n",
       "      <td>8900  BRACE</td>\n",
       "      <td>False</td>\n",
       "    </tr>\n",
       "    <tr>\n",
       "      <th>729</th>\n",
       "      <td>NaN</td>\n",
       "      <td>NaN</td>\n",
       "      <td>2015/7/30</td>\n",
       "      <td>8099  BRACE</td>\n",
       "      <td>False</td>\n",
       "    </tr>\n",
       "    <tr>\n",
       "      <th>731</th>\n",
       "      <td>NaN</td>\n",
       "      <td>NaN</td>\n",
       "      <td>2015/7/29</td>\n",
       "      <td>6430  HANSON</td>\n",
       "      <td>False</td>\n",
       "    </tr>\n",
       "    <tr>\n",
       "      <th>...</th>\n",
       "      <td>...</td>\n",
       "      <td>...</td>\n",
       "      <td>...</td>\n",
       "      <td>...</td>\n",
       "      <td>...</td>\n",
       "    </tr>\n",
       "    <tr>\n",
       "      <th>1102</th>\n",
       "      <td>NaN</td>\n",
       "      <td>NaN</td>\n",
       "      <td>2007/6/15</td>\n",
       "      <td>8948  MENDOTA</td>\n",
       "      <td>False</td>\n",
       "    </tr>\n",
       "    <tr>\n",
       "      <th>1103</th>\n",
       "      <td>NaN</td>\n",
       "      <td>NaN</td>\n",
       "      <td>2007/6/15</td>\n",
       "      <td>8825  MEYERS</td>\n",
       "      <td>False</td>\n",
       "    </tr>\n",
       "    <tr>\n",
       "      <th>1104</th>\n",
       "      <td>NaN</td>\n",
       "      <td>NaN</td>\n",
       "      <td>2007/6/15</td>\n",
       "      <td>8945  STEEL</td>\n",
       "      <td>False</td>\n",
       "    </tr>\n",
       "    <tr>\n",
       "      <th>1105</th>\n",
       "      <td>NaN</td>\n",
       "      <td>NaN</td>\n",
       "      <td>2007/6/15</td>\n",
       "      <td>13510  MENDOTA</td>\n",
       "      <td>False</td>\n",
       "    </tr>\n",
       "    <tr>\n",
       "      <th>1108</th>\n",
       "      <td>NaN</td>\n",
       "      <td>NaN</td>\n",
       "      <td>2007/6/15</td>\n",
       "      <td>15842 W SEVEN MILE</td>\n",
       "      <td>False</td>\n",
       "    </tr>\n",
       "    <tr>\n",
       "      <th>1113</th>\n",
       "      <td>NaN</td>\n",
       "      <td>NaN</td>\n",
       "      <td>2007/6/15</td>\n",
       "      <td>9371  STEEL</td>\n",
       "      <td>False</td>\n",
       "    </tr>\n",
       "    <tr>\n",
       "      <th>1114</th>\n",
       "      <td>NaN</td>\n",
       "      <td>NaN</td>\n",
       "      <td>2007/6/15</td>\n",
       "      <td>9275  STEEL</td>\n",
       "      <td>False</td>\n",
       "    </tr>\n",
       "    <tr>\n",
       "      <th>1119</th>\n",
       "      <td>NaN</td>\n",
       "      <td>NaN</td>\n",
       "      <td>2007/6/15</td>\n",
       "      <td>9146  MENDOTA</td>\n",
       "      <td>False</td>\n",
       "    </tr>\n",
       "    <tr>\n",
       "      <th>1123</th>\n",
       "      <td>NaN</td>\n",
       "      <td>NaN</td>\n",
       "      <td>2007/6/15</td>\n",
       "      <td>9116  MENDOTA</td>\n",
       "      <td>False</td>\n",
       "    </tr>\n",
       "    <tr>\n",
       "      <th>1135</th>\n",
       "      <td>NaN</td>\n",
       "      <td>NaN</td>\n",
       "      <td>2007/6/15</td>\n",
       "      <td>13510  MANOR</td>\n",
       "      <td>False</td>\n",
       "    </tr>\n",
       "    <tr>\n",
       "      <th>1140</th>\n",
       "      <td>NaN</td>\n",
       "      <td>NaN</td>\n",
       "      <td>2007/6/15</td>\n",
       "      <td>11645  OHIO</td>\n",
       "      <td>False</td>\n",
       "    </tr>\n",
       "    <tr>\n",
       "      <th>1199</th>\n",
       "      <td>NaN</td>\n",
       "      <td>NaN</td>\n",
       "      <td>2015/6/30</td>\n",
       "      <td>4515  FIELD</td>\n",
       "      <td>False</td>\n",
       "    </tr>\n",
       "    <tr>\n",
       "      <th>1225</th>\n",
       "      <td>NaN</td>\n",
       "      <td>NaN</td>\n",
       "      <td>2015/6/23</td>\n",
       "      <td>4127- E MCNICHOLS</td>\n",
       "      <td>False</td>\n",
       "    </tr>\n",
       "    <tr>\n",
       "      <th>1229</th>\n",
       "      <td>NaN</td>\n",
       "      <td>NaN</td>\n",
       "      <td>2015/6/23</td>\n",
       "      <td>4127- E MCNICHOLS</td>\n",
       "      <td>False</td>\n",
       "    </tr>\n",
       "    <tr>\n",
       "      <th>1232</th>\n",
       "      <td>NaN</td>\n",
       "      <td>NaN</td>\n",
       "      <td>2015/6/23</td>\n",
       "      <td>8234  NORMILE</td>\n",
       "      <td>False</td>\n",
       "    </tr>\n",
       "    <tr>\n",
       "      <th>1239</th>\n",
       "      <td>NaN</td>\n",
       "      <td>NaN</td>\n",
       "      <td>2015/6/19</td>\n",
       "      <td>17450  JOS CAMPAU</td>\n",
       "      <td>False</td>\n",
       "    </tr>\n",
       "    <tr>\n",
       "      <th>1246</th>\n",
       "      <td>NaN</td>\n",
       "      <td>NaN</td>\n",
       "      <td>2015/6/18</td>\n",
       "      <td>2835  16TH</td>\n",
       "      <td>False</td>\n",
       "    </tr>\n",
       "    <tr>\n",
       "      <th>1251</th>\n",
       "      <td>NaN</td>\n",
       "      <td>NaN</td>\n",
       "      <td>2015/6/18</td>\n",
       "      <td>3323  CLEMENTS</td>\n",
       "      <td>False</td>\n",
       "    </tr>\n",
       "    <tr>\n",
       "      <th>1254</th>\n",
       "      <td>NaN</td>\n",
       "      <td>NaN</td>\n",
       "      <td>2015/6/17</td>\n",
       "      <td>21630  JASON</td>\n",
       "      <td>False</td>\n",
       "    </tr>\n",
       "    <tr>\n",
       "      <th>1259</th>\n",
       "      <td>NaN</td>\n",
       "      <td>NaN</td>\n",
       "      <td>2015/6/17</td>\n",
       "      <td>3182  SUPERIOR</td>\n",
       "      <td>False</td>\n",
       "    </tr>\n",
       "    <tr>\n",
       "      <th>1262</th>\n",
       "      <td>NaN</td>\n",
       "      <td>NaN</td>\n",
       "      <td>2015/6/16</td>\n",
       "      <td>16939  WINSTON</td>\n",
       "      <td>False</td>\n",
       "    </tr>\n",
       "    <tr>\n",
       "      <th>1264</th>\n",
       "      <td>NaN</td>\n",
       "      <td>NaN</td>\n",
       "      <td>2015/6/16</td>\n",
       "      <td>532  OAKWOOD</td>\n",
       "      <td>False</td>\n",
       "    </tr>\n",
       "    <tr>\n",
       "      <th>1265</th>\n",
       "      <td>NaN</td>\n",
       "      <td>NaN</td>\n",
       "      <td>2015/6/16</td>\n",
       "      <td>6060 W VERNOR</td>\n",
       "      <td>False</td>\n",
       "    </tr>\n",
       "    <tr>\n",
       "      <th>1267</th>\n",
       "      <td>NaN</td>\n",
       "      <td>NaN</td>\n",
       "      <td>2015/6/15</td>\n",
       "      <td>16611  MEYERS</td>\n",
       "      <td>False</td>\n",
       "    </tr>\n",
       "    <tr>\n",
       "      <th>1268</th>\n",
       "      <td>NaN</td>\n",
       "      <td>NaN</td>\n",
       "      <td>2006/12/15</td>\n",
       "      <td>16831 W GRAND RIVER</td>\n",
       "      <td>False</td>\n",
       "    </tr>\n",
       "    <tr>\n",
       "      <th>1269</th>\n",
       "      <td>NaN</td>\n",
       "      <td>NaN</td>\n",
       "      <td>2006/12/15</td>\n",
       "      <td>10407  WHITTIER</td>\n",
       "      <td>False</td>\n",
       "    </tr>\n",
       "    <tr>\n",
       "      <th>1270</th>\n",
       "      <td>NaN</td>\n",
       "      <td>NaN</td>\n",
       "      <td>2006/12/15</td>\n",
       "      <td>9403  MT ELLIOTT</td>\n",
       "      <td>False</td>\n",
       "    </tr>\n",
       "    <tr>\n",
       "      <th>1271</th>\n",
       "      <td>NaN</td>\n",
       "      <td>NaN</td>\n",
       "      <td>2006/12/15</td>\n",
       "      <td>6101 E MCNICHOLS</td>\n",
       "      <td>False</td>\n",
       "    </tr>\n",
       "    <tr>\n",
       "      <th>1272</th>\n",
       "      <td>NaN</td>\n",
       "      <td>NaN</td>\n",
       "      <td>2006/12/15</td>\n",
       "      <td>4383  SPRINGLE</td>\n",
       "      <td>False</td>\n",
       "    </tr>\n",
       "    <tr>\n",
       "      <th>1273</th>\n",
       "      <td>NaN</td>\n",
       "      <td>NaN</td>\n",
       "      <td>2006/12/15</td>\n",
       "      <td>4152  SPRINGLE</td>\n",
       "      <td>False</td>\n",
       "    </tr>\n",
       "  </tbody>\n",
       "</table>\n",
       "<p>192 rows × 5 columns</p>\n",
       "</div>"
      ],
      "text/plain": [
       "      lat  lng        date                 addr  turst\n",
       "671   NaN  NaN   2015/7/30          8045  BRACE  False\n",
       "672   NaN  NaN   2015/7/30          8909  FAUST  False\n",
       "676   NaN  NaN   2015/7/30       7290  CLAYBURN  False\n",
       "678   NaN  NaN   2015/7/30      6894  EVERGREEN  False\n",
       "680   NaN  NaN   2015/7/30       8649  ARTESIAN  False\n",
       "681   NaN  NaN   2015/7/30         8221  ASHTON  False\n",
       "683   NaN  NaN   2015/7/30         9601  AUBURN  False\n",
       "684   NaN  NaN   2015/7/30        12099  AUBURN  False\n",
       "685   NaN  NaN   2015/7/30          7340  BRACE  False\n",
       "687   NaN  NaN   2015/7/30       7458  CLAYBURN  False\n",
       "688   NaN  NaN   2015/7/30       14391  DOLPHIN  False\n",
       "689   NaN  NaN   2015/7/30       14542  DOLPHIN  False\n",
       "690   NaN  NaN   2015/7/30      6310  EVERGREEN  False\n",
       "691   NaN  NaN   2015/7/30          7703  FAUST  False\n",
       "692   NaN  NaN   2015/7/30          8681  FAUST  False\n",
       "693   NaN  NaN   2015/7/30         7232  MINOCK  False\n",
       "700   NaN  NaN   2015/7/30          7369  BRACE  False\n",
       "701   NaN  NaN   2015/7/30          8107  BRACE  False\n",
       "702   NaN  NaN   2015/7/30      8909  GREENVIEW  False\n",
       "703   NaN  NaN   2015/7/30         8281  HEYDEN  False\n",
       "704   NaN  NaN   2015/7/30       15100  DACOSTA  False\n",
       "708   NaN  NaN   2015/7/30         8516  AUBURN  False\n",
       "709   NaN  NaN   2015/7/30         8634  AUBURN  False\n",
       "710   NaN  NaN   2015/7/30          8114  BRACE  False\n",
       "712   NaN  NaN   2015/7/30       14007  DOLPHIN  False\n",
       "713   NaN  NaN   2015/7/30         8611  MINOCK  False\n",
       "720   NaN  NaN   2015/7/30      6333  EVERGREEN  False\n",
       "726   NaN  NaN   2015/7/30          8900  BRACE  False\n",
       "729   NaN  NaN   2015/7/30          8099  BRACE  False\n",
       "731   NaN  NaN   2015/7/29         6430  HANSON  False\n",
       "...   ...  ...         ...                  ...    ...\n",
       "1102  NaN  NaN   2007/6/15        8948  MENDOTA  False\n",
       "1103  NaN  NaN   2007/6/15         8825  MEYERS  False\n",
       "1104  NaN  NaN   2007/6/15          8945  STEEL  False\n",
       "1105  NaN  NaN   2007/6/15       13510  MENDOTA  False\n",
       "1108  NaN  NaN   2007/6/15   15842 W SEVEN MILE  False\n",
       "1113  NaN  NaN   2007/6/15          9371  STEEL  False\n",
       "1114  NaN  NaN   2007/6/15          9275  STEEL  False\n",
       "1119  NaN  NaN   2007/6/15        9146  MENDOTA  False\n",
       "1123  NaN  NaN   2007/6/15        9116  MENDOTA  False\n",
       "1135  NaN  NaN   2007/6/15         13510  MANOR  False\n",
       "1140  NaN  NaN   2007/6/15          11645  OHIO  False\n",
       "1199  NaN  NaN   2015/6/30          4515  FIELD  False\n",
       "1225  NaN  NaN   2015/6/23    4127- E MCNICHOLS  False\n",
       "1229  NaN  NaN   2015/6/23    4127- E MCNICHOLS  False\n",
       "1232  NaN  NaN   2015/6/23        8234  NORMILE  False\n",
       "1239  NaN  NaN   2015/6/19    17450  JOS CAMPAU  False\n",
       "1246  NaN  NaN   2015/6/18           2835  16TH  False\n",
       "1251  NaN  NaN   2015/6/18       3323  CLEMENTS  False\n",
       "1254  NaN  NaN   2015/6/17         21630  JASON  False\n",
       "1259  NaN  NaN   2015/6/17       3182  SUPERIOR  False\n",
       "1262  NaN  NaN   2015/6/16       16939  WINSTON  False\n",
       "1264  NaN  NaN   2015/6/16         532  OAKWOOD  False\n",
       "1265  NaN  NaN   2015/6/16        6060 W VERNOR  False\n",
       "1267  NaN  NaN   2015/6/15        16611  MEYERS  False\n",
       "1268  NaN  NaN  2006/12/15  16831 W GRAND RIVER  False\n",
       "1269  NaN  NaN  2006/12/15      10407  WHITTIER  False\n",
       "1270  NaN  NaN  2006/12/15     9403  MT ELLIOTT  False\n",
       "1271  NaN  NaN  2006/12/15     6101 E MCNICHOLS  False\n",
       "1272  NaN  NaN  2006/12/15       4383  SPRINGLE  False\n",
       "1273  NaN  NaN  2006/12/15       4152  SPRINGLE  False\n",
       "\n",
       "[192 rows x 5 columns]"
      ]
     },
     "execution_count": 6,
     "metadata": {},
     "output_type": "execute_result"
    }
   ],
   "source": [
    "clean_permit[~clean_permit['turst']]"
   ]
  },
  {
   "cell_type": "code",
   "execution_count": 7,
   "metadata": {
    "collapsed": false,
    "scrolled": false
   },
   "outputs": [
    {
     "data": {
      "text/plain": [
       "38854"
      ]
     },
     "execution_count": 7,
     "metadata": {},
     "output_type": "execute_result"
    }
   ],
   "source": [
    "clean_violation.date.isnull().sum()"
   ]
  },
  {
   "cell_type": "code",
   "execution_count": 8,
   "metadata": {
    "collapsed": false
   },
   "outputs": [
    {
     "data": {
      "text/plain": [
       "0"
      ]
     },
     "execution_count": 8,
     "metadata": {},
     "output_type": "execute_result"
    }
   ],
   "source": [
    "clean_311.date.isnull().sum()"
   ]
  },
  {
   "cell_type": "code",
   "execution_count": 9,
   "metadata": {
    "collapsed": false
   },
   "outputs": [
    {
     "data": {
      "text/plain": [
       "268950"
      ]
     },
     "execution_count": 9,
     "metadata": {},
     "output_type": "execute_result"
    }
   ],
   "source": [
    "len(clean_violation.date.dropna().sort_values())"
   ]
  },
  {
   "cell_type": "code",
   "execution_count": 10,
   "metadata": {
    "collapsed": true
   },
   "outputs": [],
   "source": [
    "def dropna(df):\n",
    "    df = df.dropna()\n",
    "    if hasattr(df,\"turst\"):\n",
    "        df = df[df.turst]\n",
    "    return df"
   ]
  },
  {
   "cell_type": "code",
   "execution_count": 11,
   "metadata": {
    "collapsed": false
   },
   "outputs": [],
   "source": [
    "addr = dropna(clean_violation)[['lat','lng']]"
   ]
  },
  {
   "cell_type": "code",
   "execution_count": 12,
   "metadata": {
    "collapsed": false
   },
   "outputs": [],
   "source": [
    "from sklearn.preprocessing import MinMaxScaler\n",
    "class Scaler(MinMaxScaler):\n",
    "    def transform(self,X):\n",
    "        return pd.DataFrame(super(Scaler,self).transform(X),index=X.index,columns=X.columns)\n",
    "scaler = Scaler().fit(addr)"
   ]
  },
  {
   "cell_type": "code",
   "execution_count": 13,
   "metadata": {
    "collapsed": false
   },
   "outputs": [],
   "source": [
    "addr = scaler.transform(addr)"
   ]
  },
  {
   "cell_type": "markdown",
   "metadata": {},
   "source": [
    "# Give up using sklearn... too slow. Use Graphlab Create instead."
   ]
  },
  {
   "cell_type": "code",
   "execution_count": null,
   "metadata": {
    "collapsed": false
   },
   "outputs": [],
   "source": [
    "from sklearn.cluster import KMeans\n",
    "cluster = KMeans(n_clusters=20000,max_iter=300)\n",
    "cluster.fit(addr)"
   ]
  },
  {
   "cell_type": "code",
   "execution_count": null,
   "metadata": {
    "collapsed": false
   },
   "outputs": [],
   "source": [
    "plt.scatter(*zip(*cluster.cluster_centers_))"
   ]
  },
  {
   "cell_type": "code",
   "execution_count": null,
   "metadata": {
    "collapsed": false
   },
   "outputs": [],
   "source": [
    "export = pd.DataFrame(cluster.cluster_centers_,oolumns=addr.columns)"
   ]
  },
  {
   "cell_type": "code",
   "execution_count": null,
   "metadata": {
    "collapsed": true
   },
   "outputs": [],
   "source": [
    "export.to_csv(\"center.csv\")"
   ]
  },
  {
   "cell_type": "code",
   "execution_count": null,
   "metadata": {
    "collapsed": true
   },
   "outputs": [],
   "source": []
  }
 ],
 "metadata": {
  "kernelspec": {
   "display_name": "Python 2",
   "language": "python",
   "name": "python2"
  },
  "language_info": {
   "codemirror_mode": {
    "name": "ipython",
    "version": 2
   },
   "file_extension": ".py",
   "mimetype": "text/x-python",
   "name": "python",
   "nbconvert_exporter": "python",
   "pygments_lexer": "ipython2",
   "version": "2.7.11"
  }
 },
 "nbformat": 4,
 "nbformat_minor": 0
}
