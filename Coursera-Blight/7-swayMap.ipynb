{
 "cells": [
  {
   "cell_type": "code",
   "execution_count": 1,
   "metadata": {
    "collapsed": true
   },
   "outputs": [],
   "source": [
    "# Basic\n",
    "from datetime import datetime, timedelta\n",
    "import time\n",
    "\n",
    "# Data Analysis Specific\n",
    "import numpy as np\n",
    "import pandas as pd\n",
    "import matplotlib.pyplot as plt\n",
    "import seaborn as sns\n",
    "from dateutil.parser import parse as date_parser\n",
    "from geopy.geocoders import Nominatim\n",
    "\n",
    "# Marchine Learning Specific\n",
    "from sklearn.kernel_ridge import KernelRidge\n",
    "from sklearn.ensemble import RandomForestRegressor, GradientBoostingRegressor\n",
    "from sklearn.svm import SVR\n",
    "from sklearn.neighbors import KNeighborsRegressor\n",
    "from sklearn.grid_search import GridSearchCV, RandomizedSearchCV\n",
    "\n",
    "# IPython magic\n",
    "%matplotlib inline\n",
    "%load_ext autoreload\n",
    "%autoreload 2"
   ]
  },
  {
   "cell_type": "code",
   "execution_count": 2,
   "metadata": {
    "collapsed": false
   },
   "outputs": [
    {
     "name": "stdout",
     "output_type": "stream",
     "text": [
      "200 400 0.5\n"
     ]
    }
   ],
   "source": [
    "DATA_PATH = './data/'\n",
    "DETROIT_LAT = (42.252, 42.452)\n",
    "DETROIT_LNG = (-83.295, -82.895)\n",
    "SIZE_RATIO = 1000\n",
    "DETROIT_WIDTH = 200\n",
    "DETROIT_HEIGHT = 400\n",
    "print DETROIT_WIDTH, DETROIT_HEIGHT, float(DETROIT_WIDTH)/DETROIT_HEIGHT"
   ]
  },
  {
   "cell_type": "code",
   "execution_count": 3,
   "metadata": {
    "collapsed": false
   },
   "outputs": [],
   "source": [
    "clean_permit = pd.read_csv('clean/permit.csv',index_col=0)\n",
    "clean_violation = pd.read_csv('clean/violation.csv',index_col=0)\n",
    "clean_crime = pd.read_csv('clean/crime.csv',index_col=0)\n",
    "clean_311 = pd.read_csv('clean/311.csv',index_col=0)"
   ]
  },
  {
   "cell_type": "code",
   "execution_count": 4,
   "metadata": {
    "collapsed": false
   },
   "outputs": [
    {
     "data": {
      "text/html": [
       "<div>\n",
       "<table border=\"1\" class=\"dataframe\">\n",
       "  <thead>\n",
       "    <tr style=\"text-align: right;\">\n",
       "      <th></th>\n",
       "      <th>lat</th>\n",
       "      <th>lng</th>\n",
       "      <th>Category</th>\n",
       "      <th>date</th>\n",
       "    </tr>\n",
       "  </thead>\n",
       "  <tbody>\n",
       "    <tr>\n",
       "      <th>0</th>\n",
       "      <td>42.3678</td>\n",
       "      <td>-83.1221</td>\n",
       "      <td>0</td>\n",
       "      <td>2015-06-03</td>\n",
       "    </tr>\n",
       "    <tr>\n",
       "      <th>1</th>\n",
       "      <td>42.3724</td>\n",
       "      <td>-83.2035</td>\n",
       "      <td>1</td>\n",
       "      <td>2015-03-01</td>\n",
       "    </tr>\n",
       "    <tr>\n",
       "      <th>2</th>\n",
       "      <td>42.4338</td>\n",
       "      <td>-83.0241</td>\n",
       "      <td>2</td>\n",
       "      <td>2015-02-08</td>\n",
       "    </tr>\n",
       "    <tr>\n",
       "      <th>3</th>\n",
       "      <td>42.3496</td>\n",
       "      <td>-83.1381</td>\n",
       "      <td>3</td>\n",
       "      <td>2015-11-09</td>\n",
       "    </tr>\n",
       "    <tr>\n",
       "      <th>4</th>\n",
       "      <td>42.3481</td>\n",
       "      <td>-83.0692</td>\n",
       "      <td>1</td>\n",
       "      <td>2015-08-14</td>\n",
       "    </tr>\n",
       "  </tbody>\n",
       "</table>\n",
       "</div>"
      ],
      "text/plain": [
       "       lat      lng  Category        date\n",
       "0  42.3678 -83.1221         0  2015-06-03\n",
       "1  42.3724 -83.2035         1  2015-03-01\n",
       "2  42.4338 -83.0241         2  2015-02-08\n",
       "3  42.3496 -83.1381         3  2015-11-09\n",
       "4  42.3481 -83.0692         1  2015-08-14"
      ]
     },
     "execution_count": 4,
     "metadata": {},
     "output_type": "execute_result"
    }
   ],
   "source": [
    "clean_crime.head()"
   ]
  },
  {
   "cell_type": "code",
   "execution_count": 6,
   "metadata": {
    "collapsed": false
   },
   "outputs": [
    {
     "data": {
      "text/html": [
       "<div>\n",
       "<table border=\"1\" class=\"dataframe\">\n",
       "  <thead>\n",
       "    <tr style=\"text-align: right;\">\n",
       "      <th></th>\n",
       "      <th>lat</th>\n",
       "      <th>lng</th>\n",
       "      <th>date</th>\n",
       "      <th>addr</th>\n",
       "      <th>turst</th>\n",
       "    </tr>\n",
       "  </thead>\n",
       "  <tbody>\n",
       "    <tr>\n",
       "      <th>0</th>\n",
       "      <td>42.394106</td>\n",
       "      <td>-82.947400</td>\n",
       "      <td>2015/8/28</td>\n",
       "      <td>4331  BARHAM</td>\n",
       "      <td>True</td>\n",
       "    </tr>\n",
       "    <tr>\n",
       "      <th>1</th>\n",
       "      <td>42.395122</td>\n",
       "      <td>-83.005077</td>\n",
       "      <td>2015/8/28</td>\n",
       "      <td>9707  BESSEMORE</td>\n",
       "      <td>True</td>\n",
       "    </tr>\n",
       "    <tr>\n",
       "      <th>2</th>\n",
       "      <td>42.403220</td>\n",
       "      <td>-82.946476</td>\n",
       "      <td>2015/8/28</td>\n",
       "      <td>5315  BERKSHIRE</td>\n",
       "      <td>True</td>\n",
       "    </tr>\n",
       "    <tr>\n",
       "      <th>3</th>\n",
       "      <td>42.446640</td>\n",
       "      <td>-82.947207</td>\n",
       "      <td>2015/8/28</td>\n",
       "      <td>16670  BRINGARD DR</td>\n",
       "      <td>True</td>\n",
       "    </tr>\n",
       "    <tr>\n",
       "      <th>4</th>\n",
       "      <td>42.276956</td>\n",
       "      <td>-83.147536</td>\n",
       "      <td>2015/8/28</td>\n",
       "      <td>1454  BEATRICE</td>\n",
       "      <td>True</td>\n",
       "    </tr>\n",
       "  </tbody>\n",
       "</table>\n",
       "</div>"
      ],
      "text/plain": [
       "         lat        lng       date                addr turst\n",
       "0  42.394106 -82.947400  2015/8/28        4331  BARHAM  True\n",
       "1  42.395122 -83.005077  2015/8/28     9707  BESSEMORE  True\n",
       "2  42.403220 -82.946476  2015/8/28     5315  BERKSHIRE  True\n",
       "3  42.446640 -82.947207  2015/8/28  16670  BRINGARD DR  True\n",
       "4  42.276956 -83.147536  2015/8/28      1454  BEATRICE  True"
      ]
     },
     "execution_count": 6,
     "metadata": {},
     "output_type": "execute_result"
    }
   ],
   "source": [
    "clean_permit.head()"
   ]
  },
  {
   "cell_type": "code",
   "execution_count": 7,
   "metadata": {
    "collapsed": false
   },
   "outputs": [
    {
     "data": {
      "text/html": [
       "<div>\n",
       "<table border=\"1\" class=\"dataframe\">\n",
       "  <thead>\n",
       "    <tr style=\"text-align: right;\">\n",
       "      <th></th>\n",
       "      <th>lat</th>\n",
       "      <th>lng</th>\n",
       "      <th>turst</th>\n",
       "      <th>addr</th>\n",
       "      <th>date</th>\n",
       "      <th>JudgeAmt</th>\n",
       "    </tr>\n",
       "  </thead>\n",
       "  <tbody>\n",
       "    <tr>\n",
       "      <th>0</th>\n",
       "      <td>42.363182</td>\n",
       "      <td>-83.091677</td>\n",
       "      <td>True</td>\n",
       "      <td>2566 GRAND BLVD</td>\n",
       "      <td>NaN</td>\n",
       "      <td>1680.0</td>\n",
       "    </tr>\n",
       "    <tr>\n",
       "      <th>1</th>\n",
       "      <td>42.429391</td>\n",
       "      <td>-83.220394</td>\n",
       "      <td>True</td>\n",
       "      <td>19014 ASHTON</td>\n",
       "      <td>NaN</td>\n",
       "      <td>140.0</td>\n",
       "    </tr>\n",
       "    <tr>\n",
       "      <th>2</th>\n",
       "      <td>42.428707</td>\n",
       "      <td>-83.227548</td>\n",
       "      <td>True</td>\n",
       "      <td>18735 STAHELIN</td>\n",
       "      <td>NaN</td>\n",
       "      <td>140.0</td>\n",
       "    </tr>\n",
       "    <tr>\n",
       "      <th>3</th>\n",
       "      <td>42.441698</td>\n",
       "      <td>-83.145018</td>\n",
       "      <td>True</td>\n",
       "      <td>20125 MONICA</td>\n",
       "      <td>NaN</td>\n",
       "      <td>140.0</td>\n",
       "    </tr>\n",
       "    <tr>\n",
       "      <th>4</th>\n",
       "      <td>42.420318</td>\n",
       "      <td>-83.145328</td>\n",
       "      <td>True</td>\n",
       "      <td>17397 PRAIRIE</td>\n",
       "      <td>NaN</td>\n",
       "      <td>140.0</td>\n",
       "    </tr>\n",
       "  </tbody>\n",
       "</table>\n",
       "</div>"
      ],
      "text/plain": [
       "         lat        lng turst             addr date  JudgeAmt\n",
       "0  42.363182 -83.091677  True  2566 GRAND BLVD  NaN    1680.0\n",
       "1  42.429391 -83.220394  True     19014 ASHTON  NaN     140.0\n",
       "2  42.428707 -83.227548  True   18735 STAHELIN  NaN     140.0\n",
       "3  42.441698 -83.145018  True     20125 MONICA  NaN     140.0\n",
       "4  42.420318 -83.145328  True    17397 PRAIRIE  NaN     140.0"
      ]
     },
     "execution_count": 7,
     "metadata": {},
     "output_type": "execute_result"
    }
   ],
   "source": [
    "clean_violation.head()"
   ]
  },
  {
   "cell_type": "code",
   "execution_count": null,
   "metadata": {
    "collapsed": true
   },
   "outputs": [],
   "source": []
  }
 ],
 "metadata": {
  "kernelspec": {
   "display_name": "Python 2",
   "language": "python",
   "name": "python2"
  },
  "language_info": {
   "codemirror_mode": {
    "name": "ipython",
    "version": 2
   },
   "file_extension": ".py",
   "mimetype": "text/x-python",
   "name": "python",
   "nbconvert_exporter": "python",
   "pygments_lexer": "ipython2",
   "version": "2.7.11"
  }
 },
 "nbformat": 4,
 "nbformat_minor": 0
}
