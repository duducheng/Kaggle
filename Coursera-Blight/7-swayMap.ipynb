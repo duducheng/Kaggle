{
 "cells": [
  {
   "cell_type": "code",
   "execution_count": 1,
   "metadata": {
    "collapsed": true
   },
   "outputs": [],
   "source": [
    "# Basic\n",
    "from datetime import datetime, timedelta\n",
    "import time\n",
    "\n",
    "# Data Analysis Specific\n",
    "import numpy as np\n",
    "import pandas as pd\n",
    "import matplotlib.pyplot as plt\n",
    "import seaborn as sns\n",
    "from dateutil.parser import parse as date_parser\n",
    "from geopy.geocoders import Nominatim\n",
    "\n",
    "# Marchine Learning Specific\n",
    "from sklearn.kernel_ridge import KernelRidge\n",
    "from sklearn.ensemble import RandomForestRegressor, GradientBoostingRegressor\n",
    "from sklearn.svm import SVR\n",
    "from sklearn.neighbors import KNeighborsRegressor\n",
    "from sklearn.grid_search import GridSearchCV, RandomizedSearchCV\n",
    "\n",
    "# IPython magic\n",
    "%matplotlib inline\n",
    "%load_ext autoreload\n",
    "%autoreload 2"
   ]
  },
  {
   "cell_type": "code",
   "execution_count": 2,
   "metadata": {
    "collapsed": false
   },
   "outputs": [
    {
     "name": "stdout",
     "output_type": "stream",
     "text": [
      "200 400 0.5\n"
     ]
    }
   ],
   "source": [
    "DATA_PATH = './data/'\n",
    "DETROIT_LAT = (42.252, 42.452)\n",
    "DETROIT_LNG = (-83.295, -82.895)\n",
    "SIZE_RATIO = 1000\n",
    "DETROIT_WIDTH = 200\n",
    "DETROIT_HEIGHT = 400\n",
    "print DETROIT_WIDTH, DETROIT_HEIGHT, float(DETROIT_WIDTH)/DETROIT_HEIGHT"
   ]
  },
  {
   "cell_type": "code",
   "execution_count": 15,
   "metadata": {
    "collapsed": false
   },
   "outputs": [],
   "source": [
    "clean_permit = pd.read_csv('clean/permit.csv',index_col=0)\n",
    "clean_violation = pd.read_csv('clean/violation.csv',index_col=0)\n",
    "clean_crime = pd.read_csv('clean/crime.csv',index_col=0)\n",
    "clean_311 = pd.read_csv('clean/311.csv',index_col=0)"
   ]
  },
  {
   "cell_type": "code",
   "execution_count": 16,
   "metadata": {
    "collapsed": false
   },
   "outputs": [
    {
     "data": {
      "text/plain": [
       "0         2015-06-03\n",
       "1         2015-03-01\n",
       "2         2015-02-08\n",
       "3         2015-11-09\n",
       "4         2015-08-14\n",
       "5         2015-03-28\n",
       "6         2015-01-01\n",
       "7         2015-10-26\n",
       "8         2015-03-22\n",
       "9         2015-07-25\n",
       "10        2015-08-26\n",
       "11        2015-03-22\n",
       "12        2015-03-24\n",
       "13        2015-02-02\n",
       "14        2015-08-01\n",
       "15        2015-06-03\n",
       "16        2015-02-25\n",
       "17        2015-08-07\n",
       "18        2015-05-05\n",
       "19        2015-11-07\n",
       "20        2015-07-09\n",
       "21        2015-08-11\n",
       "22        2015-10-30\n",
       "23        2015-05-29\n",
       "24        2015-01-13\n",
       "25        2015-06-14\n",
       "26        2015-06-18\n",
       "27        2015-03-17\n",
       "28        2015-06-22\n",
       "29        2015-08-29\n",
       "             ...    \n",
       "119901    2015-04-13\n",
       "119902    2015-05-14\n",
       "119903    2015-08-14\n",
       "119904    2015-05-19\n",
       "119905    2015-10-30\n",
       "119906    2015-06-19\n",
       "119907    2015-10-27\n",
       "119908    2015-08-15\n",
       "119909    2015-08-04\n",
       "119910    2015-03-12\n",
       "119911    2015-07-12\n",
       "119912    2015-06-23\n",
       "119913    2015-01-24\n",
       "119914    2015-01-17\n",
       "119915    2015-09-23\n",
       "119916    2015-10-21\n",
       "119917    2015-08-19\n",
       "119918    2015-11-06\n",
       "119919    2015-05-31\n",
       "119920    2015-03-07\n",
       "119921    2015-07-06\n",
       "119922    2015-05-23\n",
       "119923    2015-07-28\n",
       "119924    2015-01-05\n",
       "119925    2015-08-17\n",
       "119926    2015-08-20\n",
       "119927    2015-02-12\n",
       "119928    2015-04-23\n",
       "119929    2015-01-18\n",
       "119930    2015-02-04\n",
       "Name: date, dtype: object"
      ]
     },
     "execution_count": 16,
     "metadata": {},
     "output_type": "execute_result"
    }
   ],
   "source": [
    "clean_crime['date']"
   ]
  },
  {
   "cell_type": "code",
   "execution_count": null,
   "metadata": {
    "collapsed": true
   },
   "outputs": [],
   "source": []
  }
 ],
 "metadata": {
  "kernelspec": {
   "display_name": "Python 2",
   "language": "python",
   "name": "python2"
  },
  "language_info": {
   "codemirror_mode": {
    "name": "ipython",
    "version": 2
   },
   "file_extension": ".py",
   "mimetype": "text/x-python",
   "name": "python",
   "nbconvert_exporter": "python",
   "pygments_lexer": "ipython2",
   "version": "2.7.11"
  }
 },
 "nbformat": 4,
 "nbformat_minor": 0
}
