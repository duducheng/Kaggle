{
 "cells": [
  {
   "cell_type": "markdown",
   "metadata": {},
   "source": [
    "# Modeling city blight with Machine Learning\n",
    "\n",
    "## By Jiancheng ***(jekyLL4168@icloud.com)***\n",
    "\n",
    "### The full solution can be found on my [GitHub repo](https://github.com/duducheng/Kaggle/tree/master/Coursera-Blight), together with [this report](https://github.com/duducheng/Kaggle/blob/master/Coursera-Blight/Report.ipynb)"
   ]
  },
  {
   "cell_type": "code",
   "execution_count": 1,
   "metadata": {
    "collapsed": true
   },
   "outputs": [],
   "source": [
    "__author__ = \"Jiancheng\""
   ]
  },
  {
   "cell_type": "markdown",
   "metadata": {},
   "source": [
    "# Bonjour!\n",
    "\n",
    "This project works as the  Capstone Project of [Coursera Data Science at Scale Specialization](https://www.coursera.org/specializations/data-science).\n",
    "\n",
    "Project background can be found on the [GitHub repo](https://github.com/uwescience/datasci_course_materials/blob/master/capstone/blight/blightfight.md) of this course.\n",
    "\n",
    "Basicly, this project aims at predicting which \"buildings\" (or an particular place) would be ***\"abandoned\"*** in the future, using features like crime rates, city violation records, 311 calls records, etc. All the data is public from [Detroit City Gov]( http://data.detroitmi.gov)"
   ]
  },
  {
   "cell_type": "markdown",
   "metadata": {},
   "source": [
    "# Result\n",
    "\n",
    "The Accuracy on the balanced dataset: **~75.84%**\n",
    "\n",
    "The AUC on the balanced dataset: **~78.54%**"
   ]
  },
  {
   "cell_type": "markdown",
   "metadata": {},
   "source": [
    "# Difficulties\n",
    "\n",
    "This project is really pratical, while compared to most data mining competition like Kaggle, this project needs much more time to define our **purpose**, which makes it much open.\n",
    "\n",
    "Based on my own experience on this project, it was really important to define what the \"building\" is, based on our data, which really influence the results of our project. Considering the fact that the data is indeed dirty, for even the geo-based location, like (\n",
    "latitude, longitude) pairs, they are really not accurate -- not only because of the noise, but also by the fact that it's impossible to define the exact location in reality (like some crime). It's the most difficulty in the project, in my opinion.\n",
    "\n",
    "1. At the first time, I use grids to define the location, while it does bad jobs in this case. In this approach, there will be some area, containing too many buidlings. In our project, it could be a large noise.\n",
    "\n",
    "2. Then I tried clustering method like kmeans, while it has the same problem like the grid approach, so it works poorly.\n",
    "\n",
    "3. Finally I found to use a \"naive\" approach... it's the address itself. It seems naive, while it may be the most approriate method in this particular case.\n",
    "\n",
    "It's a great leason for me, **how hard it's to define the exact problem**. In the real project, it may be more difficult to find the so-called right question."
   ]
  },
  {
   "cell_type": "markdown",
   "metadata": {
    "collapsed": true
   },
   "source": [
    "# Methodology"
   ]
  },
  {
   "cell_type": "markdown",
   "metadata": {},
   "source": [
    "## 1. clean the data\n",
    "\n",
    "This step is extremely important in this project, cause the raw dataset is really dirty.\n",
    "\n",
    "Cleaning was made in many steps. I tried to make them:\n",
    "* Get rid of some \"strange\" data, like the default value of detroit city. Some of them were cleaned by their address.\n",
    "* Get rid of some points that seems far from Detroit\n",
    "* Normalize the lat, lng with Max-Min.\n",
    "* In the building list, the addresses have been cleaned\n",
    "\n",
    "Things to improve: how to clean the address. \n",
    "\n",
    "Our \"building\" list was build upon the address, thus the address cleaning could be really important but also annoying, that is the reason why I stop here."
   ]
  },
  {
   "cell_type": "markdown",
   "metadata": {},
   "source": [
    "The clean dataset was in \"clean/\" folder.\n",
    "\n",
    "The code was in many notebook, in \"prepare\" folder."
   ]
  },
  {
   "cell_type": "code",
   "execution_count": 2,
   "metadata": {
    "collapsed": true
   },
   "outputs": [],
   "source": [
    "import pandas as pd"
   ]
  },
  {
   "cell_type": "code",
   "execution_count": 3,
   "metadata": {
    "collapsed": true
   },
   "outputs": [],
   "source": [
    "clean_permit = pd.read_pickle('clean/permit.pickle')\n",
    "clean_violation = pd.read_pickle('clean/violation.pickle') \n",
    "clean_crime = pd.read_pickle('clean/crime.pickle')\n",
    "clean_311 = pd.read_pickle('clean/311.pickle')\n",
    "clusters = pd.read_csv('clean/buildings.csv')[['lat','lng']]"
   ]
  },
  {
   "cell_type": "code",
   "execution_count": 4,
   "metadata": {
    "collapsed": true
   },
   "outputs": [],
   "source": [
    "# only use the data after the year of 2005\n",
    "clean_permit, clean_violation, clean_crime, clean_311 = map(lambda df: df[df.date.map(lambda x: x.year)>=2005],\n",
    "                                                            [clean_permit, clean_violation, clean_crime, clean_311])"
   ]
  },
  {
   "cell_type": "code",
   "execution_count": 5,
   "metadata": {
    "collapsed": false
   },
   "outputs": [
    {
     "data": {
      "text/html": [
       "<div>\n",
       "<table border=\"1\" class=\"dataframe\">\n",
       "  <thead>\n",
       "    <tr style=\"text-align: right;\">\n",
       "      <th></th>\n",
       "      <th>lat</th>\n",
       "      <th>lng</th>\n",
       "      <th>date</th>\n",
       "      <th>addr</th>\n",
       "    </tr>\n",
       "  </thead>\n",
       "  <tbody>\n",
       "    <tr>\n",
       "      <th>0</th>\n",
       "      <td>0.714869</td>\n",
       "      <td>0.903169</td>\n",
       "      <td>2015-08-28</td>\n",
       "      <td>4331  BARHAM</td>\n",
       "    </tr>\n",
       "    <tr>\n",
       "      <th>1</th>\n",
       "      <td>0.720103</td>\n",
       "      <td>0.750076</td>\n",
       "      <td>2015-08-28</td>\n",
       "      <td>9707  BESSEMORE</td>\n",
       "    </tr>\n",
       "    <tr>\n",
       "      <th>2</th>\n",
       "      <td>0.761821</td>\n",
       "      <td>0.905622</td>\n",
       "      <td>2015-08-28</td>\n",
       "      <td>5315  BERKSHIRE</td>\n",
       "    </tr>\n",
       "  </tbody>\n",
       "</table>\n",
       "</div>"
      ],
      "text/plain": [
       "        lat       lng       date             addr\n",
       "0  0.714869  0.903169 2015-08-28     4331  BARHAM\n",
       "1  0.720103  0.750076 2015-08-28  9707  BESSEMORE\n",
       "2  0.761821  0.905622 2015-08-28  5315  BERKSHIRE"
      ]
     },
     "execution_count": 5,
     "metadata": {},
     "output_type": "execute_result"
    }
   ],
   "source": [
    "clean_permit.head(3)"
   ]
  },
  {
   "cell_type": "code",
   "execution_count": 6,
   "metadata": {
    "collapsed": false
   },
   "outputs": [
    {
     "data": {
      "text/html": [
       "<div>\n",
       "<table border=\"1\" class=\"dataframe\">\n",
       "  <thead>\n",
       "    <tr style=\"text-align: right;\">\n",
       "      <th></th>\n",
       "      <th>lat</th>\n",
       "      <th>lng</th>\n",
       "      <th>addr</th>\n",
       "      <th>date</th>\n",
       "      <th>JudgeAmt</th>\n",
       "    </tr>\n",
       "  </thead>\n",
       "  <tbody>\n",
       "    <tr>\n",
       "      <th>38854</th>\n",
       "      <td>0.868804</td>\n",
       "      <td>0.852497</td>\n",
       "      <td>15051 YOUNG</td>\n",
       "      <td>2006-03-18</td>\n",
       "      <td>140.0</td>\n",
       "    </tr>\n",
       "    <tr>\n",
       "      <th>38855</th>\n",
       "      <td>0.727499</td>\n",
       "      <td>0.294460</td>\n",
       "      <td>14615 SNOWDEN</td>\n",
       "      <td>2006-03-24</td>\n",
       "      <td>250.0</td>\n",
       "    </tr>\n",
       "    <tr>\n",
       "      <th>38856</th>\n",
       "      <td>0.725672</td>\n",
       "      <td>0.436063</td>\n",
       "      <td>2561 FORT</td>\n",
       "      <td>2006-01-03</td>\n",
       "      <td>305.0</td>\n",
       "    </tr>\n",
       "  </tbody>\n",
       "</table>\n",
       "</div>"
      ],
      "text/plain": [
       "            lat       lng           addr       date  JudgeAmt\n",
       "38854  0.868804  0.852497    15051 YOUNG 2006-03-18     140.0\n",
       "38855  0.727499  0.294460  14615 SNOWDEN 2006-03-24     250.0\n",
       "38856  0.725672  0.436063      2561 FORT 2006-01-03     305.0"
      ]
     },
     "execution_count": 6,
     "metadata": {},
     "output_type": "execute_result"
    }
   ],
   "source": [
    "clean_violation.head(3)"
   ]
  },
  {
   "cell_type": "code",
   "execution_count": 7,
   "metadata": {
    "collapsed": false
   },
   "outputs": [
    {
     "data": {
      "text/html": [
       "<div>\n",
       "<table border=\"1\" class=\"dataframe\">\n",
       "  <thead>\n",
       "    <tr style=\"text-align: right;\">\n",
       "      <th></th>\n",
       "      <th>lat</th>\n",
       "      <th>lng</th>\n",
       "      <th>Category</th>\n",
       "      <th>date</th>\n",
       "    </tr>\n",
       "  </thead>\n",
       "  <tbody>\n",
       "    <tr>\n",
       "      <th>0</th>\n",
       "      <td>0.579349</td>\n",
       "      <td>0.439459</td>\n",
       "      <td>0</td>\n",
       "      <td>2015-06-03</td>\n",
       "    </tr>\n",
       "    <tr>\n",
       "      <th>1</th>\n",
       "      <td>0.603046</td>\n",
       "      <td>0.223398</td>\n",
       "      <td>1</td>\n",
       "      <td>2015-03-01</td>\n",
       "    </tr>\n",
       "    <tr>\n",
       "      <th>2</th>\n",
       "      <td>0.919360</td>\n",
       "      <td>0.699583</td>\n",
       "      <td>2</td>\n",
       "      <td>2015-02-08</td>\n",
       "    </tr>\n",
       "  </tbody>\n",
       "</table>\n",
       "</div>"
      ],
      "text/plain": [
       "        lat       lng  Category       date\n",
       "0  0.579349  0.439459         0 2015-06-03\n",
       "1  0.603046  0.223398         1 2015-03-01\n",
       "2  0.919360  0.699583         2 2015-02-08"
      ]
     },
     "execution_count": 7,
     "metadata": {},
     "output_type": "execute_result"
    }
   ],
   "source": [
    "clean_crime.head(3)"
   ]
  },
  {
   "cell_type": "code",
   "execution_count": 8,
   "metadata": {
    "collapsed": false
   },
   "outputs": [
    {
     "data": {
      "text/html": [
       "<div>\n",
       "<table border=\"1\" class=\"dataframe\">\n",
       "  <thead>\n",
       "    <tr style=\"text-align: right;\">\n",
       "      <th></th>\n",
       "      <th>lat</th>\n",
       "      <th>lng</th>\n",
       "      <th>Category</th>\n",
       "      <th>date</th>\n",
       "    </tr>\n",
       "  </thead>\n",
       "  <tbody>\n",
       "    <tr>\n",
       "      <th>0</th>\n",
       "      <td>0.662794</td>\n",
       "      <td>0.336104</td>\n",
       "      <td>0</td>\n",
       "      <td>2015-04-12 01:01:10</td>\n",
       "    </tr>\n",
       "    <tr>\n",
       "      <th>1</th>\n",
       "      <td>0.953726</td>\n",
       "      <td>0.548767</td>\n",
       "      <td>0</td>\n",
       "      <td>2015-04-07 14:04:44</td>\n",
       "    </tr>\n",
       "    <tr>\n",
       "      <th>2</th>\n",
       "      <td>0.978316</td>\n",
       "      <td>0.864315</td>\n",
       "      <td>0</td>\n",
       "      <td>2015-08-15 00:03:44</td>\n",
       "    </tr>\n",
       "  </tbody>\n",
       "</table>\n",
       "</div>"
      ],
      "text/plain": [
       "        lat       lng  Category                date\n",
       "0  0.662794  0.336104         0 2015-04-12 01:01:10\n",
       "1  0.953726  0.548767         0 2015-04-07 14:04:44\n",
       "2  0.978316  0.864315         0 2015-08-15 00:03:44"
      ]
     },
     "execution_count": 8,
     "metadata": {},
     "output_type": "execute_result"
    }
   ],
   "source": [
    "clean_311.head(3)"
   ]
  },
  {
   "cell_type": "code",
   "execution_count": 9,
   "metadata": {
    "collapsed": false
   },
   "outputs": [
    {
     "data": {
      "text/html": [
       "<div>\n",
       "<table border=\"1\" class=\"dataframe\">\n",
       "  <thead>\n",
       "    <tr style=\"text-align: right;\">\n",
       "      <th></th>\n",
       "      <th>lat</th>\n",
       "      <th>lng</th>\n",
       "    </tr>\n",
       "  </thead>\n",
       "  <tbody>\n",
       "    <tr>\n",
       "      <th>0</th>\n",
       "      <td>0.714869</td>\n",
       "      <td>0.903169</td>\n",
       "    </tr>\n",
       "    <tr>\n",
       "      <th>1</th>\n",
       "      <td>0.720103</td>\n",
       "      <td>0.750076</td>\n",
       "    </tr>\n",
       "    <tr>\n",
       "      <th>2</th>\n",
       "      <td>0.761821</td>\n",
       "      <td>0.905622</td>\n",
       "    </tr>\n",
       "  </tbody>\n",
       "</table>\n",
       "</div>"
      ],
      "text/plain": [
       "        lat       lng\n",
       "0  0.714869  0.903169\n",
       "1  0.720103  0.750076\n",
       "2  0.761821  0.905622"
      ]
     },
     "execution_count": 9,
     "metadata": {},
     "output_type": "execute_result"
    }
   ],
   "source": [
    "clusters.head(3)"
   ]
  },
  {
   "cell_type": "markdown",
   "metadata": {},
   "source": [
    "# 2. Then, we start building the training dataset.\n",
    "\n",
    "Instead of using a range to define a building, I used a nearest neigbor to define for one particular incident, which buildings it should belongs to. \n",
    "\n",
    "This idea can simplify the data buidling step, and also have some good behavior:\n",
    "\n",
    "For many incident, it will influence indeed many buildings, and there should be a decay effect on the geo location. \n",
    "\n",
    "It could be easily add into the project with nearest neighbor idea, the reason why I didn't put it into the project is it introduced more hypermeters about the field, making the parameter tuning harder."
   ]
  },
  {
   "cell_type": "code",
   "execution_count": 10,
   "metadata": {
    "collapsed": true
   },
   "outputs": [],
   "source": [
    "from sklearn.neighbors import NearestNeighbors\n",
    "from sklearn.ensemble import GradientBoostingClassifier\n",
    "from sklearn.cross_validation import cross_val_score\n",
    "from sklearn.preprocessing import StandardScaler as Scaler"
   ]
  },
  {
   "cell_type": "code",
   "execution_count": 11,
   "metadata": {
    "collapsed": false
   },
   "outputs": [],
   "source": [
    "nbrs = NearestNeighbors(n_neighbors=1).fit(clusters)\n",
    "def find_nearest(df):\n",
    "    distances, indices = nbrs.kneighbors(df[['lat','lng']])\n",
    "    df['neighbor'] = indices\n",
    "    return df\n",
    "\n",
    "clean_permit, clean_violation, clean_crime, clean_311 = map(find_nearest,[clean_permit, clean_violation, clean_crime, clean_311])"
   ]
  },
  {
   "cell_type": "markdown",
   "metadata": {},
   "source": [
    "### add the features"
   ]
  },
  {
   "cell_type": "code",
   "execution_count": 12,
   "metadata": {
    "collapsed": true
   },
   "outputs": [],
   "source": [
    "# target\n",
    "clusters['permit'] = clean_permit.groupby('neighbor').apply(lambda g: g['addr'].count())\n",
    "clusters = clusters.fillna(0)"
   ]
  },
  {
   "cell_type": "code",
   "execution_count": 13,
   "metadata": {
    "collapsed": true
   },
   "outputs": [],
   "source": [
    "# violation judge amt and count\n",
    "clusters['judge'] = clean_violation.groupby('neighbor').apply(lambda g: g['JudgeAmt'].mean())\n",
    "clusters['violation'] = clean_violation.groupby('neighbor').apply(lambda g: g['JudgeAmt'].count())\n",
    "clusters = clusters.fillna(0)"
   ]
  },
  {
   "cell_type": "code",
   "execution_count": 14,
   "metadata": {
    "collapsed": true
   },
   "outputs": [],
   "source": [
    "# crime count with category\n",
    "clusters = pd.concat([clusters,pd.get_dummies(clean_crime['Category'],prefix='crime').groupby(clean_crime['neighbor']).sum()],axis=1)\n",
    "clusters = clusters.fillna(0)"
   ]
  },
  {
   "cell_type": "code",
   "execution_count": 15,
   "metadata": {
    "collapsed": true
   },
   "outputs": [],
   "source": [
    "# 311 calls count with category\n",
    "clusters = pd.concat([clusters,pd.get_dummies(clean_311['Category'],prefix='311').groupby(clean_311['neighbor']).sum()],axis=1)\n",
    "clusters = clusters.fillna(0)"
   ]
  },
  {
   "cell_type": "code",
   "execution_count": 16,
   "metadata": {
    "collapsed": false
   },
   "outputs": [
    {
     "data": {
      "text/html": [
       "<div>\n",
       "<table border=\"1\" class=\"dataframe\">\n",
       "  <thead>\n",
       "    <tr style=\"text-align: right;\">\n",
       "      <th></th>\n",
       "      <th>lat</th>\n",
       "      <th>lng</th>\n",
       "      <th>permit</th>\n",
       "      <th>judge</th>\n",
       "      <th>violation</th>\n",
       "      <th>crime_0</th>\n",
       "      <th>crime_1</th>\n",
       "      <th>crime_2</th>\n",
       "      <th>crime_3</th>\n",
       "      <th>crime_4</th>\n",
       "      <th>...</th>\n",
       "      <th>311_13</th>\n",
       "      <th>311_14</th>\n",
       "      <th>311_15</th>\n",
       "      <th>311_16</th>\n",
       "      <th>311_17</th>\n",
       "      <th>311_18</th>\n",
       "      <th>311_19</th>\n",
       "      <th>311_20</th>\n",
       "      <th>311_21</th>\n",
       "      <th>311_22</th>\n",
       "    </tr>\n",
       "  </thead>\n",
       "  <tbody>\n",
       "    <tr>\n",
       "      <th>0</th>\n",
       "      <td>0.714869</td>\n",
       "      <td>0.903169</td>\n",
       "      <td>1.0</td>\n",
       "      <td>360.00</td>\n",
       "      <td>2.0</td>\n",
       "      <td>0.0</td>\n",
       "      <td>0.0</td>\n",
       "      <td>0.0</td>\n",
       "      <td>0.0</td>\n",
       "      <td>0.0</td>\n",
       "      <td>...</td>\n",
       "      <td>0.0</td>\n",
       "      <td>0.0</td>\n",
       "      <td>0.0</td>\n",
       "      <td>0.0</td>\n",
       "      <td>0.0</td>\n",
       "      <td>0.0</td>\n",
       "      <td>0.0</td>\n",
       "      <td>0.0</td>\n",
       "      <td>0.0</td>\n",
       "      <td>0.0</td>\n",
       "    </tr>\n",
       "    <tr>\n",
       "      <th>1</th>\n",
       "      <td>0.720103</td>\n",
       "      <td>0.750076</td>\n",
       "      <td>1.0</td>\n",
       "      <td>346.25</td>\n",
       "      <td>8.0</td>\n",
       "      <td>0.0</td>\n",
       "      <td>0.0</td>\n",
       "      <td>0.0</td>\n",
       "      <td>1.0</td>\n",
       "      <td>0.0</td>\n",
       "      <td>...</td>\n",
       "      <td>0.0</td>\n",
       "      <td>0.0</td>\n",
       "      <td>0.0</td>\n",
       "      <td>0.0</td>\n",
       "      <td>0.0</td>\n",
       "      <td>0.0</td>\n",
       "      <td>0.0</td>\n",
       "      <td>0.0</td>\n",
       "      <td>0.0</td>\n",
       "      <td>0.0</td>\n",
       "    </tr>\n",
       "    <tr>\n",
       "      <th>2</th>\n",
       "      <td>0.761821</td>\n",
       "      <td>0.905622</td>\n",
       "      <td>1.0</td>\n",
       "      <td>0.00</td>\n",
       "      <td>0.0</td>\n",
       "      <td>0.0</td>\n",
       "      <td>0.0</td>\n",
       "      <td>0.0</td>\n",
       "      <td>0.0</td>\n",
       "      <td>0.0</td>\n",
       "      <td>...</td>\n",
       "      <td>0.0</td>\n",
       "      <td>0.0</td>\n",
       "      <td>0.0</td>\n",
       "      <td>0.0</td>\n",
       "      <td>0.0</td>\n",
       "      <td>0.0</td>\n",
       "      <td>0.0</td>\n",
       "      <td>0.0</td>\n",
       "      <td>0.0</td>\n",
       "      <td>0.0</td>\n",
       "    </tr>\n",
       "  </tbody>\n",
       "</table>\n",
       "<p>3 rows × 78 columns</p>\n",
       "</div>"
      ],
      "text/plain": [
       "        lat       lng  permit   judge  violation  crime_0  crime_1  crime_2  \\\n",
       "0  0.714869  0.903169     1.0  360.00        2.0      0.0      0.0      0.0   \n",
       "1  0.720103  0.750076     1.0  346.25        8.0      0.0      0.0      0.0   \n",
       "2  0.761821  0.905622     1.0    0.00        0.0      0.0      0.0      0.0   \n",
       "\n",
       "   crime_3  crime_4   ...    311_13  311_14  311_15  311_16  311_17  311_18  \\\n",
       "0      0.0      0.0   ...       0.0     0.0     0.0     0.0     0.0     0.0   \n",
       "1      1.0      0.0   ...       0.0     0.0     0.0     0.0     0.0     0.0   \n",
       "2      0.0      0.0   ...       0.0     0.0     0.0     0.0     0.0     0.0   \n",
       "\n",
       "   311_19  311_20  311_21  311_22  \n",
       "0     0.0     0.0     0.0     0.0  \n",
       "1     0.0     0.0     0.0     0.0  \n",
       "2     0.0     0.0     0.0     0.0  \n",
       "\n",
       "[3 rows x 78 columns]"
      ]
     },
     "execution_count": 16,
     "metadata": {},
     "output_type": "execute_result"
    }
   ],
   "source": [
    "clusters.head(3)"
   ]
  },
  {
   "cell_type": "markdown",
   "metadata": {},
   "source": [
    "### balance the positive and negative sample"
   ]
  },
  {
   "cell_type": "code",
   "execution_count": 17,
   "metadata": {
    "collapsed": true
   },
   "outputs": [],
   "source": [
    "def balanced_dtrain(raw, clf=True, sample=True, target='permit'):\n",
    "    non_zero = raw[raw.sum(axis=1)!=0].copy()\n",
    "    if clf:\n",
    "        non_zero[target] = non_zero[target]>0\n",
    "    positive = non_zero[non_zero[target]>0]\n",
    "    negative = non_zero[non_zero[target]==0]\n",
    "    if sample:\n",
    "        negative = negative.sample(len(positive))\n",
    "    return pd.concat([negative,positive]).sort_index()"
   ]
  },
  {
   "cell_type": "code",
   "execution_count": 18,
   "metadata": {
    "collapsed": true
   },
   "outputs": [],
   "source": [
    "dataset = balanced_dtrain(clusters).drop(['lat','lng'],axis=1)\n",
    "X = dataset.drop('permit',axis=1)\n",
    "y = dataset['permit']"
   ]
  },
  {
   "cell_type": "code",
   "execution_count": 19,
   "metadata": {
    "collapsed": false
   },
   "outputs": [
    {
     "data": {
      "text/html": [
       "<div>\n",
       "<table border=\"1\" class=\"dataframe\">\n",
       "  <thead>\n",
       "    <tr style=\"text-align: right;\">\n",
       "      <th></th>\n",
       "      <th>judge</th>\n",
       "      <th>violation</th>\n",
       "      <th>crime_0</th>\n",
       "      <th>crime_1</th>\n",
       "      <th>crime_2</th>\n",
       "      <th>crime_3</th>\n",
       "      <th>crime_4</th>\n",
       "      <th>crime_5</th>\n",
       "      <th>crime_6</th>\n",
       "      <th>crime_7</th>\n",
       "      <th>...</th>\n",
       "      <th>311_13</th>\n",
       "      <th>311_14</th>\n",
       "      <th>311_15</th>\n",
       "      <th>311_16</th>\n",
       "      <th>311_17</th>\n",
       "      <th>311_18</th>\n",
       "      <th>311_19</th>\n",
       "      <th>311_20</th>\n",
       "      <th>311_21</th>\n",
       "      <th>311_22</th>\n",
       "    </tr>\n",
       "  </thead>\n",
       "  <tbody>\n",
       "    <tr>\n",
       "      <th>0</th>\n",
       "      <td>360.00</td>\n",
       "      <td>2.0</td>\n",
       "      <td>0.0</td>\n",
       "      <td>0.0</td>\n",
       "      <td>0.0</td>\n",
       "      <td>0.0</td>\n",
       "      <td>0.0</td>\n",
       "      <td>0.0</td>\n",
       "      <td>0.0</td>\n",
       "      <td>0.0</td>\n",
       "      <td>...</td>\n",
       "      <td>0.0</td>\n",
       "      <td>0.0</td>\n",
       "      <td>0.0</td>\n",
       "      <td>0.0</td>\n",
       "      <td>0.0</td>\n",
       "      <td>0.0</td>\n",
       "      <td>0.0</td>\n",
       "      <td>0.0</td>\n",
       "      <td>0.0</td>\n",
       "      <td>0.0</td>\n",
       "    </tr>\n",
       "    <tr>\n",
       "      <th>1</th>\n",
       "      <td>346.25</td>\n",
       "      <td>8.0</td>\n",
       "      <td>0.0</td>\n",
       "      <td>0.0</td>\n",
       "      <td>0.0</td>\n",
       "      <td>1.0</td>\n",
       "      <td>0.0</td>\n",
       "      <td>0.0</td>\n",
       "      <td>0.0</td>\n",
       "      <td>0.0</td>\n",
       "      <td>...</td>\n",
       "      <td>0.0</td>\n",
       "      <td>0.0</td>\n",
       "      <td>0.0</td>\n",
       "      <td>0.0</td>\n",
       "      <td>0.0</td>\n",
       "      <td>0.0</td>\n",
       "      <td>0.0</td>\n",
       "      <td>0.0</td>\n",
       "      <td>0.0</td>\n",
       "      <td>0.0</td>\n",
       "    </tr>\n",
       "    <tr>\n",
       "      <th>2</th>\n",
       "      <td>0.00</td>\n",
       "      <td>0.0</td>\n",
       "      <td>0.0</td>\n",
       "      <td>0.0</td>\n",
       "      <td>0.0</td>\n",
       "      <td>0.0</td>\n",
       "      <td>0.0</td>\n",
       "      <td>0.0</td>\n",
       "      <td>0.0</td>\n",
       "      <td>0.0</td>\n",
       "      <td>...</td>\n",
       "      <td>0.0</td>\n",
       "      <td>0.0</td>\n",
       "      <td>0.0</td>\n",
       "      <td>0.0</td>\n",
       "      <td>0.0</td>\n",
       "      <td>0.0</td>\n",
       "      <td>0.0</td>\n",
       "      <td>0.0</td>\n",
       "      <td>0.0</td>\n",
       "      <td>0.0</td>\n",
       "    </tr>\n",
       "  </tbody>\n",
       "</table>\n",
       "<p>3 rows × 75 columns</p>\n",
       "</div>"
      ],
      "text/plain": [
       "    judge  violation  crime_0  crime_1  crime_2  crime_3  crime_4  crime_5  \\\n",
       "0  360.00        2.0      0.0      0.0      0.0      0.0      0.0      0.0   \n",
       "1  346.25        8.0      0.0      0.0      0.0      1.0      0.0      0.0   \n",
       "2    0.00        0.0      0.0      0.0      0.0      0.0      0.0      0.0   \n",
       "\n",
       "   crime_6  crime_7   ...    311_13  311_14  311_15  311_16  311_17  311_18  \\\n",
       "0      0.0      0.0   ...       0.0     0.0     0.0     0.0     0.0     0.0   \n",
       "1      0.0      0.0   ...       0.0     0.0     0.0     0.0     0.0     0.0   \n",
       "2      0.0      0.0   ...       0.0     0.0     0.0     0.0     0.0     0.0   \n",
       "\n",
       "   311_19  311_20  311_21  311_22  \n",
       "0     0.0     0.0     0.0     0.0  \n",
       "1     0.0     0.0     0.0     0.0  \n",
       "2     0.0     0.0     0.0     0.0  \n",
       "\n",
       "[3 rows x 75 columns]"
      ]
     },
     "execution_count": 19,
     "metadata": {},
     "output_type": "execute_result"
    }
   ],
   "source": [
    "X.head(3)"
   ]
  },
  {
   "cell_type": "code",
   "execution_count": 20,
   "metadata": {
    "collapsed": false
   },
   "outputs": [
    {
     "data": {
      "text/plain": [
       "0    True\n",
       "1    True\n",
       "2    True\n",
       "Name: permit, dtype: bool"
      ]
     },
     "execution_count": 20,
     "metadata": {},
     "output_type": "execute_result"
    }
   ],
   "source": [
    "y.head(3)"
   ]
  },
  {
   "cell_type": "markdown",
   "metadata": {},
   "source": [
    "# 3.Use the best model found by Cross Validation Searching"
   ]
  },
  {
   "cell_type": "code",
   "execution_count": 21,
   "metadata": {
    "collapsed": true
   },
   "outputs": [],
   "source": [
    "clf = GradientBoostingClassifier(n_estimators=100,max_depth=1)"
   ]
  },
  {
   "cell_type": "code",
   "execution_count": 22,
   "metadata": {
    "collapsed": false
   },
   "outputs": [
    {
     "name": "stdout",
     "output_type": "stream",
     "text": [
      "Accuracy: 0.758794910946\n"
     ]
    }
   ],
   "source": [
    "print \"Accuracy:\", cross_val_score(clf, X, y, cv=5).mean()"
   ]
  },
  {
   "cell_type": "code",
   "execution_count": 23,
   "metadata": {
    "collapsed": false
   },
   "outputs": [
    {
     "name": "stdout",
     "output_type": "stream",
     "text": [
      "AUC: 0.778558885367\n"
     ]
    }
   ],
   "source": [
    "print \"AUC:\", cross_val_score(clf, X, y, cv=5,scoring=\"roc_auc\").mean()"
   ]
  },
  {
   "cell_type": "markdown",
   "metadata": {},
   "source": [
    "# Conclusion"
   ]
  },
  {
   "cell_type": "markdown",
   "metadata": {},
   "source": [
    "So far, we get a working model, not consider the time.\n",
    "\n",
    "This model means, by the October of 2015, the accuracy of our model is about 76%."
   ]
  },
  {
   "cell_type": "markdown",
   "metadata": {},
   "source": [
    "# The idea which hasn't been tested, but may work"
   ]
  },
  {
   "cell_type": "markdown",
   "metadata": {},
   "source": [
    "The model can be improve to some degree, by:\n",
    "\n",
    "* Clean the address better\n",
    "* Consider time to get more training data\n",
    "* Consider the spatial decay of the incident\n",
    "* Use convnet to capture the spatial relationship"
   ]
  },
  {
   "cell_type": "code",
   "execution_count": null,
   "metadata": {
    "collapsed": true
   },
   "outputs": [],
   "source": []
  }
 ],
 "metadata": {
  "kernelspec": {
   "display_name": "Python 2",
   "language": "python",
   "name": "python2"
  },
  "language_info": {
   "codemirror_mode": {
    "name": "ipython",
    "version": 2
   },
   "file_extension": ".py",
   "mimetype": "text/x-python",
   "name": "python",
   "nbconvert_exporter": "python",
   "pygments_lexer": "ipython2",
   "version": "2.7.11"
  }
 },
 "nbformat": 4,
 "nbformat_minor": 0
}
