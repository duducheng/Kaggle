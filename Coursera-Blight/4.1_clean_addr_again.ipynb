{
 "cells": [
  {
   "cell_type": "code",
   "execution_count": 1,
   "metadata": {
    "collapsed": true
   },
   "outputs": [],
   "source": [
    "import pandas as pd\n",
    "from geopy.geocoders import Nominatim"
   ]
  },
  {
   "cell_type": "code",
   "execution_count": 2,
   "metadata": {
    "collapsed": true
   },
   "outputs": [],
   "source": [
    "def clean_again(df):\n",
    "    assert df['lat'].isnull().sum() == df['lng'].isnull().sum(), 'input: lat(%d) and lng(%d) must be equal' % (df['lat'].isnull().sum(), df['lng'].isnull().sum())\n",
    "    to_clean = df[df['turst']==False].copy()\n",
    "    print 'Remain:', (to_clean['turst'] == False).sum()\n",
    "    tursted = df[df['turst']==True].copy()\n",
    "    for idx in to_clean.index:\n",
    "        geolocator = Nominatim()\n",
    "        addr = to_clean.loc[idx,'addr'] + ', Detroit'\n",
    "        try:\n",
    "            loc = geolocator.geocode(addr) \n",
    "            if loc is None:\n",
    "                print 'Cannot parse %s' % addr\n",
    "            else:\n",
    "                lat, lng = float(loc.latitude), float(loc.longitude)\n",
    "                if lat is not None and lng is not None:\n",
    "                    to_clean.loc[idx,'lat'] = lat\n",
    "                    to_clean.loc[idx,'lng'] = lng\n",
    "            to_clean.loc[idx,'turst'] = True\n",
    "        except Exception as e:\n",
    "            print 'Exception: %s, maybe service time out.' % e\n",
    "            break\n",
    "    print 'Remain:', (to_clean['turst'] == False).sum()\n",
    "    res = pd.concat([tursted, to_clean]).sort_index()\n",
    "    assert res['lat'].isnull().sum() == res['lng'].isnull().sum(), 'output: lat(%d) and lng(%d) must be equal' % (res['lat'].isnull().sum(), res['lng'].isnull().sum())\n",
    "    return res"
   ]
  },
  {
   "cell_type": "code",
   "execution_count": 3,
   "metadata": {
    "collapsed": false
   },
   "outputs": [],
   "source": [
    "clean_permit = pd.read_csv('clean/permit.csv',index_col=0)"
   ]
  },
  {
   "cell_type": "code",
   "execution_count": 29,
   "metadata": {
    "collapsed": false
   },
   "outputs": [
    {
     "name": "stdout",
     "output_type": "stream",
     "text": [
      "Remain: 192\n",
      "Exception: Service timed out, maybe service time out.\n",
      "Remain: 192\n"
     ]
    }
   ],
   "source": [
    "clean_permit = clean_again(clean_permit)"
   ]
  },
  {
   "cell_type": "code",
   "execution_count": 25,
   "metadata": {
    "collapsed": true
   },
   "outputs": [],
   "source": [
    "clean_permit.to_csv('clean/permit.csv')"
   ]
  },
  {
   "cell_type": "code",
   "execution_count": 26,
   "metadata": {
    "collapsed": true
   },
   "outputs": [],
   "source": [
    "clean_violation = pd.read_csv('clean/violation.csv',index_col=0)"
   ]
  },
  {
   "cell_type": "code",
   "execution_count": 30,
   "metadata": {
    "collapsed": false
   },
   "outputs": [
    {
     "name": "stdout",
     "output_type": "stream",
     "text": [
      "Remain: 20853\n",
      "Exception: Service timed out, maybe service time out.\n",
      "Remain: 20853\n"
     ]
    }
   ],
   "source": [
    "clean_violation = clean_again(clean_violation)"
   ]
  },
  {
   "cell_type": "code",
   "execution_count": 28,
   "metadata": {
    "collapsed": true
   },
   "outputs": [],
   "source": [
    "clean_violation.to_csv('clean/violation.csv')"
   ]
  },
  {
   "cell_type": "code",
   "execution_count": null,
   "metadata": {
    "collapsed": true
   },
   "outputs": [],
   "source": []
  }
 ],
 "metadata": {
  "kernelspec": {
   "display_name": "Python 2",
   "language": "python",
   "name": "python2"
  },
  "language_info": {
   "codemirror_mode": {
    "name": "ipython",
    "version": 2
   },
   "file_extension": ".py",
   "mimetype": "text/x-python",
   "name": "python",
   "nbconvert_exporter": "python",
   "pygments_lexer": "ipython2",
   "version": "2.7.11"
  }
 },
 "nbformat": 4,
 "nbformat_minor": 0
}
