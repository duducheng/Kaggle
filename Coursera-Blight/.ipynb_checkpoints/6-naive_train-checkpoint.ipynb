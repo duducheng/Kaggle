{
 "cells": [
  {
   "cell_type": "code",
   "execution_count": 79,
   "metadata": {
    "collapsed": false
   },
   "outputs": [
    {
     "name": "stdout",
     "output_type": "stream",
     "text": [
      "The autoreload extension is already loaded. To reload it, use:\n",
      "  %reload_ext autoreload\n"
     ]
    }
   ],
   "source": [
    "# Basic\n",
    "from datetime import datetime, timedelta\n",
    "import time\n",
    "\n",
    "# Data Analysis Specific\n",
    "import numpy as np\n",
    "import pandas as pd\n",
    "import matplotlib.pyplot as plt\n",
    "import seaborn as sns\n",
    "from dateutil.parser import parse as date_parser\n",
    "from geopy.geocoders import Nominatim\n",
    "\n",
    "# Marchine Learning Specific\n",
    "from sklearn.ensemble import RandomForestRegressor,RandomForestClassifier, AdaBoostClassifier\n",
    "from sklearn.svm import SVR,SVC\n",
    "from sklearn.neighbors import KNeighborsClassifier\n",
    "from sklearn.cross_validation import train_test_split,cross_val_score\n",
    "\n",
    "# IPython magic\n",
    "%matplotlib inline\n",
    "%load_ext autoreload\n",
    "%autoreload 2"
   ]
  },
  {
   "cell_type": "code",
   "execution_count": 2,
   "metadata": {
    "collapsed": false
   },
   "outputs": [
    {
     "name": "stdout",
     "output_type": "stream",
     "text": [
      "200 400 0.5\n"
     ]
    }
   ],
   "source": [
    "DATA_PATH = './data/'\n",
    "DETROIT_LAT = (42.252, 42.452)\n",
    "DETROIT_LNG = (-83.295, -82.895)\n",
    "SIZE_RATIO = 1000\n",
    "DETROIT_WIDTH = 200\n",
    "DETROIT_HEIGHT = 400\n",
    "print DETROIT_WIDTH, DETROIT_HEIGHT, float(DETROIT_WIDTH)/DETROIT_HEIGHT"
   ]
  },
  {
   "cell_type": "code",
   "execution_count": 3,
   "metadata": {
    "collapsed": false
   },
   "outputs": [],
   "source": [
    "clean_permit = pd.read_csv('clean/permit.csv',index_col=0)\n",
    "clean_violation = pd.read_csv('clean/violation.csv',index_col=0)\n",
    "clean_crime = pd.read_csv('clean/crime.csv',index_col=0)\n",
    "clean_311 = pd.read_csv('clean/311.csv',index_col=0)"
   ]
  },
  {
   "cell_type": "code",
   "execution_count": 4,
   "metadata": {
    "collapsed": false
   },
   "outputs": [],
   "source": [
    "def generateDataMap(data, feature='Count'):\n",
    "    data = data.copy()\n",
    "    if feature == 'Count':\n",
    "        data['Count'] = 1\n",
    "    data_map = np.zeros(shape=(int(DETROIT_WIDTH),int(DETROIT_HEIGHT)))\n",
    "    for row in range(len(data)):\n",
    "        lat, lng = data.ix[row,'lat'],data.ix[row,'lng']\n",
    "        if DETROIT_LAT[0]<= lat < DETROIT_LAT[1] and DETROIT_LNG[0]<= lng < DETROIT_LNG[1]:\n",
    "            r = int((lat - DETROIT_LAT[0])*SIZE_RATIO) \n",
    "            c = int((lng - DETROIT_LNG[0])*SIZE_RATIO)\n",
    "            data_map[r,c] += data.ix[row,feature]\n",
    "    return data_map   "
   ]
  },
  {
   "cell_type": "code",
   "execution_count": 5,
   "metadata": {
    "collapsed": false
   },
   "outputs": [],
   "source": [
    "map_vj = generateDataMap(clean_violation, 'JudgeAmt')\n",
    "map_v = generateDataMap(clean_violation)\n",
    "map_t = generateDataMap(clean_311)\n",
    "map_c = generateDataMap(clean_crime)\n",
    "map_p = generateDataMap(clean_permit)"
   ]
  },
  {
   "cell_type": "code",
   "execution_count": 9,
   "metadata": {
    "collapsed": true
   },
   "outputs": [],
   "source": [
    "def generateDataMapFrame(data_map,feature):\n",
    "    lat = range(data_map.shape[0])\n",
    "    lng = range(data_map.shape[1])\n",
    "    data_map_frame = pd.DataFrame()\n",
    "    data_map_frame['lat'] = reduce(lambda x,y: x+y,map(lambda x: [x]*data_map.shape[1], lat))\n",
    "    data_map_frame['lng'] = lng*data_map.shape[0]\n",
    "    data_map_frame[feature] = data_map.flatten('C')\n",
    "    return data_map_frame.drop(['lat','lng'],axis=1)"
   ]
  },
  {
   "cell_type": "code",
   "execution_count": 52,
   "metadata": {
    "collapsed": true
   },
   "outputs": [],
   "source": [
    "frame_vj = generateDataMapFrame(map_vj, 'vj')\n",
    "frame_v = generateDataMapFrame(map_v, 'v')\n",
    "frame_p = generateDataMapFrame(map_p, 'p')\n",
    "frame_c = generateDataMapFrame(map_c, 'c')\n",
    "frame_t = generateDataMapFrame(map_t, 't')"
   ]
  },
  {
   "cell_type": "code",
   "execution_count": 53,
   "metadata": {
    "collapsed": false
   },
   "outputs": [],
   "source": [
    "raw_train = pd.concat([frame_vj,frame_v,frame_p,frame_c,frame_t],axis=1)"
   ]
  },
  {
   "cell_type": "code",
   "execution_count": 46,
   "metadata": {
    "collapsed": false
   },
   "outputs": [],
   "source": [
    "def balanced_dtrain(raw, clf=True):\n",
    "    non_zero = raw[raw.sum(axis=1)!=0].copy()\n",
    "    if clf:\n",
    "        non_zero['p'] = non_zero['p']>0\n",
    "    positive = non_zero[non_zero['p']>0]\n",
    "    negative = non_zero[non_zero['p']==0]\n",
    "    sample_n = negative.sample(len(positive))\n",
    "    return pd.concat([sample_n,positive]).sort_index()"
   ]
  },
  {
   "cell_type": "code",
   "execution_count": 54,
   "metadata": {
    "collapsed": false
   },
   "outputs": [],
   "source": [
    "dtrain = balanced_dtrain(raw_train)"
   ]
  },
  {
   "cell_type": "code",
   "execution_count": 55,
   "metadata": {
    "collapsed": false
   },
   "outputs": [],
   "source": [
    "train, test = train_test_split(dtrain, test_size = 0.2)"
   ]
  },
  {
   "cell_type": "code",
   "execution_count": 56,
   "metadata": {
    "collapsed": false
   },
   "outputs": [
    {
     "name": "stdout",
     "output_type": "stream",
     "text": [
      "0.921411265899\n"
     ]
    }
   ],
   "source": [
    "rfc = RandomForestClassifier(100)\n",
    "rfc.fit(train.drop('p',axis=1),train['p'])\n",
    "print rfc.score(train.drop('p',axis=1),train['p'])\n",
    "# print ((rfr.predict(dtrain[['vj','v']])>0) == (dtrain['p']>0)).sum()/len(dtrain)"
   ]
  },
  {
   "cell_type": "code",
   "execution_count": 57,
   "metadata": {
    "collapsed": false
   },
   "outputs": [
    {
     "data": {
      "text/plain": [
       "0.58958837772397099"
      ]
     },
     "execution_count": 57,
     "metadata": {},
     "output_type": "execute_result"
    }
   ],
   "source": [
    "rfc.score(test.drop('p',axis=1),test['p'])"
   ]
  },
  {
   "cell_type": "code",
   "execution_count": 72,
   "metadata": {
    "collapsed": false
   },
   "outputs": [
    {
     "name": "stdout",
     "output_type": "stream",
     "text": [
      "0.662174439733\n"
     ]
    }
   ],
   "source": [
    "adbc = AdaBoostClassifier(n_estimators=2000)\n",
    "adbc.fit(train.drop('p',axis=1),train['p'])\n",
    "print adbc.score(train.drop('p',axis=1),train['p'])"
   ]
  },
  {
   "cell_type": "code",
   "execution_count": 73,
   "metadata": {
    "collapsed": false
   },
   "outputs": [
    {
     "name": "stdout",
     "output_type": "stream",
     "text": [
      "0.621670702179\n"
     ]
    }
   ],
   "source": [
    "print adbc.score(test.drop('p',axis=1),test['p'])"
   ]
  },
  {
   "cell_type": "code",
   "execution_count": 84,
   "metadata": {
    "collapsed": false
   },
   "outputs": [
    {
     "data": {
      "text/plain": [
       "0.62609846650524614"
      ]
     },
     "execution_count": 84,
     "metadata": {},
     "output_type": "execute_result"
    }
   ],
   "source": [
    "clf = AdaBoostClassifier(n_estimators=2000)\n",
    "cross_val_score(clf, dtrain.drop('p',axis=1),dtrain['p'], cv=5).mean()"
   ]
  },
  {
   "cell_type": "code",
   "execution_count": null,
   "metadata": {
    "collapsed": false
   },
   "outputs": [
    {
     "data": {
      "text/plain": [
       "0.59799691833590141"
      ]
     },
     "execution_count": 85,
     "metadata": {},
     "output_type": "execute_result"
    }
   ],
   "source": [
    "clf = RandomForestClassifier(n_estimators=500)\n",
    "cross_val_score(clf, dtrain.drop('p',axis=1),dtrain['p'], cv=5).mean()"
   ]
  },
  {
   "cell_type": "code",
   "execution_count": null,
   "metadata": {
    "collapsed": true
   },
   "outputs": [],
   "source": [
    "clf = SVC(kernel='linear')\n",
    "cross_val_score(clf, dtrain.drop('p',axis=1),dtrain['p'], cv=5).mean()"
   ]
  },
  {
   "cell_type": "code",
   "execution_count": null,
   "metadata": {
    "collapsed": true
   },
   "outputs": [],
   "source": []
  }
 ],
 "metadata": {
  "kernelspec": {
   "display_name": "Python 2",
   "language": "python",
   "name": "python2"
  },
  "language_info": {
   "codemirror_mode": {
    "name": "ipython",
    "version": 2
   },
   "file_extension": ".py",
   "mimetype": "text/x-python",
   "name": "python",
   "nbconvert_exporter": "python",
   "pygments_lexer": "ipython2",
   "version": "2.7.11"
  }
 },
 "nbformat": 4,
 "nbformat_minor": 0
}
