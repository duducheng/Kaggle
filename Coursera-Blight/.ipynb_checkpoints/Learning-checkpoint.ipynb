{
 "cells": [
  {
   "cell_type": "code",
   "execution_count": 32,
   "metadata": {
    "collapsed": false
   },
   "outputs": [],
   "source": [
    "import numpy as np\n",
    "import pandas as pd\n",
    "from sklearn.neighbors import NearestNeighbors\n",
    "from sklearn.ensemble import GradientBoostingClassifier\n",
    "from sklearn.cross_validation import cross_val_score, train_test_split"
   ]
  },
  {
   "cell_type": "markdown",
   "metadata": {},
   "source": [
    "# Get the cleaned data\n",
    "\n",
    "These cleaned data, was made in many steps. I tried to make them:\n",
    "* Get rid of some \"strange\" data, like the default value of detroit city. Some of them were cleaned by their address.\n",
    "* Get rid of some points that seems far from Detroit\n",
    "* Normalize the lat, lng with Max-Min.\n",
    "* In the building list, the addresses have been cleaned"
   ]
  },
  {
   "cell_type": "code",
   "execution_count": 19,
   "metadata": {
    "collapsed": true
   },
   "outputs": [],
   "source": [
    "clean_permit = pd.read_pickle('clean/permit.pickle')\n",
    "clean_violation = pd.read_pickle('clean/violation.pickle') \n",
    "clean_crime = pd.read_pickle('clean/crime.pickle')\n",
    "clean_311 = pd.read_pickle('clean/311.pickle')\n",
    "clusters = pd.read_csv('clean/buildings.csv')[['lat','lng']]"
   ]
  },
  {
   "cell_type": "code",
   "execution_count": 20,
   "metadata": {
    "collapsed": true
   },
   "outputs": [],
   "source": [
    "# only use the data after the year of 2005\n",
    "clean_permit, clean_violation, clean_crime, clean_311 = map(lambda df: df[df.date.map(lambda x: x.year)>=2005],\n",
    "                                                            [clean_permit, clean_violation, clean_crime, clean_311])"
   ]
  },
  {
   "cell_type": "code",
   "execution_count": 21,
   "metadata": {
    "collapsed": true
   },
   "outputs": [],
   "source": [
    "nbrs = NearestNeighbors(n_neighbors=1).fit(clusters)\n",
    "def find_nearest(df):\n",
    "    distances, indices = nbrs.kneighbors(df[['lat','lng']])\n",
    "    df['neighbor'] = indices\n",
    "    return df\n",
    "\n",
    "clean_permit, clean_violation, clean_crime, clean_311 = map(find_nearest,[clean_permit, clean_violation, clean_crime, clean_311])"
   ]
  },
  {
   "cell_type": "code",
   "execution_count": 22,
   "metadata": {
    "collapsed": false
   },
   "outputs": [],
   "source": [
    "clusters['judge'] = clean_violation.groupby('neighbor').apply(lambda g: g['JudgeAmt'].mean())\n",
    "clusters['violation'] = clean_violation.groupby('neighbor').apply(lambda g: g['JudgeAmt'].count())"
   ]
  },
  {
   "cell_type": "code",
   "execution_count": 23,
   "metadata": {
    "collapsed": true
   },
   "outputs": [],
   "source": [
    "clusters['permit'] = clean_permit.groupby('neighbor').apply(lambda g: g['addr'].count())\n",
    "clusters['permit'] = clusters['permit'].fillna(0)"
   ]
  },
  {
   "cell_type": "code",
   "execution_count": 24,
   "metadata": {
    "collapsed": true
   },
   "outputs": [],
   "source": [
    "clusters = pd.concat([clusters,pd.get_dummies(clean_crime['Category'],prefix='crime').groupby(clean_crime['neighbor']).sum()],axis=1)\n",
    "clusters = clusters.fillna(0)"
   ]
  },
  {
   "cell_type": "code",
   "execution_count": 25,
   "metadata": {
    "collapsed": true
   },
   "outputs": [],
   "source": [
    "clusters = pd.concat([clusters,pd.get_dummies(clean_311['Category'],prefix='311').groupby(clean_311['neighbor']).sum()],axis=1)\n",
    "clusters = clusters.fillna(0)"
   ]
  },
  {
   "cell_type": "code",
   "execution_count": 26,
   "metadata": {
    "collapsed": true
   },
   "outputs": [],
   "source": [
    "# clusters['crime'] = clean_crime.groupby('neighbor').apply(lambda g: g['Category'].count())\n",
    "# clusters['crime'] = clusters['crime'].fillna(0)"
   ]
  },
  {
   "cell_type": "code",
   "execution_count": 31,
   "metadata": {
    "collapsed": false
   },
   "outputs": [
    {
     "data": {
      "text/html": [
       "<div>\n",
       "<table border=\"1\" class=\"dataframe\">\n",
       "  <thead>\n",
       "    <tr style=\"text-align: right;\">\n",
       "      <th></th>\n",
       "      <th>lat</th>\n",
       "      <th>lng</th>\n",
       "      <th>judge</th>\n",
       "      <th>violation</th>\n",
       "      <th>permit</th>\n",
       "      <th>crime_0</th>\n",
       "      <th>crime_1</th>\n",
       "      <th>crime_2</th>\n",
       "      <th>crime_3</th>\n",
       "      <th>crime_4</th>\n",
       "      <th>...</th>\n",
       "      <th>311_13</th>\n",
       "      <th>311_14</th>\n",
       "      <th>311_15</th>\n",
       "      <th>311_16</th>\n",
       "      <th>311_17</th>\n",
       "      <th>311_18</th>\n",
       "      <th>311_19</th>\n",
       "      <th>311_20</th>\n",
       "      <th>311_21</th>\n",
       "      <th>311_22</th>\n",
       "    </tr>\n",
       "  </thead>\n",
       "  <tbody>\n",
       "    <tr>\n",
       "      <th>0</th>\n",
       "      <td>0.714869</td>\n",
       "      <td>0.903169</td>\n",
       "      <td>360.00</td>\n",
       "      <td>2.0</td>\n",
       "      <td>1.0</td>\n",
       "      <td>0.0</td>\n",
       "      <td>0.0</td>\n",
       "      <td>0.0</td>\n",
       "      <td>0.0</td>\n",
       "      <td>0.0</td>\n",
       "      <td>...</td>\n",
       "      <td>0.0</td>\n",
       "      <td>0.0</td>\n",
       "      <td>0.0</td>\n",
       "      <td>0.0</td>\n",
       "      <td>0.0</td>\n",
       "      <td>0.0</td>\n",
       "      <td>0.0</td>\n",
       "      <td>0.0</td>\n",
       "      <td>0.0</td>\n",
       "      <td>0.0</td>\n",
       "    </tr>\n",
       "    <tr>\n",
       "      <th>1</th>\n",
       "      <td>0.720103</td>\n",
       "      <td>0.750076</td>\n",
       "      <td>346.25</td>\n",
       "      <td>8.0</td>\n",
       "      <td>1.0</td>\n",
       "      <td>0.0</td>\n",
       "      <td>0.0</td>\n",
       "      <td>0.0</td>\n",
       "      <td>1.0</td>\n",
       "      <td>0.0</td>\n",
       "      <td>...</td>\n",
       "      <td>0.0</td>\n",
       "      <td>0.0</td>\n",
       "      <td>0.0</td>\n",
       "      <td>0.0</td>\n",
       "      <td>0.0</td>\n",
       "      <td>0.0</td>\n",
       "      <td>0.0</td>\n",
       "      <td>0.0</td>\n",
       "      <td>0.0</td>\n",
       "      <td>0.0</td>\n",
       "    </tr>\n",
       "    <tr>\n",
       "      <th>2</th>\n",
       "      <td>0.761821</td>\n",
       "      <td>0.905622</td>\n",
       "      <td>0.00</td>\n",
       "      <td>0.0</td>\n",
       "      <td>1.0</td>\n",
       "      <td>0.0</td>\n",
       "      <td>0.0</td>\n",
       "      <td>0.0</td>\n",
       "      <td>0.0</td>\n",
       "      <td>0.0</td>\n",
       "      <td>...</td>\n",
       "      <td>0.0</td>\n",
       "      <td>0.0</td>\n",
       "      <td>0.0</td>\n",
       "      <td>0.0</td>\n",
       "      <td>0.0</td>\n",
       "      <td>0.0</td>\n",
       "      <td>0.0</td>\n",
       "      <td>0.0</td>\n",
       "      <td>0.0</td>\n",
       "      <td>0.0</td>\n",
       "    </tr>\n",
       "  </tbody>\n",
       "</table>\n",
       "<p>3 rows × 78 columns</p>\n",
       "</div>"
      ],
      "text/plain": [
       "        lat       lng   judge  violation  permit  crime_0  crime_1  crime_2  \\\n",
       "0  0.714869  0.903169  360.00        2.0     1.0      0.0      0.0      0.0   \n",
       "1  0.720103  0.750076  346.25        8.0     1.0      0.0      0.0      0.0   \n",
       "2  0.761821  0.905622    0.00        0.0     1.0      0.0      0.0      0.0   \n",
       "\n",
       "   crime_3  crime_4   ...    311_13  311_14  311_15  311_16  311_17  311_18  \\\n",
       "0      0.0      0.0   ...       0.0     0.0     0.0     0.0     0.0     0.0   \n",
       "1      1.0      0.0   ...       0.0     0.0     0.0     0.0     0.0     0.0   \n",
       "2      0.0      0.0   ...       0.0     0.0     0.0     0.0     0.0     0.0   \n",
       "\n",
       "   311_19  311_20  311_21  311_22  \n",
       "0     0.0     0.0     0.0     0.0  \n",
       "1     0.0     0.0     0.0     0.0  \n",
       "2     0.0     0.0     0.0     0.0  \n",
       "\n",
       "[3 rows x 78 columns]"
      ]
     },
     "execution_count": 31,
     "metadata": {},
     "output_type": "execute_result"
    }
   ],
   "source": [
    "clusters.head(3)"
   ]
  },
  {
   "cell_type": "code",
   "execution_count": 44,
   "metadata": {
    "collapsed": true
   },
   "outputs": [],
   "source": [
    "def balanced_dtrain(raw, clf=True, sample=True, target='permit'):\n",
    "    non_zero = raw[raw.sum(axis=1)!=0].copy()\n",
    "    if clf:\n",
    "        non_zero[target] = non_zero[target]>0\n",
    "    positive = non_zero[non_zero[target]>0]\n",
    "    negative = non_zero[non_zero[target]==0]\n",
    "    if sample:\n",
    "        negative = negative.sample(len(positive))\n",
    "    return pd.concat([negative,positive]).sort_index()"
   ]
  },
  {
   "cell_type": "code",
   "execution_count": 45,
   "metadata": {
    "collapsed": true
   },
   "outputs": [],
   "source": [
    "dataset = balanced_dtrain(clusters).drop(['lat','lng'],axis=1)\n",
    "X = dataset.drop('permit',axis=1)\n",
    "y = dataset['permit']"
   ]
  },
  {
   "cell_type": "markdown",
   "metadata": {},
   "source": [
    "# MLTK is a my toolkit based on sklearn, developping.\n",
    "SkPipeline is a pipeline for machine learning, including:\n",
    "* Scale the data\n",
    "* Cross validation search\n",
    "* Then just the normal sklearn model"
   ]
  },
  {
   "cell_type": "code",
   "execution_count": 46,
   "metadata": {
    "collapsed": true
   },
   "outputs": [],
   "source": [
    "from MLTK import SkPipeline"
   ]
  },
  {
   "cell_type": "code",
   "execution_count": 47,
   "metadata": {
    "collapsed": false
   },
   "outputs": [
    {
     "name": "stdout",
     "output_type": "stream",
     "text": [
      "Best: GradientBoostingClassifier(init=None, learning_rate=0.1, loss='deviance',\n",
      "              max_depth=1, max_features=None, max_leaf_nodes=None,\n",
      "              min_samples_leaf=1, min_samples_split=2,\n",
      "              min_weight_fraction_leaf=0.0, n_estimators=100,\n",
      "              presort='auto', random_state=None, subsample=1.0, verbose=0,\n",
      "              warm_start=False)\n"
     ]
    },
    {
     "data": {
      "text/plain": [
       "0.76306248667093202"
      ]
     },
     "execution_count": 47,
     "metadata": {},
     "output_type": "execute_result"
    }
   ],
   "source": [
    "clf = SkPipeline(GradientBoostingClassifier)(method=\"Grid\",cv=5,n_estimators=[100,300,700,1500],max_depth=[1,2,3,4]).fit(X,y)\n",
    "clf.score(X,y)"
   ]
  },
  {
   "cell_type": "code",
   "execution_count": 43,
   "metadata": {
    "collapsed": false
   },
   "outputs": [
    {
     "name": "stdout",
     "output_type": "stream",
     "text": [
      "Best: GradientBoostingClassifier(init=None, learning_rate=0.1, loss='deviance',\n",
      "              max_depth=3, max_features=None, max_leaf_nodes=None,\n",
      "              min_samples_leaf=1, min_samples_split=2,\n",
      "              min_weight_fraction_leaf=0.0, n_estimators=100,\n",
      "              presort='auto', random_state=None, subsample=1.0, verbose=0,\n",
      "              warm_start=False)\n"
     ]
    },
    {
     "data": {
      "text/plain": [
       "0.77010023459159738"
      ]
     },
     "execution_count": 43,
     "metadata": {},
     "output_type": "execute_result"
    }
   ],
   "source": [
    "clf = SkPipeline(GradientBoostingClassifier)(scoring=\"roc_auc\",method=\"Grid\",cv=5,n_estimators=[100,300,700,1500],max_depth=[1,2,3,4]).fit(X,y)\n",
    "clf.score(X,y)"
   ]
  },
  {
   "cell_type": "code",
   "execution_count": 36,
   "metadata": {
    "collapsed": false
   },
   "outputs": [
    {
     "data": {
      "text/plain": [
       "0.75495616140975252"
      ]
     },
     "execution_count": 36,
     "metadata": {},
     "output_type": "execute_result"
    }
   ],
   "source": [
    "clf = GradientBoostingClassifier(n_estimators=1000,max_depth=1)\n",
    "cross_val_score(clf, X, y, cv=5).mean()"
   ]
  },
  {
   "cell_type": "code",
   "execution_count": 37,
   "metadata": {
    "collapsed": false
   },
   "outputs": [
    {
     "data": {
      "text/plain": [
       "0.76081992841100188"
      ]
     },
     "execution_count": 37,
     "metadata": {},
     "output_type": "execute_result"
    }
   ],
   "source": [
    "clf = GradientBoostingClassifier(n_estimators=100,max_depth=1)\n",
    "cross_val_score(clf, X, y, cv=5).mean()"
   ]
  },
  {
   "cell_type": "code",
   "execution_count": 38,
   "metadata": {
    "collapsed": false
   },
   "outputs": [
    {
     "data": {
      "text/plain": [
       "0.75612921063230887"
      ]
     },
     "execution_count": 38,
     "metadata": {},
     "output_type": "execute_result"
    }
   ],
   "source": [
    "clf = GradientBoostingClassifier(n_estimators=100,max_depth=2)\n",
    "cross_val_score(clf, X, y, cv=5).mean()"
   ]
  },
  {
   "cell_type": "code",
   "execution_count": 39,
   "metadata": {
    "collapsed": false
   },
   "outputs": [
    {
     "data": {
      "text/plain": [
       "0.7784041026151689"
      ]
     },
     "execution_count": 39,
     "metadata": {},
     "output_type": "execute_result"
    }
   ],
   "source": [
    "clf = GradientBoostingClassifier(n_estimators=1000,max_depth=1)\n",
    "cross_val_score(clf, X, y, cv=5,scoring=\"roc_auc\").mean()"
   ]
  },
  {
   "cell_type": "code",
   "execution_count": 40,
   "metadata": {
    "collapsed": false
   },
   "outputs": [
    {
     "data": {
      "text/plain": [
       "0.78086874947580065"
      ]
     },
     "execution_count": 40,
     "metadata": {},
     "output_type": "execute_result"
    }
   ],
   "source": [
    "clf = GradientBoostingClassifier(n_estimators=100,max_depth=1)\n",
    "cross_val_score(clf, X, y, cv=5,scoring=\"roc_auc\").mean()"
   ]
  },
  {
   "cell_type": "code",
   "execution_count": 41,
   "metadata": {
    "collapsed": false
   },
   "outputs": [
    {
     "data": {
      "text/plain": [
       "0.74823712660967157"
      ]
     },
     "execution_count": 41,
     "metadata": {},
     "output_type": "execute_result"
    }
   ],
   "source": [
    "clf = GradientBoostingClassifier(n_estimators=500,max_depth=3)\n",
    "cross_val_score(clf, X, y, cv=5).mean()"
   ]
  },
  {
   "cell_type": "markdown",
   "metadata": {},
   "source": [
    "# What about unbalanced data?"
   ]
  },
  {
   "cell_type": "code",
   "execution_count": 42,
   "metadata": {
    "collapsed": false
   },
   "outputs": [
    {
     "data": {
      "text/plain": [
       "0.78780872082164344"
      ]
     },
     "execution_count": 42,
     "metadata": {},
     "output_type": "execute_result"
    }
   ],
   "source": [
    "clf = GradientBoostingClassifier(n_estimators=500,max_depth=3)\n",
    "cross_val_score(clf, X, y, cv=5,scoring=\"roc_auc\").mean()"
   ]
  },
  {
   "cell_type": "code",
   "execution_count": 48,
   "metadata": {
    "collapsed": true
   },
   "outputs": [],
   "source": [
    "dataset = balanced_dtrain(clusters,sample=False).drop(['lat','lng'],axis=1)\n",
    "X = dataset.drop('permit',axis=1)\n",
    "y = dataset['permit']"
   ]
  },
  {
   "cell_type": "code",
   "execution_count": 49,
   "metadata": {
    "collapsed": false
   },
   "outputs": [
    {
     "name": "stdout",
     "output_type": "stream",
     "text": [
      "Best: GradientBoostingClassifier(init=None, learning_rate=0.1, loss='deviance',\n",
      "              max_depth=3, max_features=None, max_leaf_nodes=None,\n",
      "              min_samples_leaf=1, min_samples_split=2,\n",
      "              min_weight_fraction_leaf=0.0, n_estimators=700,\n",
      "              presort='auto', random_state=None, subsample=1.0, verbose=0,\n",
      "              warm_start=False)\n"
     ]
    },
    {
     "data": {
      "text/plain": [
       "0.96603879207571819"
      ]
     },
     "execution_count": 49,
     "metadata": {},
     "output_type": "execute_result"
    }
   ],
   "source": [
    "clf = SkPipeline(GradientBoostingClassifier)(method=\"Grid\",cv=5,n_estimators=[100,300,700,1500],max_depth=[1,2,3,4]).fit(X,y)\n",
    "clf.score(X,y)"
   ]
  },
  {
   "cell_type": "code",
   "execution_count": 50,
   "metadata": {
    "collapsed": false
   },
   "outputs": [
    {
     "name": "stdout",
     "output_type": "stream",
     "text": [
      "Best: GradientBoostingClassifier(init=None, learning_rate=0.1, loss='deviance',\n",
      "              max_depth=3, max_features=None, max_leaf_nodes=None,\n",
      "              min_samples_leaf=1, min_samples_split=2,\n",
      "              min_weight_fraction_leaf=0.0, n_estimators=100,\n",
      "              presort='auto', random_state=None, subsample=1.0, verbose=0,\n",
      "              warm_start=False)\n"
     ]
    },
    {
     "data": {
      "text/plain": [
       "0.96400692493494911"
      ]
     },
     "execution_count": 50,
     "metadata": {},
     "output_type": "execute_result"
    }
   ],
   "source": [
    "clf = SkPipeline(GradientBoostingClassifier)(scoring=\"roc_auc\",method=\"Grid\",cv=5,n_estimators=[100,300,700,1500],max_depth=[1,2,3,4]).fit(X,y)\n",
    "clf.score(X,y)"
   ]
  },
  {
   "cell_type": "markdown",
   "metadata": {},
   "source": [
    "# Reset cluster"
   ]
  },
  {
   "cell_type": "code",
   "execution_count": 104,
   "metadata": {
    "collapsed": true
   },
   "outputs": [],
   "source": [
    "clean_permit = pd.read_pickle('clean/permit.pickle')\n",
    "clean_violation = pd.read_pickle('clean/violation.pickle') \n",
    "clean_crime = pd.read_pickle('clean/crime.pickle')\n",
    "clean_311 = pd.read_pickle('clean/311.pickle')\n",
    "clusters = pd.read_csv('clean/buildings.csv')[['lat','lng']]"
   ]
  },
  {
   "cell_type": "code",
   "execution_count": 105,
   "metadata": {
    "collapsed": false
   },
   "outputs": [],
   "source": [
    "n_neighbors = 3\n",
    "nbrs = NearestNeighbors(n_neighbors=n_neighbors).fit(clusters)\n",
    "def find_nearest(df,alpha=100):\n",
    "    distances, indices = nbrs.kneighbors(df[['lat','lng']])\n",
    "    for k, ind in enumerate(indices.T):\n",
    "        df['neighbor_%s'%k] = ind\n",
    "        df['distance_%s'%k] = np.exp(-alpha*distances.T[k])\n",
    "    return df\n",
    "\n",
    "clean_permit, clean_violation, clean_crime, clean_311 = map(find_nearest,[clean_permit, clean_violation, clean_crime, clean_311])"
   ]
  },
  {
   "cell_type": "code",
   "execution_count": 106,
   "metadata": {
    "collapsed": true
   },
   "outputs": [],
   "source": [
    "clusters['permit'] = clean_permit.groupby('neighbor_0').apply(lambda g: g['addr'].count())\n",
    "clusters['permit'] = clusters['permit'].fillna(0) > 0"
   ]
  },
  {
   "cell_type": "code",
   "execution_count": 101,
   "metadata": {
    "collapsed": false
   },
   "outputs": [
    {
     "data": {
      "text/plain": [
       "neighbor_0\n",
       "0         356.307010\n",
       "1         341.885959\n",
       "10        297.001513\n",
       "12        302.624096\n",
       "20        398.183833\n",
       "22        319.443287\n",
       "27        286.704106\n",
       "35       1113.768688\n",
       "42         82.426856\n",
       "44        299.307232\n",
       "50       1672.446580\n",
       "58        860.668878\n",
       "66        274.839168\n",
       "67        370.424763\n",
       "68       1108.003393\n",
       "78         81.954877\n",
       "114       275.852533\n",
       "115       480.542635\n",
       "126       281.461031\n",
       "132      1029.359071\n",
       "135       286.696306\n",
       "140       243.001911\n",
       "161       325.409988\n",
       "172       300.986636\n",
       "176       162.876012\n",
       "178        82.173755\n",
       "183       325.147485\n",
       "204       246.132893\n",
       "205      1403.977421\n",
       "222       565.636964\n",
       "            ...     \n",
       "96433     140.000000\n",
       "96434     140.000000\n",
       "96435     140.000000\n",
       "96436     140.000000\n",
       "96437     140.000000\n",
       "96438     140.000000\n",
       "96439     140.000000\n",
       "96440     140.000000\n",
       "96441     140.000000\n",
       "96442     140.000000\n",
       "96443     140.000000\n",
       "96444     140.000000\n",
       "96445     140.000000\n",
       "96446     140.000000\n",
       "96447     140.000000\n",
       "96448     140.000000\n",
       "96449     140.000000\n",
       "96450     140.000000\n",
       "96451     140.000000\n",
       "96452     140.000000\n",
       "96453     140.000000\n",
       "96454     140.000000\n",
       "96455     140.000000\n",
       "96456     140.000000\n",
       "96457     140.000000\n",
       "96458     140.000000\n",
       "96459     140.000000\n",
       "96460     140.000000\n",
       "96461     140.000000\n",
       "96462     140.000000\n",
       "dtype: float64"
      ]
     },
     "execution_count": 101,
     "metadata": {},
     "output_type": "execute_result"
    }
   ],
   "source": [
    "clusters['permit']\n",
    "for k in range(n_neighbors):\n",
    "    clean_violation.groupby('neighbor_%s'%k).apply(lambda g: (g['JudgeAmt']*g['distance_%s']%k).mean())"
   ]
  },
  {
   "cell_type": "code",
   "execution_count": 96,
   "metadata": {
    "collapsed": false
   },
   "outputs": [
    {
     "data": {
      "text/plain": [
       "count    6859.000000\n",
       "mean        0.993807\n",
       "std         0.033992\n",
       "min         0.505598\n",
       "25%         1.000000\n",
       "50%         1.000000\n",
       "75%         1.000000\n",
       "max         1.000000\n",
       "Name: distance_0, dtype: float64"
      ]
     },
     "execution_count": 96,
     "metadata": {},
     "output_type": "execute_result"
    }
   ],
   "source": [
    "clusters['judge'] = clean_violation.groupby('neighbor').apply(lambda g: g['JudgeAmt'].mean())\n",
    "clusters['violation'] = clean_violation.groupby('neighbor').apply(lambda g: g['JudgeAmt'].count())"
   ]
  },
  {
   "cell_type": "code",
   "execution_count": 97,
   "metadata": {
    "collapsed": false
   },
   "outputs": [
    {
     "data": {
      "text/plain": [
       "neighbor_0\n",
       "0         360.000000\n",
       "1         346.250000\n",
       "10        305.000000\n",
       "12        305.000000\n",
       "20        415.000000\n",
       "22        332.500000\n",
       "27        305.000000\n",
       "35       1130.000000\n",
       "42         85.000000\n",
       "44        305.000000\n",
       "50       1698.333333\n",
       "58        900.833333\n",
       "66        305.000000\n",
       "67        387.500000\n",
       "68       1130.000000\n",
       "78         85.000000\n",
       "114       305.000000\n",
       "115       497.500000\n",
       "126       305.000000\n",
       "132      1130.000000\n",
       "135       305.000000\n",
       "140       266.500000\n",
       "161       332.500000\n",
       "172       305.000000\n",
       "176       167.500000\n",
       "178        85.000000\n",
       "183       332.500000\n",
       "204       250.000000\n",
       "205      1432.500000\n",
       "222       580.000000\n",
       "            ...     \n",
       "96433     140.000000\n",
       "96434     140.000000\n",
       "96435     140.000000\n",
       "96436     140.000000\n",
       "96437     140.000000\n",
       "96438     140.000000\n",
       "96439     140.000000\n",
       "96440     140.000000\n",
       "96441     140.000000\n",
       "96442     140.000000\n",
       "96443     140.000000\n",
       "96444     140.000000\n",
       "96445     140.000000\n",
       "96446     140.000000\n",
       "96447     140.000000\n",
       "96448     140.000000\n",
       "96449     140.000000\n",
       "96450     140.000000\n",
       "96451     140.000000\n",
       "96452     140.000000\n",
       "96453     140.000000\n",
       "96454     140.000000\n",
       "96455     140.000000\n",
       "96456     140.000000\n",
       "96457     140.000000\n",
       "96458     140.000000\n",
       "96459     140.000000\n",
       "96460     140.000000\n",
       "96461     140.000000\n",
       "96462     140.000000\n",
       "dtype: float64"
      ]
     },
     "execution_count": 97,
     "metadata": {},
     "output_type": "execute_result"
    }
   ],
   "source": [
    "clean_violation.groupby('neighbor_0').apply(lambda g: g['JudgeAmt'].mean())"
   ]
  },
  {
   "cell_type": "code",
   "execution_count": null,
   "metadata": {
    "collapsed": true
   },
   "outputs": [],
   "source": []
  }
 ],
 "metadata": {
  "kernelspec": {
   "display_name": "Python 2",
   "language": "python",
   "name": "python2"
  },
  "language_info": {
   "codemirror_mode": {
    "name": "ipython",
    "version": 2
   },
   "file_extension": ".py",
   "mimetype": "text/x-python",
   "name": "python",
   "nbconvert_exporter": "python",
   "pygments_lexer": "ipython2",
   "version": "2.7.11"
  }
 },
 "nbformat": 4,
 "nbformat_minor": 0
}
