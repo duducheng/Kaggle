{
 "cells": [
  {
   "cell_type": "markdown",
   "metadata": {},
   "source": [
    "# To improve Titanic accuracy\n",
    "### --By Jiancheng\n",
    "Work on [Kaggle Titanic](https://www.kaggle.com/c/titanic)\n",
    "\n",
    "Start on 2016/03/25"
   ]
  },
  {
   "cell_type": "markdown",
   "metadata": {},
   "source": [
    "# Summary:\n",
    "1. Data processing module changes\n",
    "1. Using grid search to test separate model on SVC, GBC, etc\n",
    "1. Voting test"
   ]
  },
  {
   "cell_type": "code",
   "execution_count": 1,
   "metadata": {
    "collapsed": true
   },
   "outputs": [],
   "source": [
    "import pandas as pd\n",
    "import numpy as np\n",
    "import pylab as plt"
   ]
  },
  {
   "cell_type": "code",
   "execution_count": 208,
   "metadata": {
    "collapsed": true
   },
   "outputs": [],
   "source": [
    "raw_dtrain = pd.read_csv('data/train.csv',index_col = 0)\n",
    "raw_dtest = pd.read_csv('data/test.csv',index_col = 0)"
   ]
  },
  {
   "cell_type": "code",
   "execution_count": 191,
   "metadata": {
    "collapsed": true
   },
   "outputs": [],
   "source": [
    "from sklearn import cross_validation\n",
    "from sklearn.grid_search import GridSearchCV\n",
    "from sklearn.ensemble import AdaBoostClassifier,GradientBoostingClassifier, RandomForestClassifier, ExtraTreesClassifier, VotingClassifier\n",
    "from sklearn.svm import SVC\n",
    "from sklearn.naive_bayes import GaussianNB"
   ]
  },
  {
   "cell_type": "code",
   "execution_count": 4,
   "metadata": {
    "collapsed": false
   },
   "outputs": [
    {
     "data": {
      "text/html": [
       "<div>\n",
       "<table border=\"1\" class=\"dataframe\">\n",
       "  <thead>\n",
       "    <tr style=\"text-align: right;\">\n",
       "      <th></th>\n",
       "      <th>PassengerId</th>\n",
       "      <th>Survived</th>\n",
       "      <th>Pclass</th>\n",
       "      <th>Name</th>\n",
       "      <th>Sex</th>\n",
       "      <th>Age</th>\n",
       "      <th>SibSp</th>\n",
       "      <th>Parch</th>\n",
       "      <th>Ticket</th>\n",
       "      <th>Fare</th>\n",
       "      <th>Cabin</th>\n",
       "      <th>Embarked</th>\n",
       "    </tr>\n",
       "  </thead>\n",
       "  <tbody>\n",
       "    <tr>\n",
       "      <th>0</th>\n",
       "      <td>1</td>\n",
       "      <td>0</td>\n",
       "      <td>3</td>\n",
       "      <td>Braund, Mr. Owen Harris</td>\n",
       "      <td>male</td>\n",
       "      <td>22</td>\n",
       "      <td>1</td>\n",
       "      <td>0</td>\n",
       "      <td>A/5 21171</td>\n",
       "      <td>7.2500</td>\n",
       "      <td>NaN</td>\n",
       "      <td>S</td>\n",
       "    </tr>\n",
       "    <tr>\n",
       "      <th>1</th>\n",
       "      <td>2</td>\n",
       "      <td>1</td>\n",
       "      <td>1</td>\n",
       "      <td>Cumings, Mrs. John Bradley (Florence Briggs Th...</td>\n",
       "      <td>female</td>\n",
       "      <td>38</td>\n",
       "      <td>1</td>\n",
       "      <td>0</td>\n",
       "      <td>PC 17599</td>\n",
       "      <td>71.2833</td>\n",
       "      <td>C85</td>\n",
       "      <td>C</td>\n",
       "    </tr>\n",
       "    <tr>\n",
       "      <th>2</th>\n",
       "      <td>3</td>\n",
       "      <td>1</td>\n",
       "      <td>3</td>\n",
       "      <td>Heikkinen, Miss. Laina</td>\n",
       "      <td>female</td>\n",
       "      <td>26</td>\n",
       "      <td>0</td>\n",
       "      <td>0</td>\n",
       "      <td>STON/O2. 3101282</td>\n",
       "      <td>7.9250</td>\n",
       "      <td>NaN</td>\n",
       "      <td>S</td>\n",
       "    </tr>\n",
       "    <tr>\n",
       "      <th>3</th>\n",
       "      <td>4</td>\n",
       "      <td>1</td>\n",
       "      <td>1</td>\n",
       "      <td>Futrelle, Mrs. Jacques Heath (Lily May Peel)</td>\n",
       "      <td>female</td>\n",
       "      <td>35</td>\n",
       "      <td>1</td>\n",
       "      <td>0</td>\n",
       "      <td>113803</td>\n",
       "      <td>53.1000</td>\n",
       "      <td>C123</td>\n",
       "      <td>S</td>\n",
       "    </tr>\n",
       "    <tr>\n",
       "      <th>4</th>\n",
       "      <td>5</td>\n",
       "      <td>0</td>\n",
       "      <td>3</td>\n",
       "      <td>Allen, Mr. William Henry</td>\n",
       "      <td>male</td>\n",
       "      <td>35</td>\n",
       "      <td>0</td>\n",
       "      <td>0</td>\n",
       "      <td>373450</td>\n",
       "      <td>8.0500</td>\n",
       "      <td>NaN</td>\n",
       "      <td>S</td>\n",
       "    </tr>\n",
       "  </tbody>\n",
       "</table>\n",
       "</div>"
      ],
      "text/plain": [
       "   PassengerId  Survived  Pclass  \\\n",
       "0            1         0       3   \n",
       "1            2         1       1   \n",
       "2            3         1       3   \n",
       "3            4         1       1   \n",
       "4            5         0       3   \n",
       "\n",
       "                                                Name     Sex  Age  SibSp  \\\n",
       "0                            Braund, Mr. Owen Harris    male   22      1   \n",
       "1  Cumings, Mrs. John Bradley (Florence Briggs Th...  female   38      1   \n",
       "2                             Heikkinen, Miss. Laina  female   26      0   \n",
       "3       Futrelle, Mrs. Jacques Heath (Lily May Peel)  female   35      1   \n",
       "4                           Allen, Mr. William Henry    male   35      0   \n",
       "\n",
       "   Parch            Ticket     Fare Cabin Embarked  \n",
       "0      0         A/5 21171   7.2500   NaN        S  \n",
       "1      0          PC 17599  71.2833   C85        C  \n",
       "2      0  STON/O2. 3101282   7.9250   NaN        S  \n",
       "3      0            113803  53.1000  C123        S  \n",
       "4      0            373450   8.0500   NaN        S  "
      ]
     },
     "execution_count": 4,
     "metadata": {},
     "output_type": "execute_result"
    }
   ],
   "source": [
    "raw_dtrain.head()"
   ]
  },
  {
   "cell_type": "markdown",
   "metadata": {},
   "source": [
    "## Add new features into data processing module:\n",
    "1. Delete 'Family' features, replace with the original features 'SibSp' and 'Parch'\n",
    "1. Normalizing the features on the training and testing data set\n",
    "1. Delete 'Title feature'"
   ]
  },
  {
   "cell_type": "code",
   "execution_count": 173,
   "metadata": {
    "collapsed": false
   },
   "outputs": [],
   "source": [
    "def process_data(in_df, mean_train = None, std_train = None, training = False):\n",
    "    df = in_df.copy()\n",
    "\n",
    "    age_average = {' Major': 48.5, ' the Countess': 33.0, ' Don': 40.0, ' Sir': 49.0, ' Miss': 21.773972602739725, \n",
    "                   ' Mlle': 24.0, ' Mrs': 35.898148148148145, ' Capt': 70.0, ' Rev': 43.166666666666664, ' Dr': 42.0, \n",
    "                   ' Master': 4.5741666666666667, ' Mr': 32.368090452261306, ' Ms': 28.0, ' Jonkheer': 38.0, \n",
    "                   ' Col': 58.0, ' Lady': 48.0, ' Mme': 24.0, ' Dona': 39}\n",
    "    title_convert = {' Major': 'Army', ' the Countess': 'Upper', ' Don': 'Mr', ' Miss': 'Miss', ' Sir': 'Upper', ' Mlle': 'Upper', \n",
    "                        ' Mrs': 'Mrs', ' Capt': 'Upper', ' Rev': 'Rev', ' Dr': 'Dr', ' Master': 'Master', ' Mr': 'Mr', ' Ms': 'Miss', \n",
    "                        ' Jonkheer': 'Upper', ' Col': 'Army', ' Lady': 'Upper', ' Mme': 'Upper', ' Dona': 'Upper'}\n",
    "    \n",
    "    # feature transformation\n",
    "    df['orgTitle'] = df['Name'].map(lambda x: x.split(',')[1].split('.')[0]) # extract \"Title\" from \"Name\"\n",
    "    df['Title'] = df['orgTitle'].map(lambda x: title_convert[x]) # then also merge some rare Title into commom ones \n",
    "    df['Cabin'] = df['Cabin'].map(lambda x: str(x)[0])\n",
    "    df['Cabin'] = df['Cabin'].map(lambda x: x if x != 'T' else 'n')\n",
    "    df['Sex'] = df['Sex'].map(lambda x: 0 if x == 'male' else 1) # male: 0 female: 1\n",
    "    \n",
    "    # deal with NaN and 0\n",
    "    df['Fare'] = df['Fare'].groupby(df['Pclass']).apply(lambda g: g.fillna(g.mean())) # the average Pclass fare\n",
    "    df['Fare'] = df['Fare'].groupby(df['Pclass']).apply(lambda g: g.replace(0, g.mean())) # the average Pclass fare\n",
    "    df['Embarked'] = df['Embarked'].fillna('n')  # the most frequent item\n",
    "    df['Age'] = df['Age'].groupby(df['orgTitle']).apply(lambda g: g.fillna(age_average[g.name])) # average age of Title\n",
    "    \n",
    "    # normalization\n",
    "    if training:\n",
    "        mean_train = df[['Age','SibSp','Parch','Fare']].mean()\n",
    "        std_train = df[['Age','SibSp','Parch','Fare']].std()\n",
    "        \n",
    "    df[['Age','SibSp','Parch','Fare']]= (df[['Age','SibSp','Parch','Fare']]- mean_train) / std_train\n",
    "    \n",
    "    \n",
    "    # transfer category feature into dummy feature   \n",
    "    df = pd.concat([df, pd.get_dummies(df['Embarked'], prefix='Embarked')], axis=1)\n",
    "    df = pd.concat([df, pd.get_dummies(df['Pclass'], prefix='Pclass')], axis=1)\n",
    "    df = pd.concat([df, pd.get_dummies(df['Cabin'], prefix='Cabin')], axis=1)\n",
    "    df = pd.concat([df, pd.get_dummies(df['Title'], prefix='Title')], axis=1)\n",
    "    \n",
    "    # drop features we don't need \n",
    "    df = df.drop(['Embarked', 'Name', 'Ticket', 'PassengerId', 'Pclass', 'Cabin','Title', 'orgTitle'], axis = 1) \n",
    "    \n",
    "    if 'Embarked_n' not in df.columns:\n",
    "        df['Embarked_n'] = 0\n",
    "        \n",
    "    \n",
    "    return df, mean_train, std_train"
   ]
  },
  {
   "cell_type": "code",
   "execution_count": 174,
   "metadata": {
    "collapsed": false
   },
   "outputs": [
    {
     "name": "stdout",
     "output_type": "stream",
     "text": [
      "Survived        0\n",
      "Sex             0\n",
      "Age             0\n",
      "SibSp           0\n",
      "Parch           0\n",
      "Fare            0\n",
      "Embarked_C      0\n",
      "Embarked_Q      0\n",
      "Embarked_S      0\n",
      "Embarked_n      0\n",
      "Pclass_1        0\n",
      "Pclass_2        0\n",
      "Pclass_3        0\n",
      "Cabin_A         0\n",
      "Cabin_B         0\n",
      "Cabin_C         0\n",
      "Cabin_D         0\n",
      "Cabin_E         0\n",
      "Cabin_F         0\n",
      "Cabin_G         0\n",
      "Cabin_n         0\n",
      "Title_Army      0\n",
      "Title_Dr        0\n",
      "Title_Master    0\n",
      "Title_Miss      0\n",
      "Title_Mr        0\n",
      "Title_Mrs       0\n",
      "Title_Rev       0\n",
      "Title_Upper     0\n",
      "dtype: int64\n"
     ]
    },
    {
     "data": {
      "text/html": [
       "<div>\n",
       "<table border=\"1\" class=\"dataframe\">\n",
       "  <thead>\n",
       "    <tr style=\"text-align: right;\">\n",
       "      <th></th>\n",
       "      <th>Survived</th>\n",
       "      <th>Sex</th>\n",
       "      <th>Age</th>\n",
       "      <th>SibSp</th>\n",
       "      <th>Parch</th>\n",
       "      <th>Fare</th>\n",
       "      <th>Embarked_C</th>\n",
       "      <th>Embarked_Q</th>\n",
       "      <th>Embarked_S</th>\n",
       "      <th>Embarked_n</th>\n",
       "      <th>...</th>\n",
       "      <th>Cabin_G</th>\n",
       "      <th>Cabin_n</th>\n",
       "      <th>Title_Army</th>\n",
       "      <th>Title_Dr</th>\n",
       "      <th>Title_Master</th>\n",
       "      <th>Title_Miss</th>\n",
       "      <th>Title_Mr</th>\n",
       "      <th>Title_Mrs</th>\n",
       "      <th>Title_Rev</th>\n",
       "      <th>Title_Upper</th>\n",
       "    </tr>\n",
       "  </thead>\n",
       "  <tbody>\n",
       "    <tr>\n",
       "      <th>0</th>\n",
       "      <td>0</td>\n",
       "      <td>0</td>\n",
       "      <td>-0.584059</td>\n",
       "      <td>0.432550</td>\n",
       "      <td>-0.473408</td>\n",
       "      <td>-0.515736</td>\n",
       "      <td>0</td>\n",
       "      <td>0</td>\n",
       "      <td>1</td>\n",
       "      <td>0</td>\n",
       "      <td>...</td>\n",
       "      <td>0</td>\n",
       "      <td>1</td>\n",
       "      <td>0</td>\n",
       "      <td>0</td>\n",
       "      <td>0</td>\n",
       "      <td>0</td>\n",
       "      <td>1</td>\n",
       "      <td>0</td>\n",
       "      <td>0</td>\n",
       "      <td>0</td>\n",
       "    </tr>\n",
       "    <tr>\n",
       "      <th>1</th>\n",
       "      <td>1</td>\n",
       "      <td>1</td>\n",
       "      <td>0.621016</td>\n",
       "      <td>0.432550</td>\n",
       "      <td>-0.473408</td>\n",
       "      <td>0.772917</td>\n",
       "      <td>1</td>\n",
       "      <td>0</td>\n",
       "      <td>0</td>\n",
       "      <td>0</td>\n",
       "      <td>...</td>\n",
       "      <td>0</td>\n",
       "      <td>0</td>\n",
       "      <td>0</td>\n",
       "      <td>0</td>\n",
       "      <td>0</td>\n",
       "      <td>0</td>\n",
       "      <td>0</td>\n",
       "      <td>1</td>\n",
       "      <td>0</td>\n",
       "      <td>0</td>\n",
       "    </tr>\n",
       "    <tr>\n",
       "      <th>2</th>\n",
       "      <td>1</td>\n",
       "      <td>1</td>\n",
       "      <td>-0.282790</td>\n",
       "      <td>-0.474279</td>\n",
       "      <td>-0.473408</td>\n",
       "      <td>-0.502152</td>\n",
       "      <td>0</td>\n",
       "      <td>0</td>\n",
       "      <td>1</td>\n",
       "      <td>0</td>\n",
       "      <td>...</td>\n",
       "      <td>0</td>\n",
       "      <td>1</td>\n",
       "      <td>0</td>\n",
       "      <td>0</td>\n",
       "      <td>0</td>\n",
       "      <td>1</td>\n",
       "      <td>0</td>\n",
       "      <td>0</td>\n",
       "      <td>0</td>\n",
       "      <td>0</td>\n",
       "    </tr>\n",
       "    <tr>\n",
       "      <th>3</th>\n",
       "      <td>1</td>\n",
       "      <td>1</td>\n",
       "      <td>0.395064</td>\n",
       "      <td>0.432550</td>\n",
       "      <td>-0.473408</td>\n",
       "      <td>0.406983</td>\n",
       "      <td>0</td>\n",
       "      <td>0</td>\n",
       "      <td>1</td>\n",
       "      <td>0</td>\n",
       "      <td>...</td>\n",
       "      <td>0</td>\n",
       "      <td>0</td>\n",
       "      <td>0</td>\n",
       "      <td>0</td>\n",
       "      <td>0</td>\n",
       "      <td>0</td>\n",
       "      <td>0</td>\n",
       "      <td>1</td>\n",
       "      <td>0</td>\n",
       "      <td>0</td>\n",
       "    </tr>\n",
       "    <tr>\n",
       "      <th>4</th>\n",
       "      <td>0</td>\n",
       "      <td>0</td>\n",
       "      <td>0.395064</td>\n",
       "      <td>-0.474279</td>\n",
       "      <td>-0.473408</td>\n",
       "      <td>-0.499636</td>\n",
       "      <td>0</td>\n",
       "      <td>0</td>\n",
       "      <td>1</td>\n",
       "      <td>0</td>\n",
       "      <td>...</td>\n",
       "      <td>0</td>\n",
       "      <td>1</td>\n",
       "      <td>0</td>\n",
       "      <td>0</td>\n",
       "      <td>0</td>\n",
       "      <td>0</td>\n",
       "      <td>1</td>\n",
       "      <td>0</td>\n",
       "      <td>0</td>\n",
       "      <td>0</td>\n",
       "    </tr>\n",
       "  </tbody>\n",
       "</table>\n",
       "<p>5 rows × 29 columns</p>\n",
       "</div>"
      ],
      "text/plain": [
       "   Survived  Sex       Age     SibSp     Parch      Fare  Embarked_C  \\\n",
       "0         0    0 -0.584059  0.432550 -0.473408 -0.515736           0   \n",
       "1         1    1  0.621016  0.432550 -0.473408  0.772917           1   \n",
       "2         1    1 -0.282790 -0.474279 -0.473408 -0.502152           0   \n",
       "3         1    1  0.395064  0.432550 -0.473408  0.406983           0   \n",
       "4         0    0  0.395064 -0.474279 -0.473408 -0.499636           0   \n",
       "\n",
       "   Embarked_Q  Embarked_S  Embarked_n     ...       Cabin_G  Cabin_n  \\\n",
       "0           0           1           0     ...             0        1   \n",
       "1           0           0           0     ...             0        0   \n",
       "2           0           1           0     ...             0        1   \n",
       "3           0           1           0     ...             0        0   \n",
       "4           0           1           0     ...             0        1   \n",
       "\n",
       "   Title_Army  Title_Dr  Title_Master  Title_Miss  Title_Mr  Title_Mrs  \\\n",
       "0           0         0             0           0         1          0   \n",
       "1           0         0             0           0         0          1   \n",
       "2           0         0             0           1         0          0   \n",
       "3           0         0             0           0         0          1   \n",
       "4           0         0             0           0         1          0   \n",
       "\n",
       "   Title_Rev  Title_Upper  \n",
       "0          0            0  \n",
       "1          0            0  \n",
       "2          0            0  \n",
       "3          0            0  \n",
       "4          0            0  \n",
       "\n",
       "[5 rows x 29 columns]"
      ]
     },
     "execution_count": 174,
     "metadata": {},
     "output_type": "execute_result"
    }
   ],
   "source": [
    "raw_dtrain = pd.read_csv('data/train.csv')\n",
    "raw_dtest = pd.read_csv('data/test.csv')\n",
    "dtrain, mean_train, std_train = process_data(raw_dtrain, training = True)\n",
    "print dtrain.isnull().sum()\n",
    "dtrain.head()"
   ]
  },
  {
   "cell_type": "code",
   "execution_count": 175,
   "metadata": {
    "collapsed": false
   },
   "outputs": [
    {
     "data": {
      "text/plain": [
       "Age      29.754659\n",
       "SibSp     0.523008\n",
       "Parch     0.381594\n",
       "Fare     32.876990\n",
       "dtype: float64"
      ]
     },
     "execution_count": 175,
     "metadata": {},
     "output_type": "execute_result"
    }
   ],
   "source": [
    "mean_train"
   ]
  },
  {
   "cell_type": "code",
   "execution_count": 176,
   "metadata": {
    "collapsed": false
   },
   "outputs": [
    {
     "data": {
      "text/plain": [
       "Age      13.277179\n",
       "SibSp     1.102743\n",
       "Parch     0.806057\n",
       "Fare     49.690114\n",
       "dtype: float64"
      ]
     },
     "execution_count": 176,
     "metadata": {},
     "output_type": "execute_result"
    }
   ],
   "source": [
    "std_train"
   ]
  },
  {
   "cell_type": "code",
   "execution_count": 177,
   "metadata": {
    "collapsed": false
   },
   "outputs": [],
   "source": [
    "dtest, mean_train, std_train = process_data(raw_dtest, mean_train, std_train)"
   ]
  },
  {
   "cell_type": "code",
   "execution_count": 178,
   "metadata": {
    "collapsed": false
   },
   "outputs": [
    {
     "data": {
      "text/plain": [
       "Age      29.754659\n",
       "SibSp     0.523008\n",
       "Parch     0.381594\n",
       "Fare     32.876990\n",
       "dtype: float64"
      ]
     },
     "execution_count": 178,
     "metadata": {},
     "output_type": "execute_result"
    }
   ],
   "source": [
    "mean_train"
   ]
  },
  {
   "cell_type": "code",
   "execution_count": 179,
   "metadata": {
    "collapsed": false
   },
   "outputs": [
    {
     "data": {
      "text/plain": [
       "Age      13.277179\n",
       "SibSp     1.102743\n",
       "Parch     0.806057\n",
       "Fare     49.690114\n",
       "dtype: float64"
      ]
     },
     "execution_count": 179,
     "metadata": {},
     "output_type": "execute_result"
    }
   ],
   "source": [
    "std_train"
   ]
  },
  {
   "cell_type": "code",
   "execution_count": 180,
   "metadata": {
    "collapsed": false
   },
   "outputs": [
    {
     "data": {
      "text/html": [
       "<div>\n",
       "<table border=\"1\" class=\"dataframe\">\n",
       "  <thead>\n",
       "    <tr style=\"text-align: right;\">\n",
       "      <th></th>\n",
       "      <th>Sex</th>\n",
       "      <th>Age</th>\n",
       "      <th>SibSp</th>\n",
       "      <th>Parch</th>\n",
       "      <th>Fare</th>\n",
       "      <th>Embarked_C</th>\n",
       "      <th>Embarked_Q</th>\n",
       "      <th>Embarked_S</th>\n",
       "      <th>Pclass_1</th>\n",
       "      <th>Pclass_2</th>\n",
       "      <th>...</th>\n",
       "      <th>Cabin_n</th>\n",
       "      <th>Title_Army</th>\n",
       "      <th>Title_Dr</th>\n",
       "      <th>Title_Master</th>\n",
       "      <th>Title_Miss</th>\n",
       "      <th>Title_Mr</th>\n",
       "      <th>Title_Mrs</th>\n",
       "      <th>Title_Rev</th>\n",
       "      <th>Title_Upper</th>\n",
       "      <th>Embarked_n</th>\n",
       "    </tr>\n",
       "  </thead>\n",
       "  <tbody>\n",
       "    <tr>\n",
       "      <th>0</th>\n",
       "      <td>0</td>\n",
       "      <td>0.357406</td>\n",
       "      <td>-0.474279</td>\n",
       "      <td>-0.473408</td>\n",
       "      <td>-0.504080</td>\n",
       "      <td>0</td>\n",
       "      <td>1</td>\n",
       "      <td>0</td>\n",
       "      <td>0</td>\n",
       "      <td>0</td>\n",
       "      <td>...</td>\n",
       "      <td>1</td>\n",
       "      <td>0</td>\n",
       "      <td>0</td>\n",
       "      <td>0</td>\n",
       "      <td>0</td>\n",
       "      <td>1</td>\n",
       "      <td>0</td>\n",
       "      <td>0</td>\n",
       "      <td>0</td>\n",
       "      <td>0</td>\n",
       "    </tr>\n",
       "    <tr>\n",
       "      <th>1</th>\n",
       "      <td>1</td>\n",
       "      <td>1.298871</td>\n",
       "      <td>0.432550</td>\n",
       "      <td>-0.473408</td>\n",
       "      <td>-0.520767</td>\n",
       "      <td>0</td>\n",
       "      <td>0</td>\n",
       "      <td>1</td>\n",
       "      <td>0</td>\n",
       "      <td>0</td>\n",
       "      <td>...</td>\n",
       "      <td>1</td>\n",
       "      <td>0</td>\n",
       "      <td>0</td>\n",
       "      <td>0</td>\n",
       "      <td>0</td>\n",
       "      <td>0</td>\n",
       "      <td>1</td>\n",
       "      <td>0</td>\n",
       "      <td>0</td>\n",
       "      <td>0</td>\n",
       "    </tr>\n",
       "    <tr>\n",
       "      <th>2</th>\n",
       "      <td>0</td>\n",
       "      <td>2.428629</td>\n",
       "      <td>-0.474279</td>\n",
       "      <td>-0.473408</td>\n",
       "      <td>-0.466682</td>\n",
       "      <td>0</td>\n",
       "      <td>1</td>\n",
       "      <td>0</td>\n",
       "      <td>0</td>\n",
       "      <td>1</td>\n",
       "      <td>...</td>\n",
       "      <td>1</td>\n",
       "      <td>0</td>\n",
       "      <td>0</td>\n",
       "      <td>0</td>\n",
       "      <td>0</td>\n",
       "      <td>1</td>\n",
       "      <td>0</td>\n",
       "      <td>0</td>\n",
       "      <td>0</td>\n",
       "      <td>0</td>\n",
       "    </tr>\n",
       "    <tr>\n",
       "      <th>3</th>\n",
       "      <td>0</td>\n",
       "      <td>-0.207473</td>\n",
       "      <td>-0.474279</td>\n",
       "      <td>-0.473408</td>\n",
       "      <td>-0.487310</td>\n",
       "      <td>0</td>\n",
       "      <td>0</td>\n",
       "      <td>1</td>\n",
       "      <td>0</td>\n",
       "      <td>0</td>\n",
       "      <td>...</td>\n",
       "      <td>1</td>\n",
       "      <td>0</td>\n",
       "      <td>0</td>\n",
       "      <td>0</td>\n",
       "      <td>0</td>\n",
       "      <td>1</td>\n",
       "      <td>0</td>\n",
       "      <td>0</td>\n",
       "      <td>0</td>\n",
       "      <td>0</td>\n",
       "    </tr>\n",
       "    <tr>\n",
       "      <th>4</th>\n",
       "      <td>1</td>\n",
       "      <td>-0.584059</td>\n",
       "      <td>0.432550</td>\n",
       "      <td>0.767199</td>\n",
       "      <td>-0.414358</td>\n",
       "      <td>0</td>\n",
       "      <td>0</td>\n",
       "      <td>1</td>\n",
       "      <td>0</td>\n",
       "      <td>0</td>\n",
       "      <td>...</td>\n",
       "      <td>1</td>\n",
       "      <td>0</td>\n",
       "      <td>0</td>\n",
       "      <td>0</td>\n",
       "      <td>0</td>\n",
       "      <td>0</td>\n",
       "      <td>1</td>\n",
       "      <td>0</td>\n",
       "      <td>0</td>\n",
       "      <td>0</td>\n",
       "    </tr>\n",
       "  </tbody>\n",
       "</table>\n",
       "<p>5 rows × 28 columns</p>\n",
       "</div>"
      ],
      "text/plain": [
       "   Sex       Age     SibSp     Parch      Fare  Embarked_C  Embarked_Q  \\\n",
       "0    0  0.357406 -0.474279 -0.473408 -0.504080           0           1   \n",
       "1    1  1.298871  0.432550 -0.473408 -0.520767           0           0   \n",
       "2    0  2.428629 -0.474279 -0.473408 -0.466682           0           1   \n",
       "3    0 -0.207473 -0.474279 -0.473408 -0.487310           0           0   \n",
       "4    1 -0.584059  0.432550  0.767199 -0.414358           0           0   \n",
       "\n",
       "   Embarked_S  Pclass_1  Pclass_2     ...      Cabin_n  Title_Army  Title_Dr  \\\n",
       "0           0         0         0     ...            1           0         0   \n",
       "1           1         0         0     ...            1           0         0   \n",
       "2           0         0         1     ...            1           0         0   \n",
       "3           1         0         0     ...            1           0         0   \n",
       "4           1         0         0     ...            1           0         0   \n",
       "\n",
       "   Title_Master  Title_Miss  Title_Mr  Title_Mrs  Title_Rev  Title_Upper  \\\n",
       "0             0           0         1          0          0            0   \n",
       "1             0           0         0          1          0            0   \n",
       "2             0           0         1          0          0            0   \n",
       "3             0           0         1          0          0            0   \n",
       "4             0           0         0          1          0            0   \n",
       "\n",
       "   Embarked_n  \n",
       "0           0  \n",
       "1           0  \n",
       "2           0  \n",
       "3           0  \n",
       "4           0  \n",
       "\n",
       "[5 rows x 28 columns]"
      ]
     },
     "execution_count": 180,
     "metadata": {},
     "output_type": "execute_result"
    }
   ],
   "source": [
    "dtest.head()"
   ]
  },
  {
   "cell_type": "code",
   "execution_count": 181,
   "metadata": {
    "collapsed": false
   },
   "outputs": [],
   "source": [
    "class grid_searcher(object):\n",
    "    # self.model = sklearn model wish to test, build GridSearchCV() with params_grid = list consisting of parameters\n",
    "    # self.X = features\n",
    "    # self.y = target\n",
    "    \n",
    "    from sklearn.grid_search import GridSearchCV    \n",
    "    \n",
    "    def __init__(self, model, params, X, y, cv = 10, n_jobs = -1):\n",
    "        self.model = GridSearchCV(model, param_grid=params, cv = 5, n_jobs = n_jobs)\n",
    "        self.X = X\n",
    "        self.y = y\n",
    "        self.fitted = False\n",
    "        \n",
    "    def get_fit(self):\n",
    "        self.model.fit(self.X, self.y)\n",
    "        print('Fitted succeed!\\n')\n",
    "        self.fitted = True\n",
    "        \n",
    "    def report(self, n_top = 5):\n",
    "        if not self.fitted:\n",
    "            self.get_fit()\n",
    "        grid_scores = self.model.grid_scores_\n",
    "        top_scores = sorted(grid_scores, key=lambda x: x[1], reverse=True)[:n_top]\n",
    "        for i, score in enumerate(top_scores):\n",
    "            print(\"=====================================================\")\n",
    "            print(\"Model with rank: {0}\".format(i + 1))\n",
    "            print(\"Mean validation score: {0:.3f} (std: {1:.3f})\".format(score.mean_validation_score, np.std(score.cv_validation_scores)))\n",
    "            print(\"Parameters: {0}\".format(score.parameters))\n",
    "            print('')\n",
    "            \n",
    "    def get_best_model(self):\n",
    "        if not self.fitted:\n",
    "            self.get_fit()\n",
    "        return self.model.best_estimator_"
   ]
  },
  {
   "cell_type": "code",
   "execution_count": 182,
   "metadata": {
    "collapsed": true
   },
   "outputs": [],
   "source": [
    "Xtrain = dtrain.drop(['Survived'], axis = 1)\n",
    "ytrain = dtrain['Survived']"
   ]
  },
  {
   "cell_type": "markdown",
   "metadata": {},
   "source": [
    "# Work on test SVC (with awful result: 0.44498!!!)\n",
    "* kernel: linear, sigmoid, poly and rbf\n",
    "* C = 0.01 * np.logspace(0, 5, 10, base = 4)\n",
    "* degree = np.arange(1, 10)\n",
    "* gamma = np.arange(0, 0.3, 0.006)"
   ]
  },
  {
   "cell_type": "code",
   "execution_count": 183,
   "metadata": {
    "collapsed": false
   },
   "outputs": [
    {
     "name": "stdout",
     "output_type": "stream",
     "text": [
      "Fitted succeed!\n",
      "\n",
      "=====================================================\n",
      "Model with rank: 1\n",
      "Mean validation score: 0.836 (std: 0.023)\n",
      "Parameters: {'cache_size': 2000, 'kernel': 'rbf', 'C': 1.015936673259648, 'gamma': 0.114}\n",
      "\n",
      "=====================================================\n",
      "Model with rank: 2\n",
      "Mean validation score: 0.836 (std: 0.023)\n",
      "Parameters: {'cache_size': 2000, 'kernel': 'rbf', 'C': 1.015936673259648, 'gamma': 0.12}\n",
      "\n",
      "=====================================================\n",
      "Model with rank: 3\n",
      "Mean validation score: 0.836 (std: 0.023)\n",
      "Parameters: {'cache_size': 2000, 'kernel': 'rbf', 'C': 1.015936673259648, 'gamma': 0.126}\n",
      "\n",
      "=====================================================\n",
      "Model with rank: 4\n",
      "Mean validation score: 0.836 (std: 0.022)\n",
      "Parameters: {'cache_size': 2000, 'kernel': 'rbf', 'C': 2.1945445961038677, 'gamma': 0.048000000000000001}\n",
      "\n",
      "=====================================================\n",
      "Model with rank: 5\n",
      "Mean validation score: 0.836 (std: 0.024)\n",
      "Parameters: {'cache_size': 2000, 'kernel': 'rbf', 'C': 4.7404785269109286, 'gamma': 0.0}\n",
      "\n",
      "=====================================================\n",
      "Model with rank: 6\n",
      "Mean validation score: 0.836 (std: 0.024)\n",
      "Parameters: {'cache_size': 2000, 'kernel': 'rbf', 'C': 4.7404785269109286, 'gamma': 0.036000000000000004}\n",
      "\n",
      "=====================================================\n",
      "Model with rank: 7\n",
      "Mean validation score: 0.835 (std: 0.024)\n",
      "Parameters: {'cache_size': 2000, 'kernel': 'poly', 'C': 4.7404785269109286, 'degree': 2}\n",
      "\n",
      "=====================================================\n",
      "Model with rank: 8\n",
      "Mean validation score: 0.835 (std: 0.022)\n",
      "Parameters: {'cache_size': 2000, 'kernel': 'rbf', 'C': 1.015936673259648, 'gamma': 0.096000000000000002}\n",
      "\n",
      "=====================================================\n",
      "Model with rank: 9\n",
      "Mean validation score: 0.835 (std: 0.022)\n",
      "Parameters: {'cache_size': 2000, 'kernel': 'rbf', 'C': 1.015936673259648, 'gamma': 0.10200000000000001}\n",
      "\n",
      "=====================================================\n",
      "Model with rank: 10\n",
      "Mean validation score: 0.835 (std: 0.022)\n",
      "Parameters: {'cache_size': 2000, 'kernel': 'rbf', 'C': 1.015936673259648, 'gamma': 0.108}\n",
      "\n",
      "=====================================================\n",
      "Model with rank: 11\n",
      "Mean validation score: 0.835 (std: 0.023)\n",
      "Parameters: {'cache_size': 2000, 'kernel': 'rbf', 'C': 1.015936673259648, 'gamma': 0.13200000000000001}\n",
      "\n",
      "=====================================================\n",
      "Model with rank: 12\n",
      "Mean validation score: 0.835 (std: 0.019)\n",
      "Parameters: {'cache_size': 2000, 'kernel': 'rbf', 'C': 2.1945445961038677, 'gamma': 0.059999999999999998}\n",
      "\n",
      "=====================================================\n",
      "Model with rank: 13\n",
      "Mean validation score: 0.835 (std: 0.019)\n",
      "Parameters: {'cache_size': 2000, 'kernel': 'rbf', 'C': 4.7404785269109286, 'gamma': 0.053999999999999999}\n",
      "\n",
      "=====================================================\n",
      "Model with rank: 14\n",
      "Mean validation score: 0.834 (std: 0.023)\n",
      "Parameters: {'cache_size': 2000, 'kernel': 'poly', 'C': 2.1945445961038677, 'degree': 2}\n",
      "\n",
      "=====================================================\n",
      "Model with rank: 15\n",
      "Mean validation score: 0.834 (std: 0.026)\n",
      "Parameters: {'cache_size': 2000, 'kernel': 'poly', 'C': 10.24, 'degree': 2}\n",
      "\n",
      "=====================================================\n",
      "Model with rank: 16\n",
      "Mean validation score: 0.834 (std: 0.033)\n",
      "Parameters: {'cache_size': 2000, 'kernel': 'poly', 'C': 10.24, 'degree': 3}\n",
      "\n",
      "=====================================================\n",
      "Model with rank: 17\n",
      "Mean validation score: 0.834 (std: 0.021)\n",
      "Parameters: {'cache_size': 2000, 'kernel': 'rbf', 'C': 0.21772640002790034, 'gamma': 0.19800000000000001}\n",
      "\n",
      "=====================================================\n",
      "Model with rank: 18\n",
      "Mean validation score: 0.834 (std: 0.021)\n",
      "Parameters: {'cache_size': 2000, 'kernel': 'rbf', 'C': 0.21772640002790034, 'gamma': 0.20400000000000001}\n",
      "\n",
      "=====================================================\n",
      "Model with rank: 19\n",
      "Mean validation score: 0.834 (std: 0.019)\n",
      "Parameters: {'cache_size': 2000, 'kernel': 'rbf', 'C': 1.015936673259648, 'gamma': 0.072000000000000008}\n",
      "\n",
      "=====================================================\n",
      "Model with rank: 20\n",
      "Mean validation score: 0.834 (std: 0.020)\n",
      "Parameters: {'cache_size': 2000, 'kernel': 'rbf', 'C': 1.015936673259648, 'gamma': 0.089999999999999997}\n",
      "\n"
     ]
    },
    {
     "data": {
      "text/plain": [
       "SVC(C=1.015936673259648, cache_size=2000, class_weight=None, coef0=0.0,\n",
       "  decision_function_shape=None, degree=3, gamma=0.114, kernel='rbf',\n",
       "  max_iter=-1, probability=False, random_state=None, shrinking=True,\n",
       "  tol=0.001, verbose=False)"
      ]
     },
     "execution_count": 183,
     "metadata": {},
     "output_type": "execute_result"
    }
   ],
   "source": [
    "model = SVC()\n",
    "params = [{'kernel': ['linear'], 'C': 0.01 * np.logspace(0, 5, 10, base = 4), 'cache_size': [2000]},\n",
    "          {'kernel': ['sigmoid'], 'C': 0.01 * np.logspace(0, 5, 10, base = 4), 'cache_size': [2000]},\n",
    "          {'kernel': ['poly'], 'C': 0.01 * np.logspace(0, 5, 10, base = 4), 'degree': np.arange(1, 10), 'cache_size': [2000]}, \n",
    "          {'kernel': ['rbf'], 'C': 0.01 * np.logspace(0, 5, 10, base = 4), 'gamma': np.arange(0, 0.3, 0.006), 'cache_size': [2000]}, \n",
    "         ]\n",
    "grid_model = grid_searcher(model = model, params = params, X = Xtrain, y = ytrain, cv = 10, n_jobs = -1)\n",
    "best_model = grid_model.get_best_model()\n",
    "grid_model.report(n_top = 20)\n",
    "best_model"
   ]
  },
  {
   "cell_type": "code",
   "execution_count": 146,
   "metadata": {
    "collapsed": false
   },
   "outputs": [
    {
     "data": {
      "text/plain": [
       "SVC(C=1.01593667326, cache_size=2000, class_weight=None, coef0=0.0,\n",
       "  decision_function_shape=None, degree=3, gamma=0.114, kernel='rbf',\n",
       "  max_iter=-1, probability=False, random_state=None, shrinking=True,\n",
       "  tol=0.001, verbose=False)"
      ]
     },
     "execution_count": 146,
     "metadata": {},
     "output_type": "execute_result"
    }
   ],
   "source": [
    "model_svc_best = SVC(C=1.015936673259648, cache_size=2000, class_weight=None, coef0=0.0,\n",
    "  decision_function_shape=None, degree=3, gamma=0.114, kernel='rbf',\n",
    "  max_iter=-1, probability=False, random_state=None, shrinking=True,\n",
    "  tol=0.001, verbose=False)\n",
    "model_svc_best.fit(Xtrain, ytrain)"
   ]
  },
  {
   "cell_type": "code",
   "execution_count": 170,
   "metadata": {
    "collapsed": false
   },
   "outputs": [
    {
     "data": {
      "text/plain": [
       "0.84287317620650959"
      ]
     },
     "execution_count": 170,
     "metadata": {},
     "output_type": "execute_result"
    }
   ],
   "source": [
    "best_model.score(Xtrain, ytrain)"
   ]
  },
  {
   "cell_type": "code",
   "execution_count": 171,
   "metadata": {
    "collapsed": false,
    "scrolled": true
   },
   "outputs": [
    {
     "data": {
      "text/html": [
       "<div>\n",
       "<table border=\"1\" class=\"dataframe\">\n",
       "  <thead>\n",
       "    <tr style=\"text-align: right;\">\n",
       "      <th></th>\n",
       "      <th>PassengerId</th>\n",
       "      <th>Survived</th>\n",
       "    </tr>\n",
       "  </thead>\n",
       "  <tbody>\n",
       "    <tr>\n",
       "      <th>0</th>\n",
       "      <td>892</td>\n",
       "      <td>1</td>\n",
       "    </tr>\n",
       "    <tr>\n",
       "      <th>1</th>\n",
       "      <td>893</td>\n",
       "      <td>1</td>\n",
       "    </tr>\n",
       "    <tr>\n",
       "      <th>2</th>\n",
       "      <td>894</td>\n",
       "      <td>1</td>\n",
       "    </tr>\n",
       "    <tr>\n",
       "      <th>3</th>\n",
       "      <td>895</td>\n",
       "      <td>1</td>\n",
       "    </tr>\n",
       "    <tr>\n",
       "      <th>4</th>\n",
       "      <td>896</td>\n",
       "      <td>1</td>\n",
       "    </tr>\n",
       "  </tbody>\n",
       "</table>\n",
       "</div>"
      ],
      "text/plain": [
       "   PassengerId  Survived\n",
       "0          892         1\n",
       "1          893         1\n",
       "2          894         1\n",
       "3          895         1\n",
       "4          896         1"
      ]
     },
     "execution_count": 171,
     "metadata": {},
     "output_type": "execute_result"
    }
   ],
   "source": [
    "submit_svc = pd.DataFrame()\n",
    "submit_svc['PassengerId'] = raw_dtest['PassengerId']\n",
    "submit_svc['Survived'] = best_model.predict(dtest)\n",
    "submit_svc.head()"
   ]
  },
  {
   "cell_type": "code",
   "execution_count": 172,
   "metadata": {
    "collapsed": false
   },
   "outputs": [],
   "source": [
    "submit_svc.to_csv('submit_svc_new.csv', index=False)"
   ]
  },
  {
   "cell_type": "markdown",
   "metadata": {},
   "source": [
    "# Find best RF model:\n",
    "### detect on \n",
    "* 'n_estimators': [30,80,150,300,500], \n",
    "*          'criterion': ['gini','entropy'],\n",
    "*           'min_samples_leaf': [1,2,3,4,5],\n",
    "*           'max_features': ['sqrt','log2',None], \n",
    "*           'max_depth': np.arange(5,20,1),"
   ]
  },
  {
   "cell_type": "code",
   "execution_count": 157,
   "metadata": {
    "collapsed": false
   },
   "outputs": [
    {
     "name": "stdout",
     "output_type": "stream",
     "text": [
      "Fitted succeed!\n",
      "\n",
      "=====================================================\n",
      "Model with rank: 1\n",
      "Mean validation score: 0.842 (std: 0.027)\n",
      "Parameters: {'max_features': None, 'n_estimators': 80, 'criterion': 'gini', 'max_depth': 13, 'min_samples_leaf': 5}\n",
      "\n",
      "=====================================================\n",
      "Model with rank: 2\n",
      "Mean validation score: 0.842 (std: 0.027)\n",
      "Parameters: {'max_features': None, 'n_estimators': 150, 'criterion': 'gini', 'max_depth': 13, 'min_samples_leaf': 5}\n",
      "\n",
      "=====================================================\n",
      "Model with rank: 3\n",
      "Mean validation score: 0.842 (std: 0.023)\n",
      "Parameters: {'max_features': None, 'n_estimators': 150, 'criterion': 'gini', 'max_depth': 17, 'min_samples_leaf': 3}\n",
      "\n",
      "=====================================================\n",
      "Model with rank: 4\n",
      "Mean validation score: 0.842 (std: 0.023)\n",
      "Parameters: {'max_features': None, 'n_estimators': 30, 'criterion': 'entropy', 'max_depth': 13, 'min_samples_leaf': 3}\n",
      "\n",
      "=====================================================\n",
      "Model with rank: 5\n",
      "Mean validation score: 0.841 (std: 0.022)\n",
      "Parameters: {'max_features': None, 'n_estimators': 500, 'criterion': 'gini', 'max_depth': 7, 'min_samples_leaf': 1}\n",
      "\n",
      "=====================================================\n",
      "Model with rank: 6\n",
      "Mean validation score: 0.841 (std: 0.022)\n",
      "Parameters: {'max_features': None, 'n_estimators': 30, 'criterion': 'gini', 'max_depth': 9, 'min_samples_leaf': 2}\n",
      "\n",
      "=====================================================\n",
      "Model with rank: 7\n",
      "Mean validation score: 0.841 (std: 0.023)\n",
      "Parameters: {'max_features': None, 'n_estimators': 80, 'criterion': 'gini', 'max_depth': 11, 'min_samples_leaf': 5}\n",
      "\n",
      "=====================================================\n",
      "Model with rank: 8\n",
      "Mean validation score: 0.841 (std: 0.025)\n",
      "Parameters: {'max_features': None, 'n_estimators': 30, 'criterion': 'gini', 'max_depth': 16, 'min_samples_leaf': 4}\n",
      "\n",
      "=====================================================\n",
      "Model with rank: 9\n",
      "Mean validation score: 0.841 (std: 0.023)\n",
      "Parameters: {'max_features': None, 'n_estimators': 30, 'criterion': 'gini', 'max_depth': 16, 'min_samples_leaf': 5}\n",
      "\n",
      "=====================================================\n",
      "Model with rank: 10\n",
      "Mean validation score: 0.841 (std: 0.023)\n",
      "Parameters: {'max_features': None, 'n_estimators': 500, 'criterion': 'gini', 'max_depth': 17, 'min_samples_leaf': 3}\n",
      "\n",
      "=====================================================\n",
      "Model with rank: 11\n",
      "Mean validation score: 0.841 (std: 0.027)\n",
      "Parameters: {'max_features': None, 'n_estimators': 500, 'criterion': 'gini', 'max_depth': 19, 'min_samples_leaf': 5}\n",
      "\n",
      "=====================================================\n",
      "Model with rank: 12\n",
      "Mean validation score: 0.841 (std: 0.023)\n",
      "Parameters: {'max_features': 'log2', 'n_estimators': 150, 'criterion': 'entropy', 'max_depth': 12, 'min_samples_leaf': 3}\n",
      "\n",
      "=====================================================\n",
      "Model with rank: 13\n",
      "Mean validation score: 0.841 (std: 0.023)\n",
      "Parameters: {'max_features': None, 'n_estimators': 30, 'criterion': 'entropy', 'max_depth': 12, 'min_samples_leaf': 4}\n",
      "\n",
      "=====================================================\n",
      "Model with rank: 14\n",
      "Mean validation score: 0.841 (std: 0.027)\n",
      "Parameters: {'max_features': None, 'n_estimators': 80, 'criterion': 'entropy', 'max_depth': 12, 'min_samples_leaf': 4}\n",
      "\n",
      "=====================================================\n",
      "Model with rank: 15\n",
      "Mean validation score: 0.840 (std: 0.025)\n",
      "Parameters: {'max_features': None, 'n_estimators': 500, 'criterion': 'gini', 'max_depth': 6, 'min_samples_leaf': 1}\n",
      "\n",
      "=====================================================\n",
      "Model with rank: 16\n",
      "Mean validation score: 0.840 (std: 0.022)\n",
      "Parameters: {'max_features': None, 'n_estimators': 150, 'criterion': 'gini', 'max_depth': 7, 'min_samples_leaf': 1}\n",
      "\n",
      "=====================================================\n",
      "Model with rank: 17\n",
      "Mean validation score: 0.840 (std: 0.025)\n",
      "Parameters: {'max_features': None, 'n_estimators': 300, 'criterion': 'gini', 'max_depth': 7, 'min_samples_leaf': 1}\n",
      "\n",
      "=====================================================\n",
      "Model with rank: 18\n",
      "Mean validation score: 0.840 (std: 0.023)\n",
      "Parameters: {'max_features': None, 'n_estimators': 80, 'criterion': 'gini', 'max_depth': 7, 'min_samples_leaf': 3}\n",
      "\n",
      "=====================================================\n",
      "Model with rank: 19\n",
      "Mean validation score: 0.840 (std: 0.024)\n",
      "Parameters: {'max_features': None, 'n_estimators': 300, 'criterion': 'gini', 'max_depth': 7, 'min_samples_leaf': 4}\n",
      "\n",
      "=====================================================\n",
      "Model with rank: 20\n",
      "Mean validation score: 0.840 (std: 0.024)\n",
      "Parameters: {'max_features': None, 'n_estimators': 80, 'criterion': 'gini', 'max_depth': 8, 'min_samples_leaf': 4}\n",
      "\n"
     ]
    },
    {
     "data": {
      "text/plain": [
       "RandomForestClassifier(bootstrap=True, class_weight=None, criterion='gini',\n",
       "            max_depth=13, max_features=None, max_leaf_nodes=None,\n",
       "            min_samples_leaf=5, min_samples_split=2,\n",
       "            min_weight_fraction_leaf=0.0, n_estimators=80, n_jobs=1,\n",
       "            oob_score=False, random_state=None, verbose=0,\n",
       "            warm_start=False)"
      ]
     },
     "execution_count": 157,
     "metadata": {},
     "output_type": "execute_result"
    }
   ],
   "source": [
    "model = RandomForestClassifier()\n",
    "params = [{'n_estimators': [30,80,150,300,500], \n",
    "          'criterion': ['gini','entropy'],\n",
    "           'min_samples_leaf': [1,2,3,4,5],\n",
    "           'max_features': ['sqrt','log2',None], \n",
    "           'max_depth': np.arange(5,20,1),\n",
    "          }]\n",
    "grid_model = grid_searcher(model = model, params = params, X = Xtrain, y = ytrain, cv = 10, n_jobs = -1)\n",
    "best_model = grid_model.get_best_model()\n",
    "grid_model.report(n_top = 20)\n",
    "best_model"
   ]
  },
  {
   "cell_type": "code",
   "execution_count": 158,
   "metadata": {
    "collapsed": false
   },
   "outputs": [
    {
     "data": {
      "text/plain": [
       "0.89113355780022452"
      ]
     },
     "execution_count": 158,
     "metadata": {},
     "output_type": "execute_result"
    }
   ],
   "source": [
    "best_model.score(Xtrain, ytrain)"
   ]
  },
  {
   "cell_type": "code",
   "execution_count": 159,
   "metadata": {
    "collapsed": false,
    "scrolled": true
   },
   "outputs": [
    {
     "data": {
      "text/html": [
       "<div>\n",
       "<table border=\"1\" class=\"dataframe\">\n",
       "  <thead>\n",
       "    <tr style=\"text-align: right;\">\n",
       "      <th></th>\n",
       "      <th>PassengerId</th>\n",
       "      <th>Survived</th>\n",
       "    </tr>\n",
       "  </thead>\n",
       "  <tbody>\n",
       "    <tr>\n",
       "      <th>0</th>\n",
       "      <td>892</td>\n",
       "      <td>0</td>\n",
       "    </tr>\n",
       "    <tr>\n",
       "      <th>1</th>\n",
       "      <td>893</td>\n",
       "      <td>0</td>\n",
       "    </tr>\n",
       "    <tr>\n",
       "      <th>2</th>\n",
       "      <td>894</td>\n",
       "      <td>0</td>\n",
       "    </tr>\n",
       "    <tr>\n",
       "      <th>3</th>\n",
       "      <td>895</td>\n",
       "      <td>0</td>\n",
       "    </tr>\n",
       "    <tr>\n",
       "      <th>4</th>\n",
       "      <td>896</td>\n",
       "      <td>0</td>\n",
       "    </tr>\n",
       "  </tbody>\n",
       "</table>\n",
       "</div>"
      ],
      "text/plain": [
       "   PassengerId  Survived\n",
       "0          892         0\n",
       "1          893         0\n",
       "2          894         0\n",
       "3          895         0\n",
       "4          896         0"
      ]
     },
     "execution_count": 159,
     "metadata": {},
     "output_type": "execute_result"
    }
   ],
   "source": [
    "submit = pd.DataFrame()\n",
    "submit['PassengerId'] = raw_dtest['PassengerId']\n",
    "submit['Survived'] = best_model.predict(dtest)\n",
    "submit.head()"
   ]
  },
  {
   "cell_type": "code",
   "execution_count": 160,
   "metadata": {
    "collapsed": false
   },
   "outputs": [],
   "source": [
    "submit.to_csv('submit_rf.csv', index=False)"
   ]
  },
  {
   "cell_type": "markdown",
   "metadata": {},
   "source": [
    "# Find best GBM model: 0.65550\n",
    "### detect on \n",
    "* {'loss': ['deviance', 'exponential'],\n",
    "*         'n_estimators': np.arange(100,2000,100), \n",
    "*          'min_samples_leaf': [1,2,3,4,5],\n",
    "*          'max_features': ['sqrt','log2',None], \n",
    "*          'max_depth': [1,2,3,4,5],\n",
    "          }"
   ]
  },
  {
   "cell_type": "code",
   "execution_count": 186,
   "metadata": {
    "collapsed": false
   },
   "outputs": [
    {
     "name": "stdout",
     "output_type": "stream",
     "text": [
      "Fitted succeed!\n",
      "\n",
      "=====================================================\n",
      "Model with rank: 1\n",
      "Mean validation score: 0.847 (std: 0.021)\n",
      "Parameters: {'max_features': None, 'loss': 'deviance', 'n_estimators': 300, 'max_depth': 3, 'min_samples_leaf': 2}\n",
      "\n",
      "=====================================================\n",
      "Model with rank: 2\n",
      "Mean validation score: 0.845 (std: 0.014)\n",
      "Parameters: {'max_features': None, 'loss': 'deviance', 'n_estimators': 200, 'max_depth': 3, 'min_samples_leaf': 3}\n",
      "\n",
      "=====================================================\n",
      "Model with rank: 3\n",
      "Mean validation score: 0.845 (std: 0.018)\n",
      "Parameters: {'max_features': None, 'loss': 'exponential', 'n_estimators': 200, 'max_depth': 3, 'min_samples_leaf': 3}\n",
      "\n",
      "=====================================================\n",
      "Model with rank: 4\n",
      "Mean validation score: 0.844 (std: 0.029)\n",
      "Parameters: {'max_features': 'sqrt', 'loss': 'deviance', 'n_estimators': 500, 'max_depth': 3, 'min_samples_leaf': 5}\n",
      "\n",
      "=====================================================\n",
      "Model with rank: 5\n",
      "Mean validation score: 0.844 (std: 0.016)\n",
      "Parameters: {'max_features': None, 'loss': 'deviance', 'n_estimators': 300, 'max_depth': 3, 'min_samples_leaf': 1}\n",
      "\n",
      "=====================================================\n",
      "Model with rank: 6\n",
      "Mean validation score: 0.843 (std: 0.017)\n",
      "Parameters: {'max_features': None, 'loss': 'deviance', 'n_estimators': 200, 'max_depth': 3, 'min_samples_leaf': 1}\n",
      "\n",
      "=====================================================\n",
      "Model with rank: 7\n",
      "Mean validation score: 0.843 (std: 0.013)\n",
      "Parameters: {'max_features': None, 'loss': 'deviance', 'n_estimators': 300, 'max_depth': 3, 'min_samples_leaf': 3}\n",
      "\n",
      "=====================================================\n",
      "Model with rank: 8\n",
      "Mean validation score: 0.843 (std: 0.022)\n",
      "Parameters: {'max_features': 'sqrt', 'loss': 'exponential', 'n_estimators': 600, 'max_depth': 2, 'min_samples_leaf': 5}\n",
      "\n",
      "=====================================================\n",
      "Model with rank: 9\n",
      "Mean validation score: 0.843 (std: 0.025)\n",
      "Parameters: {'max_features': 'log2', 'loss': 'exponential', 'n_estimators': 200, 'max_depth': 5, 'min_samples_leaf': 4}\n",
      "\n",
      "=====================================================\n",
      "Model with rank: 10\n",
      "Mean validation score: 0.842 (std: 0.028)\n",
      "Parameters: {'max_features': 'sqrt', 'loss': 'deviance', 'n_estimators': 1300, 'max_depth': 3, 'min_samples_leaf': 5}\n",
      "\n",
      "=====================================================\n",
      "Model with rank: 11\n",
      "Mean validation score: 0.842 (std: 0.022)\n",
      "Parameters: {'max_features': None, 'loss': 'deviance', 'n_estimators': 400, 'max_depth': 3, 'min_samples_leaf': 2}\n",
      "\n",
      "=====================================================\n",
      "Model with rank: 12\n",
      "Mean validation score: 0.842 (std: 0.022)\n",
      "Parameters: {'max_features': None, 'loss': 'exponential', 'n_estimators': 500, 'max_depth': 2, 'min_samples_leaf': 2}\n",
      "\n",
      "=====================================================\n",
      "Model with rank: 13\n",
      "Mean validation score: 0.842 (std: 0.025)\n",
      "Parameters: {'max_features': None, 'loss': 'exponential', 'n_estimators': 400, 'max_depth': 2, 'min_samples_leaf': 3}\n",
      "\n",
      "=====================================================\n",
      "Model with rank: 14\n",
      "Mean validation score: 0.842 (std: 0.025)\n",
      "Parameters: {'max_features': 'log2', 'loss': 'exponential', 'n_estimators': 200, 'max_depth': 3, 'min_samples_leaf': 3}\n",
      "\n",
      "=====================================================\n",
      "Model with rank: 15\n",
      "Mean validation score: 0.842 (std: 0.027)\n",
      "Parameters: {'max_features': 'log2', 'loss': 'exponential', 'n_estimators': 300, 'max_depth': 3, 'min_samples_leaf': 4}\n",
      "\n",
      "=====================================================\n",
      "Model with rank: 16\n",
      "Mean validation score: 0.842 (std: 0.021)\n",
      "Parameters: {'max_features': 'log2', 'loss': 'exponential', 'n_estimators': 600, 'max_depth': 3, 'min_samples_leaf': 4}\n",
      "\n",
      "=====================================================\n",
      "Model with rank: 17\n",
      "Mean validation score: 0.842 (std: 0.025)\n",
      "Parameters: {'max_features': 'log2', 'loss': 'exponential', 'n_estimators': 700, 'max_depth': 3, 'min_samples_leaf': 4}\n",
      "\n",
      "=====================================================\n",
      "Model with rank: 18\n",
      "Mean validation score: 0.842 (std: 0.026)\n",
      "Parameters: {'max_features': 'log2', 'loss': 'exponential', 'n_estimators': 500, 'max_depth': 3, 'min_samples_leaf': 5}\n",
      "\n",
      "=====================================================\n",
      "Model with rank: 19\n",
      "Mean validation score: 0.842 (std: 0.015)\n",
      "Parameters: {'max_features': None, 'loss': 'exponential', 'n_estimators': 300, 'max_depth': 3, 'min_samples_leaf': 3}\n",
      "\n",
      "=====================================================\n",
      "Model with rank: 20\n",
      "Mean validation score: 0.842 (std: 0.018)\n",
      "Parameters: {'max_features': None, 'loss': 'exponential', 'n_estimators': 400, 'max_depth': 3, 'min_samples_leaf': 3}\n",
      "\n",
      "=====================================================\n",
      "Model with rank: 21\n",
      "Mean validation score: 0.842 (std: 0.017)\n",
      "Parameters: {'max_features': None, 'loss': 'exponential', 'n_estimators': 500, 'max_depth': 3, 'min_samples_leaf': 3}\n",
      "\n",
      "=====================================================\n",
      "Model with rank: 22\n",
      "Mean validation score: 0.842 (std: 0.020)\n",
      "Parameters: {'max_features': 'sqrt', 'loss': 'exponential', 'n_estimators': 100, 'max_depth': 5, 'min_samples_leaf': 2}\n",
      "\n",
      "=====================================================\n",
      "Model with rank: 23\n",
      "Mean validation score: 0.841 (std: 0.031)\n",
      "Parameters: {'max_features': 'sqrt', 'loss': 'deviance', 'n_estimators': 1900, 'max_depth': 2, 'min_samples_leaf': 1}\n",
      "\n",
      "=====================================================\n",
      "Model with rank: 24\n",
      "Mean validation score: 0.841 (std: 0.022)\n",
      "Parameters: {'max_features': 'log2', 'loss': 'deviance', 'n_estimators': 400, 'max_depth': 3, 'min_samples_leaf': 4}\n",
      "\n",
      "=====================================================\n",
      "Model with rank: 25\n",
      "Mean validation score: 0.841 (std: 0.023)\n",
      "Parameters: {'max_features': None, 'loss': 'deviance', 'n_estimators': 200, 'max_depth': 3, 'min_samples_leaf': 2}\n",
      "\n",
      "=====================================================\n",
      "Model with rank: 26\n",
      "Mean validation score: 0.841 (std: 0.024)\n",
      "Parameters: {'max_features': None, 'loss': 'deviance', 'n_estimators': 200, 'max_depth': 3, 'min_samples_leaf': 4}\n",
      "\n",
      "=====================================================\n",
      "Model with rank: 27\n",
      "Mean validation score: 0.841 (std: 0.019)\n",
      "Parameters: {'max_features': 'sqrt', 'loss': 'deviance', 'n_estimators': 200, 'max_depth': 4, 'min_samples_leaf': 5}\n",
      "\n",
      "=====================================================\n",
      "Model with rank: 28\n",
      "Mean validation score: 0.841 (std: 0.021)\n",
      "Parameters: {'max_features': 'log2', 'loss': 'deviance', 'n_estimators': 300, 'max_depth': 4, 'min_samples_leaf': 2}\n",
      "\n",
      "=====================================================\n",
      "Model with rank: 29\n",
      "Mean validation score: 0.841 (std: 0.022)\n",
      "Parameters: {'max_features': 'log2', 'loss': 'deviance', 'n_estimators': 200, 'max_depth': 4, 'min_samples_leaf': 5}\n",
      "\n",
      "=====================================================\n",
      "Model with rank: 30\n",
      "Mean validation score: 0.841 (std: 0.023)\n",
      "Parameters: {'max_features': None, 'loss': 'deviance', 'n_estimators': 200, 'max_depth': 4, 'min_samples_leaf': 5}\n",
      "\n"
     ]
    }
   ],
   "source": [
    "model = GradientBoostingClassifier()\n",
    "params = [{'loss': ['deviance', 'exponential'],\n",
    "          'n_estimators': np.arange(100,2000,100), \n",
    "           'min_samples_leaf': [1,2,3,4,5],\n",
    "           'max_features': ['sqrt','log2',None], \n",
    "           'max_depth': [1,2,3,4,5],\n",
    "          }]\n",
    "grid_model_gbdt = grid_searcher(model = model, params = params, X = Xtrain, y = ytrain, cv = 5, n_jobs = -1)\n",
    "grid_model_gbdt.report(n_top = 30)"
   ]
  },
  {
   "cell_type": "code",
   "execution_count": 187,
   "metadata": {
    "collapsed": false
   },
   "outputs": [
    {
     "data": {
      "text/plain": [
       "0.91694725028058366"
      ]
     },
     "execution_count": 187,
     "metadata": {},
     "output_type": "execute_result"
    }
   ],
   "source": [
    "gbc = GradientBoostingClassifier(**{'max_features': None, 'loss': 'deviance', 'n_estimators': 200, 'max_depth': 3, 'min_samples_leaf': 3})\n",
    "gbc.fit(Xtrain, ytrain)\n",
    "gbc.score(Xtrain, ytrain)"
   ]
  },
  {
   "cell_type": "code",
   "execution_count": 188,
   "metadata": {
    "collapsed": true
   },
   "outputs": [],
   "source": [
    "submit = pd.DataFrame()\n",
    "submit['PassengerId'] = raw_dtest['PassengerId']\n",
    "submit['Survived'] = gbc.predict(dtest)\n",
    "submit.to_csv('submit_gbc.csv', index=False)"
   ]
  },
  {
   "cell_type": "code",
   "execution_count": 189,
   "metadata": {
    "collapsed": false
   },
   "outputs": [
    {
     "data": {
      "text/plain": [
       "GradientBoostingClassifier(init=None, learning_rate=0.1, loss='deviance',\n",
       "              max_depth=3, max_features=None, max_leaf_nodes=None,\n",
       "              min_samples_leaf=3, min_samples_split=2,\n",
       "              min_weight_fraction_leaf=0.0, n_estimators=200,\n",
       "              presort='auto', random_state=None, subsample=1.0, verbose=0,\n",
       "              warm_start=False)"
      ]
     },
     "execution_count": 189,
     "metadata": {},
     "output_type": "execute_result"
    }
   ],
   "source": [
    "gbc"
   ]
  },
  {
   "cell_type": "code",
   "execution_count": 190,
   "metadata": {
    "collapsed": false,
    "scrolled": true
   },
   "outputs": [
    {
     "data": {
      "text/plain": [
       "0.856341189674523"
      ]
     },
     "execution_count": 190,
     "metadata": {},
     "output_type": "execute_result"
    }
   ],
   "source": [
    "svc1= SVC(**{'cache_size': 2000, 'kernel': 'rbf', 'C': 4.7404785269109286, 'gamma': 0.053999999999999999})\n",
    "svc1.fit(Xtrain, ytrain)\n",
    "svc1.score(Xtrain, ytrain)"
   ]
  },
  {
   "cell_type": "code",
   "execution_count": 195,
   "metadata": {
    "collapsed": false
   },
   "outputs": [
    {
     "data": {
      "text/plain": [
       "0.77665544332211001"
      ]
     },
     "execution_count": 195,
     "metadata": {},
     "output_type": "execute_result"
    }
   ],
   "source": [
    "bayes = GaussianNB().fit(Xtrain, ytrain)\n",
    "bayes.score(Xtrain, ytrain)"
   ]
  },
  {
   "cell_type": "code",
   "execution_count": 196,
   "metadata": {
    "collapsed": true
   },
   "outputs": [],
   "source": [
    "submit = pd.DataFrame()\n",
    "submit['PassengerId'] = raw_dtest['PassengerId']\n",
    "submit['Survived'] = bayes.predict(dtest)\n",
    "submit.to_csv('submit_bayes.csv', index=False)"
   ]
  },
  {
   "cell_type": "code",
   "execution_count": 197,
   "metadata": {
    "collapsed": false
   },
   "outputs": [
    {
     "data": {
      "text/plain": [
       "GaussianNB()"
      ]
     },
     "execution_count": 197,
     "metadata": {},
     "output_type": "execute_result"
    }
   ],
   "source": [
    "bayes"
   ]
  },
  {
   "cell_type": "code",
   "execution_count": 203,
   "metadata": {
    "collapsed": true
   },
   "outputs": [],
   "source": [
    "def submit_csv(model, title):\n",
    "    submit = pd.DataFrame()\n",
    "    submit['PassengerId'] = raw_dtest['PassengerId']\n",
    "    submit['Survived'] = model.predict(dtest)\n",
    "    submit.to_csv(title + '.csv', index=False)"
   ]
  },
  {
   "cell_type": "code",
   "execution_count": 204,
   "metadata": {
    "collapsed": false
   },
   "outputs": [],
   "source": [
    "submit_csv(RandomForestClassifier(300, max_depth = 10).fit(Xtrain, ytrain), 'rf_naive')"
   ]
  },
  {
   "cell_type": "code",
   "execution_count": 205,
   "metadata": {
    "collapsed": false
   },
   "outputs": [
    {
     "data": {
      "text/plain": [
       "0.93153759820426485"
      ]
     },
     "execution_count": 205,
     "metadata": {},
     "output_type": "execute_result"
    }
   ],
   "source": [
    "RandomForestClassifier(300, max_depth = 10).fit(Xtrain, ytrain).score(Xtrain, ytrain)"
   ]
  },
  {
   "cell_type": "code",
   "execution_count": 207,
   "metadata": {
    "collapsed": false
   },
   "outputs": [
    {
     "data": {
      "text/plain": [
       "RandomForestClassifier(bootstrap=True, class_weight=None, criterion='gini',\n",
       "            max_depth=10, max_features='auto', max_leaf_nodes=None,\n",
       "            min_samples_leaf=1, min_samples_split=2,\n",
       "            min_weight_fraction_leaf=0.0, n_estimators=300, n_jobs=1,\n",
       "            oob_score=False, random_state=None, verbose=0,\n",
       "            warm_start=False)"
      ]
     },
     "execution_count": 207,
     "metadata": {},
     "output_type": "execute_result"
    }
   ],
   "source": [
    "RandomForestClassifier(300, max_depth = 10)"
   ]
  },
  {
   "cell_type": "code",
   "execution_count": null,
   "metadata": {
    "collapsed": true
   },
   "outputs": [],
   "source": []
  }
 ],
 "metadata": {
  "kernelspec": {
   "display_name": "Python 2",
   "language": "python",
   "name": "python2"
  },
  "language_info": {
   "codemirror_mode": {
    "name": "ipython",
    "version": 2
   },
   "file_extension": ".py",
   "mimetype": "text/x-python",
   "name": "python",
   "nbconvert_exporter": "python",
   "pygments_lexer": "ipython2",
   "version": "2.7.11"
  }
 },
 "nbformat": 4,
 "nbformat_minor": 0
}
