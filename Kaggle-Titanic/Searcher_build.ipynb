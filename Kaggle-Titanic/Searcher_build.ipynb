{
 "cells": [
  {
   "cell_type": "code",
   "execution_count": 1,
   "metadata": {
    "collapsed": true
   },
   "outputs": [],
   "source": [
    "import pandas as pd\n",
    "import numpy as np\n",
    "import pylab as plt\n",
    "from my_pipeline import Wrangler"
   ]
  },
  {
   "cell_type": "code",
   "execution_count": 2,
   "metadata": {
    "collapsed": true
   },
   "outputs": [],
   "source": [
    "from sklearn import cross_validation\n",
    "from sklearn.grid_search import GridSearchCV\n",
    "from sklearn.ensemble import AdaBoostClassifier,GradientBoostingClassifier, RandomForestClassifier, ExtraTreesClassifier, VotingClassifier\n",
    "from sklearn.svm import SVC\n",
    "from sklearn.naive_bayes import GaussianNB"
   ]
  },
  {
   "cell_type": "code",
   "execution_count": 3,
   "metadata": {
    "collapsed": true
   },
   "outputs": [],
   "source": [
    "raw_dtrain = pd.read_csv('data/train.csv',index_col = 0)\n",
    "raw_dtest = pd.read_csv('data/test.csv',index_col = 0)"
   ]
  },
  {
   "cell_type": "code",
   "execution_count": 8,
   "metadata": {
    "collapsed": false
   },
   "outputs": [
    {
     "data": {
      "text/html": [
       "<div>\n",
       "<table border=\"1\" class=\"dataframe\">\n",
       "  <thead>\n",
       "    <tr style=\"text-align: right;\">\n",
       "      <th></th>\n",
       "      <th>SibSp</th>\n",
       "      <th>Parch</th>\n",
       "      <th>Fare</th>\n",
       "      <th>Sex</th>\n",
       "      <th>Age</th>\n",
       "      <th>Embarked_C</th>\n",
       "      <th>Embarked_Q</th>\n",
       "      <th>Embarked_S</th>\n",
       "      <th>Pclass_1</th>\n",
       "      <th>Pclass_2</th>\n",
       "      <th>...</th>\n",
       "      <th>Cabin_T</th>\n",
       "      <th>Cabin_n</th>\n",
       "      <th>Title_Army</th>\n",
       "      <th>Title_Dr</th>\n",
       "      <th>Title_Master</th>\n",
       "      <th>Title_Miss</th>\n",
       "      <th>Title_Mr</th>\n",
       "      <th>Title_Mrs</th>\n",
       "      <th>Title_Rev</th>\n",
       "      <th>Title_Upper</th>\n",
       "    </tr>\n",
       "    <tr>\n",
       "      <th>PassengerId</th>\n",
       "      <th></th>\n",
       "      <th></th>\n",
       "      <th></th>\n",
       "      <th></th>\n",
       "      <th></th>\n",
       "      <th></th>\n",
       "      <th></th>\n",
       "      <th></th>\n",
       "      <th></th>\n",
       "      <th></th>\n",
       "      <th></th>\n",
       "      <th></th>\n",
       "      <th></th>\n",
       "      <th></th>\n",
       "      <th></th>\n",
       "      <th></th>\n",
       "      <th></th>\n",
       "      <th></th>\n",
       "      <th></th>\n",
       "      <th></th>\n",
       "      <th></th>\n",
       "    </tr>\n",
       "  </thead>\n",
       "  <tbody>\n",
       "    <tr>\n",
       "      <th>1</th>\n",
       "      <td>0.481104</td>\n",
       "      <td>-0.444829</td>\n",
       "      <td>-0.514509</td>\n",
       "      <td>0</td>\n",
       "      <td>-0.598531</td>\n",
       "      <td>0</td>\n",
       "      <td>0</td>\n",
       "      <td>1</td>\n",
       "      <td>0</td>\n",
       "      <td>0</td>\n",
       "      <td>...</td>\n",
       "      <td>0</td>\n",
       "      <td>1</td>\n",
       "      <td>0</td>\n",
       "      <td>0</td>\n",
       "      <td>0</td>\n",
       "      <td>0</td>\n",
       "      <td>1</td>\n",
       "      <td>0</td>\n",
       "      <td>0</td>\n",
       "      <td>0</td>\n",
       "    </tr>\n",
       "    <tr>\n",
       "      <th>2</th>\n",
       "      <td>0.481104</td>\n",
       "      <td>-0.444829</td>\n",
       "      <td>0.722382</td>\n",
       "      <td>1</td>\n",
       "      <td>0.614160</td>\n",
       "      <td>1</td>\n",
       "      <td>0</td>\n",
       "      <td>0</td>\n",
       "      <td>1</td>\n",
       "      <td>0</td>\n",
       "      <td>...</td>\n",
       "      <td>0</td>\n",
       "      <td>0</td>\n",
       "      <td>0</td>\n",
       "      <td>0</td>\n",
       "      <td>0</td>\n",
       "      <td>0</td>\n",
       "      <td>0</td>\n",
       "      <td>1</td>\n",
       "      <td>0</td>\n",
       "      <td>0</td>\n",
       "    </tr>\n",
       "    <tr>\n",
       "      <th>3</th>\n",
       "      <td>-0.478904</td>\n",
       "      <td>-0.444829</td>\n",
       "      <td>-0.501471</td>\n",
       "      <td>1</td>\n",
       "      <td>-0.295358</td>\n",
       "      <td>0</td>\n",
       "      <td>0</td>\n",
       "      <td>1</td>\n",
       "      <td>0</td>\n",
       "      <td>0</td>\n",
       "      <td>...</td>\n",
       "      <td>0</td>\n",
       "      <td>1</td>\n",
       "      <td>0</td>\n",
       "      <td>0</td>\n",
       "      <td>0</td>\n",
       "      <td>1</td>\n",
       "      <td>0</td>\n",
       "      <td>0</td>\n",
       "      <td>0</td>\n",
       "      <td>0</td>\n",
       "    </tr>\n",
       "    <tr>\n",
       "      <th>4</th>\n",
       "      <td>0.481104</td>\n",
       "      <td>-0.444829</td>\n",
       "      <td>0.371147</td>\n",
       "      <td>1</td>\n",
       "      <td>0.386781</td>\n",
       "      <td>0</td>\n",
       "      <td>0</td>\n",
       "      <td>1</td>\n",
       "      <td>1</td>\n",
       "      <td>0</td>\n",
       "      <td>...</td>\n",
       "      <td>0</td>\n",
       "      <td>0</td>\n",
       "      <td>0</td>\n",
       "      <td>0</td>\n",
       "      <td>0</td>\n",
       "      <td>0</td>\n",
       "      <td>0</td>\n",
       "      <td>1</td>\n",
       "      <td>0</td>\n",
       "      <td>0</td>\n",
       "    </tr>\n",
       "    <tr>\n",
       "      <th>5</th>\n",
       "      <td>-0.478904</td>\n",
       "      <td>-0.444829</td>\n",
       "      <td>-0.499056</td>\n",
       "      <td>0</td>\n",
       "      <td>0.386781</td>\n",
       "      <td>0</td>\n",
       "      <td>0</td>\n",
       "      <td>1</td>\n",
       "      <td>0</td>\n",
       "      <td>0</td>\n",
       "      <td>...</td>\n",
       "      <td>0</td>\n",
       "      <td>1</td>\n",
       "      <td>0</td>\n",
       "      <td>0</td>\n",
       "      <td>0</td>\n",
       "      <td>0</td>\n",
       "      <td>1</td>\n",
       "      <td>0</td>\n",
       "      <td>0</td>\n",
       "      <td>0</td>\n",
       "    </tr>\n",
       "  </tbody>\n",
       "</table>\n",
       "<p>5 rows × 28 columns</p>\n",
       "</div>"
      ],
      "text/plain": [
       "                SibSp     Parch      Fare  Sex       Age  Embarked_C  \\\n",
       "PassengerId                                                            \n",
       "1            0.481104 -0.444829 -0.514509    0 -0.598531           0   \n",
       "2            0.481104 -0.444829  0.722382    1  0.614160           1   \n",
       "3           -0.478904 -0.444829 -0.501471    1 -0.295358           0   \n",
       "4            0.481104 -0.444829  0.371147    1  0.386781           0   \n",
       "5           -0.478904 -0.444829 -0.499056    0  0.386781           0   \n",
       "\n",
       "             Embarked_Q  Embarked_S  Pclass_1  Pclass_2     ...       Cabin_T  \\\n",
       "PassengerId                                                 ...                 \n",
       "1                     0           1         0         0     ...             0   \n",
       "2                     0           0         1         0     ...             0   \n",
       "3                     0           1         0         0     ...             0   \n",
       "4                     0           1         1         0     ...             0   \n",
       "5                     0           1         0         0     ...             0   \n",
       "\n",
       "             Cabin_n  Title_Army  Title_Dr  Title_Master  Title_Miss  \\\n",
       "PassengerId                                                            \n",
       "1                  1           0         0             0           0   \n",
       "2                  0           0         0             0           0   \n",
       "3                  1           0         0             0           1   \n",
       "4                  0           0         0             0           0   \n",
       "5                  1           0         0             0           0   \n",
       "\n",
       "             Title_Mr  Title_Mrs  Title_Rev  Title_Upper  \n",
       "PassengerId                                               \n",
       "1                   1          0          0            0  \n",
       "2                   0          1          0            0  \n",
       "3                   0          0          0            0  \n",
       "4                   0          1          0            0  \n",
       "5                   1          0          0            0  \n",
       "\n",
       "[5 rows x 28 columns]"
      ]
     },
     "execution_count": 8,
     "metadata": {},
     "output_type": "execute_result"
    }
   ],
   "source": [
    "Wrangler(raw_dtrain, raw_dtest).Xtrain.head()"
   ]
  },
  {
   "cell_type": "code",
   "execution_count": 13,
   "metadata": {
    "collapsed": true
   },
   "outputs": [],
   "source": [
    "class Searcher(object):\n",
    "    # self.model = sklearn model wish to test, build GridSearchCV() with params_grid = list consisting of parameters\n",
    "    # self.X = features\n",
    "    # self.y = target\n",
    "    \n",
    "    from sklearn.grid_search import GridSearchCV    \n",
    "    \n",
    "    def __init__(self, model, params, X, y, cv = 5, n_jobs = -1):\n",
    "        self.searcher = GridSearchCV(estimator = model, param_grid = params, cv = cv, n_jobs = n_jobs)\n",
    "        self.X = X\n",
    "        self.y = y\n",
    "        self.fitted = False\n",
    "        \n",
    "    def get_fit(self):\n",
    "        self.searcher.fit(self.X, self.y)\n",
    "        print('Fitted succeed!\\n')\n",
    "        self.fitted = True\n",
    "        \n",
    "    def report(self, n_top = 20):\n",
    "        if not self.fitted:\n",
    "            self.get_fit()\n",
    "        grid_scores = self.searcher.grid_scores_\n",
    "        top_scores = sorted(grid_scores, key=lambda x: x[1], reverse=True)[:n_top]\n",
    "        for i, score in enumerate(top_scores):\n",
    "            print(\"=====================================================\")\n",
    "            print(\"Model with rank: {0}\".format(i + 1))\n",
    "            print(\"Mean validation score: {0:.3f} (std: {1:.3f})\".format(score.mean_validation_score, np.std(score.cv_validation_scores)))\n",
    "            print(\"Parameters: {0}\".format(score.parameters))\n",
    "            print('')\n",
    "            \n",
    "    def get_best_model(self):\n",
    "        if not self.fitted:\n",
    "            self.get_fit()\n",
    "        return self.searcher.best_estimator_"
   ]
  },
  {
   "cell_type": "code",
   "execution_count": 55,
   "metadata": {
    "collapsed": false
   },
   "outputs": [],
   "source": [
    "class Pipeliner(object):\n",
    "    # import Searcher\n",
    "    \n",
    "    def __init__(self, data_wrangler, modeler = None): \n",
    "        # data_wrangler should be a Wrangler object\n",
    "        # modeler should be sklearn model-like\n",
    "        self.fitted = False\n",
    "        \n",
    "        self.wrangler = data_wrangler\n",
    "        self.modeler = modeler\n",
    "        \n",
    "        self.Xtrain = self.wrangler.Xtrain\n",
    "        self.Xtest = self.wrangler.Xtest\n",
    "        self.ytrain = self.wrangler.ytrain       \n",
    "            \n",
    "    def grid_search(self, search_list, n_top = 20):\n",
    "        # search_list = [(model_name, model_to_search, params_to_search), ]\n",
    "        for search_item in search_list:\n",
    "            model_name, model_to_search, params_to_search = search_item\n",
    "            print '\\n\\n\\n========================= Working on %s==========================' % model_name     \n",
    "            self.searcher = Searcher(model = model_to_search, params = params_to_search, \n",
    "                                     X = self.Xtrain, y = self.ytrain, cv = 5, n_jobs = -1)\n",
    "            self.searcher.report(n_top = n_top)\n",
    " \n",
    "    def set_modeler(self, modeler):\n",
    "        self.modeler = modeler\n",
    "        self.fitted = False\n",
    "    \n",
    "    def get_fit(self):\n",
    "        if self.modeler == None:\n",
    "            print 'This pipeline hasn\\'t prepared well for the model!'\n",
    "            return\n",
    "        self.modeler.fit(self.Xtrain, self.ytrain)\n",
    "        self.fitted = True\n",
    "        print 'Training accuracy:',  self.modeler.score(self.Xtrain, self.ytrain)\n",
    "        print\n",
    "        \n",
    "    def report(self, filename = 'submit'):\n",
    "        if self.modeler == None:\n",
    "            print 'This pipeline hasn\\'t prepared well for the model!'\n",
    "            return\n",
    "        if not self.fitted:\n",
    "            self.get_fit()\n",
    "        submit = pd.DataFrame()\n",
    "        submit['PassengerId'] = self.Xtest.index\n",
    "        submit['Survived'] = self.modeler.predict(self.Xtest)\n",
    "        submit.to_csv(filename + '.csv', index=False)"
   ]
  },
  {
   "cell_type": "code",
   "execution_count": 47,
   "metadata": {
    "collapsed": false
   },
   "outputs": [
    {
     "name": "stdout",
     "output_type": "stream",
     "text": [
      "\n",
      "\n",
      "\n",
      "========================= Working on SVC==========================\n",
      "Fitted succeed!\n",
      "\n",
      "=====================================================\n",
      "Model with rank: 1\n",
      "Mean validation score: 0.837 (std: 0.022)\n",
      "Parameters: {'cache_size': 2000, 'kernel': 'rbf', 'C': 1.015936673259648, 'gamma': 0.114}\n",
      "\n",
      "=====================================================\n",
      "Model with rank: 2\n",
      "Mean validation score: 0.837 (std: 0.022)\n",
      "Parameters: {'cache_size': 2000, 'kernel': 'rbf', 'C': 1.015936673259648, 'gamma': 0.12}\n",
      "\n",
      "=====================================================\n",
      "Model with rank: 3\n",
      "Mean validation score: 0.837 (std: 0.022)\n",
      "Parameters: {'cache_size': 2000, 'kernel': 'rbf', 'C': 2.1945445961038677, 'gamma': 0.059999999999999998}\n",
      "\n",
      "=====================================================\n",
      "Model with rank: 4\n",
      "Mean validation score: 0.836 (std: 0.029)\n",
      "Parameters: {'cache_size': 2000, 'kernel': 'poly', 'C': 10.24, 'degree': 3}\n",
      "\n",
      "=====================================================\n",
      "Model with rank: 5\n",
      "Mean validation score: 0.836 (std: 0.023)\n",
      "Parameters: {'cache_size': 2000, 'kernel': 'rbf', 'C': 1.015936673259648, 'gamma': 0.108}\n",
      "\n",
      "=====================================================\n",
      "Model with rank: 6\n",
      "Mean validation score: 0.836 (std: 0.023)\n",
      "Parameters: {'cache_size': 2000, 'kernel': 'rbf', 'C': 1.015936673259648, 'gamma': 0.126}\n",
      "\n",
      "=====================================================\n",
      "Model with rank: 7\n",
      "Mean validation score: 0.836 (std: 0.021)\n",
      "Parameters: {'cache_size': 2000, 'kernel': 'rbf', 'C': 2.1945445961038677, 'gamma': 0.066000000000000003}\n",
      "\n",
      "=====================================================\n",
      "Model with rank: 8\n",
      "Mean validation score: 0.836 (std: 0.024)\n",
      "Parameters: {'cache_size': 2000, 'kernel': 'rbf', 'C': 4.7404785269109286, 'gamma': 0.0}\n",
      "\n",
      "=====================================================\n",
      "Model with rank: 9\n",
      "Mean validation score: 0.836 (std: 0.024)\n",
      "Parameters: {'cache_size': 2000, 'kernel': 'rbf', 'C': 4.7404785269109286, 'gamma': 0.036000000000000004}\n",
      "\n",
      "=====================================================\n",
      "Model with rank: 10\n",
      "Mean validation score: 0.835 (std: 0.024)\n",
      "Parameters: {'cache_size': 2000, 'kernel': 'poly', 'C': 4.7404785269109286, 'degree': 2}\n",
      "\n"
     ]
    }
   ],
   "source": [
    "pipeline = Pipeliner(data_wrangler = Wrangler(raw_dtrain = pd.read_csv('data/train.csv',index_col = 0), \n",
    "                                              raw_dtest = pd.read_csv('data/test.csv',index_col = 0)), )\n",
    "search_list = [('SVC',SVC(),\n",
    "                [{'kernel': ['linear'], 'C': 0.01 * np.logspace(0, 5, 10, base = 4), 'cache_size': [2000]},\n",
    "                 {'kernel': ['sigmoid'], 'C': 0.01 * np.logspace(0, 5, 10, base = 4), 'cache_size': [2000]},\n",
    "                 {'kernel': ['poly'], 'C': 0.01 * np.logspace(0, 5, 10, base = 4), 'degree': np.arange(1, 10), 'cache_size': [2000]}, \n",
    "                 {'kernel': ['rbf'], 'C': 0.01 * np.logspace(0, 5, 10, base = 4), 'gamma': np.arange(0, 0.3, 0.006), 'cache_size': [2000]}, ]),]\n",
    "pipeline.grid_search(search_list, n_top = 10)"
   ]
  },
  {
   "cell_type": "markdown",
   "metadata": {},
   "source": [
    "#  Test: 0.79904"
   ]
  },
  {
   "cell_type": "code",
   "execution_count": 48,
   "metadata": {
    "collapsed": false
   },
   "outputs": [
    {
     "name": "stdout",
     "output_type": "stream",
     "text": [
      "Training accuracy: 0.841750841751\n",
      "\n"
     ]
    }
   ],
   "source": [
    "pipeline.set_modeler(SVC(**{'cache_size': 2000, 'kernel': 'rbf', 'C': 2.1945445961038677, 'gamma': 0.059999999999999998}))\n",
    "pipeline.report('svc_pipeline')"
   ]
  },
  {
   "cell_type": "code",
   "execution_count": 49,
   "metadata": {
    "collapsed": false
   },
   "outputs": [
    {
     "data": {
      "text/plain": [
       "SVC(C=2.1945445961, cache_size=2000, class_weight=None, coef0=0.0,\n",
       "  decision_function_shape=None, degree=3, gamma=0.06, kernel='rbf',\n",
       "  max_iter=-1, probability=False, random_state=None, shrinking=True,\n",
       "  tol=0.001, verbose=False)"
      ]
     },
     "execution_count": 49,
     "metadata": {},
     "output_type": "execute_result"
    }
   ],
   "source": [
    "pipeline.modeler"
   ]
  },
  {
   "cell_type": "markdown",
   "metadata": {},
   "source": [
    "# Test all model, and go sleep :)"
   ]
  },
  {
   "cell_type": "code",
   "execution_count": 50,
   "metadata": {
    "collapsed": false
   },
   "outputs": [
    {
     "name": "stdout",
     "output_type": "stream",
     "text": [
      "\n",
      "\n",
      "\n",
      "========================= Working on SVC==========================\n",
      "Fitted succeed!\n",
      "\n",
      "=====================================================\n",
      "Model with rank: 1\n",
      "Mean validation score: 0.837 (std: 0.022)\n",
      "Parameters: {'cache_size': 2000, 'kernel': 'rbf', 'C': 1.015936673259648, 'gamma': 0.114}\n",
      "\n",
      "=====================================================\n",
      "Model with rank: 2\n",
      "Mean validation score: 0.837 (std: 0.022)\n",
      "Parameters: {'cache_size': 2000, 'kernel': 'rbf', 'C': 1.015936673259648, 'gamma': 0.12}\n",
      "\n",
      "=====================================================\n",
      "Model with rank: 3\n",
      "Mean validation score: 0.837 (std: 0.022)\n",
      "Parameters: {'cache_size': 2000, 'kernel': 'rbf', 'C': 2.1945445961038677, 'gamma': 0.059999999999999998}\n",
      "\n",
      "=====================================================\n",
      "Model with rank: 4\n",
      "Mean validation score: 0.836 (std: 0.029)\n",
      "Parameters: {'cache_size': 2000, 'kernel': 'poly', 'C': 10.24, 'degree': 3}\n",
      "\n",
      "=====================================================\n",
      "Model with rank: 5\n",
      "Mean validation score: 0.836 (std: 0.023)\n",
      "Parameters: {'cache_size': 2000, 'kernel': 'rbf', 'C': 1.015936673259648, 'gamma': 0.108}\n",
      "\n",
      "=====================================================\n",
      "Model with rank: 6\n",
      "Mean validation score: 0.836 (std: 0.023)\n",
      "Parameters: {'cache_size': 2000, 'kernel': 'rbf', 'C': 1.015936673259648, 'gamma': 0.126}\n",
      "\n",
      "=====================================================\n",
      "Model with rank: 7\n",
      "Mean validation score: 0.836 (std: 0.021)\n",
      "Parameters: {'cache_size': 2000, 'kernel': 'rbf', 'C': 2.1945445961038677, 'gamma': 0.066000000000000003}\n",
      "\n",
      "=====================================================\n",
      "Model with rank: 8\n",
      "Mean validation score: 0.836 (std: 0.024)\n",
      "Parameters: {'cache_size': 2000, 'kernel': 'rbf', 'C': 4.7404785269109286, 'gamma': 0.0}\n",
      "\n",
      "=====================================================\n",
      "Model with rank: 9\n",
      "Mean validation score: 0.836 (std: 0.024)\n",
      "Parameters: {'cache_size': 2000, 'kernel': 'rbf', 'C': 4.7404785269109286, 'gamma': 0.036000000000000004}\n",
      "\n",
      "=====================================================\n",
      "Model with rank: 10\n",
      "Mean validation score: 0.835 (std: 0.024)\n",
      "Parameters: {'cache_size': 2000, 'kernel': 'poly', 'C': 4.7404785269109286, 'degree': 2}\n",
      "\n",
      "=====================================================\n",
      "Model with rank: 11\n",
      "Mean validation score: 0.835 (std: 0.024)\n",
      "Parameters: {'cache_size': 2000, 'kernel': 'poly', 'C': 10.24, 'degree': 2}\n",
      "\n",
      "=====================================================\n",
      "Model with rank: 12\n",
      "Mean validation score: 0.835 (std: 0.021)\n",
      "Parameters: {'cache_size': 2000, 'kernel': 'rbf', 'C': 1.015936673259648, 'gamma': 0.089999999999999997}\n",
      "\n",
      "=====================================================\n",
      "Model with rank: 13\n",
      "Mean validation score: 0.835 (std: 0.021)\n",
      "Parameters: {'cache_size': 2000, 'kernel': 'rbf', 'C': 1.015936673259648, 'gamma': 0.096000000000000002}\n",
      "\n",
      "=====================================================\n",
      "Model with rank: 14\n",
      "Mean validation score: 0.835 (std: 0.021)\n",
      "Parameters: {'cache_size': 2000, 'kernel': 'rbf', 'C': 1.015936673259648, 'gamma': 0.10200000000000001}\n",
      "\n",
      "=====================================================\n",
      "Model with rank: 15\n",
      "Mean validation score: 0.835 (std: 0.024)\n",
      "Parameters: {'cache_size': 2000, 'kernel': 'rbf', 'C': 2.1945445961038677, 'gamma': 0.042000000000000003}\n",
      "\n",
      "=====================================================\n",
      "Model with rank: 16\n",
      "Mean validation score: 0.835 (std: 0.021)\n",
      "Parameters: {'cache_size': 2000, 'kernel': 'rbf', 'C': 2.1945445961038677, 'gamma': 0.053999999999999999}\n",
      "\n",
      "=====================================================\n",
      "Model with rank: 17\n",
      "Mean validation score: 0.835 (std: 0.022)\n",
      "Parameters: {'cache_size': 2000, 'kernel': 'rbf', 'C': 2.1945445961038677, 'gamma': 0.072000000000000008}\n",
      "\n",
      "=====================================================\n",
      "Model with rank: 18\n",
      "Mean validation score: 0.834 (std: 0.022)\n",
      "Parameters: {'cache_size': 2000, 'kernel': 'rbf', 'C': 1.015936673259648, 'gamma': 0.053999999999999999}\n",
      "\n",
      "=====================================================\n",
      "Model with rank: 19\n",
      "Mean validation score: 0.834 (std: 0.019)\n",
      "Parameters: {'cache_size': 2000, 'kernel': 'rbf', 'C': 1.015936673259648, 'gamma': 0.084000000000000005}\n",
      "\n",
      "=====================================================\n",
      "Model with rank: 20\n",
      "Mean validation score: 0.834 (std: 0.024)\n",
      "Parameters: {'cache_size': 2000, 'kernel': 'rbf', 'C': 1.015936673259648, 'gamma': 0.13200000000000001}\n",
      "\n",
      "=====================================================\n",
      "Model with rank: 21\n",
      "Mean validation score: 0.834 (std: 0.022)\n",
      "Parameters: {'cache_size': 2000, 'kernel': 'rbf', 'C': 2.1945445961038677, 'gamma': 0.0}\n",
      "\n",
      "=====================================================\n",
      "Model with rank: 22\n",
      "Mean validation score: 0.834 (std: 0.022)\n",
      "Parameters: {'cache_size': 2000, 'kernel': 'rbf', 'C': 2.1945445961038677, 'gamma': 0.036000000000000004}\n",
      "\n",
      "=====================================================\n",
      "Model with rank: 23\n",
      "Mean validation score: 0.834 (std: 0.022)\n",
      "Parameters: {'cache_size': 2000, 'kernel': 'rbf', 'C': 2.1945445961038677, 'gamma': 0.048000000000000001}\n",
      "\n",
      "=====================================================\n",
      "Model with rank: 24\n",
      "Mean validation score: 0.834 (std: 0.026)\n",
      "Parameters: {'cache_size': 2000, 'kernel': 'rbf', 'C': 2.1945445961038677, 'gamma': 0.13200000000000001}\n",
      "\n",
      "=====================================================\n",
      "Model with rank: 25\n",
      "Mean validation score: 0.834 (std: 0.026)\n",
      "Parameters: {'cache_size': 2000, 'kernel': 'rbf', 'C': 2.1945445961038677, 'gamma': 0.13800000000000001}\n",
      "\n",
      "=====================================================\n",
      "Model with rank: 26\n",
      "Mean validation score: 0.834 (std: 0.030)\n",
      "Parameters: {'cache_size': 2000, 'kernel': 'rbf', 'C': 2.1945445961038677, 'gamma': 0.16200000000000001}\n",
      "\n",
      "=====================================================\n",
      "Model with rank: 27\n",
      "Mean validation score: 0.834 (std: 0.022)\n",
      "Parameters: {'cache_size': 2000, 'kernel': 'rbf', 'C': 4.7404785269109286, 'gamma': 0.024}\n",
      "\n",
      "=====================================================\n",
      "Model with rank: 28\n",
      "Mean validation score: 0.834 (std: 0.022)\n",
      "Parameters: {'cache_size': 2000, 'kernel': 'rbf', 'C': 4.7404785269109286, 'gamma': 0.042000000000000003}\n",
      "\n",
      "=====================================================\n",
      "Model with rank: 29\n",
      "Mean validation score: 0.834 (std: 0.018)\n",
      "Parameters: {'cache_size': 2000, 'kernel': 'rbf', 'C': 4.7404785269109286, 'gamma': 0.053999999999999999}\n",
      "\n",
      "=====================================================\n",
      "Model with rank: 30\n",
      "Mean validation score: 0.833 (std: 0.023)\n",
      "Parameters: {'cache_size': 2000, 'kernel': 'rbf', 'C': 0.10079368399158986, 'gamma': 0.13800000000000001}\n",
      "\n",
      "\n",
      "\n",
      "\n",
      "========================= Working on RF==========================\n",
      "Fitted succeed!\n",
      "\n",
      "=====================================================\n",
      "Model with rank: 1\n",
      "Mean validation score: 0.845 (std: 0.026)\n",
      "Parameters: {'max_features': None, 'n_estimators': 80, 'criterion': 'gini', 'max_depth': 12, 'min_samples_leaf': 5}\n",
      "\n",
      "=====================================================\n",
      "Model with rank: 2\n",
      "Mean validation score: 0.845 (std: 0.031)\n",
      "Parameters: {'max_features': None, 'n_estimators': 30, 'criterion': 'gini', 'max_depth': 16, 'min_samples_leaf': 2}\n",
      "\n",
      "=====================================================\n",
      "Model with rank: 3\n",
      "Mean validation score: 0.844 (std: 0.026)\n",
      "Parameters: {'max_features': None, 'n_estimators': 80, 'criterion': 'gini', 'max_depth': 7, 'min_samples_leaf': 3}\n",
      "\n",
      "=====================================================\n",
      "Model with rank: 4\n",
      "Mean validation score: 0.844 (std: 0.023)\n",
      "Parameters: {'max_features': None, 'n_estimators': 150, 'criterion': 'gini', 'max_depth': 8, 'min_samples_leaf': 3}\n",
      "\n",
      "=====================================================\n",
      "Model with rank: 5\n",
      "Mean validation score: 0.844 (std: 0.027)\n",
      "Parameters: {'max_features': None, 'n_estimators': 30, 'criterion': 'gini', 'max_depth': 10, 'min_samples_leaf': 4}\n",
      "\n",
      "=====================================================\n",
      "Model with rank: 6\n",
      "Mean validation score: 0.843 (std: 0.025)\n",
      "Parameters: {'max_features': None, 'n_estimators': 30, 'criterion': 'gini', 'max_depth': 8, 'min_samples_leaf': 4}\n",
      "\n",
      "=====================================================\n",
      "Model with rank: 7\n",
      "Mean validation score: 0.843 (std: 0.025)\n",
      "Parameters: {'max_features': None, 'n_estimators': 300, 'criterion': 'gini', 'max_depth': 18, 'min_samples_leaf': 3}\n",
      "\n",
      "=====================================================\n",
      "Model with rank: 8\n",
      "Mean validation score: 0.842 (std: 0.024)\n",
      "Parameters: {'max_features': None, 'n_estimators': 150, 'criterion': 'gini', 'max_depth': 7, 'min_samples_leaf': 2}\n",
      "\n",
      "=====================================================\n",
      "Model with rank: 9\n",
      "Mean validation score: 0.842 (std: 0.022)\n",
      "Parameters: {'max_features': None, 'n_estimators': 150, 'criterion': 'gini', 'max_depth': 12, 'min_samples_leaf': 3}\n",
      "\n",
      "=====================================================\n",
      "Model with rank: 10\n",
      "Mean validation score: 0.842 (std: 0.023)\n",
      "Parameters: {'max_features': None, 'n_estimators': 150, 'criterion': 'gini', 'max_depth': 16, 'min_samples_leaf': 5}\n",
      "\n",
      "=====================================================\n",
      "Model with rank: 11\n",
      "Mean validation score: 0.842 (std: 0.026)\n",
      "Parameters: {'max_features': None, 'n_estimators': 80, 'criterion': 'gini', 'max_depth': 18, 'min_samples_leaf': 4}\n",
      "\n",
      "=====================================================\n",
      "Model with rank: 12\n",
      "Mean validation score: 0.842 (std: 0.032)\n",
      "Parameters: {'max_features': None, 'n_estimators': 30, 'criterion': 'entropy', 'max_depth': 8, 'min_samples_leaf': 2}\n",
      "\n",
      "=====================================================\n",
      "Model with rank: 13\n",
      "Mean validation score: 0.842 (std: 0.024)\n",
      "Parameters: {'max_features': None, 'n_estimators': 30, 'criterion': 'entropy', 'max_depth': 10, 'min_samples_leaf': 2}\n",
      "\n",
      "=====================================================\n",
      "Model with rank: 14\n",
      "Mean validation score: 0.842 (std: 0.028)\n",
      "Parameters: {'max_features': None, 'n_estimators': 30, 'criterion': 'entropy', 'max_depth': 11, 'min_samples_leaf': 5}\n",
      "\n",
      "=====================================================\n",
      "Model with rank: 15\n",
      "Mean validation score: 0.841 (std: 0.030)\n",
      "Parameters: {'max_features': None, 'n_estimators': 300, 'criterion': 'gini', 'max_depth': 7, 'min_samples_leaf': 2}\n",
      "\n",
      "=====================================================\n",
      "Model with rank: 16\n",
      "Mean validation score: 0.841 (std: 0.021)\n",
      "Parameters: {'max_features': None, 'n_estimators': 30, 'criterion': 'gini', 'max_depth': 9, 'min_samples_leaf': 2}\n",
      "\n",
      "=====================================================\n",
      "Model with rank: 17\n",
      "Mean validation score: 0.841 (std: 0.024)\n",
      "Parameters: {'max_features': None, 'n_estimators': 300, 'criterion': 'gini', 'max_depth': 9, 'min_samples_leaf': 3}\n",
      "\n",
      "=====================================================\n",
      "Model with rank: 18\n",
      "Mean validation score: 0.841 (std: 0.024)\n",
      "Parameters: {'max_features': None, 'n_estimators': 300, 'criterion': 'gini', 'max_depth': 10, 'min_samples_leaf': 3}\n",
      "\n",
      "=====================================================\n",
      "Model with rank: 19\n",
      "Mean validation score: 0.841 (std: 0.029)\n",
      "Parameters: {'max_features': None, 'n_estimators': 30, 'criterion': 'gini', 'max_depth': 11, 'min_samples_leaf': 4}\n",
      "\n",
      "=====================================================\n",
      "Model with rank: 20\n",
      "Mean validation score: 0.841 (std: 0.027)\n",
      "Parameters: {'max_features': None, 'n_estimators': 300, 'criterion': 'gini', 'max_depth': 11, 'min_samples_leaf': 5}\n",
      "\n",
      "=====================================================\n",
      "Model with rank: 21\n",
      "Mean validation score: 0.841 (std: 0.023)\n",
      "Parameters: {'max_features': 'log2', 'n_estimators': 80, 'criterion': 'gini', 'max_depth': 12, 'min_samples_leaf': 2}\n",
      "\n",
      "=====================================================\n",
      "Model with rank: 22\n",
      "Mean validation score: 0.841 (std: 0.025)\n",
      "Parameters: {'max_features': None, 'n_estimators': 500, 'criterion': 'gini', 'max_depth': 12, 'min_samples_leaf': 5}\n",
      "\n",
      "=====================================================\n",
      "Model with rank: 23\n",
      "Mean validation score: 0.841 (std: 0.022)\n",
      "Parameters: {'max_features': None, 'n_estimators': 80, 'criterion': 'gini', 'max_depth': 13, 'min_samples_leaf': 5}\n",
      "\n",
      "=====================================================\n",
      "Model with rank: 24\n",
      "Mean validation score: 0.841 (std: 0.021)\n",
      "Parameters: {'max_features': None, 'n_estimators': 500, 'criterion': 'gini', 'max_depth': 14, 'min_samples_leaf': 3}\n",
      "\n",
      "=====================================================\n",
      "Model with rank: 25\n",
      "Mean validation score: 0.841 (std: 0.019)\n",
      "Parameters: {'max_features': None, 'n_estimators': 300, 'criterion': 'gini', 'max_depth': 15, 'min_samples_leaf': 4}\n",
      "\n",
      "=====================================================\n",
      "Model with rank: 26\n",
      "Mean validation score: 0.841 (std: 0.027)\n",
      "Parameters: {'max_features': None, 'n_estimators': 150, 'criterion': 'gini', 'max_depth': 18, 'min_samples_leaf': 4}\n",
      "\n",
      "=====================================================\n",
      "Model with rank: 27\n",
      "Mean validation score: 0.841 (std: 0.034)\n",
      "Parameters: {'max_features': 'sqrt', 'n_estimators': 30, 'criterion': 'gini', 'max_depth': 19, 'min_samples_leaf': 3}\n",
      "\n",
      "=====================================================\n",
      "Model with rank: 28\n",
      "Mean validation score: 0.841 (std: 0.029)\n",
      "Parameters: {'max_features': None, 'n_estimators': 80, 'criterion': 'entropy', 'max_depth': 9, 'min_samples_leaf': 2}\n",
      "\n",
      "=====================================================\n",
      "Model with rank: 29\n",
      "Mean validation score: 0.841 (std: 0.025)\n",
      "Parameters: {'max_features': None, 'n_estimators': 30, 'criterion': 'entropy', 'max_depth': 11, 'min_samples_leaf': 4}\n",
      "\n",
      "=====================================================\n",
      "Model with rank: 30\n",
      "Mean validation score: 0.841 (std: 0.028)\n",
      "Parameters: {'max_features': None, 'n_estimators': 300, 'criterion': 'entropy', 'max_depth': 16, 'min_samples_leaf': 3}\n",
      "\n",
      "\n",
      "\n",
      "\n",
      "========================= Working on GBDT==========================\n",
      "Fitted succeed!\n",
      "\n",
      "=====================================================\n",
      "Model with rank: 1\n",
      "Mean validation score: 0.847 (std: 0.018)\n",
      "Parameters: {'max_features': None, 'loss': 'deviance', 'n_estimators': 300, 'max_depth': 3, 'min_samples_leaf': 2}\n",
      "\n",
      "=====================================================\n",
      "Model with rank: 2\n",
      "Mean validation score: 0.845 (std: 0.016)\n",
      "Parameters: {'max_features': None, 'loss': 'deviance', 'n_estimators': 200, 'max_depth': 3, 'min_samples_leaf': 3}\n",
      "\n",
      "=====================================================\n",
      "Model with rank: 3\n",
      "Mean validation score: 0.845 (std: 0.016)\n",
      "Parameters: {'max_features': None, 'loss': 'deviance', 'n_estimators': 300, 'max_depth': 3, 'min_samples_leaf': 3}\n",
      "\n",
      "=====================================================\n",
      "Model with rank: 4\n",
      "Mean validation score: 0.845 (std: 0.024)\n",
      "Parameters: {'max_features': None, 'loss': 'exponential', 'n_estimators': 300, 'max_depth': 3, 'min_samples_leaf': 3}\n",
      "\n",
      "=====================================================\n",
      "Model with rank: 5\n",
      "Mean validation score: 0.844 (std: 0.017)\n",
      "Parameters: {'max_features': None, 'loss': 'deviance', 'n_estimators': 300, 'max_depth': 3, 'min_samples_leaf': 1}\n",
      "\n",
      "=====================================================\n",
      "Model with rank: 6\n",
      "Mean validation score: 0.844 (std: 0.016)\n",
      "Parameters: {'max_features': None, 'loss': 'deviance', 'n_estimators': 400, 'max_depth': 3, 'min_samples_leaf': 3}\n",
      "\n",
      "=====================================================\n",
      "Model with rank: 7\n",
      "Mean validation score: 0.844 (std: 0.017)\n",
      "Parameters: {'max_features': None, 'loss': 'exponential', 'n_estimators': 200, 'max_depth': 3, 'min_samples_leaf': 3}\n",
      "\n",
      "=====================================================\n",
      "Model with rank: 8\n",
      "Mean validation score: 0.843 (std: 0.022)\n",
      "Parameters: {'max_features': 'log2', 'loss': 'deviance', 'n_estimators': 600, 'max_depth': 2, 'min_samples_leaf': 3}\n",
      "\n",
      "=====================================================\n",
      "Model with rank: 9\n",
      "Mean validation score: 0.843 (std: 0.024)\n",
      "Parameters: {'max_features': 'sqrt', 'loss': 'deviance', 'n_estimators': 700, 'max_depth': 3, 'min_samples_leaf': 4}\n",
      "\n",
      "=====================================================\n",
      "Model with rank: 10\n",
      "Mean validation score: 0.843 (std: 0.017)\n",
      "Parameters: {'max_features': None, 'loss': 'deviance', 'n_estimators': 200, 'max_depth': 3, 'min_samples_leaf': 2}\n",
      "\n",
      "=====================================================\n",
      "Model with rank: 11\n",
      "Mean validation score: 0.843 (std: 0.026)\n",
      "Parameters: {'max_features': 'sqrt', 'loss': 'deviance', 'n_estimators': 400, 'max_depth': 4, 'min_samples_leaf': 4}\n",
      "\n",
      "=====================================================\n",
      "Model with rank: 12\n",
      "Mean validation score: 0.843 (std: 0.023)\n",
      "Parameters: {'max_features': None, 'loss': 'exponential', 'n_estimators': 400, 'max_depth': 3, 'min_samples_leaf': 3}\n",
      "\n",
      "=====================================================\n",
      "Model with rank: 13\n",
      "Mean validation score: 0.842 (std: 0.026)\n",
      "Parameters: {'max_features': None, 'loss': 'deviance', 'n_estimators': 400, 'max_depth': 2, 'min_samples_leaf': 3}\n",
      "\n",
      "=====================================================\n",
      "Model with rank: 14\n",
      "Mean validation score: 0.842 (std: 0.018)\n",
      "Parameters: {'max_features': None, 'loss': 'deviance', 'n_estimators': 200, 'max_depth': 3, 'min_samples_leaf': 4}\n",
      "\n",
      "=====================================================\n",
      "Model with rank: 15\n",
      "Mean validation score: 0.842 (std: 0.018)\n",
      "Parameters: {'max_features': None, 'loss': 'deviance', 'n_estimators': 200, 'max_depth': 3, 'min_samples_leaf': 5}\n",
      "\n",
      "=====================================================\n",
      "Model with rank: 16\n",
      "Mean validation score: 0.842 (std: 0.031)\n",
      "Parameters: {'max_features': 'log2', 'loss': 'deviance', 'n_estimators': 200, 'max_depth': 4, 'min_samples_leaf': 3}\n",
      "\n",
      "=====================================================\n",
      "Model with rank: 17\n",
      "Mean validation score: 0.842 (std: 0.028)\n",
      "Parameters: {'max_features': 'log2', 'loss': 'deviance', 'n_estimators': 300, 'max_depth': 4, 'min_samples_leaf': 4}\n",
      "\n",
      "=====================================================\n",
      "Model with rank: 18\n",
      "Mean validation score: 0.842 (std: 0.020)\n",
      "Parameters: {'max_features': None, 'loss': 'deviance', 'n_estimators': 200, 'max_depth': 4, 'min_samples_leaf': 3}\n",
      "\n",
      "=====================================================\n",
      "Model with rank: 19\n",
      "Mean validation score: 0.842 (std: 0.030)\n",
      "Parameters: {'max_features': 'log2', 'loss': 'deviance', 'n_estimators': 200, 'max_depth': 5, 'min_samples_leaf': 4}\n",
      "\n",
      "=====================================================\n",
      "Model with rank: 20\n",
      "Mean validation score: 0.842 (std: 0.021)\n",
      "Parameters: {'max_features': 'log2', 'loss': 'deviance', 'n_estimators': 100, 'max_depth': 5, 'min_samples_leaf': 5}\n",
      "\n",
      "=====================================================\n",
      "Model with rank: 21\n",
      "Mean validation score: 0.842 (std: 0.025)\n",
      "Parameters: {'max_features': 'sqrt', 'loss': 'exponential', 'n_estimators': 600, 'max_depth': 3, 'min_samples_leaf': 4}\n",
      "\n",
      "=====================================================\n",
      "Model with rank: 22\n",
      "Mean validation score: 0.842 (std: 0.022)\n",
      "Parameters: {'max_features': 'log2', 'loss': 'exponential', 'n_estimators': 400, 'max_depth': 3, 'min_samples_leaf': 3}\n",
      "\n",
      "=====================================================\n",
      "Model with rank: 23\n",
      "Mean validation score: 0.842 (std: 0.019)\n",
      "Parameters: {'max_features': None, 'loss': 'exponential', 'n_estimators': 500, 'max_depth': 3, 'min_samples_leaf': 3}\n",
      "\n",
      "=====================================================\n",
      "Model with rank: 24\n",
      "Mean validation score: 0.842 (std: 0.023)\n",
      "Parameters: {'max_features': 'sqrt', 'loss': 'exponential', 'n_estimators': 200, 'max_depth': 4, 'min_samples_leaf': 5}\n",
      "\n",
      "=====================================================\n",
      "Model with rank: 25\n",
      "Mean validation score: 0.842 (std: 0.026)\n",
      "Parameters: {'max_features': 'log2', 'loss': 'exponential', 'n_estimators': 300, 'max_depth': 4, 'min_samples_leaf': 5}\n",
      "\n",
      "=====================================================\n",
      "Model with rank: 26\n",
      "Mean validation score: 0.841 (std: 0.027)\n",
      "Parameters: {'max_features': 'log2', 'loss': 'deviance', 'n_estimators': 600, 'max_depth': 2, 'min_samples_leaf': 5}\n",
      "\n",
      "=====================================================\n",
      "Model with rank: 27\n",
      "Mean validation score: 0.841 (std: 0.023)\n",
      "Parameters: {'max_features': None, 'loss': 'deviance', 'n_estimators': 500, 'max_depth': 2, 'min_samples_leaf': 2}\n",
      "\n",
      "=====================================================\n",
      "Model with rank: 28\n",
      "Mean validation score: 0.841 (std: 0.026)\n",
      "Parameters: {'max_features': None, 'loss': 'deviance', 'n_estimators': 500, 'max_depth': 2, 'min_samples_leaf': 3}\n",
      "\n",
      "=====================================================\n",
      "Model with rank: 29\n",
      "Mean validation score: 0.841 (std: 0.024)\n",
      "Parameters: {'max_features': 'log2', 'loss': 'deviance', 'n_estimators': 300, 'max_depth': 3, 'min_samples_leaf': 3}\n",
      "\n",
      "=====================================================\n",
      "Model with rank: 30\n",
      "Mean validation score: 0.841 (std: 0.024)\n",
      "Parameters: {'max_features': 'log2', 'loss': 'deviance', 'n_estimators': 700, 'max_depth': 3, 'min_samples_leaf': 5}\n",
      "\n"
     ]
    }
   ],
   "source": [
    "pipeline = Pipeliner(data_wrangler = Wrangler(raw_dtrain = pd.read_csv('data/train.csv',index_col = 0), \n",
    "                                              raw_dtest = pd.read_csv('data/test.csv',index_col = 0)), )\n",
    "search_list = [('SVC',SVC(),\n",
    "                [{'kernel': ['linear'], 'C': 0.01 * np.logspace(0, 5, 10, base = 4), 'cache_size': [2000]},\n",
    "                 {'kernel': ['sigmoid'], 'C': 0.01 * np.logspace(0, 5, 10, base = 4), 'cache_size': [2000]},\n",
    "                 {'kernel': ['poly'], 'C': 0.01 * np.logspace(0, 5, 10, base = 4), 'degree': np.arange(1, 10), 'cache_size': [2000]}, \n",
    "                 {'kernel': ['rbf'], 'C': 0.01 * np.logspace(0, 5, 10, base = 4), 'gamma': np.arange(0, 0.3, 0.006), 'cache_size': [2000]}, ]),\n",
    "               ('RF', RandomForestClassifier(),\n",
    "                [{'n_estimators': [30,80,150,300,500], \n",
    "                  'criterion': ['gini','entropy'],\n",
    "                  'min_samples_leaf': [1,2,3,4,5],\n",
    "                  'max_features': ['sqrt','log2',None], \n",
    "                  'max_depth': np.arange(5,20,1),}]),\n",
    "               ('GBDT', GradientBoostingClassifier(),\n",
    "               [{'loss': ['deviance', 'exponential'],\n",
    "                 'n_estimators': np.arange(100,2000,100), \n",
    "                 'min_samples_leaf': [1,2,3,4,5],\n",
    "                 'max_features': ['sqrt','log2',None], \n",
    "                 'max_depth': [1,2,3,4,5],}]),\n",
    "              ]\n",
    "pipeline.grid_search(search_list, n_top = 30)"
   ]
  },
  {
   "cell_type": "code",
   "execution_count": 51,
   "metadata": {
    "collapsed": false
   },
   "outputs": [
    {
     "name": "stdout",
     "output_type": "stream",
     "text": [
      "This pipeline hasn't prepared well for the model!\n"
     ]
    },
    {
     "data": {
      "text/plain": [
       "GradientBoostingClassifier(init=None, learning_rate=0.1, loss='deviance',\n",
       "              max_depth=3, max_features=None, max_leaf_nodes=None,\n",
       "              min_samples_leaf=3, min_samples_split=2,\n",
       "              min_weight_fraction_leaf=0.0, n_estimators=200,\n",
       "              presort='auto', random_state=None, subsample=1.0, verbose=0,\n",
       "              warm_start=False)"
      ]
     },
     "execution_count": 51,
     "metadata": {},
     "output_type": "execute_result"
    }
   ],
   "source": [
    "pipeline.set_modeler(GradientBoostingClassifier(**{'max_features': None, 'loss': 'deviance', 'n_estimators': 200, 'max_depth': 3, 'min_samples_leaf': 3}))\n",
    "pipeline.report('gbdt_pipeline')\n",
    "pipeline.modeler"
   ]
  },
  {
   "cell_type": "code",
   "execution_count": 52,
   "metadata": {
    "collapsed": false
   },
   "outputs": [
    {
     "name": "stdout",
     "output_type": "stream",
     "text": [
      "This pipeline hasn't prepared well for the model!\n"
     ]
    }
   ],
   "source": [
    "pipeline.report('gbdt_pipeline')"
   ]
  },
  {
   "cell_type": "code",
   "execution_count": 54,
   "metadata": {
    "collapsed": false
   },
   "outputs": [
    {
     "name": "stdout",
     "output_type": "stream",
     "text": [
      "This pipeline hasn't prepared well for the model!\n"
     ]
    }
   ],
   "source": [
    "pipeline.get_fit()"
   ]
  },
  {
   "cell_type": "code",
   "execution_count": 57,
   "metadata": {
    "collapsed": false
   },
   "outputs": [],
   "source": [
    "if pipeline.modeler:\n",
    "    print 'xas'"
   ]
  },
  {
   "cell_type": "code",
   "execution_count": 58,
   "metadata": {
    "collapsed": false
   },
   "outputs": [
    {
     "name": "stdout",
     "output_type": "stream",
     "text": [
      "Training accuracy: 0.841750841751\n",
      "\n"
     ]
    }
   ],
   "source": [
    "pipeline = Pipeliner(data_wrangler = Wrangler(raw_dtrain = pd.read_csv('data/train.csv',index_col = 0), \n",
    "                                              raw_dtest = pd.read_csv('data/test.csv',index_col = 0)), )\n",
    "pipeline.set_modeler(SVC(**{'cache_size': 2000, 'kernel': 'rbf', 'C': 2.1945445961038677, 'gamma': 0.059999999999999998}))\n",
    "pipeline.get_fit()"
   ]
  },
  {
   "cell_type": "markdown",
   "metadata": {},
   "source": [
    "#  testing: 0.75120"
   ]
  },
  {
   "cell_type": "code",
   "execution_count": 61,
   "metadata": {
    "collapsed": false,
    "scrolled": true
   },
   "outputs": [
    {
     "name": "stdout",
     "output_type": "stream",
     "text": [
      "Training accuracy: 0.918069584736\n",
      "\n"
     ]
    },
    {
     "data": {
      "text/plain": [
       "GradientBoostingClassifier(init=None, learning_rate=0.1, loss='deviance',\n",
       "              max_depth=3, max_features=None, max_leaf_nodes=None,\n",
       "              min_samples_leaf=3, min_samples_split=2,\n",
       "              min_weight_fraction_leaf=0.0, n_estimators=200,\n",
       "              presort='auto', random_state=None, subsample=1.0, verbose=0,\n",
       "              warm_start=False)"
      ]
     },
     "execution_count": 61,
     "metadata": {},
     "output_type": "execute_result"
    }
   ],
   "source": [
    "pipeline.set_modeler(GradientBoostingClassifier(**{'max_features': None, 'loss': 'deviance', 'n_estimators': 200, 'max_depth': 3, 'min_samples_leaf': 3}))\n",
    "pipeline.report('gbdt2_pipeline')\n",
    "pipeline.modeler"
   ]
  },
  {
   "cell_type": "code",
   "execution_count": null,
   "metadata": {
    "collapsed": true
   },
   "outputs": [],
   "source": []
  },
  {
   "cell_type": "markdown",
   "metadata": {},
   "source": [
    "#  testing: 0.73206"
   ]
  },
  {
   "cell_type": "code",
   "execution_count": 60,
   "metadata": {
    "collapsed": false,
    "scrolled": true
   },
   "outputs": [
    {
     "name": "stdout",
     "output_type": "stream",
     "text": [
      "Training accuracy: 0.949494949495\n",
      "\n"
     ]
    },
    {
     "data": {
      "text/plain": [
       "GradientBoostingClassifier(init=None, learning_rate=0.1, loss='deviance',\n",
       "              max_depth=3, max_features=None, max_leaf_nodes=None,\n",
       "              min_samples_leaf=2, min_samples_split=2,\n",
       "              min_weight_fraction_leaf=0.0, n_estimators=300,\n",
       "              presort='auto', random_state=None, subsample=1.0, verbose=0,\n",
       "              warm_start=False)"
      ]
     },
     "execution_count": 60,
     "metadata": {},
     "output_type": "execute_result"
    }
   ],
   "source": [
    "pipeline.set_modeler(GradientBoostingClassifier(**{'max_features': None, 'loss': 'deviance', 'n_estimators': 300, \n",
    "                                                   'max_depth': 3, 'min_samples_leaf': 2}))\n",
    "pipeline.report('gbdt1_pipeline')\n",
    "pipeline.modeler"
   ]
  },
  {
   "cell_type": "markdown",
   "metadata": {},
   "source": [
    "#  testing: 0.74641"
   ]
  },
  {
   "cell_type": "code",
   "execution_count": 62,
   "metadata": {
    "collapsed": false,
    "scrolled": true
   },
   "outputs": [
    {
     "name": "stdout",
     "output_type": "stream",
     "text": [
      "Training accuracy: 0.945005611672\n",
      "\n"
     ]
    },
    {
     "data": {
      "text/plain": [
       "GradientBoostingClassifier(init=None, learning_rate=0.1, loss='deviance',\n",
       "              max_depth=3, max_features=None, max_leaf_nodes=None,\n",
       "              min_samples_leaf=3, min_samples_split=2,\n",
       "              min_weight_fraction_leaf=0.0, n_estimators=300,\n",
       "              presort='auto', random_state=None, subsample=1.0, verbose=0,\n",
       "              warm_start=False)"
      ]
     },
     "execution_count": 62,
     "metadata": {},
     "output_type": "execute_result"
    }
   ],
   "source": [
    "pipeline.set_modeler(GradientBoostingClassifier(**{'max_features': None, 'loss': 'deviance', 'n_estimators': 300, 'max_depth': 3, 'min_samples_leaf': 3}))\n",
    "pipeline.report('gbdt3_pipeline')\n",
    "pipeline.modeler"
   ]
  },
  {
   "cell_type": "markdown",
   "metadata": {},
   "source": [
    "# testing: 0.76555"
   ]
  },
  {
   "cell_type": "code",
   "execution_count": 64,
   "metadata": {
    "collapsed": false
   },
   "outputs": [
    {
     "name": "stdout",
     "output_type": "stream",
     "text": [
      "Training accuracy: 0.885521885522\n",
      "\n"
     ]
    },
    {
     "data": {
      "text/plain": [
       "GradientBoostingClassifier(init=None, learning_rate=0.1, loss='deviance',\n",
       "              max_depth=2, max_features='log2', max_leaf_nodes=None,\n",
       "              min_samples_leaf=3, min_samples_split=2,\n",
       "              min_weight_fraction_leaf=0.0, n_estimators=600,\n",
       "              presort='auto', random_state=None, subsample=1.0, verbose=0,\n",
       "              warm_start=False)"
      ]
     },
     "execution_count": 64,
     "metadata": {},
     "output_type": "execute_result"
    }
   ],
   "source": [
    "pipeline.set_modeler(GradientBoostingClassifier(**{'max_features': 'log2', 'loss': 'deviance', 'n_estimators': 600, 'max_depth': 2, 'min_samples_leaf': 3}))\n",
    "pipeline.report('gbdt8_pipeline')\n",
    "pipeline.modeler"
   ]
  },
  {
   "cell_type": "code",
   "execution_count": null,
   "metadata": {
    "collapsed": true
   },
   "outputs": [],
   "source": []
  },
  {
   "cell_type": "markdown",
   "metadata": {},
   "source": [
    "#  testing: 0.79426"
   ]
  },
  {
   "cell_type": "code",
   "execution_count": 66,
   "metadata": {
    "collapsed": false,
    "scrolled": true
   },
   "outputs": [
    {
     "name": "stdout",
     "output_type": "stream",
     "text": [
      "Training accuracy: 0.842873176207\n",
      "\n"
     ]
    },
    {
     "data": {
      "text/plain": [
       "SVC(C=1.01593667326, cache_size=2000, class_weight=None, coef0=0.0,\n",
       "  decision_function_shape=None, degree=3, gamma=0.12, kernel='rbf',\n",
       "  max_iter=-1, probability=False, random_state=None, shrinking=True,\n",
       "  tol=0.001, verbose=False)"
      ]
     },
     "execution_count": 66,
     "metadata": {},
     "output_type": "execute_result"
    }
   ],
   "source": [
    "pipeline.set_modeler(SVC(**{'cache_size': 2000, 'kernel': 'rbf', 'C': 1.015936673259648, 'gamma': 0.12}))\n",
    "pipeline.report('svc2_pipeline')\n",
    "pipeline.modeler"
   ]
  },
  {
   "cell_type": "code",
   "execution_count": null,
   "metadata": {
    "collapsed": true
   },
   "outputs": [],
   "source": []
  },
  {
   "cell_type": "markdown",
   "metadata": {},
   "source": [
    "#  testing: 0.77990"
   ]
  },
  {
   "cell_type": "code",
   "execution_count": 67,
   "metadata": {
    "collapsed": false,
    "scrolled": true
   },
   "outputs": [
    {
     "name": "stdout",
     "output_type": "stream",
     "text": [
      "Training accuracy: 0.905723905724\n",
      "\n"
     ]
    },
    {
     "data": {
      "text/plain": [
       "RandomForestClassifier(bootstrap=True, class_weight=None, criterion='gini',\n",
       "            max_depth=8, max_features=None, max_leaf_nodes=None,\n",
       "            min_samples_leaf=3, min_samples_split=2,\n",
       "            min_weight_fraction_leaf=0.0, n_estimators=150, n_jobs=1,\n",
       "            oob_score=False, random_state=None, verbose=0,\n",
       "            warm_start=False)"
      ]
     },
     "execution_count": 67,
     "metadata": {},
     "output_type": "execute_result"
    }
   ],
   "source": [
    "pipeline.set_modeler(RandomForestClassifier(**{'max_features': None, 'n_estimators': 150, 'criterion': 'gini', 'max_depth': 8, 'min_samples_leaf': 3}))\n",
    "pipeline.report('rf4_pipeline')\n",
    "pipeline.modeler"
   ]
  },
  {
   "cell_type": "markdown",
   "metadata": {},
   "source": [
    "#  testing: 0.78947"
   ]
  },
  {
   "cell_type": "code",
   "execution_count": 68,
   "metadata": {
    "collapsed": false,
    "scrolled": true
   },
   "outputs": [
    {
     "name": "stdout",
     "output_type": "stream",
     "text": [
      "Training accuracy: 0.8911335578\n",
      "\n"
     ]
    },
    {
     "data": {
      "text/plain": [
       "RandomForestClassifier(bootstrap=True, class_weight=None, criterion='gini',\n",
       "            max_depth=8, max_features=None, max_leaf_nodes=None,\n",
       "            min_samples_leaf=4, min_samples_split=2,\n",
       "            min_weight_fraction_leaf=0.0, n_estimators=30, n_jobs=1,\n",
       "            oob_score=False, random_state=None, verbose=0,\n",
       "            warm_start=False)"
      ]
     },
     "execution_count": 68,
     "metadata": {},
     "output_type": "execute_result"
    }
   ],
   "source": [
    "pipeline.set_modeler(RandomForestClassifier(**{'max_features': None, 'n_estimators': 30, 'criterion': 'gini', 'max_depth': 8, 'min_samples_leaf': 4}))\n",
    "pipeline.report('rf6_pipeline')\n",
    "pipeline.modeler"
   ]
  },
  {
   "cell_type": "code",
   "execution_count": null,
   "metadata": {
    "collapsed": true
   },
   "outputs": [],
   "source": [
    "{'max_features': None, 'n_estimators': 30, 'criterion': 'gini', 'max_depth': 8, 'min_samples_leaf': 4}"
   ]
  }
 ],
 "metadata": {
  "kernelspec": {
   "display_name": "Python 2",
   "language": "python",
   "name": "python2"
  },
  "language_info": {
   "codemirror_mode": {
    "name": "ipython",
    "version": 2
   },
   "file_extension": ".py",
   "mimetype": "text/x-python",
   "name": "python",
   "nbconvert_exporter": "python",
   "pygments_lexer": "ipython2",
   "version": "2.7.11"
  }
 },
 "nbformat": 4,
 "nbformat_minor": 0
}
